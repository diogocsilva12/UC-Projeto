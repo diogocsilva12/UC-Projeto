version https://git-lfs.github.com/spec/v1
oid sha256:be075977d0c467c4ac070d7fc2040cd8641e5abdc9d5e3271d3107659da80a93
size 646371
