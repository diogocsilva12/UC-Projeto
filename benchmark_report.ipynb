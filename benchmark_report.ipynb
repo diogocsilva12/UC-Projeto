{
 "cells": [
  {
   "cell_type": "markdown",
   "id": "431625d9",
   "metadata": {},
   "source": [
    "# Relatório de Avaliação de Modelos para Armazenamento de Áudio em Bases de Dados Vetoriais (Milvus)\n",
    "\n",
    "Este relatório apresenta uma avaliação comparativa (benchmark) de diferentes modelos utilizados processar e armazenar ficheiros de áudio em bases de dados vetoriais (Milvus). Ao longo deste notebook interativo, será possível analisar o desempenho de cada modelo/embedding, permitindo perceber qual deles se adapta melhor às nossas necessidades. No final, será possível eleger o modelo ou embedding mais adequado para o nosso caso específico."
   ]
  },
  {
   "cell_type": "markdown",
   "id": "23c0e0a6",
   "metadata": {},
   "source": [
    "## Introdução"
   ]
  },
  {
   "cell_type": "markdown",
   "id": "e9eee399",
   "metadata": {},
   "source": [
    "## Falar o que fizemos para fazer o benchmark"
   ]
  },
  {
   "cell_type": "markdown",
   "id": "b31bc9af",
   "metadata": {},
   "source": [
    "## Fases do projeto"
   ]
  },
  {
   "cell_type": "markdown",
   "id": "7cda8d17",
   "metadata": {},
   "source": [
    "## Porque o milvus?\n",
    "\n",
    "-TODO: Falar porque é que escolhemos o milvus\n",
    "\n",
    "\n"
   ]
  },
  {
   "cell_type": "markdown",
   "id": "8d809def",
   "metadata": {},
   "source": [
    "### Falar dos embeddings escolhidos"
   ]
  },
  {
   "cell_type": "markdown",
   "id": "8ca91d0b",
   "metadata": {},
   "source": [
    "### Falar do script de benchmark..."
   ]
  },
  {
   "cell_type": "markdown",
   "id": "0d0580ec",
   "metadata": {},
   "source": [
    "## Análise dos resultados"
   ]
  },
  {
   "cell_type": "markdown",
   "id": "db5d798a",
   "metadata": {},
   "source": [
    "INSTALL LIBRARIES FROM REQUIREMENTS_JUPYTER.TXT\n",
    "\n",
    "```bash"
   ]
  },
  {
   "cell_type": "code",
   "execution_count": null,
   "id": "af5e3132",
   "metadata": {},
   "outputs": [],
   "source": [
    "!pip install -r requirements_jupyter.txt"
   ]
  },
  {
   "cell_type": "markdown",
   "id": "7cfb0cba",
   "metadata": {},
   "source": [
    "1º Imports\n",
    "\n",
    "\n",
    "- `import pandas as pd` &rarr;  Manipulação e análise de dados em tabelas (DataFrames)\n",
    "- `import os` &rarr;  Interação com o sistema operativo (caminhos, ficheiros, etc.)\n",
    "- `import glob` &rarr;  Procura de ficheiros com padrões específicos\n",
    "- `import numpy as np` &rarr;  Manipulação de arrays e operações matemáticas\n",
    "- `import plotly.express as px` &rarr; Visualização de dados interativa\n",
    "- `import plotly.graph_objects as go` &rarr; Visualização de dados interativa\n",
    "- `from pymilvus import MilvusClient` &rarr; Cliente para interagir com a base de dados Milvus\n",
    "- `import ast` &rarr; Conversão de strings para objetos Python\n",
    "- `import tempfile ` &rarr; Criação de arquivos e diretórios temporários\n",
    "- `import librosa` &rarr;  Processamento e análise de áudio\n",
    "- `import shutil` &rarr;  Operações de cópia, movimentação e remoção de arquivos e diretórios\n",
    "\n"
   ]
  },
  {
   "cell_type": "code",
   "execution_count": null,
   "id": "c99830b9",
   "metadata": {},
   "outputs": [],
   "source": [
    "import pandas as pd  \n",
    "import os \n",
    "import glob  \n",
    "import numpy as np \n",
    "import plotly.express as px  \n",
    "import plotly.graph_objects as go  \n",
    "from pymilvus import MilvusClient  # Cliente para interagir com o banco de dados vetorial Milvus\n",
    "import ast  # Análise e manipulação de código Python em forma de árvore sintática\n",
    "import tempfile  # Criação de arquivos e diretórios temporários\n",
    "import librosa  # Processamento e análise de áudio\n",
    "import shutil  # Operações de cópia, movimentação e remoção de arquivos e diretórios"
   ]
  },
  {
   "cell_type": "markdown",
   "id": "3731b624",
   "metadata": {},
   "source": [
    "1.a Imports relacionados com o Jupyter \n",
    "\n",
    "- `from IPython.display import  display, Markdown, HTML, FileLink, clear_output` &rarr; TODO\n",
    "- `import ipywidgets as widgets` &rarr; TODO \n",
    "- `from ipywidgets import interact, interactive, fixed, HBox, VBox, Layout` &rarr; TODO"
   ]
  },
  {
   "cell_type": "code",
   "execution_count": null,
   "id": "d129c7bc",
   "metadata": {},
   "outputs": [],
   "source": [
    "from IPython.display import display, Markdown, HTML, FileLink, clear_output\n",
    "import ipywidgets as widgets\n",
    "from ipywidgets import interact, interactive, fixed, HBox, VBox, Layout"
   ]
  },
  {
   "cell_type": "markdown",
   "id": "fd8ffe1e",
   "metadata": {},
   "source": [
    "1.b Embedding extraction libraries (ensure these are installed)\n",
    "- `import torch` &rarr;  Biblioteca para computação numérica e aprendizado de máquina\n",
    "- `import openl3` &rarr; \n",
    "- `from transformers import Wav2Vec2Processor, Wav2Vec2Model, ClapProcessor, ClapModel, ASTFeatureExtractor, ASTModel` &rarr;  Biblioteca para processamento de áudio\n",
    "- `import tensorflow_hub as hub` &rarr;  Biblioteca para processamento de áudio\n",
    "- `import tensorflow as tf` &rarr;  Biblioteca para processamento de áudio"
   ]
  },
  {
   "cell_type": "code",
   "execution_count": null,
   "id": "1d198eb7",
   "metadata": {},
   "outputs": [],
   "source": [
    "from transformers import Wav2Vec2Processor, Wav2Vec2Model, ClapProcessor, ClapModel, ASTFeatureExtractor, ASTModel\n",
    "import torch\n",
    "import tensorflow_hub as hub\n",
    "import tensorflow as tf\n",
    "import openl3 # Make sure this is installed: pip install openl3"
   ]
  }
 ],
 "metadata": {
  "kernelspec": {
   "display_name": "logica",
   "language": "python",
   "name": "python3"
  },
  "language_info": {
   "name": "python",
   "version": "3.10.15"
  }
 },
 "nbformat": 4,
 "nbformat_minor": 5
}
