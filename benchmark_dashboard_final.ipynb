{
 "cells": [
  {
   "cell_type": "markdown",
   "metadata": {},
   "source": [
    "# Relatório de Avaliação de Modelos para Armazenamento de Áudio em Bases de Dados Vetoriais (Milvus)\n",
    "\n",
    "Este relatório apresenta uma avaliação comparativa (benchmark) de diferentes modelos utilizados processar e armazenar ficheiros de áudio em bases de dados vetoriais (Milvus). Ao longo deste notebook interativo, será possível analisar o desempenho de cada modelo/embedding, permitindo perceber qual deles se adapta melhor às nossas necessidades. No final, será possível eleger o modelo ou embedding mais adequado para o nosso caso específico.\n"
   ]
  },
  {
   "cell_type": "markdown",
   "metadata": {},
   "source": [
    "## Introdução"
   ]
  },
  {
   "cell_type": "markdown",
   "metadata": {},
   "source": [
    "## Falar o que fizemos para fazer o benchmark"
   ]
  },
  {
   "cell_type": "markdown",
   "metadata": {},
   "source": [
    "## Fases do projeto"
   ]
  },
  {
   "cell_type": "markdown",
   "metadata": {},
   "source": [
    "## Porque o milvus?\n",
    "\n",
    "-TODO: Falar porque é que escolhemos o milvus"
   ]
  },
  {
   "cell_type": "markdown",
   "metadata": {},
   "source": [
    "### Falar dos embeddings escolhidos"
   ]
  },
  {
   "cell_type": "markdown",
   "metadata": {},
   "source": [
    "### Falar do script de benchmark..."
   ]
  },
  {
   "cell_type": "markdown",
   "metadata": {},
   "source": [
    "## Análise dos resultados"
   ]
  },
  {
   "cell_type": "markdown",
   "metadata": {},
   "source": [
    "Instalar dependências\n",
    "```bash\n",
    "pip install -r requirements.txt\n",
    "```\n",
    "\n",
    "```text\n",
    "# requirements.txt\n",
    "\n",
    "TODO ESCREVER O QUE ESTÁ NO REQUERIMENTS.TXT\n",
    "```\n",
    "\n",
    "PARA CORRER O NOTEBOOK É NECESSÁRIO TER CERTAS DEPÊNCIAS... ALSO O MILVUS NÃO VAI DAR... MAS É POSSIVEL FAZER A INSTALAÇÃO DO MILVUS FACILMENTE...\n",
    "É SÓ CORRER O DOCKER COM O COMANDO ... \n",
    "\n",
    "TODO : VER FORMAS DE FAZER BUILD DO FICHEIRO DOCKER, PARA CONSEGUIR LEVANTAR A BASE DE DADOS... VER TAMBÉM SE OS FICHEIROS SÃO PERSISTENTES... EU ACHO QUE SIM\n"
   ]
  },
  {
   "cell_type": "code",
   "execution_count": 19,
   "metadata": {},
   "outputs": [
    {
     "name": "stdout",
     "output_type": "stream",
     "text": [
      "Requirement already satisfied: pandas>=1.3.0 in /opt/anaconda3/envs/logica/lib/python3.10/site-packages (from -r requirements_jupyter.txt (line 2)) (2.2.3)\n",
      "Requirement already satisfied: numpy>=1.20.0 in /opt/anaconda3/envs/logica/lib/python3.10/site-packages (from -r requirements_jupyter.txt (line 3)) (2.1.2)\n",
      "Requirement already satisfied: matplotlib>=3.4.0 in /opt/anaconda3/envs/logica/lib/python3.10/site-packages (from -r requirements_jupyter.txt (line 6)) (3.9.2)\n",
      "Requirement already satisfied: seaborn>=0.11.0 in /opt/anaconda3/envs/logica/lib/python3.10/site-packages (from -r requirements_jupyter.txt (line 7)) (0.13.2)\n",
      "Requirement already satisfied: plotly>=5.3.0 in /opt/anaconda3/envs/logica/lib/python3.10/site-packages (from -r requirements_jupyter.txt (line 8)) (6.0.1)\n",
      "Requirement already satisfied: ipywidgets>=7.6.0 in /opt/anaconda3/envs/logica/lib/python3.10/site-packages (from -r requirements_jupyter.txt (line 9)) (8.1.2)\n",
      "Requirement already satisfied: scikit-learn>=1.0.0 in /opt/anaconda3/envs/logica/lib/python3.10/site-packages (from -r requirements_jupyter.txt (line 12)) (1.6.1)\n",
      "Requirement already satisfied: librosa>=0.8.0 in /opt/anaconda3/envs/logica/lib/python3.10/site-packages (from -r requirements_jupyter.txt (line 15)) (0.11.0)\n",
      "Requirement already satisfied: soundfile>=0.10.0 in /opt/anaconda3/envs/logica/lib/python3.10/site-packages (from -r requirements_jupyter.txt (line 16)) (0.13.1)\n",
      "Requirement already satisfied: openl3>=0.4.0 in /opt/anaconda3/envs/logica/lib/python3.10/site-packages (from -r requirements_jupyter.txt (line 17)) (0.4.2)\n",
      "Requirement already satisfied: pymilvus>=2.0.0 in /opt/anaconda3/envs/logica/lib/python3.10/site-packages (from -r requirements_jupyter.txt (line 20)) (2.5.6)\n",
      "Requirement already satisfied: torch>=1.9.0 in /opt/anaconda3/envs/logica/lib/python3.10/site-packages (from -r requirements_jupyter.txt (line 23)) (2.6.0)\n",
      "Requirement already satisfied: tensorflow>=2.6.0 in /opt/anaconda3/envs/logica/lib/python3.10/site-packages (from -r requirements_jupyter.txt (line 24)) (2.19.0)\n",
      "Requirement already satisfied: tensorflow-hub>=0.12.0 in /opt/anaconda3/envs/logica/lib/python3.10/site-packages (from -r requirements_jupyter.txt (line 25)) (0.16.1)\n",
      "Requirement already satisfied: transformers>=4.15.0 in /opt/anaconda3/envs/logica/lib/python3.10/site-packages (from -r requirements_jupyter.txt (line 28)) (4.50.3)\n",
      "Requirement already satisfied: ipython>=7.0.0 in /opt/anaconda3/envs/logica/lib/python3.10/site-packages (from -r requirements_jupyter.txt (line 31)) (8.27.0)\n",
      "Requirement already satisfied: notebook>=6.4.0 in /opt/anaconda3/envs/logica/lib/python3.10/site-packages (from -r requirements_jupyter.txt (line 32)) (7.2.2)\n",
      "Requirement already satisfied: python-dotenv>=0.19.0 in /opt/anaconda3/envs/logica/lib/python3.10/site-packages (from -r requirements_jupyter.txt (line 35)) (1.1.0)\n",
      "Requirement already satisfied: python-dateutil>=2.8.2 in /opt/anaconda3/envs/logica/lib/python3.10/site-packages (from pandas>=1.3.0->-r requirements_jupyter.txt (line 2)) (2.9.0.post0)\n",
      "Requirement already satisfied: pytz>=2020.1 in /opt/anaconda3/envs/logica/lib/python3.10/site-packages (from pandas>=1.3.0->-r requirements_jupyter.txt (line 2)) (2024.1)\n",
      "Requirement already satisfied: tzdata>=2022.7 in /opt/anaconda3/envs/logica/lib/python3.10/site-packages (from pandas>=1.3.0->-r requirements_jupyter.txt (line 2)) (2024.2)\n",
      "Requirement already satisfied: contourpy>=1.0.1 in /opt/anaconda3/envs/logica/lib/python3.10/site-packages (from matplotlib>=3.4.0->-r requirements_jupyter.txt (line 6)) (1.3.0)\n",
      "Requirement already satisfied: cycler>=0.10 in /opt/anaconda3/envs/logica/lib/python3.10/site-packages (from matplotlib>=3.4.0->-r requirements_jupyter.txt (line 6)) (0.12.1)\n",
      "Requirement already satisfied: fonttools>=4.22.0 in /opt/anaconda3/envs/logica/lib/python3.10/site-packages (from matplotlib>=3.4.0->-r requirements_jupyter.txt (line 6)) (4.54.1)\n",
      "Requirement already satisfied: kiwisolver>=1.3.1 in /opt/anaconda3/envs/logica/lib/python3.10/site-packages (from matplotlib>=3.4.0->-r requirements_jupyter.txt (line 6)) (1.4.7)\n",
      "Requirement already satisfied: packaging>=20.0 in /opt/anaconda3/envs/logica/lib/python3.10/site-packages (from matplotlib>=3.4.0->-r requirements_jupyter.txt (line 6)) (24.1)\n",
      "Requirement already satisfied: pillow>=8 in /opt/anaconda3/envs/logica/lib/python3.10/site-packages (from matplotlib>=3.4.0->-r requirements_jupyter.txt (line 6)) (10.4.0)\n",
      "Requirement already satisfied: pyparsing>=2.3.1 in /opt/anaconda3/envs/logica/lib/python3.10/site-packages (from matplotlib>=3.4.0->-r requirements_jupyter.txt (line 6)) (3.2.0)\n",
      "Requirement already satisfied: narwhals>=1.15.1 in /opt/anaconda3/envs/logica/lib/python3.10/site-packages (from plotly>=5.3.0->-r requirements_jupyter.txt (line 8)) (1.37.1)\n",
      "Requirement already satisfied: comm>=0.1.3 in /opt/anaconda3/envs/logica/lib/python3.10/site-packages (from ipywidgets>=7.6.0->-r requirements_jupyter.txt (line 9)) (0.2.1)\n",
      "Requirement already satisfied: traitlets>=4.3.1 in /opt/anaconda3/envs/logica/lib/python3.10/site-packages (from ipywidgets>=7.6.0->-r requirements_jupyter.txt (line 9)) (5.14.3)\n",
      "Requirement already satisfied: widgetsnbextension~=4.0.10 in /opt/anaconda3/envs/logica/lib/python3.10/site-packages (from ipywidgets>=7.6.0->-r requirements_jupyter.txt (line 9)) (4.0.10)\n",
      "Requirement already satisfied: jupyterlab-widgets~=3.0.10 in /opt/anaconda3/envs/logica/lib/python3.10/site-packages (from ipywidgets>=7.6.0->-r requirements_jupyter.txt (line 9)) (3.0.10)\n",
      "Requirement already satisfied: scipy>=1.6.0 in /opt/anaconda3/envs/logica/lib/python3.10/site-packages (from scikit-learn>=1.0.0->-r requirements_jupyter.txt (line 12)) (1.15.2)\n",
      "Requirement already satisfied: joblib>=1.2.0 in /opt/anaconda3/envs/logica/lib/python3.10/site-packages (from scikit-learn>=1.0.0->-r requirements_jupyter.txt (line 12)) (1.4.2)\n",
      "Requirement already satisfied: threadpoolctl>=3.1.0 in /opt/anaconda3/envs/logica/lib/python3.10/site-packages (from scikit-learn>=1.0.0->-r requirements_jupyter.txt (line 12)) (3.6.0)\n",
      "Requirement already satisfied: audioread>=2.1.9 in /opt/anaconda3/envs/logica/lib/python3.10/site-packages (from librosa>=0.8.0->-r requirements_jupyter.txt (line 15)) (3.0.1)\n",
      "Requirement already satisfied: numba>=0.51.0 in /opt/anaconda3/envs/logica/lib/python3.10/site-packages (from librosa>=0.8.0->-r requirements_jupyter.txt (line 15)) (0.61.0)\n",
      "Requirement already satisfied: decorator>=4.3.0 in /opt/anaconda3/envs/logica/lib/python3.10/site-packages (from librosa>=0.8.0->-r requirements_jupyter.txt (line 15)) (5.1.1)\n",
      "Requirement already satisfied: pooch>=1.1 in /opt/anaconda3/envs/logica/lib/python3.10/site-packages (from librosa>=0.8.0->-r requirements_jupyter.txt (line 15)) (1.8.2)\n",
      "Requirement already satisfied: soxr>=0.3.2 in /opt/anaconda3/envs/logica/lib/python3.10/site-packages (from librosa>=0.8.0->-r requirements_jupyter.txt (line 15)) (0.5.0.post1)\n",
      "Requirement already satisfied: typing_extensions>=4.1.1 in /opt/anaconda3/envs/logica/lib/python3.10/site-packages (from librosa>=0.8.0->-r requirements_jupyter.txt (line 15)) (4.13.0)\n",
      "Requirement already satisfied: lazy_loader>=0.1 in /opt/anaconda3/envs/logica/lib/python3.10/site-packages (from librosa>=0.8.0->-r requirements_jupyter.txt (line 15)) (0.4)\n",
      "Requirement already satisfied: msgpack>=1.0 in /opt/anaconda3/envs/logica/lib/python3.10/site-packages (from librosa>=0.8.0->-r requirements_jupyter.txt (line 15)) (1.1.0)\n",
      "Requirement already satisfied: cffi>=1.0 in /opt/anaconda3/envs/logica/lib/python3.10/site-packages (from soundfile>=0.10.0->-r requirements_jupyter.txt (line 16)) (1.17.1)\n",
      "Requirement already satisfied: kapre>=0.3.5 in /opt/anaconda3/envs/logica/lib/python3.10/site-packages (from openl3>=0.4.0->-r requirements_jupyter.txt (line 17)) (0.3.7)\n",
      "Requirement already satisfied: resampy<0.3.0,>=0.2.1 in /opt/anaconda3/envs/logica/lib/python3.10/site-packages (from openl3>=0.4.0->-r requirements_jupyter.txt (line 17)) (0.2.2)\n",
      "Requirement already satisfied: h5py>=2.7.0 in /opt/anaconda3/envs/logica/lib/python3.10/site-packages (from openl3>=0.4.0->-r requirements_jupyter.txt (line 17)) (3.13.0)\n",
      "Requirement already satisfied: moviepy>=1.0.0 in /opt/anaconda3/envs/logica/lib/python3.10/site-packages (from openl3>=0.4.0->-r requirements_jupyter.txt (line 17)) (2.1.2)\n",
      "Requirement already satisfied: scikit-image>=0.14.3 in /opt/anaconda3/envs/logica/lib/python3.10/site-packages (from openl3>=0.4.0->-r requirements_jupyter.txt (line 17)) (0.25.2)\n",
      "Requirement already satisfied: six>=1.3 in /opt/anaconda3/envs/logica/lib/python3.10/site-packages (from resampy<0.3.0,>=0.2.1->openl3>=0.4.0->-r requirements_jupyter.txt (line 17)) (1.16.0)\n",
      "Requirement already satisfied: setuptools>69 in /opt/anaconda3/envs/logica/lib/python3.10/site-packages (from pymilvus>=2.0.0->-r requirements_jupyter.txt (line 20)) (75.1.0)\n",
      "Requirement already satisfied: grpcio<=1.67.1,>=1.49.1 in /opt/anaconda3/envs/logica/lib/python3.10/site-packages (from pymilvus>=2.0.0->-r requirements_jupyter.txt (line 20)) (1.67.1)\n",
      "Requirement already satisfied: protobuf>=3.20.0 in /opt/anaconda3/envs/logica/lib/python3.10/site-packages (from pymilvus>=2.0.0->-r requirements_jupyter.txt (line 20)) (5.26.1)\n",
      "Requirement already satisfied: ujson>=2.0.0 in /opt/anaconda3/envs/logica/lib/python3.10/site-packages (from pymilvus>=2.0.0->-r requirements_jupyter.txt (line 20)) (5.10.0)\n",
      "Requirement already satisfied: milvus-lite>=2.4.0 in /opt/anaconda3/envs/logica/lib/python3.10/site-packages (from pymilvus>=2.0.0->-r requirements_jupyter.txt (line 20)) (2.4.12)\n",
      "Requirement already satisfied: filelock in /opt/anaconda3/envs/logica/lib/python3.10/site-packages (from torch>=1.9.0->-r requirements_jupyter.txt (line 23)) (3.18.0)\n",
      "Requirement already satisfied: networkx in /opt/anaconda3/envs/logica/lib/python3.10/site-packages (from torch>=1.9.0->-r requirements_jupyter.txt (line 23)) (3.4.1)\n",
      "Requirement already satisfied: jinja2 in /opt/anaconda3/envs/logica/lib/python3.10/site-packages (from torch>=1.9.0->-r requirements_jupyter.txt (line 23)) (3.1.4)\n",
      "Requirement already satisfied: fsspec in /opt/anaconda3/envs/logica/lib/python3.10/site-packages (from torch>=1.9.0->-r requirements_jupyter.txt (line 23)) (2025.3.2)\n",
      "Requirement already satisfied: sympy==1.13.1 in /opt/anaconda3/envs/logica/lib/python3.10/site-packages (from torch>=1.9.0->-r requirements_jupyter.txt (line 23)) (1.13.1)\n",
      "Requirement already satisfied: mpmath<1.4,>=1.1.0 in /opt/anaconda3/envs/logica/lib/python3.10/site-packages (from sympy==1.13.1->torch>=1.9.0->-r requirements_jupyter.txt (line 23)) (1.3.0)\n",
      "Requirement already satisfied: absl-py>=1.0.0 in /opt/anaconda3/envs/logica/lib/python3.10/site-packages (from tensorflow>=2.6.0->-r requirements_jupyter.txt (line 24)) (2.1.0)\n",
      "Requirement already satisfied: astunparse>=1.6.0 in /opt/anaconda3/envs/logica/lib/python3.10/site-packages (from tensorflow>=2.6.0->-r requirements_jupyter.txt (line 24)) (1.6.3)\n",
      "Requirement already satisfied: flatbuffers>=24.3.25 in /opt/anaconda3/envs/logica/lib/python3.10/site-packages (from tensorflow>=2.6.0->-r requirements_jupyter.txt (line 24)) (25.2.10)\n",
      "Requirement already satisfied: gast!=0.5.0,!=0.5.1,!=0.5.2,>=0.2.1 in /opt/anaconda3/envs/logica/lib/python3.10/site-packages (from tensorflow>=2.6.0->-r requirements_jupyter.txt (line 24)) (0.6.0)\n",
      "Requirement already satisfied: google-pasta>=0.1.1 in /opt/anaconda3/envs/logica/lib/python3.10/site-packages (from tensorflow>=2.6.0->-r requirements_jupyter.txt (line 24)) (0.2.0)\n",
      "Requirement already satisfied: libclang>=13.0.0 in /opt/anaconda3/envs/logica/lib/python3.10/site-packages (from tensorflow>=2.6.0->-r requirements_jupyter.txt (line 24)) (18.1.1)\n",
      "Requirement already satisfied: opt-einsum>=2.3.2 in /opt/anaconda3/envs/logica/lib/python3.10/site-packages (from tensorflow>=2.6.0->-r requirements_jupyter.txt (line 24)) (3.4.0)\n",
      "Requirement already satisfied: requests<3,>=2.21.0 in /opt/anaconda3/envs/logica/lib/python3.10/site-packages (from tensorflow>=2.6.0->-r requirements_jupyter.txt (line 24)) (2.32.3)\n",
      "Requirement already satisfied: termcolor>=1.1.0 in /opt/anaconda3/envs/logica/lib/python3.10/site-packages (from tensorflow>=2.6.0->-r requirements_jupyter.txt (line 24)) (3.1.0)\n",
      "Requirement already satisfied: wrapt>=1.11.0 in /opt/anaconda3/envs/logica/lib/python3.10/site-packages (from tensorflow>=2.6.0->-r requirements_jupyter.txt (line 24)) (1.17.2)\n",
      "Requirement already satisfied: tensorboard~=2.19.0 in /opt/anaconda3/envs/logica/lib/python3.10/site-packages (from tensorflow>=2.6.0->-r requirements_jupyter.txt (line 24)) (2.19.0)\n",
      "Requirement already satisfied: keras>=3.5.0 in /opt/anaconda3/envs/logica/lib/python3.10/site-packages (from tensorflow>=2.6.0->-r requirements_jupyter.txt (line 24)) (3.9.2)\n",
      "Requirement already satisfied: ml-dtypes<1.0.0,>=0.5.1 in /opt/anaconda3/envs/logica/lib/python3.10/site-packages (from tensorflow>=2.6.0->-r requirements_jupyter.txt (line 24)) (0.5.1)\n",
      "Requirement already satisfied: tensorflow-io-gcs-filesystem>=0.23.1 in /opt/anaconda3/envs/logica/lib/python3.10/site-packages (from tensorflow>=2.6.0->-r requirements_jupyter.txt (line 24)) (0.37.1)\n",
      "Requirement already satisfied: charset-normalizer<4,>=2 in /opt/anaconda3/envs/logica/lib/python3.10/site-packages (from requests<3,>=2.21.0->tensorflow>=2.6.0->-r requirements_jupyter.txt (line 24)) (3.3.2)\n",
      "Requirement already satisfied: idna<4,>=2.5 in /opt/anaconda3/envs/logica/lib/python3.10/site-packages (from requests<3,>=2.21.0->tensorflow>=2.6.0->-r requirements_jupyter.txt (line 24)) (3.7)\n",
      "Requirement already satisfied: urllib3<3,>=1.21.1 in /opt/anaconda3/envs/logica/lib/python3.10/site-packages (from requests<3,>=2.21.0->tensorflow>=2.6.0->-r requirements_jupyter.txt (line 24)) (2.2.3)\n",
      "Requirement already satisfied: certifi>=2017.4.17 in /opt/anaconda3/envs/logica/lib/python3.10/site-packages (from requests<3,>=2.21.0->tensorflow>=2.6.0->-r requirements_jupyter.txt (line 24)) (2024.8.30)\n",
      "Requirement already satisfied: markdown>=2.6.8 in /opt/anaconda3/envs/logica/lib/python3.10/site-packages (from tensorboard~=2.19.0->tensorflow>=2.6.0->-r requirements_jupyter.txt (line 24)) (3.8)\n",
      "Requirement already satisfied: tensorboard-data-server<0.8.0,>=0.7.0 in /opt/anaconda3/envs/logica/lib/python3.10/site-packages (from tensorboard~=2.19.0->tensorflow>=2.6.0->-r requirements_jupyter.txt (line 24)) (0.7.2)\n",
      "Requirement already satisfied: werkzeug>=1.0.1 in /opt/anaconda3/envs/logica/lib/python3.10/site-packages (from tensorboard~=2.19.0->tensorflow>=2.6.0->-r requirements_jupyter.txt (line 24)) (3.1.3)\n",
      "Requirement already satisfied: tf-keras>=2.14.1 in /opt/anaconda3/envs/logica/lib/python3.10/site-packages (from tensorflow-hub>=0.12.0->-r requirements_jupyter.txt (line 25)) (2.19.0)\n",
      "Requirement already satisfied: huggingface-hub<1.0,>=0.26.0 in /opt/anaconda3/envs/logica/lib/python3.10/site-packages (from transformers>=4.15.0->-r requirements_jupyter.txt (line 28)) (0.30.1)\n",
      "Requirement already satisfied: pyyaml>=5.1 in /opt/anaconda3/envs/logica/lib/python3.10/site-packages (from transformers>=4.15.0->-r requirements_jupyter.txt (line 28)) (6.0.2)\n",
      "Requirement already satisfied: regex!=2019.12.17 in /opt/anaconda3/envs/logica/lib/python3.10/site-packages (from transformers>=4.15.0->-r requirements_jupyter.txt (line 28)) (2024.11.6)\n",
      "Requirement already satisfied: tokenizers<0.22,>=0.21 in /opt/anaconda3/envs/logica/lib/python3.10/site-packages (from transformers>=4.15.0->-r requirements_jupyter.txt (line 28)) (0.21.1)\n",
      "Requirement already satisfied: safetensors>=0.4.3 in /opt/anaconda3/envs/logica/lib/python3.10/site-packages (from transformers>=4.15.0->-r requirements_jupyter.txt (line 28)) (0.5.3)\n",
      "Requirement already satisfied: tqdm>=4.27 in /opt/anaconda3/envs/logica/lib/python3.10/site-packages (from transformers>=4.15.0->-r requirements_jupyter.txt (line 28)) (4.67.1)\n",
      "Requirement already satisfied: jedi>=0.16 in /opt/anaconda3/envs/logica/lib/python3.10/site-packages (from ipython>=7.0.0->-r requirements_jupyter.txt (line 31)) (0.19.1)\n",
      "Requirement already satisfied: matplotlib-inline in /opt/anaconda3/envs/logica/lib/python3.10/site-packages (from ipython>=7.0.0->-r requirements_jupyter.txt (line 31)) (0.1.6)\n",
      "Requirement already satisfied: prompt-toolkit<3.1.0,>=3.0.41 in /opt/anaconda3/envs/logica/lib/python3.10/site-packages (from ipython>=7.0.0->-r requirements_jupyter.txt (line 31)) (3.0.43)\n",
      "Requirement already satisfied: pygments>=2.4.0 in /opt/anaconda3/envs/logica/lib/python3.10/site-packages (from ipython>=7.0.0->-r requirements_jupyter.txt (line 31)) (2.15.1)\n",
      "Requirement already satisfied: stack-data in /opt/anaconda3/envs/logica/lib/python3.10/site-packages (from ipython>=7.0.0->-r requirements_jupyter.txt (line 31)) (0.2.0)\n",
      "Requirement already satisfied: exceptiongroup in /opt/anaconda3/envs/logica/lib/python3.10/site-packages (from ipython>=7.0.0->-r requirements_jupyter.txt (line 31)) (1.2.0)\n",
      "Requirement already satisfied: pexpect>4.3 in /opt/anaconda3/envs/logica/lib/python3.10/site-packages (from ipython>=7.0.0->-r requirements_jupyter.txt (line 31)) (4.8.0)\n",
      "Requirement already satisfied: wcwidth in /opt/anaconda3/envs/logica/lib/python3.10/site-packages (from prompt-toolkit<3.1.0,>=3.0.41->ipython>=7.0.0->-r requirements_jupyter.txt (line 31)) (0.2.5)\n",
      "Requirement already satisfied: jupyter-server<3,>=2.4.0 in /opt/anaconda3/envs/logica/lib/python3.10/site-packages (from notebook>=6.4.0->-r requirements_jupyter.txt (line 32)) (2.14.1)\n",
      "Requirement already satisfied: jupyterlab-server<3,>=2.27.1 in /opt/anaconda3/envs/logica/lib/python3.10/site-packages (from notebook>=6.4.0->-r requirements_jupyter.txt (line 32)) (2.27.3)\n",
      "Requirement already satisfied: jupyterlab<4.3,>=4.2.0 in /opt/anaconda3/envs/logica/lib/python3.10/site-packages (from notebook>=6.4.0->-r requirements_jupyter.txt (line 32)) (4.2.5)\n",
      "Requirement already satisfied: notebook-shim<0.3,>=0.2 in /opt/anaconda3/envs/logica/lib/python3.10/site-packages (from notebook>=6.4.0->-r requirements_jupyter.txt (line 32)) (0.2.3)\n",
      "Requirement already satisfied: tornado>=6.2.0 in /opt/anaconda3/envs/logica/lib/python3.10/site-packages (from notebook>=6.4.0->-r requirements_jupyter.txt (line 32)) (6.4.1)\n",
      "Requirement already satisfied: anyio>=3.1.0 in /opt/anaconda3/envs/logica/lib/python3.10/site-packages (from jupyter-server<3,>=2.4.0->notebook>=6.4.0->-r requirements_jupyter.txt (line 32)) (4.6.2)\n",
      "Requirement already satisfied: argon2-cffi>=21.1 in /opt/anaconda3/envs/logica/lib/python3.10/site-packages (from jupyter-server<3,>=2.4.0->notebook>=6.4.0->-r requirements_jupyter.txt (line 32)) (21.3.0)\n",
      "Requirement already satisfied: jupyter-client>=7.4.4 in /opt/anaconda3/envs/logica/lib/python3.10/site-packages (from jupyter-server<3,>=2.4.0->notebook>=6.4.0->-r requirements_jupyter.txt (line 32)) (8.6.0)\n",
      "Requirement already satisfied: jupyter-core!=5.0.*,>=4.12 in /opt/anaconda3/envs/logica/lib/python3.10/site-packages (from jupyter-server<3,>=2.4.0->notebook>=6.4.0->-r requirements_jupyter.txt (line 32)) (5.7.2)\n",
      "Requirement already satisfied: jupyter-events>=0.9.0 in /opt/anaconda3/envs/logica/lib/python3.10/site-packages (from jupyter-server<3,>=2.4.0->notebook>=6.4.0->-r requirements_jupyter.txt (line 32)) (0.10.0)\n",
      "Requirement already satisfied: jupyter-server-terminals>=0.4.4 in /opt/anaconda3/envs/logica/lib/python3.10/site-packages (from jupyter-server<3,>=2.4.0->notebook>=6.4.0->-r requirements_jupyter.txt (line 32)) (0.4.4)\n",
      "Requirement already satisfied: nbconvert>=6.4.4 in /opt/anaconda3/envs/logica/lib/python3.10/site-packages (from jupyter-server<3,>=2.4.0->notebook>=6.4.0->-r requirements_jupyter.txt (line 32)) (7.16.4)\n",
      "Requirement already satisfied: nbformat>=5.3.0 in /opt/anaconda3/envs/logica/lib/python3.10/site-packages (from jupyter-server<3,>=2.4.0->notebook>=6.4.0->-r requirements_jupyter.txt (line 32)) (5.10.4)\n",
      "Requirement already satisfied: overrides>=5.0 in /opt/anaconda3/envs/logica/lib/python3.10/site-packages (from jupyter-server<3,>=2.4.0->notebook>=6.4.0->-r requirements_jupyter.txt (line 32)) (7.4.0)\n",
      "Requirement already satisfied: prometheus-client>=0.9 in /opt/anaconda3/envs/logica/lib/python3.10/site-packages (from jupyter-server<3,>=2.4.0->notebook>=6.4.0->-r requirements_jupyter.txt (line 32)) (0.14.1)\n",
      "Requirement already satisfied: pyzmq>=24 in /opt/anaconda3/envs/logica/lib/python3.10/site-packages (from jupyter-server<3,>=2.4.0->notebook>=6.4.0->-r requirements_jupyter.txt (line 32)) (25.1.2)\n",
      "Requirement already satisfied: send2trash>=1.8.2 in /opt/anaconda3/envs/logica/lib/python3.10/site-packages (from jupyter-server<3,>=2.4.0->notebook>=6.4.0->-r requirements_jupyter.txt (line 32)) (1.8.2)\n",
      "Requirement already satisfied: terminado>=0.8.3 in /opt/anaconda3/envs/logica/lib/python3.10/site-packages (from jupyter-server<3,>=2.4.0->notebook>=6.4.0->-r requirements_jupyter.txt (line 32)) (0.17.1)\n",
      "Requirement already satisfied: websocket-client>=1.7 in /opt/anaconda3/envs/logica/lib/python3.10/site-packages (from jupyter-server<3,>=2.4.0->notebook>=6.4.0->-r requirements_jupyter.txt (line 32)) (1.8.0)\n",
      "Requirement already satisfied: async-lru>=1.0.0 in /opt/anaconda3/envs/logica/lib/python3.10/site-packages (from jupyterlab<4.3,>=4.2.0->notebook>=6.4.0->-r requirements_jupyter.txt (line 32)) (2.0.4)\n",
      "Requirement already satisfied: httpx>=0.25.0 in /opt/anaconda3/envs/logica/lib/python3.10/site-packages (from jupyterlab<4.3,>=4.2.0->notebook>=6.4.0->-r requirements_jupyter.txt (line 32)) (0.27.0)\n",
      "Requirement already satisfied: ipykernel>=6.5.0 in /opt/anaconda3/envs/logica/lib/python3.10/site-packages (from jupyterlab<4.3,>=4.2.0->notebook>=6.4.0->-r requirements_jupyter.txt (line 32)) (6.29.5)\n",
      "Requirement already satisfied: jupyter-lsp>=2.0.0 in /opt/anaconda3/envs/logica/lib/python3.10/site-packages (from jupyterlab<4.3,>=4.2.0->notebook>=6.4.0->-r requirements_jupyter.txt (line 32)) (2.2.0)\n",
      "Requirement already satisfied: tomli>=1.2.2 in /opt/anaconda3/envs/logica/lib/python3.10/site-packages (from jupyterlab<4.3,>=4.2.0->notebook>=6.4.0->-r requirements_jupyter.txt (line 32)) (2.0.1)\n",
      "Requirement already satisfied: babel>=2.10 in /opt/anaconda3/envs/logica/lib/python3.10/site-packages (from jupyterlab-server<3,>=2.27.1->notebook>=6.4.0->-r requirements_jupyter.txt (line 32)) (2.11.0)\n",
      "Requirement already satisfied: json5>=0.9.0 in /opt/anaconda3/envs/logica/lib/python3.10/site-packages (from jupyterlab-server<3,>=2.27.1->notebook>=6.4.0->-r requirements_jupyter.txt (line 32)) (0.9.6)\n",
      "Requirement already satisfied: jsonschema>=4.18.0 in /opt/anaconda3/envs/logica/lib/python3.10/site-packages (from jupyterlab-server<3,>=2.27.1->notebook>=6.4.0->-r requirements_jupyter.txt (line 32)) (4.23.0)\n",
      "Requirement already satisfied: sniffio>=1.1 in /opt/anaconda3/envs/logica/lib/python3.10/site-packages (from anyio>=3.1.0->jupyter-server<3,>=2.4.0->notebook>=6.4.0->-r requirements_jupyter.txt (line 32)) (1.3.0)\n",
      "Requirement already satisfied: argon2-cffi-bindings in /opt/anaconda3/envs/logica/lib/python3.10/site-packages (from argon2-cffi>=21.1->jupyter-server<3,>=2.4.0->notebook>=6.4.0->-r requirements_jupyter.txt (line 32)) (21.2.0)\n",
      "Requirement already satisfied: wheel<1.0,>=0.23.0 in /opt/anaconda3/envs/logica/lib/python3.10/site-packages (from astunparse>=1.6.0->tensorflow>=2.6.0->-r requirements_jupyter.txt (line 24)) (0.44.0)\n",
      "Requirement already satisfied: pycparser in /opt/anaconda3/envs/logica/lib/python3.10/site-packages (from cffi>=1.0->soundfile>=0.10.0->-r requirements_jupyter.txt (line 16)) (2.21)\n",
      "Requirement already satisfied: httpcore==1.* in /opt/anaconda3/envs/logica/lib/python3.10/site-packages (from httpx>=0.25.0->jupyterlab<4.3,>=4.2.0->notebook>=6.4.0->-r requirements_jupyter.txt (line 32)) (1.0.2)\n",
      "Requirement already satisfied: h11<0.15,>=0.13 in /opt/anaconda3/envs/logica/lib/python3.10/site-packages (from httpcore==1.*->httpx>=0.25.0->jupyterlab<4.3,>=4.2.0->notebook>=6.4.0->-r requirements_jupyter.txt (line 32)) (0.14.0)\n",
      "Requirement already satisfied: appnope in /opt/anaconda3/envs/logica/lib/python3.10/site-packages (from ipykernel>=6.5.0->jupyterlab<4.3,>=4.2.0->notebook>=6.4.0->-r requirements_jupyter.txt (line 32)) (0.1.2)\n",
      "Requirement already satisfied: debugpy>=1.6.5 in /opt/anaconda3/envs/logica/lib/python3.10/site-packages (from ipykernel>=6.5.0->jupyterlab<4.3,>=4.2.0->notebook>=6.4.0->-r requirements_jupyter.txt (line 32)) (1.6.7)\n",
      "Requirement already satisfied: nest-asyncio in /opt/anaconda3/envs/logica/lib/python3.10/site-packages (from ipykernel>=6.5.0->jupyterlab<4.3,>=4.2.0->notebook>=6.4.0->-r requirements_jupyter.txt (line 32)) (1.6.0)\n",
      "Requirement already satisfied: psutil in /opt/anaconda3/envs/logica/lib/python3.10/site-packages (from ipykernel>=6.5.0->jupyterlab<4.3,>=4.2.0->notebook>=6.4.0->-r requirements_jupyter.txt (line 32)) (5.9.0)\n",
      "Requirement already satisfied: parso<0.9.0,>=0.8.3 in /opt/anaconda3/envs/logica/lib/python3.10/site-packages (from jedi>=0.16->ipython>=7.0.0->-r requirements_jupyter.txt (line 31)) (0.8.3)\n",
      "Requirement already satisfied: MarkupSafe>=2.0 in /opt/anaconda3/envs/logica/lib/python3.10/site-packages (from jinja2->torch>=1.9.0->-r requirements_jupyter.txt (line 23)) (2.1.3)\n",
      "Requirement already satisfied: attrs>=22.2.0 in /opt/anaconda3/envs/logica/lib/python3.10/site-packages (from jsonschema>=4.18.0->jupyterlab-server<3,>=2.27.1->notebook>=6.4.0->-r requirements_jupyter.txt (line 32)) (24.2.0)\n",
      "Requirement already satisfied: jsonschema-specifications>=2023.03.6 in /opt/anaconda3/envs/logica/lib/python3.10/site-packages (from jsonschema>=4.18.0->jupyterlab-server<3,>=2.27.1->notebook>=6.4.0->-r requirements_jupyter.txt (line 32)) (2023.7.1)\n",
      "Requirement already satisfied: referencing>=0.28.4 in /opt/anaconda3/envs/logica/lib/python3.10/site-packages (from jsonschema>=4.18.0->jupyterlab-server<3,>=2.27.1->notebook>=6.4.0->-r requirements_jupyter.txt (line 32)) (0.30.2)\n",
      "Requirement already satisfied: rpds-py>=0.7.1 in /opt/anaconda3/envs/logica/lib/python3.10/site-packages (from jsonschema>=4.18.0->jupyterlab-server<3,>=2.27.1->notebook>=6.4.0->-r requirements_jupyter.txt (line 32)) (0.10.6)\n",
      "Requirement already satisfied: platformdirs>=2.5 in /opt/anaconda3/envs/logica/lib/python3.10/site-packages (from jupyter-core!=5.0.*,>=4.12->jupyter-server<3,>=2.4.0->notebook>=6.4.0->-r requirements_jupyter.txt (line 32)) (3.10.0)\n",
      "Requirement already satisfied: python-json-logger>=2.0.4 in /opt/anaconda3/envs/logica/lib/python3.10/site-packages (from jupyter-events>=0.9.0->jupyter-server<3,>=2.4.0->notebook>=6.4.0->-r requirements_jupyter.txt (line 32)) (2.0.7)\n",
      "Requirement already satisfied: rfc3339-validator in /opt/anaconda3/envs/logica/lib/python3.10/site-packages (from jupyter-events>=0.9.0->jupyter-server<3,>=2.4.0->notebook>=6.4.0->-r requirements_jupyter.txt (line 32)) (0.1.4)\n",
      "Requirement already satisfied: rfc3986-validator>=0.1.1 in /opt/anaconda3/envs/logica/lib/python3.10/site-packages (from jupyter-events>=0.9.0->jupyter-server<3,>=2.4.0->notebook>=6.4.0->-r requirements_jupyter.txt (line 32)) (0.1.1)\n",
      "Requirement already satisfied: fqdn in /opt/anaconda3/envs/logica/lib/python3.10/site-packages (from jsonschema[format-nongpl]>=4.18.0->jupyter-events>=0.9.0->jupyter-server<3,>=2.4.0->notebook>=6.4.0->-r requirements_jupyter.txt (line 32)) (1.5.1)\n",
      "Requirement already satisfied: isoduration in /opt/anaconda3/envs/logica/lib/python3.10/site-packages (from jsonschema[format-nongpl]>=4.18.0->jupyter-events>=0.9.0->jupyter-server<3,>=2.4.0->notebook>=6.4.0->-r requirements_jupyter.txt (line 32)) (20.11.0)\n",
      "Requirement already satisfied: jsonpointer>1.13 in /opt/anaconda3/envs/logica/lib/python3.10/site-packages (from jsonschema[format-nongpl]>=4.18.0->jupyter-events>=0.9.0->jupyter-server<3,>=2.4.0->notebook>=6.4.0->-r requirements_jupyter.txt (line 32)) (3.0.0)\n",
      "Requirement already satisfied: uri-template in /opt/anaconda3/envs/logica/lib/python3.10/site-packages (from jsonschema[format-nongpl]>=4.18.0->jupyter-events>=0.9.0->jupyter-server<3,>=2.4.0->notebook>=6.4.0->-r requirements_jupyter.txt (line 32)) (1.3.0)\n",
      "Requirement already satisfied: webcolors>=24.6.0 in /opt/anaconda3/envs/logica/lib/python3.10/site-packages (from jsonschema[format-nongpl]>=4.18.0->jupyter-events>=0.9.0->jupyter-server<3,>=2.4.0->notebook>=6.4.0->-r requirements_jupyter.txt (line 32)) (24.11.1)\n",
      "Requirement already satisfied: rich in /opt/anaconda3/envs/logica/lib/python3.10/site-packages (from keras>=3.5.0->tensorflow>=2.6.0->-r requirements_jupyter.txt (line 24)) (14.0.0)\n",
      "Requirement already satisfied: namex in /opt/anaconda3/envs/logica/lib/python3.10/site-packages (from keras>=3.5.0->tensorflow>=2.6.0->-r requirements_jupyter.txt (line 24)) (0.0.9)\n",
      "Requirement already satisfied: optree in /opt/anaconda3/envs/logica/lib/python3.10/site-packages (from keras>=3.5.0->tensorflow>=2.6.0->-r requirements_jupyter.txt (line 24)) (0.15.0)\n",
      "Requirement already satisfied: imageio<3.0,>=2.5 in /opt/anaconda3/envs/logica/lib/python3.10/site-packages (from moviepy>=1.0.0->openl3>=0.4.0->-r requirements_jupyter.txt (line 17)) (2.37.0)\n",
      "Requirement already satisfied: imageio_ffmpeg>=0.2.0 in /opt/anaconda3/envs/logica/lib/python3.10/site-packages (from moviepy>=1.0.0->openl3>=0.4.0->-r requirements_jupyter.txt (line 17)) (0.6.0)\n",
      "Requirement already satisfied: proglog<=1.0.0 in /opt/anaconda3/envs/logica/lib/python3.10/site-packages (from moviepy>=1.0.0->openl3>=0.4.0->-r requirements_jupyter.txt (line 17)) (0.1.11)\n",
      "Requirement already satisfied: beautifulsoup4 in /opt/anaconda3/envs/logica/lib/python3.10/site-packages (from nbconvert>=6.4.4->jupyter-server<3,>=2.4.0->notebook>=6.4.0->-r requirements_jupyter.txt (line 32)) (4.12.3)\n",
      "Requirement already satisfied: bleach!=5.0.0 in /opt/anaconda3/envs/logica/lib/python3.10/site-packages (from nbconvert>=6.4.4->jupyter-server<3,>=2.4.0->notebook>=6.4.0->-r requirements_jupyter.txt (line 32)) (4.1.0)\n",
      "Requirement already satisfied: defusedxml in /opt/anaconda3/envs/logica/lib/python3.10/site-packages (from nbconvert>=6.4.4->jupyter-server<3,>=2.4.0->notebook>=6.4.0->-r requirements_jupyter.txt (line 32)) (0.7.1)\n",
      "Requirement already satisfied: jupyterlab-pygments in /opt/anaconda3/envs/logica/lib/python3.10/site-packages (from nbconvert>=6.4.4->jupyter-server<3,>=2.4.0->notebook>=6.4.0->-r requirements_jupyter.txt (line 32)) (0.1.2)\n",
      "Requirement already satisfied: mistune<4,>=2.0.3 in /opt/anaconda3/envs/logica/lib/python3.10/site-packages (from nbconvert>=6.4.4->jupyter-server<3,>=2.4.0->notebook>=6.4.0->-r requirements_jupyter.txt (line 32)) (2.0.4)\n",
      "Requirement already satisfied: nbclient>=0.5.0 in /opt/anaconda3/envs/logica/lib/python3.10/site-packages (from nbconvert>=6.4.4->jupyter-server<3,>=2.4.0->notebook>=6.4.0->-r requirements_jupyter.txt (line 32)) (0.8.0)\n",
      "Requirement already satisfied: pandocfilters>=1.4.1 in /opt/anaconda3/envs/logica/lib/python3.10/site-packages (from nbconvert>=6.4.4->jupyter-server<3,>=2.4.0->notebook>=6.4.0->-r requirements_jupyter.txt (line 32)) (1.5.0)\n",
      "Requirement already satisfied: tinycss2 in /opt/anaconda3/envs/logica/lib/python3.10/site-packages (from nbconvert>=6.4.4->jupyter-server<3,>=2.4.0->notebook>=6.4.0->-r requirements_jupyter.txt (line 32)) (1.2.1)\n",
      "Requirement already satisfied: webencodings in /opt/anaconda3/envs/logica/lib/python3.10/site-packages (from bleach!=5.0.0->nbconvert>=6.4.4->jupyter-server<3,>=2.4.0->notebook>=6.4.0->-r requirements_jupyter.txt (line 32)) (0.5.1)\n",
      "Requirement already satisfied: fastjsonschema>=2.15 in /opt/anaconda3/envs/logica/lib/python3.10/site-packages (from nbformat>=5.3.0->jupyter-server<3,>=2.4.0->notebook>=6.4.0->-r requirements_jupyter.txt (line 32)) (2.16.2)\n",
      "Requirement already satisfied: llvmlite<0.45,>=0.44.0dev0 in /opt/anaconda3/envs/logica/lib/python3.10/site-packages (from numba>=0.51.0->librosa>=0.8.0->-r requirements_jupyter.txt (line 15)) (0.44.0)\n",
      "Requirement already satisfied: ptyprocess>=0.5 in /opt/anaconda3/envs/logica/lib/python3.10/site-packages (from pexpect>4.3->ipython>=7.0.0->-r requirements_jupyter.txt (line 31)) (0.7.0)\n",
      "Requirement already satisfied: tifffile>=2022.8.12 in /opt/anaconda3/envs/logica/lib/python3.10/site-packages (from scikit-image>=0.14.3->openl3>=0.4.0->-r requirements_jupyter.txt (line 17)) (2025.3.30)\n",
      "Requirement already satisfied: soupsieve>1.2 in /opt/anaconda3/envs/logica/lib/python3.10/site-packages (from beautifulsoup4->nbconvert>=6.4.4->jupyter-server<3,>=2.4.0->notebook>=6.4.0->-r requirements_jupyter.txt (line 32)) (2.5)\n",
      "Requirement already satisfied: arrow>=0.15.0 in /opt/anaconda3/envs/logica/lib/python3.10/site-packages (from isoduration->jsonschema[format-nongpl]>=4.18.0->jupyter-events>=0.9.0->jupyter-server<3,>=2.4.0->notebook>=6.4.0->-r requirements_jupyter.txt (line 32)) (1.3.0)\n",
      "Requirement already satisfied: types-python-dateutil>=2.8.10 in /opt/anaconda3/envs/logica/lib/python3.10/site-packages (from arrow>=0.15.0->isoduration->jsonschema[format-nongpl]>=4.18.0->jupyter-events>=0.9.0->jupyter-server<3,>=2.4.0->notebook>=6.4.0->-r requirements_jupyter.txt (line 32)) (2.9.0.20241206)\n",
      "Requirement already satisfied: markdown-it-py>=2.2.0 in /opt/anaconda3/envs/logica/lib/python3.10/site-packages (from rich->keras>=3.5.0->tensorflow>=2.6.0->-r requirements_jupyter.txt (line 24)) (3.0.0)\n",
      "Requirement already satisfied: mdurl~=0.1 in /opt/anaconda3/envs/logica/lib/python3.10/site-packages (from markdown-it-py>=2.2.0->rich->keras>=3.5.0->tensorflow>=2.6.0->-r requirements_jupyter.txt (line 24)) (0.1.2)\n",
      "Requirement already satisfied: executing in /opt/anaconda3/envs/logica/lib/python3.10/site-packages (from stack-data->ipython>=7.0.0->-r requirements_jupyter.txt (line 31)) (0.8.3)\n",
      "Requirement already satisfied: asttokens in /opt/anaconda3/envs/logica/lib/python3.10/site-packages (from stack-data->ipython>=7.0.0->-r requirements_jupyter.txt (line 31)) (2.0.5)\n",
      "Requirement already satisfied: pure-eval in /opt/anaconda3/envs/logica/lib/python3.10/site-packages (from stack-data->ipython>=7.0.0->-r requirements_jupyter.txt (line 31)) (0.2.2)\n"
     ]
    }
   ],
   "source": [
    "!pip install -r requirements_jupyter.txt"
   ]
  },
  {
   "cell_type": "markdown",
   "metadata": {},
   "source": [
    "### 1º Imports"
   ]
  },
  {
   "cell_type": "code",
   "execution_count": 3,
   "metadata": {},
   "outputs": [],
   "source": [
    "# 📦 Importações e leitura dos dados\n",
    "import pandas as pd\n",
    "import numpy as np\n",
    "import matplotlib.pyplot as plt\n",
    "import seaborn as sns\n",
    "import plotly.express as px\n",
    "import plotly.graph_objects as go\n",
    "from sklearn.manifold import TSNE\n",
    "import ast\n",
    "from pymilvus import MilvusClient\n",
    "import librosa\n",
    "import torch\n",
    "from transformers import Wav2Vec2Processor, Wav2Vec2Model\n",
    "import soundfile as sf\n",
    "import io\n",
    "from IPython.display import display\n",
    "import ipywidgets as widgets\n",
    "\n",
    "\n"
   ]
  },
  {
   "cell_type": "markdown",
   "metadata": {},
   "source": [
    "### 2º Carregar dados\n",
    "\n",
    "DEPOIS COMO VAMOS TER ESCALIBIDADE VAMOS TER QUE ADICIONAR O RESTO DOS BENCHMARKS"
   ]
  },
  {
   "cell_type": "code",
   "execution_count": 4,
   "metadata": {},
   "outputs": [
    {
     "name": "stdout",
     "output_type": "stream",
     "text": [
      "✅ Dados carregados com sucesso!\n",
      "   - 30 registros de embeddings carregados\n",
      "   - Modelos disponíveis: wav2vec2, vggish, openl3, yamnet, clap, ast\n"
     ]
    }
   ],
   "source": [
    "# 📂 Leitura e limpeza dos dados\n",
    "try:\n",
    "    df = pd.read_csv('benchmarks/benchmark_30/resultados_benchmark.csv')\n",
    "    df['embedding'] = df['embedding'].apply(ast.literal_eval)\n",
    "    \n",
    "    # Success message with dataset information\n",
    "    print(f\"✅ Dados carregados com sucesso!\")\n",
    "    print(f\"   - {len(df)} registros de embeddings carregados\")\n",
    "    print(f\"   - Modelos disponíveis: {', '.join(df['modelo'].unique())}\")\n",
    "    \n",
    "except FileNotFoundError as e:\n",
    "    print(f\"❌ Erro ao carregar os arquivos de benchmark: {e}\")\n",
    "    print(\"   Verifique se os arquivos estão no diretório correto: benchmarks/benchmark_30/\")\n",
    "except Exception as e:\n",
    "    print(f\"❌ Erro ao processar os dados: {e}\")\n",
    "    print(\"   Verifique o formato dos arquivos CSV e tente novamente.\")"
   ]
  },
  {
   "cell_type": "markdown",
   "metadata": {},
   "source": [
    "### 3ºCarregar dados"
   ]
  },
  {
   "cell_type": "code",
   "execution_count": 5,
   "metadata": {},
   "outputs": [
    {
     "name": "stdout",
     "output_type": "stream",
     "text": [
      "✅ Conexão com Milvus estabelecida com sucesso!\n",
      "   - 5 coleções disponíveis\n",
      "   - Coleções: audio_clap_5, audio_vggish_5, audio_openl3_5, audio_yamnet_5, audio_ast_5\n"
     ]
    }
   ],
   "source": [
    "# 🔄 Conexão com Milvus e seleção da coleção\n",
    "try:\n",
    "    # Tentar conectar ao Milvus\n",
    "    client = MilvusClient(uri='http://localhost:19530')\n",
    "    \n",
    "    # Obter coleções disponíveis\n",
    "    colecoes_disponiveis = client.list_collections()\n",
    "    \n",
    "    if colecoes_disponiveis:\n",
    "        print(f\"✅ Conexão com Milvus estabelecida com sucesso!\")\n",
    "        print(f\"   - {len(colecoes_disponiveis)} coleções disponíveis\")\n",
    "        print(f\"   - Coleções: {', '.join(colecoes_disponiveis)}\")\n",
    "        \n",
    "    else:\n",
    "        print(\"⚠️ Conectado ao Milvus, mas nenhuma coleção encontrada.\")\n",
    "        print(\"   Verifique se os dados foram carregados corretamente.\")\n",
    "        \n",
    "except ConnectionError as e:\n",
    "    print(f\"❌ Erro de conexão com o Milvus: {e}\")\n",
    "    print(\"   Verifique se o servidor Milvus está em execução em http://localhost:19530\")\n",
    "    print(\"   Para iniciar o Milvus localmente com Docker, execute:\")\n",
    "    print(\"   docker-compose up -d\")\n",
    "    client = None\n",
    "    \n",
    "except Exception as e:\n",
    "    print(f\"❌ Erro ao conectar ao Milvus: {e}\")\n",
    "    print(\"   Verifique sua configuração e tente novamente.\")\n",
    "    client = None"
   ]
  },
  {
   "cell_type": "markdown",
   "metadata": {},
   "source": [
    "### 4º Analise dos resultados"
   ]
  },
  {
   "cell_type": "markdown",
   "metadata": {},
   "source": [
    "### Base de dados com 5 ficheiros de audio\n",
    "\n",
    "\n",
    "Fazer para os outros"
   ]
  },
  {
   "cell_type": "markdown",
   "metadata": {},
   "source": [
    "### ANALISAR E EXPLICAR O QUE É QUE ESTÁ A ACONTECER.. EXPLICAR CADA UMA DAS TABELAS "
   ]
  },
  {
   "cell_type": "code",
   "execution_count": null,
   "metadata": {},
   "outputs": [
    {
     "data": {
      "application/vnd.jupyter.widget-view+json": {
       "model_id": "2f9df676b7444d7889ef8e37b2a43171",
       "version_major": 2,
       "version_minor": 0
      },
      "text/plain": [
       "Tab(children=(Output(), Output(), Output(), Output(), Output(), Output()), selected_index=0, titles=('Extração…"
      ]
     },
     "metadata": {},
     "output_type": "display_data"
    }
   ],
   "source": [
    "# 📊 Gráficos interativos por métrica em abas\n",
    "tab_contents = ['Extração', 'Inserção', 'Boxplot Extração', 'Boxplot Inserção','Tamanho vs Extração','Tamanho vs Inserção' ]\n",
    "children = []\n",
    "\n",
    "fig1 = px.bar(df, x='modelo', y='tempo_extracao', color='modelo', title='Tempo de Extração por Modelo')\n",
    "fig2 = px.bar(df, x='modelo', y='tempo_insercao', color='modelo', title='Tempo de Inserção por Modelo')\n",
    "fig3 = px.box(df, x='modelo', y='tempo_extracao', color='modelo', title='Boxplot Tempo de Extração')\n",
    "fig4 = px.box(df, x='modelo', y='tempo_insercao', color='modelo', title='Boxplot Tempo de Inserção')\n",
    "fig5 = px.scatter(df, x='tamanho_audio_mb', y='tempo_extracao', color='modelo', title='Tamanho vs Extração')\n",
    "fig6 = px.scatter(df, x='tamanho_audio_mb', y='tempo_insercao', color='modelo', title='Tamanho vs Inserção')\n",
    "\n",
    "#ADICIONAR MAIS ? \n",
    "\n",
    "for fig in [fig1, fig2, fig3, fig4,fig5, fig6]:\n",
    "    # Create a new tab for each figure\n",
    "    out = widgets.Output()\n",
    "    with out:\n",
    "        display(fig)\n",
    "    children.append(out)\n",
    "\n",
    "tab = widgets.Tab(children=children)\n",
    "for i in range(len(tab_contents)):\n",
    "    tab.set_title(i, tab_contents[i])\n",
    "display(tab)"
   ]
  },
  {
   "cell_type": "markdown",
   "metadata": {},
   "source": [
    "### 5º RANKINGS... TEMPO DE INSERÇÃO ETC... FAZER ISTO PARA CADA COLECTION... 5, 25, 50, 100, 200 FICHEIROS..."
   ]
  },
  {
   "cell_type": "markdown",
   "metadata": {},
   "source": [
    "EXPLICAR COMO É QUE A ESCALIBIDADE INFLUENCIA... CHEGAR A UMA CONCLUSÃO FINAL"
   ]
  },
  {
   "cell_type": "markdown",
   "metadata": {},
   "source": [
    "### 7º EXPLICAR EVOLUÇÃO DOS RECURSOS"
   ]
  },
  {
   "cell_type": "code",
   "execution_count": null,
   "metadata": {},
   "outputs": [
    {
     "data": {
      "application/vnd.plotly.v1+json": {
       "config": {
        "plotlyServerURL": "https://plot.ly"
       },
       "data": [
        {
         "mode": "lines+markers",
         "name": "wav2vec2",
         "type": "scatter",
         "x": {
          "bdata": "AAECAwQ=",
          "dtype": "i1"
         },
         "y": {
          "bdata": "zczMzMyMRUBmZmZmZiZOQAAAAAAAQE9AzczMzMxMTkAzMzMzMzNPQA==",
          "dtype": "f8"
         }
        },
        {
         "mode": "lines+markers",
         "name": "vggish",
         "type": "scatter",
         "x": {
          "bdata": "BQYHCAk=",
          "dtype": "i1"
         },
         "y": {
          "bdata": "ZmZmZmZmTUAzMzMzMxNYQGZmZmZmxlZAMzMzMzPzVkAAAAAAAAAAAA==",
          "dtype": "f8"
         }
        },
        {
         "mode": "lines+markers",
         "name": "openl3",
         "type": "scatter",
         "x": {
          "bdata": "CgsMDQ4=",
          "dtype": "i1"
         },
         "y": {
          "bdata": "zczMzMzsV0AAAAAAACBYQJqZmZmZOVhAMzMzMzNTWEBmZmZmZiZYQA==",
          "dtype": "f8"
         }
        },
        {
         "mode": "lines+markers",
         "name": "yamnet",
         "type": "scatter",
         "x": {
          "bdata": "DxAREhM=",
          "dtype": "i1"
         },
         "y": {
          "bdata": "ZmZmZmYmR0CamZmZmZlNQDMzMzMzM01AZmZmZmYGUUAAAAAAAAAAAA==",
          "dtype": "f8"
         }
        },
        {
         "mode": "lines+markers",
         "name": "clap",
         "type": "scatter",
         "x": {
          "bdata": "FBUWFxg=",
          "dtype": "i1"
         },
         "y": {
          "bdata": "mpmZmZkZRUAzMzMzM3NOQGZmZmZmJk5AAAAAAABAS0AAAAAAAMBLQA==",
          "dtype": "f8"
         }
        },
        {
         "mode": "lines+markers",
         "name": "ast",
         "type": "scatter",
         "x": {
          "bdata": "GRobHB0=",
          "dtype": "i1"
         },
         "y": {
          "bdata": "zczMzMxMTkBmZmZmZqZNQJqZmZmZ2U5AmpmZmZmZTUAzMzMzMzNMQA==",
          "dtype": "f8"
         }
        }
       ],
       "layout": {
        "template": {
         "data": {
          "bar": [
           {
            "error_x": {
             "color": "#2a3f5f"
            },
            "error_y": {
             "color": "#2a3f5f"
            },
            "marker": {
             "line": {
              "color": "#E5ECF6",
              "width": 0.5
             },
             "pattern": {
              "fillmode": "overlay",
              "size": 10,
              "solidity": 0.2
             }
            },
            "type": "bar"
           }
          ],
          "barpolar": [
           {
            "marker": {
             "line": {
              "color": "#E5ECF6",
              "width": 0.5
             },
             "pattern": {
              "fillmode": "overlay",
              "size": 10,
              "solidity": 0.2
             }
            },
            "type": "barpolar"
           }
          ],
          "carpet": [
           {
            "aaxis": {
             "endlinecolor": "#2a3f5f",
             "gridcolor": "white",
             "linecolor": "white",
             "minorgridcolor": "white",
             "startlinecolor": "#2a3f5f"
            },
            "baxis": {
             "endlinecolor": "#2a3f5f",
             "gridcolor": "white",
             "linecolor": "white",
             "minorgridcolor": "white",
             "startlinecolor": "#2a3f5f"
            },
            "type": "carpet"
           }
          ],
          "choropleth": [
           {
            "colorbar": {
             "outlinewidth": 0,
             "ticks": ""
            },
            "type": "choropleth"
           }
          ],
          "contour": [
           {
            "colorbar": {
             "outlinewidth": 0,
             "ticks": ""
            },
            "colorscale": [
             [
              0,
              "#0d0887"
             ],
             [
              0.1111111111111111,
              "#46039f"
             ],
             [
              0.2222222222222222,
              "#7201a8"
             ],
             [
              0.3333333333333333,
              "#9c179e"
             ],
             [
              0.4444444444444444,
              "#bd3786"
             ],
             [
              0.5555555555555556,
              "#d8576b"
             ],
             [
              0.6666666666666666,
              "#ed7953"
             ],
             [
              0.7777777777777778,
              "#fb9f3a"
             ],
             [
              0.8888888888888888,
              "#fdca26"
             ],
             [
              1,
              "#f0f921"
             ]
            ],
            "type": "contour"
           }
          ],
          "contourcarpet": [
           {
            "colorbar": {
             "outlinewidth": 0,
             "ticks": ""
            },
            "type": "contourcarpet"
           }
          ],
          "heatmap": [
           {
            "colorbar": {
             "outlinewidth": 0,
             "ticks": ""
            },
            "colorscale": [
             [
              0,
              "#0d0887"
             ],
             [
              0.1111111111111111,
              "#46039f"
             ],
             [
              0.2222222222222222,
              "#7201a8"
             ],
             [
              0.3333333333333333,
              "#9c179e"
             ],
             [
              0.4444444444444444,
              "#bd3786"
             ],
             [
              0.5555555555555556,
              "#d8576b"
             ],
             [
              0.6666666666666666,
              "#ed7953"
             ],
             [
              0.7777777777777778,
              "#fb9f3a"
             ],
             [
              0.8888888888888888,
              "#fdca26"
             ],
             [
              1,
              "#f0f921"
             ]
            ],
            "type": "heatmap"
           }
          ],
          "histogram": [
           {
            "marker": {
             "pattern": {
              "fillmode": "overlay",
              "size": 10,
              "solidity": 0.2
             }
            },
            "type": "histogram"
           }
          ],
          "histogram2d": [
           {
            "colorbar": {
             "outlinewidth": 0,
             "ticks": ""
            },
            "colorscale": [
             [
              0,
              "#0d0887"
             ],
             [
              0.1111111111111111,
              "#46039f"
             ],
             [
              0.2222222222222222,
              "#7201a8"
             ],
             [
              0.3333333333333333,
              "#9c179e"
             ],
             [
              0.4444444444444444,
              "#bd3786"
             ],
             [
              0.5555555555555556,
              "#d8576b"
             ],
             [
              0.6666666666666666,
              "#ed7953"
             ],
             [
              0.7777777777777778,
              "#fb9f3a"
             ],
             [
              0.8888888888888888,
              "#fdca26"
             ],
             [
              1,
              "#f0f921"
             ]
            ],
            "type": "histogram2d"
           }
          ],
          "histogram2dcontour": [
           {
            "colorbar": {
             "outlinewidth": 0,
             "ticks": ""
            },
            "colorscale": [
             [
              0,
              "#0d0887"
             ],
             [
              0.1111111111111111,
              "#46039f"
             ],
             [
              0.2222222222222222,
              "#7201a8"
             ],
             [
              0.3333333333333333,
              "#9c179e"
             ],
             [
              0.4444444444444444,
              "#bd3786"
             ],
             [
              0.5555555555555556,
              "#d8576b"
             ],
             [
              0.6666666666666666,
              "#ed7953"
             ],
             [
              0.7777777777777778,
              "#fb9f3a"
             ],
             [
              0.8888888888888888,
              "#fdca26"
             ],
             [
              1,
              "#f0f921"
             ]
            ],
            "type": "histogram2dcontour"
           }
          ],
          "mesh3d": [
           {
            "colorbar": {
             "outlinewidth": 0,
             "ticks": ""
            },
            "type": "mesh3d"
           }
          ],
          "parcoords": [
           {
            "line": {
             "colorbar": {
              "outlinewidth": 0,
              "ticks": ""
             }
            },
            "type": "parcoords"
           }
          ],
          "pie": [
           {
            "automargin": true,
            "type": "pie"
           }
          ],
          "scatter": [
           {
            "fillpattern": {
             "fillmode": "overlay",
             "size": 10,
             "solidity": 0.2
            },
            "type": "scatter"
           }
          ],
          "scatter3d": [
           {
            "line": {
             "colorbar": {
              "outlinewidth": 0,
              "ticks": ""
             }
            },
            "marker": {
             "colorbar": {
              "outlinewidth": 0,
              "ticks": ""
             }
            },
            "type": "scatter3d"
           }
          ],
          "scattercarpet": [
           {
            "marker": {
             "colorbar": {
              "outlinewidth": 0,
              "ticks": ""
             }
            },
            "type": "scattercarpet"
           }
          ],
          "scattergeo": [
           {
            "marker": {
             "colorbar": {
              "outlinewidth": 0,
              "ticks": ""
             }
            },
            "type": "scattergeo"
           }
          ],
          "scattergl": [
           {
            "marker": {
             "colorbar": {
              "outlinewidth": 0,
              "ticks": ""
             }
            },
            "type": "scattergl"
           }
          ],
          "scattermap": [
           {
            "marker": {
             "colorbar": {
              "outlinewidth": 0,
              "ticks": ""
             }
            },
            "type": "scattermap"
           }
          ],
          "scattermapbox": [
           {
            "marker": {
             "colorbar": {
              "outlinewidth": 0,
              "ticks": ""
             }
            },
            "type": "scattermapbox"
           }
          ],
          "scatterpolar": [
           {
            "marker": {
             "colorbar": {
              "outlinewidth": 0,
              "ticks": ""
             }
            },
            "type": "scatterpolar"
           }
          ],
          "scatterpolargl": [
           {
            "marker": {
             "colorbar": {
              "outlinewidth": 0,
              "ticks": ""
             }
            },
            "type": "scatterpolargl"
           }
          ],
          "scatterternary": [
           {
            "marker": {
             "colorbar": {
              "outlinewidth": 0,
              "ticks": ""
             }
            },
            "type": "scatterternary"
           }
          ],
          "surface": [
           {
            "colorbar": {
             "outlinewidth": 0,
             "ticks": ""
            },
            "colorscale": [
             [
              0,
              "#0d0887"
             ],
             [
              0.1111111111111111,
              "#46039f"
             ],
             [
              0.2222222222222222,
              "#7201a8"
             ],
             [
              0.3333333333333333,
              "#9c179e"
             ],
             [
              0.4444444444444444,
              "#bd3786"
             ],
             [
              0.5555555555555556,
              "#d8576b"
             ],
             [
              0.6666666666666666,
              "#ed7953"
             ],
             [
              0.7777777777777778,
              "#fb9f3a"
             ],
             [
              0.8888888888888888,
              "#fdca26"
             ],
             [
              1,
              "#f0f921"
             ]
            ],
            "type": "surface"
           }
          ],
          "table": [
           {
            "cells": {
             "fill": {
              "color": "#EBF0F8"
             },
             "line": {
              "color": "white"
             }
            },
            "header": {
             "fill": {
              "color": "#C8D4E3"
             },
             "line": {
              "color": "white"
             }
            },
            "type": "table"
           }
          ]
         },
         "layout": {
          "annotationdefaults": {
           "arrowcolor": "#2a3f5f",
           "arrowhead": 0,
           "arrowwidth": 1
          },
          "autotypenumbers": "strict",
          "coloraxis": {
           "colorbar": {
            "outlinewidth": 0,
            "ticks": ""
           }
          },
          "colorscale": {
           "diverging": [
            [
             0,
             "#8e0152"
            ],
            [
             0.1,
             "#c51b7d"
            ],
            [
             0.2,
             "#de77ae"
            ],
            [
             0.3,
             "#f1b6da"
            ],
            [
             0.4,
             "#fde0ef"
            ],
            [
             0.5,
             "#f7f7f7"
            ],
            [
             0.6,
             "#e6f5d0"
            ],
            [
             0.7,
             "#b8e186"
            ],
            [
             0.8,
             "#7fbc41"
            ],
            [
             0.9,
             "#4d9221"
            ],
            [
             1,
             "#276419"
            ]
           ],
           "sequential": [
            [
             0,
             "#0d0887"
            ],
            [
             0.1111111111111111,
             "#46039f"
            ],
            [
             0.2222222222222222,
             "#7201a8"
            ],
            [
             0.3333333333333333,
             "#9c179e"
            ],
            [
             0.4444444444444444,
             "#bd3786"
            ],
            [
             0.5555555555555556,
             "#d8576b"
            ],
            [
             0.6666666666666666,
             "#ed7953"
            ],
            [
             0.7777777777777778,
             "#fb9f3a"
            ],
            [
             0.8888888888888888,
             "#fdca26"
            ],
            [
             1,
             "#f0f921"
            ]
           ],
           "sequentialminus": [
            [
             0,
             "#0d0887"
            ],
            [
             0.1111111111111111,
             "#46039f"
            ],
            [
             0.2222222222222222,
             "#7201a8"
            ],
            [
             0.3333333333333333,
             "#9c179e"
            ],
            [
             0.4444444444444444,
             "#bd3786"
            ],
            [
             0.5555555555555556,
             "#d8576b"
            ],
            [
             0.6666666666666666,
             "#ed7953"
            ],
            [
             0.7777777777777778,
             "#fb9f3a"
            ],
            [
             0.8888888888888888,
             "#fdca26"
            ],
            [
             1,
             "#f0f921"
            ]
           ]
          },
          "colorway": [
           "#636efa",
           "#EF553B",
           "#00cc96",
           "#ab63fa",
           "#FFA15A",
           "#19d3f3",
           "#FF6692",
           "#B6E880",
           "#FF97FF",
           "#FECB52"
          ],
          "font": {
           "color": "#2a3f5f"
          },
          "geo": {
           "bgcolor": "white",
           "lakecolor": "white",
           "landcolor": "#E5ECF6",
           "showlakes": true,
           "showland": true,
           "subunitcolor": "white"
          },
          "hoverlabel": {
           "align": "left"
          },
          "hovermode": "closest",
          "mapbox": {
           "style": "light"
          },
          "paper_bgcolor": "white",
          "plot_bgcolor": "#E5ECF6",
          "polar": {
           "angularaxis": {
            "gridcolor": "white",
            "linecolor": "white",
            "ticks": ""
           },
           "bgcolor": "#E5ECF6",
           "radialaxis": {
            "gridcolor": "white",
            "linecolor": "white",
            "ticks": ""
           }
          },
          "scene": {
           "xaxis": {
            "backgroundcolor": "#E5ECF6",
            "gridcolor": "white",
            "gridwidth": 2,
            "linecolor": "white",
            "showbackground": true,
            "ticks": "",
            "zerolinecolor": "white"
           },
           "yaxis": {
            "backgroundcolor": "#E5ECF6",
            "gridcolor": "white",
            "gridwidth": 2,
            "linecolor": "white",
            "showbackground": true,
            "ticks": "",
            "zerolinecolor": "white"
           },
           "zaxis": {
            "backgroundcolor": "#E5ECF6",
            "gridcolor": "white",
            "gridwidth": 2,
            "linecolor": "white",
            "showbackground": true,
            "ticks": "",
            "zerolinecolor": "white"
           }
          },
          "shapedefaults": {
           "line": {
            "color": "#2a3f5f"
           }
          },
          "ternary": {
           "aaxis": {
            "gridcolor": "white",
            "linecolor": "white",
            "ticks": ""
           },
           "baxis": {
            "gridcolor": "white",
            "linecolor": "white",
            "ticks": ""
           },
           "bgcolor": "#E5ECF6",
           "caxis": {
            "gridcolor": "white",
            "linecolor": "white",
            "ticks": ""
           }
          },
          "title": {
           "x": 0.05
          },
          "xaxis": {
           "automargin": true,
           "gridcolor": "white",
           "linecolor": "white",
           "ticks": "",
           "title": {
            "standoff": 15
           },
           "zerolinecolor": "white",
           "zerolinewidth": 2
          },
          "yaxis": {
           "automargin": true,
           "gridcolor": "white",
           "linecolor": "white",
           "ticks": "",
           "title": {
            "standoff": 15
           },
           "zerolinecolor": "white",
           "zerolinewidth": 2
          }
         }
        },
        "title": {
         "text": "Evolução de CPU_PERCENT_AFTER"
        },
        "xaxis": {
         "title": {
          "text": "Index"
         }
        },
        "yaxis": {
         "title": {
          "text": "cpu_percent_after"
         }
        }
       }
      }
     },
     "metadata": {},
     "output_type": "display_data"
    },
    {
     "data": {
      "application/vnd.plotly.v1+json": {
       "config": {
        "plotlyServerURL": "https://plot.ly"
       },
       "data": [
        {
         "mode": "lines+markers",
         "name": "wav2vec2",
         "type": "scatter",
         "x": {
          "bdata": "AAECAwQ=",
          "dtype": "i1"
         },
         "y": {
          "bdata": "AAAAAABAVECamZmZmTlUQAAAAAAAYFRAAAAAAACAVECamZmZmVlUQA==",
          "dtype": "f8"
         }
        },
        {
         "mode": "lines+markers",
         "name": "vggish",
         "type": "scatter",
         "x": {
          "bdata": "BQYHCAk=",
          "dtype": "i1"
         },
         "y": {
          "bdata": "AAAAAAAAVEDNzMzMzCxUQM3MzMzMTFRAMzMzMzOTVEAzMzMzM5NUQA==",
          "dtype": "f8"
         }
        },
        {
         "mode": "lines+markers",
         "name": "openl3",
         "type": "scatter",
         "x": {
          "bdata": "CgsMDQ4=",
          "dtype": "i1"
         },
         "y": {
          "bdata": "MzMzMzMTVEBmZmZmZkZUQJqZmZmZeVRAMzMzMzPTU0CamZmZmflTQA==",
          "dtype": "f8"
         }
        },
        {
         "mode": "lines+markers",
         "name": "yamnet",
         "type": "scatter",
         "x": {
          "bdata": "DxAREhM=",
          "dtype": "i1"
         },
         "y": {
          "bdata": "AAAAAAAAVECamZmZmflTQAAAAAAAAFRAmpmZmZn5U0CamZmZmflTQA==",
          "dtype": "f8"
         }
        },
        {
         "mode": "lines+markers",
         "name": "clap",
         "type": "scatter",
         "x": {
          "bdata": "FBUWFxg=",
          "dtype": "i1"
         },
         "y": {
          "bdata": "AAAAAADAU0AAAAAAAMBTQJqZmZmZuVNAAAAAAADAU0AAAAAAAMBTQA==",
          "dtype": "f8"
         }
        },
        {
         "mode": "lines+markers",
         "name": "ast",
         "type": "scatter",
         "x": {
          "bdata": "GRobHB0=",
          "dtype": "i1"
         },
         "y": {
          "bdata": "MzMzMzNzVEAAAAAAAGBUQGZmZmZmZlRAzczMzMxsVEBmZmZmZmZUQA==",
          "dtype": "f8"
         }
        }
       ],
       "layout": {
        "template": {
         "data": {
          "bar": [
           {
            "error_x": {
             "color": "#2a3f5f"
            },
            "error_y": {
             "color": "#2a3f5f"
            },
            "marker": {
             "line": {
              "color": "#E5ECF6",
              "width": 0.5
             },
             "pattern": {
              "fillmode": "overlay",
              "size": 10,
              "solidity": 0.2
             }
            },
            "type": "bar"
           }
          ],
          "barpolar": [
           {
            "marker": {
             "line": {
              "color": "#E5ECF6",
              "width": 0.5
             },
             "pattern": {
              "fillmode": "overlay",
              "size": 10,
              "solidity": 0.2
             }
            },
            "type": "barpolar"
           }
          ],
          "carpet": [
           {
            "aaxis": {
             "endlinecolor": "#2a3f5f",
             "gridcolor": "white",
             "linecolor": "white",
             "minorgridcolor": "white",
             "startlinecolor": "#2a3f5f"
            },
            "baxis": {
             "endlinecolor": "#2a3f5f",
             "gridcolor": "white",
             "linecolor": "white",
             "minorgridcolor": "white",
             "startlinecolor": "#2a3f5f"
            },
            "type": "carpet"
           }
          ],
          "choropleth": [
           {
            "colorbar": {
             "outlinewidth": 0,
             "ticks": ""
            },
            "type": "choropleth"
           }
          ],
          "contour": [
           {
            "colorbar": {
             "outlinewidth": 0,
             "ticks": ""
            },
            "colorscale": [
             [
              0,
              "#0d0887"
             ],
             [
              0.1111111111111111,
              "#46039f"
             ],
             [
              0.2222222222222222,
              "#7201a8"
             ],
             [
              0.3333333333333333,
              "#9c179e"
             ],
             [
              0.4444444444444444,
              "#bd3786"
             ],
             [
              0.5555555555555556,
              "#d8576b"
             ],
             [
              0.6666666666666666,
              "#ed7953"
             ],
             [
              0.7777777777777778,
              "#fb9f3a"
             ],
             [
              0.8888888888888888,
              "#fdca26"
             ],
             [
              1,
              "#f0f921"
             ]
            ],
            "type": "contour"
           }
          ],
          "contourcarpet": [
           {
            "colorbar": {
             "outlinewidth": 0,
             "ticks": ""
            },
            "type": "contourcarpet"
           }
          ],
          "heatmap": [
           {
            "colorbar": {
             "outlinewidth": 0,
             "ticks": ""
            },
            "colorscale": [
             [
              0,
              "#0d0887"
             ],
             [
              0.1111111111111111,
              "#46039f"
             ],
             [
              0.2222222222222222,
              "#7201a8"
             ],
             [
              0.3333333333333333,
              "#9c179e"
             ],
             [
              0.4444444444444444,
              "#bd3786"
             ],
             [
              0.5555555555555556,
              "#d8576b"
             ],
             [
              0.6666666666666666,
              "#ed7953"
             ],
             [
              0.7777777777777778,
              "#fb9f3a"
             ],
             [
              0.8888888888888888,
              "#fdca26"
             ],
             [
              1,
              "#f0f921"
             ]
            ],
            "type": "heatmap"
           }
          ],
          "histogram": [
           {
            "marker": {
             "pattern": {
              "fillmode": "overlay",
              "size": 10,
              "solidity": 0.2
             }
            },
            "type": "histogram"
           }
          ],
          "histogram2d": [
           {
            "colorbar": {
             "outlinewidth": 0,
             "ticks": ""
            },
            "colorscale": [
             [
              0,
              "#0d0887"
             ],
             [
              0.1111111111111111,
              "#46039f"
             ],
             [
              0.2222222222222222,
              "#7201a8"
             ],
             [
              0.3333333333333333,
              "#9c179e"
             ],
             [
              0.4444444444444444,
              "#bd3786"
             ],
             [
              0.5555555555555556,
              "#d8576b"
             ],
             [
              0.6666666666666666,
              "#ed7953"
             ],
             [
              0.7777777777777778,
              "#fb9f3a"
             ],
             [
              0.8888888888888888,
              "#fdca26"
             ],
             [
              1,
              "#f0f921"
             ]
            ],
            "type": "histogram2d"
           }
          ],
          "histogram2dcontour": [
           {
            "colorbar": {
             "outlinewidth": 0,
             "ticks": ""
            },
            "colorscale": [
             [
              0,
              "#0d0887"
             ],
             [
              0.1111111111111111,
              "#46039f"
             ],
             [
              0.2222222222222222,
              "#7201a8"
             ],
             [
              0.3333333333333333,
              "#9c179e"
             ],
             [
              0.4444444444444444,
              "#bd3786"
             ],
             [
              0.5555555555555556,
              "#d8576b"
             ],
             [
              0.6666666666666666,
              "#ed7953"
             ],
             [
              0.7777777777777778,
              "#fb9f3a"
             ],
             [
              0.8888888888888888,
              "#fdca26"
             ],
             [
              1,
              "#f0f921"
             ]
            ],
            "type": "histogram2dcontour"
           }
          ],
          "mesh3d": [
           {
            "colorbar": {
             "outlinewidth": 0,
             "ticks": ""
            },
            "type": "mesh3d"
           }
          ],
          "parcoords": [
           {
            "line": {
             "colorbar": {
              "outlinewidth": 0,
              "ticks": ""
             }
            },
            "type": "parcoords"
           }
          ],
          "pie": [
           {
            "automargin": true,
            "type": "pie"
           }
          ],
          "scatter": [
           {
            "fillpattern": {
             "fillmode": "overlay",
             "size": 10,
             "solidity": 0.2
            },
            "type": "scatter"
           }
          ],
          "scatter3d": [
           {
            "line": {
             "colorbar": {
              "outlinewidth": 0,
              "ticks": ""
             }
            },
            "marker": {
             "colorbar": {
              "outlinewidth": 0,
              "ticks": ""
             }
            },
            "type": "scatter3d"
           }
          ],
          "scattercarpet": [
           {
            "marker": {
             "colorbar": {
              "outlinewidth": 0,
              "ticks": ""
             }
            },
            "type": "scattercarpet"
           }
          ],
          "scattergeo": [
           {
            "marker": {
             "colorbar": {
              "outlinewidth": 0,
              "ticks": ""
             }
            },
            "type": "scattergeo"
           }
          ],
          "scattergl": [
           {
            "marker": {
             "colorbar": {
              "outlinewidth": 0,
              "ticks": ""
             }
            },
            "type": "scattergl"
           }
          ],
          "scattermap": [
           {
            "marker": {
             "colorbar": {
              "outlinewidth": 0,
              "ticks": ""
             }
            },
            "type": "scattermap"
           }
          ],
          "scattermapbox": [
           {
            "marker": {
             "colorbar": {
              "outlinewidth": 0,
              "ticks": ""
             }
            },
            "type": "scattermapbox"
           }
          ],
          "scatterpolar": [
           {
            "marker": {
             "colorbar": {
              "outlinewidth": 0,
              "ticks": ""
             }
            },
            "type": "scatterpolar"
           }
          ],
          "scatterpolargl": [
           {
            "marker": {
             "colorbar": {
              "outlinewidth": 0,
              "ticks": ""
             }
            },
            "type": "scatterpolargl"
           }
          ],
          "scatterternary": [
           {
            "marker": {
             "colorbar": {
              "outlinewidth": 0,
              "ticks": ""
             }
            },
            "type": "scatterternary"
           }
          ],
          "surface": [
           {
            "colorbar": {
             "outlinewidth": 0,
             "ticks": ""
            },
            "colorscale": [
             [
              0,
              "#0d0887"
             ],
             [
              0.1111111111111111,
              "#46039f"
             ],
             [
              0.2222222222222222,
              "#7201a8"
             ],
             [
              0.3333333333333333,
              "#9c179e"
             ],
             [
              0.4444444444444444,
              "#bd3786"
             ],
             [
              0.5555555555555556,
              "#d8576b"
             ],
             [
              0.6666666666666666,
              "#ed7953"
             ],
             [
              0.7777777777777778,
              "#fb9f3a"
             ],
             [
              0.8888888888888888,
              "#fdca26"
             ],
             [
              1,
              "#f0f921"
             ]
            ],
            "type": "surface"
           }
          ],
          "table": [
           {
            "cells": {
             "fill": {
              "color": "#EBF0F8"
             },
             "line": {
              "color": "white"
             }
            },
            "header": {
             "fill": {
              "color": "#C8D4E3"
             },
             "line": {
              "color": "white"
             }
            },
            "type": "table"
           }
          ]
         },
         "layout": {
          "annotationdefaults": {
           "arrowcolor": "#2a3f5f",
           "arrowhead": 0,
           "arrowwidth": 1
          },
          "autotypenumbers": "strict",
          "coloraxis": {
           "colorbar": {
            "outlinewidth": 0,
            "ticks": ""
           }
          },
          "colorscale": {
           "diverging": [
            [
             0,
             "#8e0152"
            ],
            [
             0.1,
             "#c51b7d"
            ],
            [
             0.2,
             "#de77ae"
            ],
            [
             0.3,
             "#f1b6da"
            ],
            [
             0.4,
             "#fde0ef"
            ],
            [
             0.5,
             "#f7f7f7"
            ],
            [
             0.6,
             "#e6f5d0"
            ],
            [
             0.7,
             "#b8e186"
            ],
            [
             0.8,
             "#7fbc41"
            ],
            [
             0.9,
             "#4d9221"
            ],
            [
             1,
             "#276419"
            ]
           ],
           "sequential": [
            [
             0,
             "#0d0887"
            ],
            [
             0.1111111111111111,
             "#46039f"
            ],
            [
             0.2222222222222222,
             "#7201a8"
            ],
            [
             0.3333333333333333,
             "#9c179e"
            ],
            [
             0.4444444444444444,
             "#bd3786"
            ],
            [
             0.5555555555555556,
             "#d8576b"
            ],
            [
             0.6666666666666666,
             "#ed7953"
            ],
            [
             0.7777777777777778,
             "#fb9f3a"
            ],
            [
             0.8888888888888888,
             "#fdca26"
            ],
            [
             1,
             "#f0f921"
            ]
           ],
           "sequentialminus": [
            [
             0,
             "#0d0887"
            ],
            [
             0.1111111111111111,
             "#46039f"
            ],
            [
             0.2222222222222222,
             "#7201a8"
            ],
            [
             0.3333333333333333,
             "#9c179e"
            ],
            [
             0.4444444444444444,
             "#bd3786"
            ],
            [
             0.5555555555555556,
             "#d8576b"
            ],
            [
             0.6666666666666666,
             "#ed7953"
            ],
            [
             0.7777777777777778,
             "#fb9f3a"
            ],
            [
             0.8888888888888888,
             "#fdca26"
            ],
            [
             1,
             "#f0f921"
            ]
           ]
          },
          "colorway": [
           "#636efa",
           "#EF553B",
           "#00cc96",
           "#ab63fa",
           "#FFA15A",
           "#19d3f3",
           "#FF6692",
           "#B6E880",
           "#FF97FF",
           "#FECB52"
          ],
          "font": {
           "color": "#2a3f5f"
          },
          "geo": {
           "bgcolor": "white",
           "lakecolor": "white",
           "landcolor": "#E5ECF6",
           "showlakes": true,
           "showland": true,
           "subunitcolor": "white"
          },
          "hoverlabel": {
           "align": "left"
          },
          "hovermode": "closest",
          "mapbox": {
           "style": "light"
          },
          "paper_bgcolor": "white",
          "plot_bgcolor": "#E5ECF6",
          "polar": {
           "angularaxis": {
            "gridcolor": "white",
            "linecolor": "white",
            "ticks": ""
           },
           "bgcolor": "#E5ECF6",
           "radialaxis": {
            "gridcolor": "white",
            "linecolor": "white",
            "ticks": ""
           }
          },
          "scene": {
           "xaxis": {
            "backgroundcolor": "#E5ECF6",
            "gridcolor": "white",
            "gridwidth": 2,
            "linecolor": "white",
            "showbackground": true,
            "ticks": "",
            "zerolinecolor": "white"
           },
           "yaxis": {
            "backgroundcolor": "#E5ECF6",
            "gridcolor": "white",
            "gridwidth": 2,
            "linecolor": "white",
            "showbackground": true,
            "ticks": "",
            "zerolinecolor": "white"
           },
           "zaxis": {
            "backgroundcolor": "#E5ECF6",
            "gridcolor": "white",
            "gridwidth": 2,
            "linecolor": "white",
            "showbackground": true,
            "ticks": "",
            "zerolinecolor": "white"
           }
          },
          "shapedefaults": {
           "line": {
            "color": "#2a3f5f"
           }
          },
          "ternary": {
           "aaxis": {
            "gridcolor": "white",
            "linecolor": "white",
            "ticks": ""
           },
           "baxis": {
            "gridcolor": "white",
            "linecolor": "white",
            "ticks": ""
           },
           "bgcolor": "#E5ECF6",
           "caxis": {
            "gridcolor": "white",
            "linecolor": "white",
            "ticks": ""
           }
          },
          "title": {
           "x": 0.05
          },
          "xaxis": {
           "automargin": true,
           "gridcolor": "white",
           "linecolor": "white",
           "ticks": "",
           "title": {
            "standoff": 15
           },
           "zerolinecolor": "white",
           "zerolinewidth": 2
          },
          "yaxis": {
           "automargin": true,
           "gridcolor": "white",
           "linecolor": "white",
           "ticks": "",
           "title": {
            "standoff": 15
           },
           "zerolinecolor": "white",
           "zerolinewidth": 2
          }
         }
        },
        "title": {
         "text": "Evolução de RAM_PERCENT_AFTER"
        },
        "xaxis": {
         "title": {
          "text": "Index"
         }
        },
        "yaxis": {
         "title": {
          "text": "ram_percent_after"
         }
        }
       }
      }
     },
     "metadata": {},
     "output_type": "display_data"
    }
   ],
   "source": [
    "# 📈 Evolução dos recursos (CPU, RAM)\n",
    "recursos = ['cpu_percent_after', 'ram_percent_after']\n",
    "for recurso in recursos:\n",
    "    fig = go.Figure()\n",
    "    for modelo in df['modelo'].unique():\n",
    "        subset = df[df['modelo'] == modelo]\n",
    "        fig.add_trace(go.Scatter(x=subset.index, y=subset[recurso], mode='lines+markers', name=modelo))\n",
    "    fig.update_layout(title=f'Evolução de {recurso.upper()}', xaxis_title='Index', yaxis_title=recurso)\n",
    "    fig.show()"
   ]
  },
  {
   "cell_type": "markdown",
   "metadata": {},
   "source": [
    "# FAZER RANKING DOS RECURSOS... CHEGAR A UMA CONCLUSÃO FINAL"
   ]
  },
  {
   "cell_type": "markdown",
   "metadata": {},
   "source": [
    "## Explicação do Sistema de Ranking dos Modelos de Embeddings\n",
    "O sistema de ranking implementado no notebook oferece uma visão comparativa detalhada sobre o desempenho dos diferentes modelos de embeddings de áudio. Vamos explicar o significado dos valores apresentados e como interpretá-los:\n",
    "\n",
    "Rankings Individuais por Métrica:\n",
    "- Tempo de Extração (s)\n",
    "Representa quanto tempo cada modelo leva para processar o áudio e gerar o embedding\n",
    "Valores menores são melhores (indicam processamento mais rápido)\n",
    "Um modelo com tempo de extração baixo é ideal para aplicações em tempo real ou processamento em lote de grandes coleções de áudio\n",
    "- Tempo de Inserção (s)\n",
    "Mede quanto tempo leva para armazenar o embedding na base de dados Milvus\n",
    "Valores menores são melhores\n",
    "Geralmente menos crítico que o tempo de extração, mas importante para fluxos de ingestão de dados em grande escala\n",
    "- Pico de Memória (MB)\n",
    "Indica a quantidade máxima de memória RAM utilizada durante o processamento\n",
    "Valores menores são melhores (menos recursos consumidos)\n",
    "Crítico para ambientes com recursos limitados ou aplicações que precisam processar muitos arquivos simultaneamente\n",
    "- Uso de CPU (%)\n",
    "Porcentagem de utilização da CPU durante o processamento\n",
    "Valores menores são melhores\n",
    "Modelos com menor uso de CPU deixam mais recursos disponíveis para outras tarefas\n",
    "- Uso de RAM (%)\n",
    "Percentual total de memória do sistema utilizada\n",
    "Valores menores são melhores\n",
    "Diferente do \"Pico de Memória\" que é específico do processo\n",
    "- Dimensionalidade\n",
    "Tamanho do vetor de embedding gerado\n",
    "Não é classificado como \"melhor\" ou \"pior\" diretamente\n",
    "\n",
    "Embeddings maiores (maior dimensionalidade) podem capturar mais informações, mas:\n",
    "Consomem mais espaço de armazenamento\n",
    "Podem ser mais lentos para pesquisa\n",
    "Podem exigir mais recursos computacionais\n",
    "Ranking Geral\n",
    "Pontuação (0-100)\n",
    "Representa uma avaliação holística do desempenho do modelo\n",
    "Valores maiores são melhores (mais próximo de 100 = desempenho ideal)\n",
    "Calculada usando uma média ponderada normalizada das métricas principais\n",
    "Pesos das Métricas no Ranking Geral\n",
    "O ranking geral usa a seguinte distribuição de pesos:\n",
    "\n",
    "Tempo de extração: 35% (mais peso devido à sua importância crítica)\n",
    "Pico de memória: 25% (segundo mais importante)\n",
    "Uso de CPU: 20% (impacto moderado)\n",
    "Tempo de inserção: 15% (menos crítico que a extração)\n",
    "Uso de RAM total: 5% (menor peso pois depende de outros fatores do sistema)\n",
    "Processo de Normalização\n",
    "Para criar um ranking justo, o sistema:\n",
    "\n",
    "Normaliza cada métrica para uma escala de 0-1 (onde 0 é o melhor valor)\n",
    "Aplica os pesos definidos para cada métrica\n",
    "Inverte a escala final para que valores maiores (próximos de 100) sejam melhores\n",
    "Interpretação dos Resultados\n",
    "Primeiro lugar (ouro): Representa o modelo com melhor equilíbrio entre velocidade, eficiência de recursos e desempenho\n",
    "Segundo lugar (prata): Bom desempenho geral, possível alternativa ao primeiro colocado\n",
    "Terceiro lugar (bronze): Desempenho aceitável, pode ser útil em cenários específicos\n",
    "Demais posições: Podem ser adequadas para casos de uso específicos, dependendo da prioridade (velocidade vs. qualidade vs. recursos)\n",
    "É importante notar que o ranking geral oferece uma visão equilibrada, mas a escolha do melhor modelo ainda depende das prioridades específicas do seu projeto. Por exemplo, se você tem restrições severas de memória, pode preferir um modelo que não está no topo do ranking geral, mas que tem excelente desempenho na métrica de consumo de memória."
   ]
  },
  {
   "cell_type": "code",
   "execution_count": 21,
   "metadata": {},
   "outputs": [
    {
     "name": "stdout",
     "output_type": "stream",
     "text": [
      "🏆 Rankings dos Modelos de Embeddings de Áudio\n"
     ]
    },
    {
     "data": {
      "application/vnd.jupyter.widget-view+json": {
       "model_id": "799b20421cdf4654bfa770632c81b8b2",
       "version_major": 2,
       "version_minor": 0
      },
      "text/plain": [
       "Tab(children=(Output(), Output(), Output(), Output(), Output(), Output(), Output()), selected_index=0, titles=…"
      ]
     },
     "metadata": {},
     "output_type": "display_data"
    },
    {
     "name": "stdout",
     "output_type": "stream",
     "text": [
      "\n",
      "🏆 Ranking Geral dos Modelos\n"
     ]
    },
    {
     "data": {
      "application/vnd.plotly.v1+json": {
       "config": {
        "plotlyServerURL": "https://plot.ly"
       },
       "data": [
        {
         "cells": {
          "align": "center",
          "fill": {
           "color": [
            [
             "gold",
             "silver",
             "lightcoral",
             "white",
             "white",
             "white"
            ]
           ]
          },
          "font": {
           "size": 13
          },
          "height": 30,
          "values": [
           [
            1,
            2,
            3,
            4,
            5,
            6
           ],
           [
            "yamnet",
            "clap",
            "vggish",
            "wav2vec2",
            "ast",
            "openl3"
           ],
           [
            97.96,
            96.1,
            86.94,
            83.38,
            73.99,
            12.82
           ]
          ]
         },
         "header": {
          "align": "center",
          "fill": {
           "color": "darkblue"
          },
          "font": {
           "color": "white",
           "size": 14
          },
          "values": [
           "Posição",
           "Modelo",
           "Pontuação (0-100)"
          ]
         },
         "type": "table"
        }
       ],
       "layout": {
        "height": 400,
        "margin": {
         "b": 20,
         "l": 20,
         "r": 20,
         "t": 50
        },
        "template": {
         "data": {
          "bar": [
           {
            "error_x": {
             "color": "#2a3f5f"
            },
            "error_y": {
             "color": "#2a3f5f"
            },
            "marker": {
             "line": {
              "color": "#E5ECF6",
              "width": 0.5
             },
             "pattern": {
              "fillmode": "overlay",
              "size": 10,
              "solidity": 0.2
             }
            },
            "type": "bar"
           }
          ],
          "barpolar": [
           {
            "marker": {
             "line": {
              "color": "#E5ECF6",
              "width": 0.5
             },
             "pattern": {
              "fillmode": "overlay",
              "size": 10,
              "solidity": 0.2
             }
            },
            "type": "barpolar"
           }
          ],
          "carpet": [
           {
            "aaxis": {
             "endlinecolor": "#2a3f5f",
             "gridcolor": "white",
             "linecolor": "white",
             "minorgridcolor": "white",
             "startlinecolor": "#2a3f5f"
            },
            "baxis": {
             "endlinecolor": "#2a3f5f",
             "gridcolor": "white",
             "linecolor": "white",
             "minorgridcolor": "white",
             "startlinecolor": "#2a3f5f"
            },
            "type": "carpet"
           }
          ],
          "choropleth": [
           {
            "colorbar": {
             "outlinewidth": 0,
             "ticks": ""
            },
            "type": "choropleth"
           }
          ],
          "contour": [
           {
            "colorbar": {
             "outlinewidth": 0,
             "ticks": ""
            },
            "colorscale": [
             [
              0,
              "#0d0887"
             ],
             [
              0.1111111111111111,
              "#46039f"
             ],
             [
              0.2222222222222222,
              "#7201a8"
             ],
             [
              0.3333333333333333,
              "#9c179e"
             ],
             [
              0.4444444444444444,
              "#bd3786"
             ],
             [
              0.5555555555555556,
              "#d8576b"
             ],
             [
              0.6666666666666666,
              "#ed7953"
             ],
             [
              0.7777777777777778,
              "#fb9f3a"
             ],
             [
              0.8888888888888888,
              "#fdca26"
             ],
             [
              1,
              "#f0f921"
             ]
            ],
            "type": "contour"
           }
          ],
          "contourcarpet": [
           {
            "colorbar": {
             "outlinewidth": 0,
             "ticks": ""
            },
            "type": "contourcarpet"
           }
          ],
          "heatmap": [
           {
            "colorbar": {
             "outlinewidth": 0,
             "ticks": ""
            },
            "colorscale": [
             [
              0,
              "#0d0887"
             ],
             [
              0.1111111111111111,
              "#46039f"
             ],
             [
              0.2222222222222222,
              "#7201a8"
             ],
             [
              0.3333333333333333,
              "#9c179e"
             ],
             [
              0.4444444444444444,
              "#bd3786"
             ],
             [
              0.5555555555555556,
              "#d8576b"
             ],
             [
              0.6666666666666666,
              "#ed7953"
             ],
             [
              0.7777777777777778,
              "#fb9f3a"
             ],
             [
              0.8888888888888888,
              "#fdca26"
             ],
             [
              1,
              "#f0f921"
             ]
            ],
            "type": "heatmap"
           }
          ],
          "histogram": [
           {
            "marker": {
             "pattern": {
              "fillmode": "overlay",
              "size": 10,
              "solidity": 0.2
             }
            },
            "type": "histogram"
           }
          ],
          "histogram2d": [
           {
            "colorbar": {
             "outlinewidth": 0,
             "ticks": ""
            },
            "colorscale": [
             [
              0,
              "#0d0887"
             ],
             [
              0.1111111111111111,
              "#46039f"
             ],
             [
              0.2222222222222222,
              "#7201a8"
             ],
             [
              0.3333333333333333,
              "#9c179e"
             ],
             [
              0.4444444444444444,
              "#bd3786"
             ],
             [
              0.5555555555555556,
              "#d8576b"
             ],
             [
              0.6666666666666666,
              "#ed7953"
             ],
             [
              0.7777777777777778,
              "#fb9f3a"
             ],
             [
              0.8888888888888888,
              "#fdca26"
             ],
             [
              1,
              "#f0f921"
             ]
            ],
            "type": "histogram2d"
           }
          ],
          "histogram2dcontour": [
           {
            "colorbar": {
             "outlinewidth": 0,
             "ticks": ""
            },
            "colorscale": [
             [
              0,
              "#0d0887"
             ],
             [
              0.1111111111111111,
              "#46039f"
             ],
             [
              0.2222222222222222,
              "#7201a8"
             ],
             [
              0.3333333333333333,
              "#9c179e"
             ],
             [
              0.4444444444444444,
              "#bd3786"
             ],
             [
              0.5555555555555556,
              "#d8576b"
             ],
             [
              0.6666666666666666,
              "#ed7953"
             ],
             [
              0.7777777777777778,
              "#fb9f3a"
             ],
             [
              0.8888888888888888,
              "#fdca26"
             ],
             [
              1,
              "#f0f921"
             ]
            ],
            "type": "histogram2dcontour"
           }
          ],
          "mesh3d": [
           {
            "colorbar": {
             "outlinewidth": 0,
             "ticks": ""
            },
            "type": "mesh3d"
           }
          ],
          "parcoords": [
           {
            "line": {
             "colorbar": {
              "outlinewidth": 0,
              "ticks": ""
             }
            },
            "type": "parcoords"
           }
          ],
          "pie": [
           {
            "automargin": true,
            "type": "pie"
           }
          ],
          "scatter": [
           {
            "fillpattern": {
             "fillmode": "overlay",
             "size": 10,
             "solidity": 0.2
            },
            "type": "scatter"
           }
          ],
          "scatter3d": [
           {
            "line": {
             "colorbar": {
              "outlinewidth": 0,
              "ticks": ""
             }
            },
            "marker": {
             "colorbar": {
              "outlinewidth": 0,
              "ticks": ""
             }
            },
            "type": "scatter3d"
           }
          ],
          "scattercarpet": [
           {
            "marker": {
             "colorbar": {
              "outlinewidth": 0,
              "ticks": ""
             }
            },
            "type": "scattercarpet"
           }
          ],
          "scattergeo": [
           {
            "marker": {
             "colorbar": {
              "outlinewidth": 0,
              "ticks": ""
             }
            },
            "type": "scattergeo"
           }
          ],
          "scattergl": [
           {
            "marker": {
             "colorbar": {
              "outlinewidth": 0,
              "ticks": ""
             }
            },
            "type": "scattergl"
           }
          ],
          "scattermap": [
           {
            "marker": {
             "colorbar": {
              "outlinewidth": 0,
              "ticks": ""
             }
            },
            "type": "scattermap"
           }
          ],
          "scattermapbox": [
           {
            "marker": {
             "colorbar": {
              "outlinewidth": 0,
              "ticks": ""
             }
            },
            "type": "scattermapbox"
           }
          ],
          "scatterpolar": [
           {
            "marker": {
             "colorbar": {
              "outlinewidth": 0,
              "ticks": ""
             }
            },
            "type": "scatterpolar"
           }
          ],
          "scatterpolargl": [
           {
            "marker": {
             "colorbar": {
              "outlinewidth": 0,
              "ticks": ""
             }
            },
            "type": "scatterpolargl"
           }
          ],
          "scatterternary": [
           {
            "marker": {
             "colorbar": {
              "outlinewidth": 0,
              "ticks": ""
             }
            },
            "type": "scatterternary"
           }
          ],
          "surface": [
           {
            "colorbar": {
             "outlinewidth": 0,
             "ticks": ""
            },
            "colorscale": [
             [
              0,
              "#0d0887"
             ],
             [
              0.1111111111111111,
              "#46039f"
             ],
             [
              0.2222222222222222,
              "#7201a8"
             ],
             [
              0.3333333333333333,
              "#9c179e"
             ],
             [
              0.4444444444444444,
              "#bd3786"
             ],
             [
              0.5555555555555556,
              "#d8576b"
             ],
             [
              0.6666666666666666,
              "#ed7953"
             ],
             [
              0.7777777777777778,
              "#fb9f3a"
             ],
             [
              0.8888888888888888,
              "#fdca26"
             ],
             [
              1,
              "#f0f921"
             ]
            ],
            "type": "surface"
           }
          ],
          "table": [
           {
            "cells": {
             "fill": {
              "color": "#EBF0F8"
             },
             "line": {
              "color": "white"
             }
            },
            "header": {
             "fill": {
              "color": "#C8D4E3"
             },
             "line": {
              "color": "white"
             }
            },
            "type": "table"
           }
          ]
         },
         "layout": {
          "annotationdefaults": {
           "arrowcolor": "#2a3f5f",
           "arrowhead": 0,
           "arrowwidth": 1
          },
          "autotypenumbers": "strict",
          "coloraxis": {
           "colorbar": {
            "outlinewidth": 0,
            "ticks": ""
           }
          },
          "colorscale": {
           "diverging": [
            [
             0,
             "#8e0152"
            ],
            [
             0.1,
             "#c51b7d"
            ],
            [
             0.2,
             "#de77ae"
            ],
            [
             0.3,
             "#f1b6da"
            ],
            [
             0.4,
             "#fde0ef"
            ],
            [
             0.5,
             "#f7f7f7"
            ],
            [
             0.6,
             "#e6f5d0"
            ],
            [
             0.7,
             "#b8e186"
            ],
            [
             0.8,
             "#7fbc41"
            ],
            [
             0.9,
             "#4d9221"
            ],
            [
             1,
             "#276419"
            ]
           ],
           "sequential": [
            [
             0,
             "#0d0887"
            ],
            [
             0.1111111111111111,
             "#46039f"
            ],
            [
             0.2222222222222222,
             "#7201a8"
            ],
            [
             0.3333333333333333,
             "#9c179e"
            ],
            [
             0.4444444444444444,
             "#bd3786"
            ],
            [
             0.5555555555555556,
             "#d8576b"
            ],
            [
             0.6666666666666666,
             "#ed7953"
            ],
            [
             0.7777777777777778,
             "#fb9f3a"
            ],
            [
             0.8888888888888888,
             "#fdca26"
            ],
            [
             1,
             "#f0f921"
            ]
           ],
           "sequentialminus": [
            [
             0,
             "#0d0887"
            ],
            [
             0.1111111111111111,
             "#46039f"
            ],
            [
             0.2222222222222222,
             "#7201a8"
            ],
            [
             0.3333333333333333,
             "#9c179e"
            ],
            [
             0.4444444444444444,
             "#bd3786"
            ],
            [
             0.5555555555555556,
             "#d8576b"
            ],
            [
             0.6666666666666666,
             "#ed7953"
            ],
            [
             0.7777777777777778,
             "#fb9f3a"
            ],
            [
             0.8888888888888888,
             "#fdca26"
            ],
            [
             1,
             "#f0f921"
            ]
           ]
          },
          "colorway": [
           "#636efa",
           "#EF553B",
           "#00cc96",
           "#ab63fa",
           "#FFA15A",
           "#19d3f3",
           "#FF6692",
           "#B6E880",
           "#FF97FF",
           "#FECB52"
          ],
          "font": {
           "color": "#2a3f5f"
          },
          "geo": {
           "bgcolor": "white",
           "lakecolor": "white",
           "landcolor": "#E5ECF6",
           "showlakes": true,
           "showland": true,
           "subunitcolor": "white"
          },
          "hoverlabel": {
           "align": "left"
          },
          "hovermode": "closest",
          "mapbox": {
           "style": "light"
          },
          "paper_bgcolor": "white",
          "plot_bgcolor": "#E5ECF6",
          "polar": {
           "angularaxis": {
            "gridcolor": "white",
            "linecolor": "white",
            "ticks": ""
           },
           "bgcolor": "#E5ECF6",
           "radialaxis": {
            "gridcolor": "white",
            "linecolor": "white",
            "ticks": ""
           }
          },
          "scene": {
           "xaxis": {
            "backgroundcolor": "#E5ECF6",
            "gridcolor": "white",
            "gridwidth": 2,
            "linecolor": "white",
            "showbackground": true,
            "ticks": "",
            "zerolinecolor": "white"
           },
           "yaxis": {
            "backgroundcolor": "#E5ECF6",
            "gridcolor": "white",
            "gridwidth": 2,
            "linecolor": "white",
            "showbackground": true,
            "ticks": "",
            "zerolinecolor": "white"
           },
           "zaxis": {
            "backgroundcolor": "#E5ECF6",
            "gridcolor": "white",
            "gridwidth": 2,
            "linecolor": "white",
            "showbackground": true,
            "ticks": "",
            "zerolinecolor": "white"
           }
          },
          "shapedefaults": {
           "line": {
            "color": "#2a3f5f"
           }
          },
          "ternary": {
           "aaxis": {
            "gridcolor": "white",
            "linecolor": "white",
            "ticks": ""
           },
           "baxis": {
            "gridcolor": "white",
            "linecolor": "white",
            "ticks": ""
           },
           "bgcolor": "#E5ECF6",
           "caxis": {
            "gridcolor": "white",
            "linecolor": "white",
            "ticks": ""
           }
          },
          "title": {
           "x": 0.05
          },
          "xaxis": {
           "automargin": true,
           "gridcolor": "white",
           "linecolor": "white",
           "ticks": "",
           "title": {
            "standoff": 15
           },
           "zerolinecolor": "white",
           "zerolinewidth": 2
          },
          "yaxis": {
           "automargin": true,
           "gridcolor": "white",
           "linecolor": "white",
           "ticks": "",
           "title": {
            "standoff": 15
           },
           "zerolinecolor": "white",
           "zerolinewidth": 2
          }
         }
        },
        "title": {
         "text": "🏆 Ranking Geral dos Modelos de Embeddings de Áudio"
        }
       }
      }
     },
     "metadata": {},
     "output_type": "display_data"
    },
    {
     "data": {
      "application/vnd.plotly.v1+json": {
       "config": {
        "plotlyServerURL": "https://plot.ly"
       },
       "data": [
        {
         "hovertemplate": "Modelo=%{x}<br>Pontuação (0-100)=%{marker.color}<extra></extra>",
         "legendgroup": "",
         "marker": {
          "color": {
           "bdata": "VoIOZiR9WEB3arywPwZYQIDBcPpHvFVAIX6orJHYVECDx9MSMX9SQEV8bZO8oylA",
           "dtype": "f8"
          },
          "coloraxis": "coloraxis",
          "pattern": {
           "shape": ""
          }
         },
         "name": "",
         "orientation": "v",
         "showlegend": false,
         "text": {
          "bdata": "VoIOZiR9WEB3arywPwZYQIDBcPpHvFVAIX6orJHYVECDx9MSMX9SQEV8bZO8oylA",
          "dtype": "f8"
         },
         "textposition": "outside",
         "texttemplate": "%{text:.1f}",
         "type": "bar",
         "x": [
          "yamnet",
          "clap",
          "vggish",
          "wav2vec2",
          "ast",
          "openl3"
         ],
         "xaxis": "x",
         "y": {
          "bdata": "VoIOZiR9WEB3arywPwZYQIDBcPpHvFVAIX6orJHYVECDx9MSMX9SQEV8bZO8oylA",
          "dtype": "f8"
         },
         "yaxis": "y"
        }
       ],
       "layout": {
        "barmode": "relative",
        "coloraxis": {
         "colorbar": {
          "title": {
           "text": "Pontuação (0-100)"
          }
         },
         "colorscale": [
          [
           0,
           "#440154"
          ],
          [
           0.1111111111111111,
           "#482878"
          ],
          [
           0.2222222222222222,
           "#3e4989"
          ],
          [
           0.3333333333333333,
           "#31688e"
          ],
          [
           0.4444444444444444,
           "#26828e"
          ],
          [
           0.5555555555555556,
           "#1f9e89"
          ],
          [
           0.6666666666666666,
           "#35b779"
          ],
          [
           0.7777777777777778,
           "#6ece58"
          ],
          [
           0.8888888888888888,
           "#b5de2b"
          ],
          [
           1,
           "#fde725"
          ]
         ]
        },
        "legend": {
         "tracegroupgap": 0
        },
        "template": {
         "data": {
          "bar": [
           {
            "error_x": {
             "color": "#2a3f5f"
            },
            "error_y": {
             "color": "#2a3f5f"
            },
            "marker": {
             "line": {
              "color": "#E5ECF6",
              "width": 0.5
             },
             "pattern": {
              "fillmode": "overlay",
              "size": 10,
              "solidity": 0.2
             }
            },
            "type": "bar"
           }
          ],
          "barpolar": [
           {
            "marker": {
             "line": {
              "color": "#E5ECF6",
              "width": 0.5
             },
             "pattern": {
              "fillmode": "overlay",
              "size": 10,
              "solidity": 0.2
             }
            },
            "type": "barpolar"
           }
          ],
          "carpet": [
           {
            "aaxis": {
             "endlinecolor": "#2a3f5f",
             "gridcolor": "white",
             "linecolor": "white",
             "minorgridcolor": "white",
             "startlinecolor": "#2a3f5f"
            },
            "baxis": {
             "endlinecolor": "#2a3f5f",
             "gridcolor": "white",
             "linecolor": "white",
             "minorgridcolor": "white",
             "startlinecolor": "#2a3f5f"
            },
            "type": "carpet"
           }
          ],
          "choropleth": [
           {
            "colorbar": {
             "outlinewidth": 0,
             "ticks": ""
            },
            "type": "choropleth"
           }
          ],
          "contour": [
           {
            "colorbar": {
             "outlinewidth": 0,
             "ticks": ""
            },
            "colorscale": [
             [
              0,
              "#0d0887"
             ],
             [
              0.1111111111111111,
              "#46039f"
             ],
             [
              0.2222222222222222,
              "#7201a8"
             ],
             [
              0.3333333333333333,
              "#9c179e"
             ],
             [
              0.4444444444444444,
              "#bd3786"
             ],
             [
              0.5555555555555556,
              "#d8576b"
             ],
             [
              0.6666666666666666,
              "#ed7953"
             ],
             [
              0.7777777777777778,
              "#fb9f3a"
             ],
             [
              0.8888888888888888,
              "#fdca26"
             ],
             [
              1,
              "#f0f921"
             ]
            ],
            "type": "contour"
           }
          ],
          "contourcarpet": [
           {
            "colorbar": {
             "outlinewidth": 0,
             "ticks": ""
            },
            "type": "contourcarpet"
           }
          ],
          "heatmap": [
           {
            "colorbar": {
             "outlinewidth": 0,
             "ticks": ""
            },
            "colorscale": [
             [
              0,
              "#0d0887"
             ],
             [
              0.1111111111111111,
              "#46039f"
             ],
             [
              0.2222222222222222,
              "#7201a8"
             ],
             [
              0.3333333333333333,
              "#9c179e"
             ],
             [
              0.4444444444444444,
              "#bd3786"
             ],
             [
              0.5555555555555556,
              "#d8576b"
             ],
             [
              0.6666666666666666,
              "#ed7953"
             ],
             [
              0.7777777777777778,
              "#fb9f3a"
             ],
             [
              0.8888888888888888,
              "#fdca26"
             ],
             [
              1,
              "#f0f921"
             ]
            ],
            "type": "heatmap"
           }
          ],
          "histogram": [
           {
            "marker": {
             "pattern": {
              "fillmode": "overlay",
              "size": 10,
              "solidity": 0.2
             }
            },
            "type": "histogram"
           }
          ],
          "histogram2d": [
           {
            "colorbar": {
             "outlinewidth": 0,
             "ticks": ""
            },
            "colorscale": [
             [
              0,
              "#0d0887"
             ],
             [
              0.1111111111111111,
              "#46039f"
             ],
             [
              0.2222222222222222,
              "#7201a8"
             ],
             [
              0.3333333333333333,
              "#9c179e"
             ],
             [
              0.4444444444444444,
              "#bd3786"
             ],
             [
              0.5555555555555556,
              "#d8576b"
             ],
             [
              0.6666666666666666,
              "#ed7953"
             ],
             [
              0.7777777777777778,
              "#fb9f3a"
             ],
             [
              0.8888888888888888,
              "#fdca26"
             ],
             [
              1,
              "#f0f921"
             ]
            ],
            "type": "histogram2d"
           }
          ],
          "histogram2dcontour": [
           {
            "colorbar": {
             "outlinewidth": 0,
             "ticks": ""
            },
            "colorscale": [
             [
              0,
              "#0d0887"
             ],
             [
              0.1111111111111111,
              "#46039f"
             ],
             [
              0.2222222222222222,
              "#7201a8"
             ],
             [
              0.3333333333333333,
              "#9c179e"
             ],
             [
              0.4444444444444444,
              "#bd3786"
             ],
             [
              0.5555555555555556,
              "#d8576b"
             ],
             [
              0.6666666666666666,
              "#ed7953"
             ],
             [
              0.7777777777777778,
              "#fb9f3a"
             ],
             [
              0.8888888888888888,
              "#fdca26"
             ],
             [
              1,
              "#f0f921"
             ]
            ],
            "type": "histogram2dcontour"
           }
          ],
          "mesh3d": [
           {
            "colorbar": {
             "outlinewidth": 0,
             "ticks": ""
            },
            "type": "mesh3d"
           }
          ],
          "parcoords": [
           {
            "line": {
             "colorbar": {
              "outlinewidth": 0,
              "ticks": ""
             }
            },
            "type": "parcoords"
           }
          ],
          "pie": [
           {
            "automargin": true,
            "type": "pie"
           }
          ],
          "scatter": [
           {
            "fillpattern": {
             "fillmode": "overlay",
             "size": 10,
             "solidity": 0.2
            },
            "type": "scatter"
           }
          ],
          "scatter3d": [
           {
            "line": {
             "colorbar": {
              "outlinewidth": 0,
              "ticks": ""
             }
            },
            "marker": {
             "colorbar": {
              "outlinewidth": 0,
              "ticks": ""
             }
            },
            "type": "scatter3d"
           }
          ],
          "scattercarpet": [
           {
            "marker": {
             "colorbar": {
              "outlinewidth": 0,
              "ticks": ""
             }
            },
            "type": "scattercarpet"
           }
          ],
          "scattergeo": [
           {
            "marker": {
             "colorbar": {
              "outlinewidth": 0,
              "ticks": ""
             }
            },
            "type": "scattergeo"
           }
          ],
          "scattergl": [
           {
            "marker": {
             "colorbar": {
              "outlinewidth": 0,
              "ticks": ""
             }
            },
            "type": "scattergl"
           }
          ],
          "scattermap": [
           {
            "marker": {
             "colorbar": {
              "outlinewidth": 0,
              "ticks": ""
             }
            },
            "type": "scattermap"
           }
          ],
          "scattermapbox": [
           {
            "marker": {
             "colorbar": {
              "outlinewidth": 0,
              "ticks": ""
             }
            },
            "type": "scattermapbox"
           }
          ],
          "scatterpolar": [
           {
            "marker": {
             "colorbar": {
              "outlinewidth": 0,
              "ticks": ""
             }
            },
            "type": "scatterpolar"
           }
          ],
          "scatterpolargl": [
           {
            "marker": {
             "colorbar": {
              "outlinewidth": 0,
              "ticks": ""
             }
            },
            "type": "scatterpolargl"
           }
          ],
          "scatterternary": [
           {
            "marker": {
             "colorbar": {
              "outlinewidth": 0,
              "ticks": ""
             }
            },
            "type": "scatterternary"
           }
          ],
          "surface": [
           {
            "colorbar": {
             "outlinewidth": 0,
             "ticks": ""
            },
            "colorscale": [
             [
              0,
              "#0d0887"
             ],
             [
              0.1111111111111111,
              "#46039f"
             ],
             [
              0.2222222222222222,
              "#7201a8"
             ],
             [
              0.3333333333333333,
              "#9c179e"
             ],
             [
              0.4444444444444444,
              "#bd3786"
             ],
             [
              0.5555555555555556,
              "#d8576b"
             ],
             [
              0.6666666666666666,
              "#ed7953"
             ],
             [
              0.7777777777777778,
              "#fb9f3a"
             ],
             [
              0.8888888888888888,
              "#fdca26"
             ],
             [
              1,
              "#f0f921"
             ]
            ],
            "type": "surface"
           }
          ],
          "table": [
           {
            "cells": {
             "fill": {
              "color": "#EBF0F8"
             },
             "line": {
              "color": "white"
             }
            },
            "header": {
             "fill": {
              "color": "#C8D4E3"
             },
             "line": {
              "color": "white"
             }
            },
            "type": "table"
           }
          ]
         },
         "layout": {
          "annotationdefaults": {
           "arrowcolor": "#2a3f5f",
           "arrowhead": 0,
           "arrowwidth": 1
          },
          "autotypenumbers": "strict",
          "coloraxis": {
           "colorbar": {
            "outlinewidth": 0,
            "ticks": ""
           }
          },
          "colorscale": {
           "diverging": [
            [
             0,
             "#8e0152"
            ],
            [
             0.1,
             "#c51b7d"
            ],
            [
             0.2,
             "#de77ae"
            ],
            [
             0.3,
             "#f1b6da"
            ],
            [
             0.4,
             "#fde0ef"
            ],
            [
             0.5,
             "#f7f7f7"
            ],
            [
             0.6,
             "#e6f5d0"
            ],
            [
             0.7,
             "#b8e186"
            ],
            [
             0.8,
             "#7fbc41"
            ],
            [
             0.9,
             "#4d9221"
            ],
            [
             1,
             "#276419"
            ]
           ],
           "sequential": [
            [
             0,
             "#0d0887"
            ],
            [
             0.1111111111111111,
             "#46039f"
            ],
            [
             0.2222222222222222,
             "#7201a8"
            ],
            [
             0.3333333333333333,
             "#9c179e"
            ],
            [
             0.4444444444444444,
             "#bd3786"
            ],
            [
             0.5555555555555556,
             "#d8576b"
            ],
            [
             0.6666666666666666,
             "#ed7953"
            ],
            [
             0.7777777777777778,
             "#fb9f3a"
            ],
            [
             0.8888888888888888,
             "#fdca26"
            ],
            [
             1,
             "#f0f921"
            ]
           ],
           "sequentialminus": [
            [
             0,
             "#0d0887"
            ],
            [
             0.1111111111111111,
             "#46039f"
            ],
            [
             0.2222222222222222,
             "#7201a8"
            ],
            [
             0.3333333333333333,
             "#9c179e"
            ],
            [
             0.4444444444444444,
             "#bd3786"
            ],
            [
             0.5555555555555556,
             "#d8576b"
            ],
            [
             0.6666666666666666,
             "#ed7953"
            ],
            [
             0.7777777777777778,
             "#fb9f3a"
            ],
            [
             0.8888888888888888,
             "#fdca26"
            ],
            [
             1,
             "#f0f921"
            ]
           ]
          },
          "colorway": [
           "#636efa",
           "#EF553B",
           "#00cc96",
           "#ab63fa",
           "#FFA15A",
           "#19d3f3",
           "#FF6692",
           "#B6E880",
           "#FF97FF",
           "#FECB52"
          ],
          "font": {
           "color": "#2a3f5f"
          },
          "geo": {
           "bgcolor": "white",
           "lakecolor": "white",
           "landcolor": "#E5ECF6",
           "showlakes": true,
           "showland": true,
           "subunitcolor": "white"
          },
          "hoverlabel": {
           "align": "left"
          },
          "hovermode": "closest",
          "mapbox": {
           "style": "light"
          },
          "paper_bgcolor": "white",
          "plot_bgcolor": "#E5ECF6",
          "polar": {
           "angularaxis": {
            "gridcolor": "white",
            "linecolor": "white",
            "ticks": ""
           },
           "bgcolor": "#E5ECF6",
           "radialaxis": {
            "gridcolor": "white",
            "linecolor": "white",
            "ticks": ""
           }
          },
          "scene": {
           "xaxis": {
            "backgroundcolor": "#E5ECF6",
            "gridcolor": "white",
            "gridwidth": 2,
            "linecolor": "white",
            "showbackground": true,
            "ticks": "",
            "zerolinecolor": "white"
           },
           "yaxis": {
            "backgroundcolor": "#E5ECF6",
            "gridcolor": "white",
            "gridwidth": 2,
            "linecolor": "white",
            "showbackground": true,
            "ticks": "",
            "zerolinecolor": "white"
           },
           "zaxis": {
            "backgroundcolor": "#E5ECF6",
            "gridcolor": "white",
            "gridwidth": 2,
            "linecolor": "white",
            "showbackground": true,
            "ticks": "",
            "zerolinecolor": "white"
           }
          },
          "shapedefaults": {
           "line": {
            "color": "#2a3f5f"
           }
          },
          "ternary": {
           "aaxis": {
            "gridcolor": "white",
            "linecolor": "white",
            "ticks": ""
           },
           "baxis": {
            "gridcolor": "white",
            "linecolor": "white",
            "ticks": ""
           },
           "bgcolor": "#E5ECF6",
           "caxis": {
            "gridcolor": "white",
            "linecolor": "white",
            "ticks": ""
           }
          },
          "title": {
           "x": 0.05
          },
          "xaxis": {
           "automargin": true,
           "gridcolor": "white",
           "linecolor": "white",
           "ticks": "",
           "title": {
            "standoff": 15
           },
           "zerolinecolor": "white",
           "zerolinewidth": 2
          },
          "yaxis": {
           "automargin": true,
           "gridcolor": "white",
           "linecolor": "white",
           "ticks": "",
           "title": {
            "standoff": 15
           },
           "zerolinecolor": "white",
           "zerolinewidth": 2
          }
         }
        },
        "title": {
         "text": "Comparação Geral dos Modelos"
        },
        "uniformtext": {
         "minsize": 8,
         "mode": "hide"
        },
        "xaxis": {
         "anchor": "y",
         "domain": [
          0,
          1
         ],
         "title": {
          "text": "Modelo"
         }
        },
        "yaxis": {
         "anchor": "x",
         "domain": [
          0,
          1
         ],
         "title": {
          "text": "Pontuação (0-100)"
         }
        }
       }
      }
     },
     "metadata": {},
     "output_type": "display_data"
    }
   ],
   "source": [
    "# 🏆 Ranking dos modelos por diferentes métricas\n",
    "def create_ranking_table(df, metric_column, metric_name, lower_is_better=True):\n",
    "    \"\"\"\n",
    "    Cria uma tabela de classificação dos modelos baseada numa métrica específica.\n",
    "    \n",
    "    Args:\n",
    "        df: DataFrame com os resultados do benchmark\n",
    "        metric_column: Nome da coluna da métrica a ser analisada\n",
    "        metric_name: Nome amigável da métrica para exibição\n",
    "        lower_is_better: Se True, valores menores são melhores (ex: tempo, memória)\n",
    "    \n",
    "    Returns:\n",
    "        DataFrame com o ranking dos modelos\n",
    "    \"\"\"\n",
    "    # Calcular média e desvio padrão para cada modelo\n",
    "    ranking = df.groupby('modelo')[metric_column].agg(['mean', 'std', 'min', 'max']).reset_index()\n",
    "    \n",
    "    # Renomear colunas\n",
    "    ranking.columns = ['Modelo', f'Média {metric_name}', f'Desvio Padrão', f'Mínimo', f'Máximo']\n",
    "    \n",
    "    # Ordenar resultados (crescente se lower_is_better=True, decrescente caso contrário)\n",
    "    ranking = ranking.sort_values(by=f'Média {metric_name}', ascending=lower_is_better)\n",
    "    \n",
    "    # Adicionar coluna de ranking\n",
    "    ranking.insert(0, 'Posição', range(1, len(ranking) + 1))\n",
    "    \n",
    "    return ranking\n",
    "\n",
    "# Criar rankings para diferentes métricas\n",
    "try:\n",
    "    print(\"🏆 Rankings dos Modelos de Embeddings de Áudio\")\n",
    "    \n",
    "    # Definir as métricas e seus nomes amigáveis\n",
    "    metrics = [\n",
    "        ('tempo_extracao', 'Tempo de Extração (s)', True),\n",
    "        ('tempo_insercao', 'Tempo de Inserção (s)', True),\n",
    "        ('memoria_peak_mb', 'Pico de Memória (MB)', True),\n",
    "        ('cpu_percent_after', 'Uso de CPU (%)', True),\n",
    "        ('ram_percent_after', 'Uso de RAM (%)', True),\n",
    "        ('gpu_usage', 'Uso de GPU (%)', True),\n",
    "        ('dimensao', 'Dimensionalidade', None)  # None porque não é melhor nem pior\n",
    "    ]\n",
    "    \n",
    "    # Criar abas para os diferentes rankings\n",
    "    tab_contents = [m[1] for m in metrics]\n",
    "    children = []\n",
    "    \n",
    "    for metric_col, metric_name, lower_is_better in metrics:\n",
    "        if metric_col in df.columns:\n",
    "            # Criar tabela de ranking\n",
    "            if lower_is_better is None:  # Para dimensionalidade, só mostramos os valores sem julgar\n",
    "                ranking = df.groupby('modelo')[metric_col].first().reset_index()\n",
    "                ranking.columns = ['Modelo', metric_name]\n",
    "                ranking = ranking.sort_values(by=metric_name)\n",
    "                ranking.insert(0, 'Posição', range(1, len(ranking) + 1))\n",
    "            else:\n",
    "                ranking = create_ranking_table(df, metric_col, metric_name, lower_is_better)\n",
    "            \n",
    "            # Criar visualização de tabela colorida com Plotly\n",
    "            fig = go.Figure(data=[go.Table(\n",
    "                header=dict(\n",
    "                    values=list(ranking.columns),\n",
    "                    fill_color='royalblue',\n",
    "                    font=dict(color='white', size=12),\n",
    "                    align='left'\n",
    "                ),\n",
    "                cells=dict(\n",
    "                    values=[ranking[col] for col in ranking.columns],\n",
    "                    fill_color=[['lightcyan' if i % 2 == 0 else 'white' for i in range(len(ranking))]],\n",
    "                    align='left',\n",
    "                    font_size=11,\n",
    "                    height=25\n",
    "                )\n",
    "            )])\n",
    "            \n",
    "            fig.update_layout(\n",
    "                title=f\"Ranking por {metric_name}\",\n",
    "                height=400,\n",
    "                margin=dict(l=20, r=20, t=40, b=20)\n",
    "            )\n",
    "            \n",
    "            # Adicionar à aba\n",
    "            out = widgets.Output()\n",
    "            with out:\n",
    "                display(fig)\n",
    "            children.append(out)\n",
    "        else:\n",
    "            # Se a métrica não existe, mostrar mensagem\n",
    "            out = widgets.Output()\n",
    "            with out:\n",
    "                print(f\"⚠️ Métrica '{metric_name}' não disponível nos dados do benchmark.\")\n",
    "            children.append(out)\n",
    "    \n",
    "    # Criar widget de abas para os rankings\n",
    "    ranking_tab = widgets.Tab(children=children)\n",
    "    for i in range(len(tab_contents)):\n",
    "        ranking_tab.set_title(i, tab_contents[i])\n",
    "    \n",
    "    # Mostrar widget\n",
    "    display(ranking_tab)\n",
    "    \n",
    "    # Criar um ranking geral (média ponderada das principais métricas)\n",
    "    print(\"\\n🏆 Ranking Geral dos Modelos\")\n",
    "    \n",
    "    # Definir pesos para as métricas principais (ajuste conforme necessidade do projeto)\n",
    "    weights = {\n",
    "        'tempo_extracao': 0.35,  # Tempo de extração é muito importante\n",
    "        'memoria_peak_mb': 0.25,  # Uso de memória é importante\n",
    "        'cpu_percent_after': 0.20,  # Uso de CPU tem peso médio\n",
    "        'tempo_insercao': 0.15,  # Tempo de inserção é menos importante\n",
    "        'ram_percent_after': 0.05  # RAM total tem menos peso\n",
    "    }\n",
    "    \n",
    "    # Verificar quais métricas estão disponíveis\n",
    "    available_metrics = [m for m in weights.keys() if m in df.columns]\n",
    "    \n",
    "    if len(available_metrics) >= 3:  # Exigir pelo menos 3 métricas para um ranking geral adequado\n",
    "        # Normalizar os pesos para as métricas disponíveis\n",
    "        total_weight = sum(weights[m] for m in available_metrics)\n",
    "        normalized_weights = {m: weights[m]/total_weight for m in available_metrics}\n",
    "        \n",
    "        # Calcular médias para cada modelo e métrica\n",
    "        model_metrics = {}\n",
    "        for model in df['modelo'].unique():\n",
    "            model_data = df[df['modelo'] == model]\n",
    "            model_metrics[model] = {}\n",
    "            \n",
    "            for metric in available_metrics:\n",
    "                model_metrics[model][metric] = model_data[metric].mean()\n",
    "        \n",
    "        # Normalizar valores entre 0-1 (onde 0 é melhor, 1 é pior)\n",
    "        normalized_metrics = {}\n",
    "        for metric in available_metrics:\n",
    "            min_val = min(model_metrics[m][metric] for m in model_metrics)\n",
    "            max_val = max(model_metrics[m][metric] for m in model_metrics)\n",
    "            range_val = max_val - min_val\n",
    "            \n",
    "            if range_val > 0:  # Evitar divisão por zero\n",
    "                for model in model_metrics:\n",
    "                    if metric not in normalized_metrics:\n",
    "                        normalized_metrics[metric] = {}\n",
    "                    normalized_metrics[metric][model] = (model_metrics[model][metric] - min_val) / range_val\n",
    "            else:\n",
    "                # Se todos os valores forem iguais, atribuir 0.5 (neutro)\n",
    "                for model in model_metrics:\n",
    "                    if metric not in normalized_metrics:\n",
    "                        normalized_metrics[metric] = {}\n",
    "                    normalized_metrics[metric][model] = 0.5\n",
    "        \n",
    "        # Calcular pontuação final (ponderada)\n",
    "        final_scores = {}\n",
    "        for model in model_metrics:\n",
    "            score = 0\n",
    "            for metric in available_metrics:\n",
    "                score += normalized_metrics[metric][model] * normalized_weights[metric]\n",
    "            final_scores[model] = score\n",
    "        \n",
    "        # Criar DataFrame com ranking final\n",
    "        final_ranking = pd.DataFrame({\n",
    "            'Modelo': list(final_scores.keys()),\n",
    "            'Pontuação Final': list(final_scores.values())\n",
    "        })\n",
    "        \n",
    "        # Calcular pontuação de 0-100 (inverter para que maior seja melhor)\n",
    "        final_ranking['Pontuação (0-100)'] = 100 * (1 - final_ranking['Pontuação Final'])\n",
    "        \n",
    "        # Ordenar por pontuação (maior é melhor)\n",
    "        final_ranking = final_ranking.sort_values('Pontuação (0-100)', ascending=False)\n",
    "        final_ranking.insert(0, 'Posição', range(1, len(final_ranking) + 1))\n",
    "        \n",
    "        # Criar visualização de tabela colorida para o ranking final\n",
    "        fig = go.Figure(data=[go.Table(\n",
    "            header=dict(\n",
    "                values=['Posição', 'Modelo', 'Pontuação (0-100)'],\n",
    "                fill_color='darkblue',\n",
    "                font=dict(color='white', size=14),\n",
    "                align='center'\n",
    "            ),\n",
    "            cells=dict(\n",
    "                values=[\n",
    "                    final_ranking['Posição'],\n",
    "                    final_ranking['Modelo'],\n",
    "                    final_ranking['Pontuação (0-100)'].round(2)\n",
    "                ],\n",
    "                fill_color=[\n",
    "                    ['gold' if pos == 1 else 'silver' if pos == 2 else 'lightcoral' if pos == 3 \n",
    "                     else 'white' for pos in final_ranking['Posição']]\n",
    "                ],\n",
    "                align='center',\n",
    "                font_size=13,\n",
    "                height=30\n",
    "            )\n",
    "        )])\n",
    "        \n",
    "        fig.update_layout(\n",
    "            title=\"🏆 Ranking Geral dos Modelos de Embeddings de Áudio\",\n",
    "            height=400,\n",
    "            margin=dict(l=20, r=20, t=50, b=20)\n",
    "        )\n",
    "        \n",
    "        display(fig)\n",
    "        \n",
    "        # Criar gráfico de barras para o ranking final\n",
    "        bar_fig = px.bar(\n",
    "            final_ranking, \n",
    "            x='Modelo', \n",
    "            y='Pontuação (0-100)', \n",
    "            title='Comparação Geral dos Modelos', \n",
    "            color='Pontuação (0-100)',\n",
    "            color_continuous_scale=px.colors.sequential.Viridis,\n",
    "            text='Pontuação (0-100)'\n",
    "        )\n",
    "        \n",
    "        bar_fig.update_traces(texttemplate='%{text:.1f}', textposition='outside')\n",
    "        bar_fig.update_layout(uniformtext_minsize=8, uniformtext_mode='hide')\n",
    "        \n",
    "        display(bar_fig)\n",
    "        \n",
    "    else:\n",
    "        print(\"⚠️ Dados insuficientes para gerar um ranking geral significativo.\")\n",
    "\n",
    "except Exception as e:\n",
    "    import traceback\n",
    "    print(f\"❌ Erro ao gerar ranking dos modelos: {e}\")\n",
    "    traceback.print_exc()"
   ]
  },
  {
   "cell_type": "markdown",
   "metadata": {},
   "source": [
    "EXPLICAR PARA A ESCALIBIDADE"
   ]
  },
  {
   "cell_type": "code",
   "execution_count": 22,
   "metadata": {},
   "outputs": [
    {
     "name": "stdout",
     "output_type": "stream",
     "text": [
      "✅ Benchmark com 5 ficheiros carregado: 30 registros\n",
      "⚠️ Benchmark com 25 ficheiros não encontrado\n",
      "⚠️ Benchmark com 50 ficheiros não encontrado\n",
      "⚠️ Benchmark com 100 ficheiros não encontrado\n",
      "⚠️ Benchmark com 200 ficheiros não encontrado\n"
     ]
    },
    {
     "data": {
      "application/vnd.jupyter.widget-view+json": {
       "model_id": "0ed450197c7c4ba1bfcc59078622f7b0",
       "version_major": 2,
       "version_minor": 0
      },
      "text/plain": [
       "Dropdown(description='Benchmark:', options=(5,), value=5)"
      ]
     },
     "metadata": {},
     "output_type": "display_data"
    }
   ],
   "source": [
    "# 📊 Comparação de benchmarks com diferentes quantidades de ficheiros\n",
    "def carregar_multiplos_benchmarks():\n",
    "    \"\"\"Carrega todos os benchmarks disponíveis em uma estrutura unificada\"\"\"\n",
    "    tamanhos = [5, 25, 50, 100, 200]\n",
    "    dataframes = {}\n",
    "    \n",
    "    for tamanho in tamanhos:\n",
    "        try:\n",
    "            caminho = f'benchmarks/benchmark_{tamanho}/resultados_benchmark.csv'\n",
    "            df = pd.read_csv(caminho)\n",
    "            df['embedding'] = df['embedding'].apply(ast.literal_eval)\n",
    "            df['tamanho_benchmark'] = tamanho  # Adiciona coluna identificando o tamanho\n",
    "            dataframes[tamanho] = df\n",
    "            print(f\"✅ Benchmark com {tamanho} ficheiros carregado: {len(df)} registros\")\n",
    "        except FileNotFoundError:\n",
    "            print(f\"⚠️ Benchmark com {tamanho} ficheiros não encontrado\")\n",
    "        except Exception as e:\n",
    "            print(f\"❌ Erro ao carregar benchmark com {tamanho} ficheiros: {e}\")\n",
    "    \n",
    "    return dataframes\n",
    "\n",
    "# Carregar todos os benchmarks\n",
    "benchmarks = carregar_multiplos_benchmarks()\n",
    "\n",
    "# Interface para seleção do benchmark a visualizar\n",
    "tamanhos_disponiveis = list(benchmarks.keys())\n",
    "if tamanhos_disponiveis:\n",
    "    selector = widgets.Dropdown(\n",
    "        options=tamanhos_disponiveis,\n",
    "        description='Benchmark:',\n",
    "        value=tamanhos_disponiveis[0]\n",
    "    )\n",
    "    \n",
    "    def atualizar_visualizacao(change):\n",
    "        tamanho_selecionado = change['new']\n",
    "        display_benchmark(benchmarks[tamanho_selecionado])\n",
    "    \n",
    "    selector.observe(atualizar_visualizacao, names='value')\n",
    "    display(selector)\n",
    "else:\n",
    "    print(\"Nenhum benchmark encontrado.\")\n",
    "\n",
    "# Análise de escalabilidade\n",
    "if len(benchmarks) >= 2:\n",
    "    # 1. Gráfico de evolução de tempo de extração com o aumento do número de arquivos\n",
    "    fig_escala = go.Figure()\n",
    "    \n",
    "    metricas_escalabilidade = [\n",
    "        ('tempo_extracao', 'Tempo Médio de Extração (s)'),\n",
    "        ('tempo_insercao', 'Tempo Médio de Inserção (s)'),\n",
    "        ('memoria_peak_mb', 'Pico Médio de Memória (MB)'),\n",
    "        ('cpu_percent_after', 'Uso Médio de CPU (%)')\n",
    "    ]\n",
    "    \n",
    "    tab_contents_escala = [m[1] for m in metricas_escalabilidade]\n",
    "    children_escala = []\n",
    "    \n",
    "    for metrica, titulo in metricas_escalabilidade:\n",
    "        # Criar figura\n",
    "        fig_escala = go.Figure()\n",
    "        \n",
    "        # Para cada modelo, coletar dados de todos os benchmarks\n",
    "        for modelo in set(df['modelo'] for df in benchmarks.values() if not df.empty):\n",
    "            x_vals = []  # Tamanhos dos benchmarks\n",
    "            y_vals = []  # Valores médios da métrica\n",
    "            \n",
    "            for tamanho, df in benchmarks.items():\n",
    "                if modelo in df['modelo'].unique():\n",
    "                    x_vals.append(tamanho)\n",
    "                    y_vals.append(df[df['modelo'] == modelo][metrica].mean())\n",
    "            \n",
    "            # Ordenar por tamanho (para garantir que a linha seja traçada corretamente)\n",
    "            pontos = sorted(zip(x_vals, y_vals))\n",
    "            if pontos:\n",
    "                x_vals, y_vals = zip(*pontos)\n",
    "                fig_escala.add_trace(go.Scatter(\n",
    "                    x=x_vals, \n",
    "                    y=y_vals, \n",
    "                    mode='lines+markers', \n",
    "                    name=modelo\n",
    "                ))\n",
    "        \n",
    "        fig_escala.update_layout(\n",
    "            title=f'Escalabilidade: {titulo} por Tamanho da Base',\n",
    "            xaxis_title='Número de Ficheiros',\n",
    "            yaxis_title=titulo,\n",
    "            hovermode='closest'\n",
    "        )\n",
    "        \n",
    "        # Adicionar à aba\n",
    "        out = widgets.Output()\n",
    "        with out:\n",
    "            display(fig_escala)\n",
    "        children_escala.append(out)\n",
    "    \n",
    "    # Criar widget de abas para os gráficos de escalabilidade\n",
    "    escalabilidade_tab = widgets.Tab(children=children_escala)\n",
    "    for i in range(len(tab_contents_escala)):\n",
    "        escalabilidade_tab.set_title(i, tab_contents_escala[i])\n",
    "    \n",
    "    print(\"## Análise de Escalabilidade\")\n",
    "    print(\"Observe como cada modelo se comporta com o aumento do número de ficheiros:\")\n",
    "    display(escalabilidade_tab)\n",
    "    \n",
    "    # 2. Comparação de rankings entre benchmarks\n",
    "    print(\"\\n## Evolução dos Rankings com a Escala\")\n",
    "    \n",
    "    # Extrair rankings para cada tamanho\n",
    "    rankings_por_tamanho = {}\n",
    "    for tamanho, df in benchmarks.items():\n",
    "        if not df.empty:\n",
    "            # Usar seu algoritmo de ranking existente\n",
    "            rankings = {}\n",
    "            for modelo in df['modelo'].unique():\n",
    "                # Cálculo do ranking (simplificado)\n",
    "                metricas = {\n",
    "                    'tempo_extracao': df[df['modelo'] == modelo]['tempo_extracao'].mean(),\n",
    "                    'memoria_peak_mb': df[df['modelo'] == modelo]['memoria_peak_mb'].mean() if 'memoria_peak_mb' in df.columns else None,\n",
    "                    'cpu_percent_after': df[df['modelo'] == modelo]['cpu_percent_after'].mean() if 'cpu_percent_after' in df.columns else None,\n",
    "                    'tempo_insercao': df[df['modelo'] == modelo]['tempo_insercao'].mean() if 'tempo_insercao' in df.columns else None\n",
    "                }\n",
    "                # Pontuação simples (quanto menor, melhor)\n",
    "                pontuacao = sum(v for v in metricas.values() if v is not None) \n",
    "                rankings[modelo] = pontuacao\n",
    "            \n",
    "            # Ordenar do melhor para o pior\n",
    "            rankings_ordenados = {k: v for k, v in sorted(rankings.items(), key=lambda item: item[1])}\n",
    "            rankings_por_tamanho[tamanho] = rankings_ordenados\n",
    "    \n",
    "    # Visualizar como os rankings mudam\n",
    "    if rankings_por_tamanho:\n",
    "        # Criar tabela de evolução de posições\n",
    "        modelos = set()\n",
    "        for r in rankings_por_tamanho.values():\n",
    "            modelos.update(r.keys())\n",
    "        \n",
    "        tabela_posicoes = pd.DataFrame(index=modelos)\n",
    "        \n",
    "        for tamanho, ranking in rankings_por_tamanho.items():\n",
    "            # Converte o ranking em posições (1º, 2º, 3º...)\n",
    "            posicoes = {modelo: pos+1 for pos, modelo in enumerate(ranking.keys())}\n",
    "            tabela_posicoes[f'{tamanho} ficheiros'] = pd.Series(posicoes)\n",
    "        \n",
    "        # Mostrar tabela colorida\n",
    "        fig_ranking = go.Figure(data=[go.Table(\n",
    "            header=dict(\n",
    "                values=['Modelo'] + [f'{t} ficheiros' for t in sorted(rankings_por_tamanho.keys())],\n",
    "                fill_color='royalblue',\n",
    "                font=dict(color='white', size=12),\n",
    "                align='center'\n",
    "            ),\n",
    "            cells=dict(\n",
    "                values=[tabela_posicoes.index] + [tabela_posicoes[col] for col in tabela_posicoes.columns],\n",
    "                fill_color='lightcyan',\n",
    "                align='center'\n",
    "            )\n",
    "        )])\n",
    "        \n",
    "        fig_ranking.update_layout(\n",
    "            title=\"Evolução das Posições no Ranking por Escala\",\n",
    "            height=400,\n",
    "            margin=dict(l=20, r=20, t=50, b=20)\n",
    "        )\n",
    "        \n",
    "        display(fig_ranking)\n",
    "        \n",
    "        # Heatmap de estabilidade do ranking\n",
    "        heatmap_data = tabela_posicoes.copy()\n",
    "        \n",
    "        # Normalizar valores para visualização (posição 1 = melhor = 1.0, posições piores = valores menores)\n",
    "        for col in heatmap_data.columns:\n",
    "            max_pos = heatmap_data[col].max()\n",
    "            heatmap_data[col] = 1 - (heatmap_data[col] - 1) / max_pos if max_pos > 1 else heatmap_data[col]\n",
    "        \n",
    "        fig_heatmap = px.imshow(\n",
    "            heatmap_data,\n",
    "            labels=dict(x=\"Tamanho do Benchmark\", y=\"Modelo\", color=\"Posição Relativa\"),\n",
    "            x=heatmap_data.columns,\n",
    "            y=heatmap_data.index,\n",
    "            color_continuous_scale='viridis',\n",
    "            title=\"Estabilidade dos Rankings com Escala\"\n",
    "        )\n",
    "        \n",
    "        display(fig_heatmap)\n",
    "        \n",
    "        # Análise de eficiência com escala\n",
    "        print(\"\\n## Eficiência com Escala\")\n",
    "        print(\"Esta análise mostra quais modelos mantêm bom desempenho mesmo com grandes volumes de dados:\")\n",
    "        \n",
    "        # Calcular a tendência de cada modelo em tempo de extração com aumento da escala\n",
    "        slopes = {}\n",
    "        for modelo in modelos:\n",
    "            x_vals = []\n",
    "            y_vals = []\n",
    "            for tamanho, df in benchmarks.items():\n",
    "                if modelo in df['modelo'].unique():\n",
    "                    x_vals.append(tamanho)\n",
    "                    y_vals.append(df[df['modelo'] == modelo]['tempo_extracao'].mean())\n",
    "            \n",
    "            if len(x_vals) >= 2:\n",
    "                # Calcular tendência (aproximação simples)\n",
    "                if max(x_vals) > min(x_vals):\n",
    "                    slope = (max(y_vals) - min(y_vals)) / (max(x_vals) - min(x_vals))\n",
    "                    slopes[modelo] = slope\n",
    "        \n",
    "        if slopes:\n",
    "            slopes_df = pd.DataFrame({\n",
    "                'Modelo': list(slopes.keys()),\n",
    "                'Taxa de Crescimento': list(slopes.values())\n",
    "            })\n",
    "            \n",
    "            slopes_df = slopes_df.sort_values('Taxa de Crescimento')\n",
    "            \n",
    "            fig_slopes = px.bar(\n",
    "                slopes_df, \n",
    "                x='Modelo', \n",
    "                y='Taxa de Crescimento',\n",
    "                title='Taxa de Crescimento do Tempo com Aumento da Base',\n",
    "                color='Taxa de Crescimento',\n",
    "                color_continuous_scale='RdYlGn_r'  # Vermelho = pior, Verde = melhor\n",
    "            )\n",
    "            \n",
    "            display(fig_slopes)\n",
    "            \n",
    "            print(\"\\nModelos com menor taxa de crescimento são mais escaláveis, pois seu tempo de processamento\")\n",
    "            print(\"aumenta mais lentamente com o crescimento do volume de dados.\")"
   ]
  },
  {
   "cell_type": "markdown",
   "metadata": {},
   "source": [
    "Benefícios desta Abordagem\n",
    "Análise de Escalabilidade: Mostra como cada modelo se comporta à medida que o número de arquivos aumenta\n",
    "\n",
    "Evolução dos Rankings: Permite ver se os modelos que são melhores em conjuntos pequenos mantêm sua posição com conjuntos maiores\n",
    "\n",
    "Estabilidade de Desempenho: O heatmap visualiza quais modelos são mais consistentes em diferentes escalas\n",
    "\n",
    "Análise de Eficiência: Identifica quais modelos têm melhor \"crescimento\" de tempo/recursos, indicando escalabilidade\n",
    "\n",
    "Interface Interativa: Permite alternar facilmente entre diferentes tamanhos de benchmark\n",
    "\n",
    "Interpretação dos Resultados\n",
    "Taxa de Crescimento: Modelos com menor taxa indicam melhor escalabilidade\n",
    "Estabilidade do Ranking: Modelos que mantêm cores consistentes no heatmap são mais previsíveis em diferentes escalas\n",
    "Evolução das Métricas: Os gráficos de linha mostram se o crescimento é linear, exponencial ou irregular\n",
    "Esta análise permitirá determinar qual modelo é mais adequado não apenas para o tamanho atual da sua base, mas também para o crescimento futuro, facilitando decisões estratégicas sobre qual embedding adotar em produção."
   ]
  },
  {
   "cell_type": "markdown",
   "metadata": {},
   "source": [
    "### 8 VISUALIZAÇÕES DOS EMBEDDINGS NO ESPAÇO ... EXPLICAR O QUE SIGNIFICA SE ESTA MAIS PROXIMOS OU AFASTADOS UNS DOS OUTROS"
   ]
  },
  {
   "cell_type": "code",
   "execution_count": 8,
   "metadata": {},
   "outputs": [
    {
     "data": {
      "application/vnd.plotly.v1+json": {
       "config": {
        "plotlyServerURL": "https://plot.ly"
       },
       "data": [
        {
         "hovertemplate": "x=%{x}<br>y=%{y}<br>text=%{text}<extra></extra>",
         "legendgroup": "",
         "marker": {
          "color": "#636efa",
          "symbol": "circle"
         },
         "mode": "markers+text",
         "name": "",
         "orientation": "v",
         "showlegend": false,
         "text": [
          "000010.mp3",
          "000005.mp3",
          "000002.mp3",
          "000140.mp3",
          "000141.mp3"
         ],
         "type": "scatter",
         "x": {
          "bdata": "gyC4QWeEPMAEuMnB5a7HwbO8H0E=",
          "dtype": "f4"
         },
         "xaxis": "x",
         "y": {
          "bdata": "GajwwOrw/8E29+dB0eiywARPwkE=",
          "dtype": "f4"
         },
         "yaxis": "y"
        }
       ],
       "layout": {
        "legend": {
         "tracegroupgap": 0
        },
        "template": {
         "data": {
          "bar": [
           {
            "error_x": {
             "color": "#2a3f5f"
            },
            "error_y": {
             "color": "#2a3f5f"
            },
            "marker": {
             "line": {
              "color": "#E5ECF6",
              "width": 0.5
             },
             "pattern": {
              "fillmode": "overlay",
              "size": 10,
              "solidity": 0.2
             }
            },
            "type": "bar"
           }
          ],
          "barpolar": [
           {
            "marker": {
             "line": {
              "color": "#E5ECF6",
              "width": 0.5
             },
             "pattern": {
              "fillmode": "overlay",
              "size": 10,
              "solidity": 0.2
             }
            },
            "type": "barpolar"
           }
          ],
          "carpet": [
           {
            "aaxis": {
             "endlinecolor": "#2a3f5f",
             "gridcolor": "white",
             "linecolor": "white",
             "minorgridcolor": "white",
             "startlinecolor": "#2a3f5f"
            },
            "baxis": {
             "endlinecolor": "#2a3f5f",
             "gridcolor": "white",
             "linecolor": "white",
             "minorgridcolor": "white",
             "startlinecolor": "#2a3f5f"
            },
            "type": "carpet"
           }
          ],
          "choropleth": [
           {
            "colorbar": {
             "outlinewidth": 0,
             "ticks": ""
            },
            "type": "choropleth"
           }
          ],
          "contour": [
           {
            "colorbar": {
             "outlinewidth": 0,
             "ticks": ""
            },
            "colorscale": [
             [
              0,
              "#0d0887"
             ],
             [
              0.1111111111111111,
              "#46039f"
             ],
             [
              0.2222222222222222,
              "#7201a8"
             ],
             [
              0.3333333333333333,
              "#9c179e"
             ],
             [
              0.4444444444444444,
              "#bd3786"
             ],
             [
              0.5555555555555556,
              "#d8576b"
             ],
             [
              0.6666666666666666,
              "#ed7953"
             ],
             [
              0.7777777777777778,
              "#fb9f3a"
             ],
             [
              0.8888888888888888,
              "#fdca26"
             ],
             [
              1,
              "#f0f921"
             ]
            ],
            "type": "contour"
           }
          ],
          "contourcarpet": [
           {
            "colorbar": {
             "outlinewidth": 0,
             "ticks": ""
            },
            "type": "contourcarpet"
           }
          ],
          "heatmap": [
           {
            "colorbar": {
             "outlinewidth": 0,
             "ticks": ""
            },
            "colorscale": [
             [
              0,
              "#0d0887"
             ],
             [
              0.1111111111111111,
              "#46039f"
             ],
             [
              0.2222222222222222,
              "#7201a8"
             ],
             [
              0.3333333333333333,
              "#9c179e"
             ],
             [
              0.4444444444444444,
              "#bd3786"
             ],
             [
              0.5555555555555556,
              "#d8576b"
             ],
             [
              0.6666666666666666,
              "#ed7953"
             ],
             [
              0.7777777777777778,
              "#fb9f3a"
             ],
             [
              0.8888888888888888,
              "#fdca26"
             ],
             [
              1,
              "#f0f921"
             ]
            ],
            "type": "heatmap"
           }
          ],
          "histogram": [
           {
            "marker": {
             "pattern": {
              "fillmode": "overlay",
              "size": 10,
              "solidity": 0.2
             }
            },
            "type": "histogram"
           }
          ],
          "histogram2d": [
           {
            "colorbar": {
             "outlinewidth": 0,
             "ticks": ""
            },
            "colorscale": [
             [
              0,
              "#0d0887"
             ],
             [
              0.1111111111111111,
              "#46039f"
             ],
             [
              0.2222222222222222,
              "#7201a8"
             ],
             [
              0.3333333333333333,
              "#9c179e"
             ],
             [
              0.4444444444444444,
              "#bd3786"
             ],
             [
              0.5555555555555556,
              "#d8576b"
             ],
             [
              0.6666666666666666,
              "#ed7953"
             ],
             [
              0.7777777777777778,
              "#fb9f3a"
             ],
             [
              0.8888888888888888,
              "#fdca26"
             ],
             [
              1,
              "#f0f921"
             ]
            ],
            "type": "histogram2d"
           }
          ],
          "histogram2dcontour": [
           {
            "colorbar": {
             "outlinewidth": 0,
             "ticks": ""
            },
            "colorscale": [
             [
              0,
              "#0d0887"
             ],
             [
              0.1111111111111111,
              "#46039f"
             ],
             [
              0.2222222222222222,
              "#7201a8"
             ],
             [
              0.3333333333333333,
              "#9c179e"
             ],
             [
              0.4444444444444444,
              "#bd3786"
             ],
             [
              0.5555555555555556,
              "#d8576b"
             ],
             [
              0.6666666666666666,
              "#ed7953"
             ],
             [
              0.7777777777777778,
              "#fb9f3a"
             ],
             [
              0.8888888888888888,
              "#fdca26"
             ],
             [
              1,
              "#f0f921"
             ]
            ],
            "type": "histogram2dcontour"
           }
          ],
          "mesh3d": [
           {
            "colorbar": {
             "outlinewidth": 0,
             "ticks": ""
            },
            "type": "mesh3d"
           }
          ],
          "parcoords": [
           {
            "line": {
             "colorbar": {
              "outlinewidth": 0,
              "ticks": ""
             }
            },
            "type": "parcoords"
           }
          ],
          "pie": [
           {
            "automargin": true,
            "type": "pie"
           }
          ],
          "scatter": [
           {
            "fillpattern": {
             "fillmode": "overlay",
             "size": 10,
             "solidity": 0.2
            },
            "type": "scatter"
           }
          ],
          "scatter3d": [
           {
            "line": {
             "colorbar": {
              "outlinewidth": 0,
              "ticks": ""
             }
            },
            "marker": {
             "colorbar": {
              "outlinewidth": 0,
              "ticks": ""
             }
            },
            "type": "scatter3d"
           }
          ],
          "scattercarpet": [
           {
            "marker": {
             "colorbar": {
              "outlinewidth": 0,
              "ticks": ""
             }
            },
            "type": "scattercarpet"
           }
          ],
          "scattergeo": [
           {
            "marker": {
             "colorbar": {
              "outlinewidth": 0,
              "ticks": ""
             }
            },
            "type": "scattergeo"
           }
          ],
          "scattergl": [
           {
            "marker": {
             "colorbar": {
              "outlinewidth": 0,
              "ticks": ""
             }
            },
            "type": "scattergl"
           }
          ],
          "scattermap": [
           {
            "marker": {
             "colorbar": {
              "outlinewidth": 0,
              "ticks": ""
             }
            },
            "type": "scattermap"
           }
          ],
          "scattermapbox": [
           {
            "marker": {
             "colorbar": {
              "outlinewidth": 0,
              "ticks": ""
             }
            },
            "type": "scattermapbox"
           }
          ],
          "scatterpolar": [
           {
            "marker": {
             "colorbar": {
              "outlinewidth": 0,
              "ticks": ""
             }
            },
            "type": "scatterpolar"
           }
          ],
          "scatterpolargl": [
           {
            "marker": {
             "colorbar": {
              "outlinewidth": 0,
              "ticks": ""
             }
            },
            "type": "scatterpolargl"
           }
          ],
          "scatterternary": [
           {
            "marker": {
             "colorbar": {
              "outlinewidth": 0,
              "ticks": ""
             }
            },
            "type": "scatterternary"
           }
          ],
          "surface": [
           {
            "colorbar": {
             "outlinewidth": 0,
             "ticks": ""
            },
            "colorscale": [
             [
              0,
              "#0d0887"
             ],
             [
              0.1111111111111111,
              "#46039f"
             ],
             [
              0.2222222222222222,
              "#7201a8"
             ],
             [
              0.3333333333333333,
              "#9c179e"
             ],
             [
              0.4444444444444444,
              "#bd3786"
             ],
             [
              0.5555555555555556,
              "#d8576b"
             ],
             [
              0.6666666666666666,
              "#ed7953"
             ],
             [
              0.7777777777777778,
              "#fb9f3a"
             ],
             [
              0.8888888888888888,
              "#fdca26"
             ],
             [
              1,
              "#f0f921"
             ]
            ],
            "type": "surface"
           }
          ],
          "table": [
           {
            "cells": {
             "fill": {
              "color": "#EBF0F8"
             },
             "line": {
              "color": "white"
             }
            },
            "header": {
             "fill": {
              "color": "#C8D4E3"
             },
             "line": {
              "color": "white"
             }
            },
            "type": "table"
           }
          ]
         },
         "layout": {
          "annotationdefaults": {
           "arrowcolor": "#2a3f5f",
           "arrowhead": 0,
           "arrowwidth": 1
          },
          "autotypenumbers": "strict",
          "coloraxis": {
           "colorbar": {
            "outlinewidth": 0,
            "ticks": ""
           }
          },
          "colorscale": {
           "diverging": [
            [
             0,
             "#8e0152"
            ],
            [
             0.1,
             "#c51b7d"
            ],
            [
             0.2,
             "#de77ae"
            ],
            [
             0.3,
             "#f1b6da"
            ],
            [
             0.4,
             "#fde0ef"
            ],
            [
             0.5,
             "#f7f7f7"
            ],
            [
             0.6,
             "#e6f5d0"
            ],
            [
             0.7,
             "#b8e186"
            ],
            [
             0.8,
             "#7fbc41"
            ],
            [
             0.9,
             "#4d9221"
            ],
            [
             1,
             "#276419"
            ]
           ],
           "sequential": [
            [
             0,
             "#0d0887"
            ],
            [
             0.1111111111111111,
             "#46039f"
            ],
            [
             0.2222222222222222,
             "#7201a8"
            ],
            [
             0.3333333333333333,
             "#9c179e"
            ],
            [
             0.4444444444444444,
             "#bd3786"
            ],
            [
             0.5555555555555556,
             "#d8576b"
            ],
            [
             0.6666666666666666,
             "#ed7953"
            ],
            [
             0.7777777777777778,
             "#fb9f3a"
            ],
            [
             0.8888888888888888,
             "#fdca26"
            ],
            [
             1,
             "#f0f921"
            ]
           ],
           "sequentialminus": [
            [
             0,
             "#0d0887"
            ],
            [
             0.1111111111111111,
             "#46039f"
            ],
            [
             0.2222222222222222,
             "#7201a8"
            ],
            [
             0.3333333333333333,
             "#9c179e"
            ],
            [
             0.4444444444444444,
             "#bd3786"
            ],
            [
             0.5555555555555556,
             "#d8576b"
            ],
            [
             0.6666666666666666,
             "#ed7953"
            ],
            [
             0.7777777777777778,
             "#fb9f3a"
            ],
            [
             0.8888888888888888,
             "#fdca26"
            ],
            [
             1,
             "#f0f921"
            ]
           ]
          },
          "colorway": [
           "#636efa",
           "#EF553B",
           "#00cc96",
           "#ab63fa",
           "#FFA15A",
           "#19d3f3",
           "#FF6692",
           "#B6E880",
           "#FF97FF",
           "#FECB52"
          ],
          "font": {
           "color": "#2a3f5f"
          },
          "geo": {
           "bgcolor": "white",
           "lakecolor": "white",
           "landcolor": "#E5ECF6",
           "showlakes": true,
           "showland": true,
           "subunitcolor": "white"
          },
          "hoverlabel": {
           "align": "left"
          },
          "hovermode": "closest",
          "mapbox": {
           "style": "light"
          },
          "paper_bgcolor": "white",
          "plot_bgcolor": "#E5ECF6",
          "polar": {
           "angularaxis": {
            "gridcolor": "white",
            "linecolor": "white",
            "ticks": ""
           },
           "bgcolor": "#E5ECF6",
           "radialaxis": {
            "gridcolor": "white",
            "linecolor": "white",
            "ticks": ""
           }
          },
          "scene": {
           "xaxis": {
            "backgroundcolor": "#E5ECF6",
            "gridcolor": "white",
            "gridwidth": 2,
            "linecolor": "white",
            "showbackground": true,
            "ticks": "",
            "zerolinecolor": "white"
           },
           "yaxis": {
            "backgroundcolor": "#E5ECF6",
            "gridcolor": "white",
            "gridwidth": 2,
            "linecolor": "white",
            "showbackground": true,
            "ticks": "",
            "zerolinecolor": "white"
           },
           "zaxis": {
            "backgroundcolor": "#E5ECF6",
            "gridcolor": "white",
            "gridwidth": 2,
            "linecolor": "white",
            "showbackground": true,
            "ticks": "",
            "zerolinecolor": "white"
           }
          },
          "shapedefaults": {
           "line": {
            "color": "#2a3f5f"
           }
          },
          "ternary": {
           "aaxis": {
            "gridcolor": "white",
            "linecolor": "white",
            "ticks": ""
           },
           "baxis": {
            "gridcolor": "white",
            "linecolor": "white",
            "ticks": ""
           },
           "bgcolor": "#E5ECF6",
           "caxis": {
            "gridcolor": "white",
            "linecolor": "white",
            "ticks": ""
           }
          },
          "title": {
           "x": 0.05
          },
          "xaxis": {
           "automargin": true,
           "gridcolor": "white",
           "linecolor": "white",
           "ticks": "",
           "title": {
            "standoff": 15
           },
           "zerolinecolor": "white",
           "zerolinewidth": 2
          },
          "yaxis": {
           "automargin": true,
           "gridcolor": "white",
           "linecolor": "white",
           "ticks": "",
           "title": {
            "standoff": 15
           },
           "zerolinecolor": "white",
           "zerolinewidth": 2
          }
         }
        },
        "title": {
         "text": "t-SNE (wav2vec2)"
        },
        "xaxis": {
         "anchor": "y",
         "domain": [
          0,
          1
         ],
         "title": {
          "text": "x"
         }
        },
        "yaxis": {
         "anchor": "x",
         "domain": [
          0,
          1
         ],
         "title": {
          "text": "y"
         }
        }
       }
      }
     },
     "metadata": {},
     "output_type": "display_data"
    }
   ],
   "source": [
    "# 🧠 Visualização t-SNE com validação\n",
    "modelo_tsne = 'wav2vec2'\n",
    "subset = df[df['modelo'] == modelo_tsne]\n",
    "if len(subset) >= 2:\n",
    "    try:\n",
    "        emb = np.stack(subset['embedding'].values)\n",
    "        tsne = TSNE(n_components=2, random_state=42, perplexity=min(30, len(emb)-1))\n",
    "        emb_2d = tsne.fit_transform(emb)\n",
    "        fig = px.scatter(x=emb_2d[:,0], y=emb_2d[:,1], text=subset['ficheiro'], title=f't-SNE ({modelo_tsne})')\n",
    "        fig.show()\n",
    "    except Exception as e:\n",
    "        print(f'Erro no t-SNE: {e}')\n",
    "else:\n",
    "    print('Dados insuficientes para gerar t-SNE.')"
   ]
  },
  {
   "cell_type": "markdown",
   "metadata": {},
   "source": [
    "### PROCURA REAL OU ADHOC NA BASE DE DADOS MILVUS... VAMOS USAR SEMPRE A BASE DE DADOS COM MAIS DADOS INSERIDOS... "
   ]
  },
  {
   "cell_type": "markdown",
   "metadata": {},
   "source": [
    "AD HOC SEARCH\n",
    "\n",
    "\n",
    "-TODO FIX ADHOC SEARCH WITH YAMMET AND VGGISH"
   ]
  },
  {
   "cell_type": "code",
   "execution_count": 18,
   "metadata": {},
   "outputs": [
    {
     "data": {
      "application/vnd.jupyter.widget-view+json": {
       "model_id": "9ac7b5a72f034f659fc9e0e38cd82ded",
       "version_major": 2,
       "version_minor": 0
      },
      "text/plain": [
       "VBox(children=(HBox(children=(Dropdown(description='Modelo', options=('wav2vec2', 'clap', 'ast', 'vggish', 'ya…"
      ]
     },
     "metadata": {},
     "output_type": "display_data"
    }
   ],
   "source": [
    "# 📤 Pesquisa Ad-hoc (Upload ou Ficheiro da Base de Dados) e funções auxiliares\n",
    "import tempfile\n",
    "import librosa\n",
    "import numpy as np\n",
    "import torch\n",
    "import pandas as pd\n",
    "import plotly.express as px\n",
    "import ast\n",
    "import openl3\n",
    "import io\n",
    "import os\n",
    "\n",
    "# Import transformers models\n",
    "from transformers import (\n",
    "    Wav2Vec2Processor, Wav2Vec2Model,\n",
    "    ClapProcessor, ClapModel,\n",
    "    ASTFeatureExtractor, ASTModel\n",
    ")\n",
    "\n",
    "import tensorflow as tf\n",
    "import tensorflow_hub as hub\n",
    "\n",
    "# Função para extrair embedding de um áudio\n",
    "def extract_embedding(model_name, temp_path):\n",
    "    audio, sr = librosa.load(temp_path, sr=None)\n",
    "    \n",
    "    if model_name == \"wav2vec2\":\n",
    "        processor = Wav2Vec2Processor.from_pretrained(\"facebook/wav2vec2-base-960h\")\n",
    "        model = Wav2Vec2Model.from_pretrained(\"facebook/wav2vec2-base-960h\")\n",
    "        # Resample if needed\n",
    "        if sr != 16000:\n",
    "            audio = librosa.resample(audio, orig_sr=sr, target_sr=16000)\n",
    "        inputs = processor(audio, sampling_rate=16000, return_tensors=\"pt\")\n",
    "        with torch.no_grad():\n",
    "            outputs = model(**inputs)\n",
    "        return outputs.last_hidden_state.mean(dim=1).numpy()[0]\n",
    "    \n",
    "    elif model_name == \"clap\":\n",
    "        processor = ClapProcessor.from_pretrained(\"laion/clap-htsat-unfused\")\n",
    "        model = ClapModel.from_pretrained(\"laion/clap-htsat-unfused\")\n",
    "        # Resample if needed\n",
    "        if sr != 48000:\n",
    "            audio = librosa.resample(audio, orig_sr=sr, target_sr=48000)\n",
    "        inputs = processor(audios=audio, sampling_rate=48000, return_tensors=\"pt\")\n",
    "        with torch.no_grad():\n",
    "            embeddings = model.get_audio_features(**inputs)\n",
    "        return embeddings[0].numpy()\n",
    "    \n",
    "    elif model_name == \"ast\":\n",
    "        fe = ASTFeatureExtractor.from_pretrained(\"MIT/ast-finetuned-audioset-10-10-0.4593\")\n",
    "        model = ASTModel.from_pretrained(\"MIT/ast-finetuned-audioset-10-10-0.4593\")\n",
    "        # Resample if needed\n",
    "        if sr != 16000:\n",
    "            audio = librosa.resample(audio, orig_sr=sr, target_sr=16000)\n",
    "        inputs = fe(audio, sampling_rate=16000, return_tensors=\"pt\")\n",
    "        with torch.no_grad():\n",
    "            outputs = model(**inputs)\n",
    "        return outputs.last_hidden_state.mean(dim=1).numpy()[0]\n",
    "    \n",
    "    elif model_name == \"vggish\":\n",
    "        # Mesmo código usado no Streamlit que funciona\n",
    "        import tensorflow_hub as hub\n",
    "        # Resample para 16kHz conforme exigido pelo VGGish\n",
    "        if sr != 16000:\n",
    "            audio = librosa.resample(audio, orig_sr=sr, target_sr=16000)\n",
    "        # Converter para mono se for estéreo\n",
    "        if len(audio.shape) > 1:\n",
    "            audio = np.mean(audio, axis=1)\n",
    "        # Carregar modelo e obter embedding\n",
    "        vggish_model = hub.load('https://tfhub.dev/google/vggish/1')\n",
    "        embedding = vggish_model(audio).numpy()\n",
    "        # Fazer média se tivermos múltiplos embeddings\n",
    "        if embedding.ndim > 1:\n",
    "            embedding = np.mean(embedding, axis=0)\n",
    "        return embedding\n",
    "    \n",
    "    elif model_name == \"yamnet\":\n",
    "        # Mesmo código usado no Streamlit que funciona\n",
    "        import tensorflow_hub as hub\n",
    "        import tensorflow as tf\n",
    "        # Resample para 16kHz conforme exigido pelo YAMNet\n",
    "        if sr != 16000:\n",
    "            audio = librosa.resample(audio, orig_sr=sr, target_sr=16000)\n",
    "        # Converter para tensor do TensorFlow\n",
    "        waveform = tf.convert_to_tensor(audio, dtype=tf.float32)\n",
    "        # Carregar modelo e obter embedding\n",
    "        yamnet_model = hub.load('https://tfhub.dev/google/yamnet/1')\n",
    "        scores, embeddings, spectrogram = yamnet_model(waveform)\n",
    "        # Fazer média dos embeddings se tivermos múltiplos\n",
    "        embedding = np.mean(embeddings.numpy(), axis=0)\n",
    "        return embedding\n",
    "    \n",
    "    elif model_name == \"openl3\":\n",
    "        audio = np.mean(audio, axis=1) if audio.ndim > 1 else audio\n",
    "        emb, _ = openl3.get_audio_embedding(audio, sr, content_type=\"music\", embedding_size=512)\n",
    "        return emb.mean(axis=0) if emb.ndim > 1 else emb.squeeze()\n",
    "    \n",
    "    else:\n",
    "        raise ValueError(\"Modelo não suportado\")\n",
    "\n",
    "# Função para pesquisa real a partir do banco de dados\n",
    "def real_search_from_db(df, client, modelo_milvus, collection_name, k):\n",
    "    dimensoes_modelos = {\n",
    "        \"ast\": 768, \"clap\": 512, \"yamnet\": 1024,\n",
    "        \"openl3\": 512, \"vggish\": 128, \"wav2vec\": 768, \"wav2vec2\": 768,\n",
    "    }\n",
    "    dim_esperada = dimensoes_modelos.get(modelo_milvus)\n",
    "    if not dim_esperada:\n",
    "        raise ValueError(f\"Dimensão desconhecida para modelo '{modelo_milvus}'\")\n",
    "\n",
    "    ficheiros = df[(df['modelo'] == modelo_milvus) & (df['embedding'].apply(lambda x: len(x) == dim_esperada))]['ficheiro'].tolist()\n",
    "    if not ficheiros:\n",
    "        raise ValueError(f\"Sem ficheiros com dimensão {dim_esperada} para modelo '{modelo_milvus}'\")\n",
    "\n",
    "    row_query = df[(df['modelo'] == modelo_milvus) & (df['ficheiro'] == ficheiros[0])].iloc[0]\n",
    "    embedding_query = row_query['embedding']\n",
    "\n",
    "    result = client.search(\n",
    "        collection_name=collection_name,\n",
    "        data=[embedding_query],\n",
    "        limit=k,\n",
    "        output_fields=[\"id\", \"vector\"]\n",
    "    )\n",
    "    hits = result[0] if result else []\n",
    "    res_df = pd.DataFrame([{\"id\": h.get(\"id\"), \"distance\": h.get(\"distance\")} for h in hits])\n",
    "    return res_df\n",
    "\n",
    "# Interface de usuário\n",
    "upload_widget = widgets.FileUpload(accept='.wav,.mp3,.flac,.ogg', multiple=False)\n",
    "modelo_options = [\"wav2vec2\", \"clap\", \"ast\", \"vggish\", \"yamnet\", \"openl3\"]\n",
    "modelo_widget = widgets.Dropdown(options=modelo_options, description=\"Modelo\")\n",
    "usar_ficheiro_existente = widgets.Checkbox(value=False, description=\"Usar ficheiro do dataset\")\n",
    "ficheiro_select = widgets.Dropdown(description=\"Ficheiro\", options=[])\n",
    "\n",
    "# Widget para seleção de coleção\n",
    "collection_widget = widgets.Dropdown(description=\"Coleção\", options=[])\n",
    "usar_colecao_padrao = widgets.Checkbox(value=True, description=\"Usar coleção padrão\")\n",
    "\n",
    "output = widgets.Output()\n",
    "\n",
    "# Função para atualizar opções de coleção\n",
    "def update_collection_options(*args):\n",
    "    try:\n",
    "        collections = client.list_collections() if client else []\n",
    "        if collections:\n",
    "            collection_widget.options = collections\n",
    "    except Exception as e:\n",
    "        with output:\n",
    "            print(f\"Erro ao atualizar coleções: {e}\")\n",
    "\n",
    "# Função para atualizar opções de arquivo\n",
    "def update_file_options(*args):\n",
    "    if usar_ficheiro_existente.value:\n",
    "        ficheiro_select.options = df[df['modelo'] == modelo_widget.value]['ficheiro'].tolist()\n",
    "        ficheiro_select.layout.display = 'block'\n",
    "    else:\n",
    "        ficheiro_select.layout.display = 'none'\n",
    "        # Exibe aviso para VGGish e YAMNet quando esses modelos são selecionados\n",
    "        modelo_atual = modelo_widget.value\n",
    "\n",
    "# Função para atualizar visibilidade do seletor de coleção\n",
    "def update_collection_visibility(*args):\n",
    "    if usar_colecao_padrao.value:\n",
    "        collection_widget.layout.display = 'none'\n",
    "    else:\n",
    "        collection_widget.layout.display = 'block'\n",
    "        # Atualize as opções quando o widget ficar visível\n",
    "        update_collection_options()\n",
    "\n",
    "def perform_search(b):\n",
    "    with output:\n",
    "        output.clear_output()\n",
    "        try:\n",
    "            if usar_ficheiro_existente.value:\n",
    "                if not ficheiro_select.value:\n",
    "                    print(\"Por favor, selecione um ficheiro do dataset.\")\n",
    "                    return\n",
    "                    \n",
    "                # Usar ficheiro do dataset\n",
    "                row = df[(df['modelo'] == modelo_widget.value) & (df['ficheiro'] == ficheiro_select.value)].iloc[0]\n",
    "                embedding = np.array(row['embedding'])\n",
    "                print(f\"Usando embedding do ficheiro: {ficheiro_select.value}\")\n",
    "            \n",
    "            else:\n",
    "                # Este bloco estava dentro do if anterior, corrigindo a indentação\n",
    "                if not upload_widget.value:\n",
    "                    print(\"Por favor, carregue um ficheiro de áudio.\")\n",
    "                    return\n",
    "                \n",
    "                # Usar ficheiro carregado\n",
    "                file_content = upload_widget.value[0]['content']\n",
    "                file_bytes = io.BytesIO(file_content)\n",
    "                file_name = upload_widget.value[0]['name']\n",
    "                \n",
    "                with tempfile.NamedTemporaryFile(delete=False, suffix=f\"_{file_name}\") as f:\n",
    "                    f.write(file_bytes.read())\n",
    "                    temp_path = f.name\n",
    "                \n",
    "                print(f\"Extraindo embedding com modelo {modelo_widget.value}...\")\n",
    "                embedding = extract_embedding(modelo_widget.value, temp_path)\n",
    "                os.unlink(temp_path)  # Remove o arquivo temporário\n",
    "            \n",
    "            # Determinar qual coleção usar\n",
    "            if usar_colecao_padrao.value:\n",
    "                collection_name = f\"audio_{modelo_widget.value}\"\n",
    "            else:\n",
    "                collection_name = collection_widget.value\n",
    "                if not collection_name:\n",
    "                    print(\"Por favor, selecione uma coleção.\")\n",
    "                    return\n",
    "            \n",
    "            # Verificar se a coleção existe\n",
    "            if collection_name not in client.list_collections():\n",
    "                print(f\"Coleção {collection_name} não existe no Milvus!\")\n",
    "                return\n",
    "                \n",
    "            print(f\"Pesquisando na coleção {collection_name}...\")\n",
    "            result = client.search(\n",
    "                collection_name=collection_name,\n",
    "                data=[embedding.tolist()],\n",
    "                limit=5,\n",
    "                output_fields=['id', 'vector']\n",
    "            )\n",
    "            \n",
    "            hits = result[0] if result else []\n",
    "            if not hits:\n",
    "                print(\"Nenhum resultado encontrado.\")\n",
    "                return\n",
    "                \n",
    "            df_res = pd.DataFrame([{'id': h.get('id'), 'distance': h.get('distance')} for h in hits])\n",
    "            display(df_res)\n",
    "            \n",
    "            # Visualização dos resultados\n",
    "            fig = px.bar(df_res, x='id', y='distance', title=f'Resultados da Pesquisa - Coleção: {collection_name}')\n",
    "            fig.show()\n",
    "            \n",
    "        except NotImplementedError as e:\n",
    "            print(f\"⚠️ {str(e)}\")\n",
    "        except Exception as e:\n",
    "            import traceback\n",
    "            print(f\"Erro ao processar ou pesquisar: {str(e)}\")\n",
    "            traceback.print_exc()\n",
    "\n",
    "# Configuração da interface\n",
    "search_button = widgets.Button(description=\"Pesquisar\")\n",
    "search_button.on_click(perform_search)\n",
    "usar_ficheiro_existente.observe(update_file_options, names='value')\n",
    "modelo_widget.observe(update_file_options, names='value')\n",
    "usar_colecao_padrao.observe(update_collection_visibility, names='value')\n",
    "\n",
    "# Inicializar visibilidade\n",
    "ficheiro_select.layout.display = 'none'\n",
    "collection_widget.layout.display = 'none'  # Esconde o seletor de coleção inicialmente\n",
    "\n",
    "# Atualizar coleções disponíveis no início\n",
    "update_collection_options()\n",
    "\n",
    "# Exibir widgets\n",
    "display(widgets.VBox([\n",
    "    widgets.HBox([modelo_widget, usar_ficheiro_existente]),\n",
    "    widgets.HBox([usar_colecao_padrao, collection_widget]),\n",
    "    upload_widget,\n",
    "    ficheiro_select,\n",
    "    search_button,\n",
    "    output\n",
    "]))\n",
    "\n",
    "# Inicializar opções de ficheiros\n",
    "update_file_options()"
   ]
  }
 ],
 "metadata": {
  "kernelspec": {
   "display_name": "logica",
   "language": "python",
   "name": "python3"
  },
  "language_info": {
   "codemirror_mode": {
    "name": "ipython",
    "version": 3
   },
   "file_extension": ".py",
   "mimetype": "text/x-python",
   "name": "python",
   "nbconvert_exporter": "python",
   "pygments_lexer": "ipython3",
   "version": "3.10.15"
  }
 },
 "nbformat": 4,
 "nbformat_minor": 2
}
