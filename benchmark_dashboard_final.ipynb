{
 "cells": [
  {
   "cell_type": "markdown",
   "metadata": {},
   "source": [
    "# Relatório de Avaliação de Modelos para Armazenamento de Áudio em Bases de Dados Vetoriais (Milvus)\n",
    "\n",
    "### Objetivo do Projeto\n",
    "\n",
    "Este relatório tem como objetivo apresentar uma avaliação comparativa (benchmark) de diferentes modelos de processamento de áudio para armazenamento em bases de dados vetoriais, utilizando a tecnologia Milvus. Ao longo do notebook interativo, são analisados os desempenhos dos distintos modelos e embeddings, com o intuito de identificar qual abordagem oferece melhores resultados para o nosso caso de uso. No final do processo, será possível selecionar o modelo ou embedding mais adequado com base em critérios de eficiência, fidelidade e compatibilidade com a estrutura vetorial da base de dados.\n",
    "\n"
   ]
  },
  {
   "cell_type": "markdown",
   "metadata": {},
   "source": [
    "## Introdução\n",
    "\n",
    "### Introdução\n",
    "\n",
    "O presente trabalho tem como objetivo principal a realização de um benchmark de diferentes modelos de extração de embeddings a partir de ficheiros de áudio, com vista à sua posterior indexação e recuperação eficiente em bases de dados vetoriais, utilizando a plataforma Milvus.\n",
    "\n",
    "Para isso, foi construído um pipeline modular e interativo, implementado em ambiente Jupyter Notebook, que permite:\n",
    "\n",
    "- A leitura e pré-processamento de ficheiros de áudio;\n",
    "- A extração de embeddings através de diferentes modelos de deep learning.\n",
    "- A visualização e análise exploratória dos embeddings gerados utilizando técnicas como **t-SNE**;\n",
    "- O armazenamento e recuperação vetorial através da base de dados **Milvus**, com suporte à consulta por similaridade;\n",
    "- A apresentação dos resultados através de um **dashboard interativo**, facilitando a comparação visual e quantitativa entre diferentes abordagens.\n",
    "\n",
    "O objetivo final é determinar qual dos modelos testados oferece a melhor performance em termos de coerência semântica dos embeddings, velocidade de processamento, compressão e desempenho na recuperação de ficheiros semelhantes. Esta análise permitirá selecionar a arquitetura mais adequada às necessidades específicas do projeto, garantindo eficiência na representação vetorial de áudio.\n",
    "\n"
   ]
  },
  {
   "cell_type": "markdown",
   "metadata": {},
   "source": [
    "## Falar o que fizemos para fazer o benchmark\n",
    "\n",
    "## Metodologia do Benchmark\n",
    "\n",
    "Para realizar o benchmark entre diferentes modelos de extração de embeddings de áudio, foi seguido um processo estruturado composto pelas seguintes etapas:\n",
    "\n",
    "1. **Pré-processamento dos Ficheiros de Áudio**  \n",
    "   Os ficheiros de áudio foram carregados e convertidos para um formato padronizado  para garantir compatibilidade com os modelos utilizados.\n",
    "\n",
    "2. **Extração de Embeddings com Múltiplos Modelos**  \n",
    "   Foram utilizados diferentes modelos baseados na arquitetura **Wav2Vec2** (da Hugging Face) para gerar embeddings representativos do conteúdo dos áudios. Cada modelo processou os mesmos ficheiros, permitindo uma comparação justa.\n",
    "\n",
    "3. **Visualização com Redução de Dimensionalidade**  \n",
    "   Para análise qualitativa dos embeddings, aplicámos o algoritmo **t-SNE** de redução de dimensionalidade. Com isto, foi possível projetar os embeddings para um espaço bidimensional, facilitando a inspeção visual de agrupamentos e dispersões.\n",
    "\n",
    "4. **Indexação Vetorial com Milvus**  \n",
    "   Os embeddings gerados por cada modelo foram armazenados numa instância da base de dados vetorial **Milvus**, que permite consultas por similaridade (busca de áudios semelhantes).\n",
    "\n",
    "5. **Dashboard Interativo de Avaliação**  \n",
    "   Foi desenvolvido um dashboard em Jupyter Notebook para comparar os diferentes modelos, com base em métricas de desempenho e visualizações interativas dos clusters gerados. O dashboard permite ao utilizador filtrar modelos, inspecionar os embeddings, ouvir os áudios associados e observar o comportamento da busca vetorial.\n",
    "\n",
    "Este fluxo de trabalho permitiu uma comparação clara, interativa e reprodutível entre os diferentes modelos de embeddings, facilitando a escolha da abordagem mais eficaz para tarefas de recuperação de áudio baseada em conteúdo.\n"
   ]
  },
  {
   "cell_type": "markdown",
   "metadata": {},
   "source": [
    "## Fases do Projeto\n",
    "\n",
    "O desenvolvimento deste projeto foi dividido em várias fases, permitindo uma abordagem organizada e iterativa no processo de benchmark de modelos de áudio. As etapas principais foram as seguintes:\n",
    "\n",
    "1. **Definição do Objetivo e Seleção de Ferramentas**  \n",
    "   Começou-se por definir o objetivo do projeto: comparar diferentes modelos de extração de embeddings de áudio para armazenamento e consulta em bases de dados vetoriais. Foram selecionadas ferramentas como Python, Jupyter Notebook, `librosa`, `transformers`, `Milvus`, `scikit-learn`, `plotly`, entre outras.\n",
    "\n",
    "2. **Aquisição e Pré-processamento de Áudio**  \n",
    "   Foram utilizados ficheiros de áudio de diferentes categorias. Os ficheiros foram normalizados para formato mono com taxa de amostragem de 16 kHz, assegurando a uniformidade dos dados para entrada nos modelos.\n",
    "\n",
    "3. **Implementação de Vários Modelos de Embeddings de Áudio**  \n",
    "   Foram testados diversos modelos de extração de embeddings, incluindo arquiteturas baseadas em **Wav2Vec2**, **Hubert**, **Whisper** e outras alternativas disponíveis na biblioteca `transformers` e fontes externas. Cada modelo foi utilizado para gerar representações vetoriais a partir dos mesmos áudios.\n",
    "\n",
    "4. **Indexação em Base de Dados Vetorial (Milvus)**  \n",
    "   Os embeddings obtidos foram armazenados e indexados numa instância do **Milvus**, permitindo a realização de buscas por similaridade entre vetores de áudio.\n",
    "\n",
    "5. **Visualização com Redução de Dimensionalidade**  \n",
    "   Foi aplicada a técnica **t-SNE** para reduzir a dimensionalidade dos embeddings, permitindo visualizar a distribuição e agrupamento dos áudios num espaço bidimensional.\n",
    "\n",
    "6. **Desenvolvimento de um Dashboard Interativo**  \n",
    "   Criou-se um dashboard interativo em Jupyter com `plotly`, `ipywidgets` e outros recursos, permitindo a comparação visual dos modelos, escuta dos áudios originais e exploração dos resultados de forma dinâmica.\n",
    "\n",
    "7. **Avaliação e Conclusão**  \n",
    "   Por fim, foram analisadas as características de cada modelo — como separabilidade dos embeddings, fidelidade, robustez e comportamento na busca por similaridade — com o objetivo de identificar a solução mais adequada ao contexto do projeto.\n",
    "\n"
   ]
  },
  {
   "cell_type": "markdown",
   "metadata": {},
   "source": [
    "## Porque o Milvus?\n",
    "\n",
    "A escolha do **Milvus** como base de dados vetorial para este projeto foi motivada por várias razões técnicas e práticas que o tornam particularmente adequado para aplicações que envolvem pesquisa por similaridade em grandes volumes de dados não estruturados, como áudio.\n",
    "\n",
    "As principais razões para a sua escolha foram:\n",
    "\n",
    "- **Desempenho e Escalabilidade**  \n",
    "  O Milvus é otimizado para buscas vetoriais de alta performance, suportando milhões (ou até bilhões) de vetores com tempos de resposta muito baixos, graças à sua integração com mecanismos de indexação como IVF, HNSW e PQ.\n",
    "\n",
    "- **Compatibilidade com Workflows de Machine Learning**  \n",
    "  Possui uma API moderna e integração nativa com ferramentas amplamente usadas em ciência de dados e IA, como `PyMilvus`, `FAISS` e `Docker`, o que facilita a sua incorporação em pipelines de machine learning.\n",
    "\n",
    "- **Suporte a Vários Tipos de Dados**  \n",
    "  Embora este projeto se foque em áudio, o Milvus permite o armazenamento vetorial de outros tipos de dados não estruturados, como imagens, vídeos e texto, o que abre possibilidades futuras de expansão multimodal.\n",
    "\n",
    "- **Interface Flexível e Documentação Completa**  \n",
    "  A API do Milvus é bem documentada, com suporte a gRPC, REST e bibliotecas Python, o que simplifica o desenvolvimento e a integração em notebooks interativos como o utilizado neste projeto.\n",
    "\n",
    "- **Open Source e Ativamente Mantido**  \n",
    "  O projeto Milvus é open-source e possui uma comunidade ativa, garantindo constante evolução da plataforma e liberdade tecnológica para adaptar soluções a diferentes casos de uso.\n",
    "\n",
    "Em resumo, o Milvus foi escolhido por ser uma solução robusta, escalável e eficiente para realizar indexação e busca por similaridade em vetores de embeddings, representando uma escolha sólida para este tipo de benchmark com dados de áudio.\n"
   ]
  },
  {
   "cell_type": "markdown",
   "metadata": {},
   "source": [
    "### Embeddings Escolhidos\n",
    "\n",
    "Para este benchmark foram selecionados diferentes modelos de extração de embeddings de áudio, com arquiteturas e características distintas. A diversidade dos modelos permite avaliar diferentes formas de representação vetorial do áudio, desde características perceptivas até representações semânticas mais abstratas.\n",
    "\n",
    "Os modelos utilizados foram os seguintes:\n",
    "\n",
    "- **Wav2Vec2** (768 dimensões)  \n",
    "  Um modelo auto-supervisionado da Meta AI, treinado para representação de fala. É particularmente eficaz em tarefas relacionadas com transcrição e compreensão semântica do conteúdo vocal.\n",
    "\n",
    "- **VGGish** (128 dimensões)  \n",
    "  Um modelo inspirado na arquitetura VGG da área de visão computacional, adaptado ao domínio áudio. Foi treinado com dados do YouTube-8M, sendo adequado para tarefas de classificação sonora geral.\n",
    "\n",
    "- **OpenL3** (512 dimensões)  \n",
    "  Baseado em embeddings aprendidos de forma multimodal (áudio + vídeo), o OpenL3 captura representações semânticas e perceptivas, mostrando-se eficaz em várias tarefas, como identificação de sons ambientais e música.\n",
    "\n",
    "- **YAMNet** (1024 dimensões)  \n",
    "  Modelo baseado em MobileNetV1, treinado no AudioSet da Google. Produz embeddings de alta dimensionalidade que capturam informações de classificação sonora com elevado detalhe.\n",
    "\n",
    "- **CLAP** (512 dimensões)  \n",
    "  Contrastive Language-Audio Pretraining — um modelo semelhante ao CLIP, mas treinado para alinhar texto e áudio. Permite gerar embeddings compatíveis com descrições textuais, útil para tarefas multimodais e de recuperação baseada em linguagem.\n",
    "\n",
    "- **AST (Audio Spectrogram Transformer)** (768 dimensões)  \n",
    "  Modelo baseado em transformadores aplicado diretamente sobre espectrogramas de áudio. Alcança desempenho de topo em benchmarks como ESC-50 e AudioSet, com uma arquitetura inspirada no Vision Transformer (ViT).\n",
    "\n",
    "Cada modelo foi integrado no pipeline de forma modular, permitindo a extração dos embeddings diretamente a partir dos ficheiros de áudio. A escolha destes modelos visa abranger diferentes estratégias de representação vetorial, de forma a identificar qual delas é mais eficiente e semanticamente útil para armazenamento e recuperação vetorial com Milvus.\n"
   ]
  },
  {
   "cell_type": "markdown",
   "metadata": {},
   "source": [
    "### Script de Benchmark\n",
    "\n",
    "O script `audio_benchmark.py` foi desenvolvido como núcleo do processo de avaliação dos modelos de embeddings de áudio. Ele implementa um pipeline completo e automatizado para extração de embeddings, medição de desempenho, indexação vetorial e análise dos resultados. A arquitetura modular e robusta do script garante flexibilidade, reprodutibilidade e resiliência em diferentes ambientes de execução.\n",
    "\n",
    "#### 1. Importações e Carregamento Inteligente de Modelos\n",
    "\n",
    "O carregamento dos modelos ocorre uma única vez no início do script, minimizando o uso de recursos e evitando redundância. Foram usados modelos diversos, com diferentes origens (Hugging Face e TensorFlow Hub), e foram incluídos mecanismos de fallback (como modelos \"dummy\") para garantir a continuidade do processamento mesmo em caso de falhas.\n",
    "\n",
    "#### 2. Extração de Embeddings\n",
    "\n",
    "Cada modelo conta com a sua própria função de extração, adaptada à sua interface específica e requisitos (ex: taxa de amostragem). As funções são projetadas para retornar embeddings de dimensão fixa, padronizados para indexação.\n",
    "\n",
    "#### 3. Benchmarking e Medição de Recursos\n",
    "\n",
    "A função `benchmark_embeddings(...)` executa todo o ciclo de benchmarking:\n",
    "- Carrega e normaliza os ficheiros de áudio;\n",
    "- Extrai embeddings com vários modelos;\n",
    "- Mede tempo de extração, inserção, uso de CPU, RAM, GPU e memória máxima (com `tracemalloc`);\n",
    "- Insere os dados na base de dados vetorial **Milvus**, com metadados como duração, autores, sample rate, etc.\n",
    "\n",
    "Todos os resultados são armazenados numa estrutura de `DataFrame`, depois exportada como `.csv`.\n",
    "\n",
    "#### 4. Análise e Visualização\n",
    "\n",
    "A função `analisar_resultados(...)` gera gráficos estatísticos e visuais de comparação entre os modelos, incluindo:\n",
    "- Tempos médios de extração e inserção;\n",
    "- Uso de memória;\n",
    "- Correlações entre duração/tamanho dos ficheiros e tempo de processamento;\n",
    "- Evolução de recursos (CPU, RAM, GPU);\n",
    "- Boxplots e scatterplots tridimensionais.\n",
    "\n",
    "Os gráficos são automaticamente guardados numa pasta específica para o benchmark, garantindo documentação completa e organizada.\n",
    "\n",
    "#### 5. Benchmark de Pesquisa Vetorial\n",
    "\n",
    "A função `testar_pesquisas(...)` permite avaliar a qualidade prática dos embeddings, realizando buscas por similaridade diretamente no Milvus. São recuperados os resultados com maior score de semelhança e é gerado um gráfico comparativo por modelo.\n",
    "\n",
    "#### 6. Automação e Organização\n",
    "\n",
    "Além da lógica principal, o script oferece uma série de funcionalidades auxiliares que reforçam a qualidade técnica do projeto:\n",
    "\n",
    "- **Criação automática de diretórios** para guardar os resultados de cada benchmark;\n",
    "- **Geração de ficheiros `.csv`** com os dados brutos do benchmarking;\n",
    "- **Logging estruturado** (`benchmark.log`) com mensagens detalhadas sobre o estado de execução, falhas, tempos e recursos utilizados.\n",
    "\n",
    "#### 7. Destaques Técnicos do Script\n",
    "\n",
    "- **Resiliência**: Mesmo que um modelo falhe ao carregar, o script continua com alternativas seguras (`dummy models`);\n",
    "- **Reprodutibilidade**: Todas as métricas e resultados são guardados em diretórios organizados, permitindo comparar diferentes execuções;\n",
    "- **Extensibilidade**: É simples adicionar novos modelos ou alterar parâmetros sem comprometer a estrutura;\n",
    "- **Eficiência**: Os modelos são carregados apenas uma vez; os recursos são monitorizados de forma leve, e o uso de `tqdm` melhora a experiência de execução;\n",
    "- **Completo**: O script cobre todas as fases do benchmark — da extração à análise final, passando pela indexação e pesquisa vetorial.\n",
    "\n",
    "#### 8. Controlo do Ambiente com Docker\n",
    "\n",
    "Para garantir que todas as execuções fossem realizadas sob **condições de hardware e software idênticas**, foi criado um **container Docker dedicado**. Esta abordagem garante:\n",
    "\n",
    "- Isolamento total do ambiente de execução;\n",
    "- Reprodutibilidade absoluta dos benchmarks;\n",
    "- Neutralização de variações externas (ex: dependências, drivers, bibliotecas);\n",
    "- Facilidade de deployment em diferentes máquinas ou servidores.\n",
    "\n",
    "O container inclui todas as dependências necessárias (Python, PyTorch, TensorFlow, Milvus client, etc.) e pode ser executado com um simples comando, tornando o sistema portável e escalável.\n",
    "\n",
    "---\n",
    "\n",
    "Este script, juntamente com o ambiente Dockerizado, representa uma infraestrutura profissional para benchmarking de embeddings de áudio, e pode ser facilmente reutilizado ou adaptado para tarefas futuras envolvendo vídeo, texto, ou outras modalidades multimodais.\n"
   ]
  },
  {
   "cell_type": "markdown",
   "metadata": {},
   "source": [
    "## Análise dos Resultados\n",
    "\n",
    "Nesta secção, serão apresentados e analisados os resultados obtidos a partir do benchmark realizado com os diferentes modelos de embeddings de áudio. O objetivo é comparar o desempenho de cada modelo com base em métricas quantitativas e qualitativas, tais como:\n",
    "\n",
    "- **Tempo médio de extração dos embeddings**;\n",
    "- **Tempo médio de inserção na base de dados vetorial (Milvus)**;\n",
    "- **Pico de utilização de memória RAM durante a extração**;\n",
    "- **Correlação entre duração ou tamanho dos ficheiros e o tempo de processamento**;\n",
    "- **Eficiência da pesquisa vetorial (score dos resultados de similaridade)**;\n",
    "- **Evolução do uso de CPU, RAM e GPU ao longo do processamento**.\n",
    "\n",
    "Serão também apresentados gráficos e visualizações interativas (scatterplots, boxplots, barras, 3D), permitindo observar tendências, outliers e padrões de comportamento entre os diferentes modelos.\n",
    "\n",
    "O objetivo desta análise é identificar quais modelos apresentam melhor equilíbrio entre desempenho computacional e qualidade dos embeddings, ajudando a fundamentar a escolha do modelo mais adequado ao nosso caso de uso.\n",
    "\n"
   ]
  },
  {
   "cell_type": "markdown",
   "metadata": {},
   "source": [
    "## Instalação de Dependências e Configuração do Ambiente\n",
    "\n",
    "Para executar o notebook ou o script de benchmark, é necessário instalar as dependências listadas no ficheiro `requirements_jupyter.txt`. Para isso, basta utilizar o seguinte comando:\n",
    "\n",
    "```bash\n",
    "pip install -r requirements_jupyter.txt\n"
   ]
  },
  {
   "cell_type": "code",
   "execution_count": 1,
   "metadata": {},
   "outputs": [
    {
     "name": "stdout",
     "output_type": "stream",
     "text": [
      "Requirement already satisfied: pandas>=1.3.0 in /opt/anaconda3/envs/logica/lib/python3.10/site-packages (from -r requirements_jupyter.txt (line 2)) (2.2.3)\n",
      "Requirement already satisfied: numpy>=1.20.0 in /opt/anaconda3/envs/logica/lib/python3.10/site-packages (from -r requirements_jupyter.txt (line 3)) (2.1.2)\n",
      "Requirement already satisfied: matplotlib>=3.4.0 in /opt/anaconda3/envs/logica/lib/python3.10/site-packages (from -r requirements_jupyter.txt (line 6)) (3.9.2)\n",
      "Requirement already satisfied: seaborn>=0.11.0 in /opt/anaconda3/envs/logica/lib/python3.10/site-packages (from -r requirements_jupyter.txt (line 7)) (0.13.2)\n",
      "Requirement already satisfied: plotly>=5.3.0 in /opt/anaconda3/envs/logica/lib/python3.10/site-packages (from -r requirements_jupyter.txt (line 8)) (6.0.1)\n",
      "Requirement already satisfied: ipywidgets>=7.6.0 in /opt/anaconda3/envs/logica/lib/python3.10/site-packages (from -r requirements_jupyter.txt (line 9)) (8.1.2)\n",
      "Requirement already satisfied: scikit-learn>=1.0.0 in /opt/anaconda3/envs/logica/lib/python3.10/site-packages (from -r requirements_jupyter.txt (line 12)) (1.6.1)\n",
      "Requirement already satisfied: librosa>=0.8.0 in /opt/anaconda3/envs/logica/lib/python3.10/site-packages (from -r requirements_jupyter.txt (line 15)) (0.11.0)\n",
      "Requirement already satisfied: soundfile>=0.10.0 in /opt/anaconda3/envs/logica/lib/python3.10/site-packages (from -r requirements_jupyter.txt (line 16)) (0.13.1)\n",
      "Requirement already satisfied: openl3>=0.4.0 in /opt/anaconda3/envs/logica/lib/python3.10/site-packages (from -r requirements_jupyter.txt (line 17)) (0.4.2)\n",
      "Requirement already satisfied: pymilvus>=2.0.0 in /opt/anaconda3/envs/logica/lib/python3.10/site-packages (from -r requirements_jupyter.txt (line 20)) (2.5.6)\n",
      "Requirement already satisfied: torch>=1.9.0 in /opt/anaconda3/envs/logica/lib/python3.10/site-packages (from -r requirements_jupyter.txt (line 23)) (2.6.0)\n",
      "Requirement already satisfied: tensorflow>=2.6.0 in /opt/anaconda3/envs/logica/lib/python3.10/site-packages (from -r requirements_jupyter.txt (line 24)) (2.19.0)\n",
      "Requirement already satisfied: tensorflow-hub>=0.12.0 in /opt/anaconda3/envs/logica/lib/python3.10/site-packages (from -r requirements_jupyter.txt (line 25)) (0.16.1)\n",
      "Requirement already satisfied: transformers>=4.15.0 in /opt/anaconda3/envs/logica/lib/python3.10/site-packages (from -r requirements_jupyter.txt (line 28)) (4.50.3)\n",
      "Requirement already satisfied: ipython>=7.0.0 in /opt/anaconda3/envs/logica/lib/python3.10/site-packages (from -r requirements_jupyter.txt (line 31)) (8.27.0)\n",
      "Requirement already satisfied: notebook>=6.4.0 in /opt/anaconda3/envs/logica/lib/python3.10/site-packages (from -r requirements_jupyter.txt (line 32)) (7.2.2)\n",
      "Requirement already satisfied: python-dotenv>=0.19.0 in /opt/anaconda3/envs/logica/lib/python3.10/site-packages (from -r requirements_jupyter.txt (line 35)) (1.1.0)\n",
      "Requirement already satisfied: python-dateutil>=2.8.2 in /opt/anaconda3/envs/logica/lib/python3.10/site-packages (from pandas>=1.3.0->-r requirements_jupyter.txt (line 2)) (2.9.0.post0)\n",
      "Requirement already satisfied: pytz>=2020.1 in /opt/anaconda3/envs/logica/lib/python3.10/site-packages (from pandas>=1.3.0->-r requirements_jupyter.txt (line 2)) (2024.1)\n",
      "Requirement already satisfied: tzdata>=2022.7 in /opt/anaconda3/envs/logica/lib/python3.10/site-packages (from pandas>=1.3.0->-r requirements_jupyter.txt (line 2)) (2024.2)\n",
      "Requirement already satisfied: contourpy>=1.0.1 in /opt/anaconda3/envs/logica/lib/python3.10/site-packages (from matplotlib>=3.4.0->-r requirements_jupyter.txt (line 6)) (1.3.0)\n",
      "Requirement already satisfied: cycler>=0.10 in /opt/anaconda3/envs/logica/lib/python3.10/site-packages (from matplotlib>=3.4.0->-r requirements_jupyter.txt (line 6)) (0.12.1)\n",
      "Requirement already satisfied: fonttools>=4.22.0 in /opt/anaconda3/envs/logica/lib/python3.10/site-packages (from matplotlib>=3.4.0->-r requirements_jupyter.txt (line 6)) (4.54.1)\n",
      "Requirement already satisfied: kiwisolver>=1.3.1 in /opt/anaconda3/envs/logica/lib/python3.10/site-packages (from matplotlib>=3.4.0->-r requirements_jupyter.txt (line 6)) (1.4.7)\n",
      "Requirement already satisfied: packaging>=20.0 in /opt/anaconda3/envs/logica/lib/python3.10/site-packages (from matplotlib>=3.4.0->-r requirements_jupyter.txt (line 6)) (24.1)\n",
      "Requirement already satisfied: pillow>=8 in /opt/anaconda3/envs/logica/lib/python3.10/site-packages (from matplotlib>=3.4.0->-r requirements_jupyter.txt (line 6)) (10.4.0)\n",
      "Requirement already satisfied: pyparsing>=2.3.1 in /opt/anaconda3/envs/logica/lib/python3.10/site-packages (from matplotlib>=3.4.0->-r requirements_jupyter.txt (line 6)) (3.2.0)\n",
      "Requirement already satisfied: narwhals>=1.15.1 in /opt/anaconda3/envs/logica/lib/python3.10/site-packages (from plotly>=5.3.0->-r requirements_jupyter.txt (line 8)) (1.37.1)\n",
      "Requirement already satisfied: comm>=0.1.3 in /opt/anaconda3/envs/logica/lib/python3.10/site-packages (from ipywidgets>=7.6.0->-r requirements_jupyter.txt (line 9)) (0.2.1)\n",
      "Requirement already satisfied: traitlets>=4.3.1 in /opt/anaconda3/envs/logica/lib/python3.10/site-packages (from ipywidgets>=7.6.0->-r requirements_jupyter.txt (line 9)) (5.14.3)\n",
      "Requirement already satisfied: widgetsnbextension~=4.0.10 in /opt/anaconda3/envs/logica/lib/python3.10/site-packages (from ipywidgets>=7.6.0->-r requirements_jupyter.txt (line 9)) (4.0.10)\n",
      "Requirement already satisfied: jupyterlab-widgets~=3.0.10 in /opt/anaconda3/envs/logica/lib/python3.10/site-packages (from ipywidgets>=7.6.0->-r requirements_jupyter.txt (line 9)) (3.0.10)\n",
      "Requirement already satisfied: scipy>=1.6.0 in /opt/anaconda3/envs/logica/lib/python3.10/site-packages (from scikit-learn>=1.0.0->-r requirements_jupyter.txt (line 12)) (1.15.2)\n",
      "Requirement already satisfied: joblib>=1.2.0 in /opt/anaconda3/envs/logica/lib/python3.10/site-packages (from scikit-learn>=1.0.0->-r requirements_jupyter.txt (line 12)) (1.4.2)\n",
      "Requirement already satisfied: threadpoolctl>=3.1.0 in /opt/anaconda3/envs/logica/lib/python3.10/site-packages (from scikit-learn>=1.0.0->-r requirements_jupyter.txt (line 12)) (3.6.0)\n",
      "Requirement already satisfied: audioread>=2.1.9 in /opt/anaconda3/envs/logica/lib/python3.10/site-packages (from librosa>=0.8.0->-r requirements_jupyter.txt (line 15)) (3.0.1)\n",
      "Requirement already satisfied: numba>=0.51.0 in /opt/anaconda3/envs/logica/lib/python3.10/site-packages (from librosa>=0.8.0->-r requirements_jupyter.txt (line 15)) (0.61.0)\n",
      "Requirement already satisfied: decorator>=4.3.0 in /opt/anaconda3/envs/logica/lib/python3.10/site-packages (from librosa>=0.8.0->-r requirements_jupyter.txt (line 15)) (5.1.1)\n",
      "Requirement already satisfied: pooch>=1.1 in /opt/anaconda3/envs/logica/lib/python3.10/site-packages (from librosa>=0.8.0->-r requirements_jupyter.txt (line 15)) (1.8.2)\n",
      "Requirement already satisfied: soxr>=0.3.2 in /opt/anaconda3/envs/logica/lib/python3.10/site-packages (from librosa>=0.8.0->-r requirements_jupyter.txt (line 15)) (0.5.0.post1)\n",
      "Requirement already satisfied: typing_extensions>=4.1.1 in /opt/anaconda3/envs/logica/lib/python3.10/site-packages (from librosa>=0.8.0->-r requirements_jupyter.txt (line 15)) (4.13.0)\n",
      "Requirement already satisfied: lazy_loader>=0.1 in /opt/anaconda3/envs/logica/lib/python3.10/site-packages (from librosa>=0.8.0->-r requirements_jupyter.txt (line 15)) (0.4)\n",
      "Requirement already satisfied: msgpack>=1.0 in /opt/anaconda3/envs/logica/lib/python3.10/site-packages (from librosa>=0.8.0->-r requirements_jupyter.txt (line 15)) (1.1.0)\n",
      "Requirement already satisfied: cffi>=1.0 in /opt/anaconda3/envs/logica/lib/python3.10/site-packages (from soundfile>=0.10.0->-r requirements_jupyter.txt (line 16)) (1.17.1)\n",
      "Requirement already satisfied: kapre>=0.3.5 in /opt/anaconda3/envs/logica/lib/python3.10/site-packages (from openl3>=0.4.0->-r requirements_jupyter.txt (line 17)) (0.3.7)\n",
      "Requirement already satisfied: resampy<0.3.0,>=0.2.1 in /opt/anaconda3/envs/logica/lib/python3.10/site-packages (from openl3>=0.4.0->-r requirements_jupyter.txt (line 17)) (0.2.2)\n",
      "Requirement already satisfied: h5py>=2.7.0 in /opt/anaconda3/envs/logica/lib/python3.10/site-packages (from openl3>=0.4.0->-r requirements_jupyter.txt (line 17)) (3.13.0)\n",
      "Requirement already satisfied: moviepy>=1.0.0 in /opt/anaconda3/envs/logica/lib/python3.10/site-packages (from openl3>=0.4.0->-r requirements_jupyter.txt (line 17)) (2.1.2)\n",
      "Requirement already satisfied: scikit-image>=0.14.3 in /opt/anaconda3/envs/logica/lib/python3.10/site-packages (from openl3>=0.4.0->-r requirements_jupyter.txt (line 17)) (0.25.2)\n",
      "Requirement already satisfied: six>=1.3 in /opt/anaconda3/envs/logica/lib/python3.10/site-packages (from resampy<0.3.0,>=0.2.1->openl3>=0.4.0->-r requirements_jupyter.txt (line 17)) (1.16.0)\n",
      "Requirement already satisfied: setuptools>69 in /opt/anaconda3/envs/logica/lib/python3.10/site-packages (from pymilvus>=2.0.0->-r requirements_jupyter.txt (line 20)) (75.1.0)\n",
      "Requirement already satisfied: grpcio<=1.67.1,>=1.49.1 in /opt/anaconda3/envs/logica/lib/python3.10/site-packages (from pymilvus>=2.0.0->-r requirements_jupyter.txt (line 20)) (1.67.1)\n",
      "Requirement already satisfied: protobuf>=3.20.0 in /opt/anaconda3/envs/logica/lib/python3.10/site-packages (from pymilvus>=2.0.0->-r requirements_jupyter.txt (line 20)) (5.26.1)\n",
      "Requirement already satisfied: ujson>=2.0.0 in /opt/anaconda3/envs/logica/lib/python3.10/site-packages (from pymilvus>=2.0.0->-r requirements_jupyter.txt (line 20)) (5.10.0)\n",
      "Requirement already satisfied: milvus-lite>=2.4.0 in /opt/anaconda3/envs/logica/lib/python3.10/site-packages (from pymilvus>=2.0.0->-r requirements_jupyter.txt (line 20)) (2.4.12)\n",
      "Requirement already satisfied: filelock in /opt/anaconda3/envs/logica/lib/python3.10/site-packages (from torch>=1.9.0->-r requirements_jupyter.txt (line 23)) (3.18.0)\n",
      "Requirement already satisfied: networkx in /opt/anaconda3/envs/logica/lib/python3.10/site-packages (from torch>=1.9.0->-r requirements_jupyter.txt (line 23)) (3.4.1)\n",
      "Requirement already satisfied: jinja2 in /opt/anaconda3/envs/logica/lib/python3.10/site-packages (from torch>=1.9.0->-r requirements_jupyter.txt (line 23)) (3.1.4)\n",
      "Requirement already satisfied: fsspec in /opt/anaconda3/envs/logica/lib/python3.10/site-packages (from torch>=1.9.0->-r requirements_jupyter.txt (line 23)) (2025.3.2)\n",
      "Requirement already satisfied: sympy==1.13.1 in /opt/anaconda3/envs/logica/lib/python3.10/site-packages (from torch>=1.9.0->-r requirements_jupyter.txt (line 23)) (1.13.1)\n",
      "Requirement already satisfied: mpmath<1.4,>=1.1.0 in /opt/anaconda3/envs/logica/lib/python3.10/site-packages (from sympy==1.13.1->torch>=1.9.0->-r requirements_jupyter.txt (line 23)) (1.3.0)\n",
      "Requirement already satisfied: absl-py>=1.0.0 in /opt/anaconda3/envs/logica/lib/python3.10/site-packages (from tensorflow>=2.6.0->-r requirements_jupyter.txt (line 24)) (2.1.0)\n",
      "Requirement already satisfied: astunparse>=1.6.0 in /opt/anaconda3/envs/logica/lib/python3.10/site-packages (from tensorflow>=2.6.0->-r requirements_jupyter.txt (line 24)) (1.6.3)\n",
      "Requirement already satisfied: flatbuffers>=24.3.25 in /opt/anaconda3/envs/logica/lib/python3.10/site-packages (from tensorflow>=2.6.0->-r requirements_jupyter.txt (line 24)) (25.2.10)\n",
      "Requirement already satisfied: gast!=0.5.0,!=0.5.1,!=0.5.2,>=0.2.1 in /opt/anaconda3/envs/logica/lib/python3.10/site-packages (from tensorflow>=2.6.0->-r requirements_jupyter.txt (line 24)) (0.6.0)\n",
      "Requirement already satisfied: google-pasta>=0.1.1 in /opt/anaconda3/envs/logica/lib/python3.10/site-packages (from tensorflow>=2.6.0->-r requirements_jupyter.txt (line 24)) (0.2.0)\n",
      "Requirement already satisfied: libclang>=13.0.0 in /opt/anaconda3/envs/logica/lib/python3.10/site-packages (from tensorflow>=2.6.0->-r requirements_jupyter.txt (line 24)) (18.1.1)\n",
      "Requirement already satisfied: opt-einsum>=2.3.2 in /opt/anaconda3/envs/logica/lib/python3.10/site-packages (from tensorflow>=2.6.0->-r requirements_jupyter.txt (line 24)) (3.4.0)\n",
      "Requirement already satisfied: requests<3,>=2.21.0 in /opt/anaconda3/envs/logica/lib/python3.10/site-packages (from tensorflow>=2.6.0->-r requirements_jupyter.txt (line 24)) (2.32.3)\n",
      "Requirement already satisfied: termcolor>=1.1.0 in /opt/anaconda3/envs/logica/lib/python3.10/site-packages (from tensorflow>=2.6.0->-r requirements_jupyter.txt (line 24)) (3.1.0)\n",
      "Requirement already satisfied: wrapt>=1.11.0 in /opt/anaconda3/envs/logica/lib/python3.10/site-packages (from tensorflow>=2.6.0->-r requirements_jupyter.txt (line 24)) (1.17.2)\n",
      "Requirement already satisfied: tensorboard~=2.19.0 in /opt/anaconda3/envs/logica/lib/python3.10/site-packages (from tensorflow>=2.6.0->-r requirements_jupyter.txt (line 24)) (2.19.0)\n",
      "Requirement already satisfied: keras>=3.5.0 in /opt/anaconda3/envs/logica/lib/python3.10/site-packages (from tensorflow>=2.6.0->-r requirements_jupyter.txt (line 24)) (3.9.2)\n",
      "Requirement already satisfied: ml-dtypes<1.0.0,>=0.5.1 in /opt/anaconda3/envs/logica/lib/python3.10/site-packages (from tensorflow>=2.6.0->-r requirements_jupyter.txt (line 24)) (0.5.1)\n",
      "Requirement already satisfied: tensorflow-io-gcs-filesystem>=0.23.1 in /opt/anaconda3/envs/logica/lib/python3.10/site-packages (from tensorflow>=2.6.0->-r requirements_jupyter.txt (line 24)) (0.37.1)\n",
      "Requirement already satisfied: charset-normalizer<4,>=2 in /opt/anaconda3/envs/logica/lib/python3.10/site-packages (from requests<3,>=2.21.0->tensorflow>=2.6.0->-r requirements_jupyter.txt (line 24)) (3.3.2)\n",
      "Requirement already satisfied: idna<4,>=2.5 in /opt/anaconda3/envs/logica/lib/python3.10/site-packages (from requests<3,>=2.21.0->tensorflow>=2.6.0->-r requirements_jupyter.txt (line 24)) (3.7)\n",
      "Requirement already satisfied: urllib3<3,>=1.21.1 in /opt/anaconda3/envs/logica/lib/python3.10/site-packages (from requests<3,>=2.21.0->tensorflow>=2.6.0->-r requirements_jupyter.txt (line 24)) (2.2.3)\n",
      "Requirement already satisfied: certifi>=2017.4.17 in /opt/anaconda3/envs/logica/lib/python3.10/site-packages (from requests<3,>=2.21.0->tensorflow>=2.6.0->-r requirements_jupyter.txt (line 24)) (2024.8.30)\n",
      "Requirement already satisfied: markdown>=2.6.8 in /opt/anaconda3/envs/logica/lib/python3.10/site-packages (from tensorboard~=2.19.0->tensorflow>=2.6.0->-r requirements_jupyter.txt (line 24)) (3.8)\n",
      "Requirement already satisfied: tensorboard-data-server<0.8.0,>=0.7.0 in /opt/anaconda3/envs/logica/lib/python3.10/site-packages (from tensorboard~=2.19.0->tensorflow>=2.6.0->-r requirements_jupyter.txt (line 24)) (0.7.2)\n",
      "Requirement already satisfied: werkzeug>=1.0.1 in /opt/anaconda3/envs/logica/lib/python3.10/site-packages (from tensorboard~=2.19.0->tensorflow>=2.6.0->-r requirements_jupyter.txt (line 24)) (3.1.3)\n",
      "Requirement already satisfied: tf-keras>=2.14.1 in /opt/anaconda3/envs/logica/lib/python3.10/site-packages (from tensorflow-hub>=0.12.0->-r requirements_jupyter.txt (line 25)) (2.19.0)\n",
      "Requirement already satisfied: huggingface-hub<1.0,>=0.26.0 in /opt/anaconda3/envs/logica/lib/python3.10/site-packages (from transformers>=4.15.0->-r requirements_jupyter.txt (line 28)) (0.30.1)\n",
      "Requirement already satisfied: pyyaml>=5.1 in /opt/anaconda3/envs/logica/lib/python3.10/site-packages (from transformers>=4.15.0->-r requirements_jupyter.txt (line 28)) (6.0.2)\n",
      "Requirement already satisfied: regex!=2019.12.17 in /opt/anaconda3/envs/logica/lib/python3.10/site-packages (from transformers>=4.15.0->-r requirements_jupyter.txt (line 28)) (2024.11.6)\n",
      "Requirement already satisfied: tokenizers<0.22,>=0.21 in /opt/anaconda3/envs/logica/lib/python3.10/site-packages (from transformers>=4.15.0->-r requirements_jupyter.txt (line 28)) (0.21.1)\n",
      "Requirement already satisfied: safetensors>=0.4.3 in /opt/anaconda3/envs/logica/lib/python3.10/site-packages (from transformers>=4.15.0->-r requirements_jupyter.txt (line 28)) (0.5.3)\n",
      "Requirement already satisfied: tqdm>=4.27 in /opt/anaconda3/envs/logica/lib/python3.10/site-packages (from transformers>=4.15.0->-r requirements_jupyter.txt (line 28)) (4.67.1)\n",
      "Requirement already satisfied: jedi>=0.16 in /opt/anaconda3/envs/logica/lib/python3.10/site-packages (from ipython>=7.0.0->-r requirements_jupyter.txt (line 31)) (0.19.1)\n",
      "Requirement already satisfied: matplotlib-inline in /opt/anaconda3/envs/logica/lib/python3.10/site-packages (from ipython>=7.0.0->-r requirements_jupyter.txt (line 31)) (0.1.6)\n",
      "Requirement already satisfied: prompt-toolkit<3.1.0,>=3.0.41 in /opt/anaconda3/envs/logica/lib/python3.10/site-packages (from ipython>=7.0.0->-r requirements_jupyter.txt (line 31)) (3.0.43)\n",
      "Requirement already satisfied: pygments>=2.4.0 in /opt/anaconda3/envs/logica/lib/python3.10/site-packages (from ipython>=7.0.0->-r requirements_jupyter.txt (line 31)) (2.15.1)\n",
      "Requirement already satisfied: stack-data in /opt/anaconda3/envs/logica/lib/python3.10/site-packages (from ipython>=7.0.0->-r requirements_jupyter.txt (line 31)) (0.2.0)\n",
      "Requirement already satisfied: exceptiongroup in /opt/anaconda3/envs/logica/lib/python3.10/site-packages (from ipython>=7.0.0->-r requirements_jupyter.txt (line 31)) (1.2.0)\n",
      "Requirement already satisfied: pexpect>4.3 in /opt/anaconda3/envs/logica/lib/python3.10/site-packages (from ipython>=7.0.0->-r requirements_jupyter.txt (line 31)) (4.8.0)\n",
      "Requirement already satisfied: wcwidth in /opt/anaconda3/envs/logica/lib/python3.10/site-packages (from prompt-toolkit<3.1.0,>=3.0.41->ipython>=7.0.0->-r requirements_jupyter.txt (line 31)) (0.2.5)\n",
      "Requirement already satisfied: jupyter-server<3,>=2.4.0 in /opt/anaconda3/envs/logica/lib/python3.10/site-packages (from notebook>=6.4.0->-r requirements_jupyter.txt (line 32)) (2.14.1)\n",
      "Requirement already satisfied: jupyterlab-server<3,>=2.27.1 in /opt/anaconda3/envs/logica/lib/python3.10/site-packages (from notebook>=6.4.0->-r requirements_jupyter.txt (line 32)) (2.27.3)\n",
      "Requirement already satisfied: jupyterlab<4.3,>=4.2.0 in /opt/anaconda3/envs/logica/lib/python3.10/site-packages (from notebook>=6.4.0->-r requirements_jupyter.txt (line 32)) (4.2.5)\n",
      "Requirement already satisfied: notebook-shim<0.3,>=0.2 in /opt/anaconda3/envs/logica/lib/python3.10/site-packages (from notebook>=6.4.0->-r requirements_jupyter.txt (line 32)) (0.2.3)\n",
      "Requirement already satisfied: tornado>=6.2.0 in /opt/anaconda3/envs/logica/lib/python3.10/site-packages (from notebook>=6.4.0->-r requirements_jupyter.txt (line 32)) (6.4.1)\n",
      "Requirement already satisfied: anyio>=3.1.0 in /opt/anaconda3/envs/logica/lib/python3.10/site-packages (from jupyter-server<3,>=2.4.0->notebook>=6.4.0->-r requirements_jupyter.txt (line 32)) (4.6.2)\n",
      "Requirement already satisfied: argon2-cffi>=21.1 in /opt/anaconda3/envs/logica/lib/python3.10/site-packages (from jupyter-server<3,>=2.4.0->notebook>=6.4.0->-r requirements_jupyter.txt (line 32)) (21.3.0)\n",
      "Requirement already satisfied: jupyter-client>=7.4.4 in /opt/anaconda3/envs/logica/lib/python3.10/site-packages (from jupyter-server<3,>=2.4.0->notebook>=6.4.0->-r requirements_jupyter.txt (line 32)) (8.6.0)\n",
      "Requirement already satisfied: jupyter-core!=5.0.*,>=4.12 in /opt/anaconda3/envs/logica/lib/python3.10/site-packages (from jupyter-server<3,>=2.4.0->notebook>=6.4.0->-r requirements_jupyter.txt (line 32)) (5.7.2)\n",
      "Requirement already satisfied: jupyter-events>=0.9.0 in /opt/anaconda3/envs/logica/lib/python3.10/site-packages (from jupyter-server<3,>=2.4.0->notebook>=6.4.0->-r requirements_jupyter.txt (line 32)) (0.10.0)\n",
      "Requirement already satisfied: jupyter-server-terminals>=0.4.4 in /opt/anaconda3/envs/logica/lib/python3.10/site-packages (from jupyter-server<3,>=2.4.0->notebook>=6.4.0->-r requirements_jupyter.txt (line 32)) (0.4.4)\n",
      "Requirement already satisfied: nbconvert>=6.4.4 in /opt/anaconda3/envs/logica/lib/python3.10/site-packages (from jupyter-server<3,>=2.4.0->notebook>=6.4.0->-r requirements_jupyter.txt (line 32)) (7.16.4)\n",
      "Requirement already satisfied: nbformat>=5.3.0 in /opt/anaconda3/envs/logica/lib/python3.10/site-packages (from jupyter-server<3,>=2.4.0->notebook>=6.4.0->-r requirements_jupyter.txt (line 32)) (5.10.4)\n",
      "Requirement already satisfied: overrides>=5.0 in /opt/anaconda3/envs/logica/lib/python3.10/site-packages (from jupyter-server<3,>=2.4.0->notebook>=6.4.0->-r requirements_jupyter.txt (line 32)) (7.4.0)\n",
      "Requirement already satisfied: prometheus-client>=0.9 in /opt/anaconda3/envs/logica/lib/python3.10/site-packages (from jupyter-server<3,>=2.4.0->notebook>=6.4.0->-r requirements_jupyter.txt (line 32)) (0.14.1)\n",
      "Requirement already satisfied: pyzmq>=24 in /opt/anaconda3/envs/logica/lib/python3.10/site-packages (from jupyter-server<3,>=2.4.0->notebook>=6.4.0->-r requirements_jupyter.txt (line 32)) (25.1.2)\n",
      "Requirement already satisfied: send2trash>=1.8.2 in /opt/anaconda3/envs/logica/lib/python3.10/site-packages (from jupyter-server<3,>=2.4.0->notebook>=6.4.0->-r requirements_jupyter.txt (line 32)) (1.8.2)\n",
      "Requirement already satisfied: terminado>=0.8.3 in /opt/anaconda3/envs/logica/lib/python3.10/site-packages (from jupyter-server<3,>=2.4.0->notebook>=6.4.0->-r requirements_jupyter.txt (line 32)) (0.17.1)\n",
      "Requirement already satisfied: websocket-client>=1.7 in /opt/anaconda3/envs/logica/lib/python3.10/site-packages (from jupyter-server<3,>=2.4.0->notebook>=6.4.0->-r requirements_jupyter.txt (line 32)) (1.8.0)\n",
      "Requirement already satisfied: async-lru>=1.0.0 in /opt/anaconda3/envs/logica/lib/python3.10/site-packages (from jupyterlab<4.3,>=4.2.0->notebook>=6.4.0->-r requirements_jupyter.txt (line 32)) (2.0.4)\n",
      "Requirement already satisfied: httpx>=0.25.0 in /opt/anaconda3/envs/logica/lib/python3.10/site-packages (from jupyterlab<4.3,>=4.2.0->notebook>=6.4.0->-r requirements_jupyter.txt (line 32)) (0.27.0)\n",
      "Requirement already satisfied: ipykernel>=6.5.0 in /opt/anaconda3/envs/logica/lib/python3.10/site-packages (from jupyterlab<4.3,>=4.2.0->notebook>=6.4.0->-r requirements_jupyter.txt (line 32)) (6.29.5)\n",
      "Requirement already satisfied: jupyter-lsp>=2.0.0 in /opt/anaconda3/envs/logica/lib/python3.10/site-packages (from jupyterlab<4.3,>=4.2.0->notebook>=6.4.0->-r requirements_jupyter.txt (line 32)) (2.2.0)\n",
      "Requirement already satisfied: tomli>=1.2.2 in /opt/anaconda3/envs/logica/lib/python3.10/site-packages (from jupyterlab<4.3,>=4.2.0->notebook>=6.4.0->-r requirements_jupyter.txt (line 32)) (2.0.1)\n",
      "Requirement already satisfied: babel>=2.10 in /opt/anaconda3/envs/logica/lib/python3.10/site-packages (from jupyterlab-server<3,>=2.27.1->notebook>=6.4.0->-r requirements_jupyter.txt (line 32)) (2.11.0)\n",
      "Requirement already satisfied: json5>=0.9.0 in /opt/anaconda3/envs/logica/lib/python3.10/site-packages (from jupyterlab-server<3,>=2.27.1->notebook>=6.4.0->-r requirements_jupyter.txt (line 32)) (0.9.6)\n",
      "Requirement already satisfied: jsonschema>=4.18.0 in /opt/anaconda3/envs/logica/lib/python3.10/site-packages (from jupyterlab-server<3,>=2.27.1->notebook>=6.4.0->-r requirements_jupyter.txt (line 32)) (4.23.0)\n",
      "Requirement already satisfied: sniffio>=1.1 in /opt/anaconda3/envs/logica/lib/python3.10/site-packages (from anyio>=3.1.0->jupyter-server<3,>=2.4.0->notebook>=6.4.0->-r requirements_jupyter.txt (line 32)) (1.3.0)\n",
      "Requirement already satisfied: argon2-cffi-bindings in /opt/anaconda3/envs/logica/lib/python3.10/site-packages (from argon2-cffi>=21.1->jupyter-server<3,>=2.4.0->notebook>=6.4.0->-r requirements_jupyter.txt (line 32)) (21.2.0)\n",
      "Requirement already satisfied: wheel<1.0,>=0.23.0 in /opt/anaconda3/envs/logica/lib/python3.10/site-packages (from astunparse>=1.6.0->tensorflow>=2.6.0->-r requirements_jupyter.txt (line 24)) (0.44.0)\n",
      "Requirement already satisfied: pycparser in /opt/anaconda3/envs/logica/lib/python3.10/site-packages (from cffi>=1.0->soundfile>=0.10.0->-r requirements_jupyter.txt (line 16)) (2.21)\n",
      "Requirement already satisfied: httpcore==1.* in /opt/anaconda3/envs/logica/lib/python3.10/site-packages (from httpx>=0.25.0->jupyterlab<4.3,>=4.2.0->notebook>=6.4.0->-r requirements_jupyter.txt (line 32)) (1.0.2)\n",
      "Requirement already satisfied: h11<0.15,>=0.13 in /opt/anaconda3/envs/logica/lib/python3.10/site-packages (from httpcore==1.*->httpx>=0.25.0->jupyterlab<4.3,>=4.2.0->notebook>=6.4.0->-r requirements_jupyter.txt (line 32)) (0.14.0)\n",
      "Requirement already satisfied: appnope in /opt/anaconda3/envs/logica/lib/python3.10/site-packages (from ipykernel>=6.5.0->jupyterlab<4.3,>=4.2.0->notebook>=6.4.0->-r requirements_jupyter.txt (line 32)) (0.1.2)\n",
      "Requirement already satisfied: debugpy>=1.6.5 in /opt/anaconda3/envs/logica/lib/python3.10/site-packages (from ipykernel>=6.5.0->jupyterlab<4.3,>=4.2.0->notebook>=6.4.0->-r requirements_jupyter.txt (line 32)) (1.6.7)\n",
      "Requirement already satisfied: nest-asyncio in /opt/anaconda3/envs/logica/lib/python3.10/site-packages (from ipykernel>=6.5.0->jupyterlab<4.3,>=4.2.0->notebook>=6.4.0->-r requirements_jupyter.txt (line 32)) (1.6.0)\n",
      "Requirement already satisfied: psutil in /opt/anaconda3/envs/logica/lib/python3.10/site-packages (from ipykernel>=6.5.0->jupyterlab<4.3,>=4.2.0->notebook>=6.4.0->-r requirements_jupyter.txt (line 32)) (5.9.0)\n",
      "Requirement already satisfied: parso<0.9.0,>=0.8.3 in /opt/anaconda3/envs/logica/lib/python3.10/site-packages (from jedi>=0.16->ipython>=7.0.0->-r requirements_jupyter.txt (line 31)) (0.8.3)\n",
      "Requirement already satisfied: MarkupSafe>=2.0 in /opt/anaconda3/envs/logica/lib/python3.10/site-packages (from jinja2->torch>=1.9.0->-r requirements_jupyter.txt (line 23)) (2.1.3)\n",
      "Requirement already satisfied: attrs>=22.2.0 in /opt/anaconda3/envs/logica/lib/python3.10/site-packages (from jsonschema>=4.18.0->jupyterlab-server<3,>=2.27.1->notebook>=6.4.0->-r requirements_jupyter.txt (line 32)) (24.2.0)\n",
      "Requirement already satisfied: jsonschema-specifications>=2023.03.6 in /opt/anaconda3/envs/logica/lib/python3.10/site-packages (from jsonschema>=4.18.0->jupyterlab-server<3,>=2.27.1->notebook>=6.4.0->-r requirements_jupyter.txt (line 32)) (2023.7.1)\n",
      "Requirement already satisfied: referencing>=0.28.4 in /opt/anaconda3/envs/logica/lib/python3.10/site-packages (from jsonschema>=4.18.0->jupyterlab-server<3,>=2.27.1->notebook>=6.4.0->-r requirements_jupyter.txt (line 32)) (0.30.2)\n",
      "Requirement already satisfied: rpds-py>=0.7.1 in /opt/anaconda3/envs/logica/lib/python3.10/site-packages (from jsonschema>=4.18.0->jupyterlab-server<3,>=2.27.1->notebook>=6.4.0->-r requirements_jupyter.txt (line 32)) (0.10.6)\n",
      "Requirement already satisfied: platformdirs>=2.5 in /opt/anaconda3/envs/logica/lib/python3.10/site-packages (from jupyter-core!=5.0.*,>=4.12->jupyter-server<3,>=2.4.0->notebook>=6.4.0->-r requirements_jupyter.txt (line 32)) (3.10.0)\n",
      "Requirement already satisfied: python-json-logger>=2.0.4 in /opt/anaconda3/envs/logica/lib/python3.10/site-packages (from jupyter-events>=0.9.0->jupyter-server<3,>=2.4.0->notebook>=6.4.0->-r requirements_jupyter.txt (line 32)) (2.0.7)\n",
      "Requirement already satisfied: rfc3339-validator in /opt/anaconda3/envs/logica/lib/python3.10/site-packages (from jupyter-events>=0.9.0->jupyter-server<3,>=2.4.0->notebook>=6.4.0->-r requirements_jupyter.txt (line 32)) (0.1.4)\n",
      "Requirement already satisfied: rfc3986-validator>=0.1.1 in /opt/anaconda3/envs/logica/lib/python3.10/site-packages (from jupyter-events>=0.9.0->jupyter-server<3,>=2.4.0->notebook>=6.4.0->-r requirements_jupyter.txt (line 32)) (0.1.1)\n",
      "Requirement already satisfied: fqdn in /opt/anaconda3/envs/logica/lib/python3.10/site-packages (from jsonschema[format-nongpl]>=4.18.0->jupyter-events>=0.9.0->jupyter-server<3,>=2.4.0->notebook>=6.4.0->-r requirements_jupyter.txt (line 32)) (1.5.1)\n",
      "Requirement already satisfied: isoduration in /opt/anaconda3/envs/logica/lib/python3.10/site-packages (from jsonschema[format-nongpl]>=4.18.0->jupyter-events>=0.9.0->jupyter-server<3,>=2.4.0->notebook>=6.4.0->-r requirements_jupyter.txt (line 32)) (20.11.0)\n",
      "Requirement already satisfied: jsonpointer>1.13 in /opt/anaconda3/envs/logica/lib/python3.10/site-packages (from jsonschema[format-nongpl]>=4.18.0->jupyter-events>=0.9.0->jupyter-server<3,>=2.4.0->notebook>=6.4.0->-r requirements_jupyter.txt (line 32)) (3.0.0)\n",
      "Requirement already satisfied: uri-template in /opt/anaconda3/envs/logica/lib/python3.10/site-packages (from jsonschema[format-nongpl]>=4.18.0->jupyter-events>=0.9.0->jupyter-server<3,>=2.4.0->notebook>=6.4.0->-r requirements_jupyter.txt (line 32)) (1.3.0)\n",
      "Requirement already satisfied: webcolors>=24.6.0 in /opt/anaconda3/envs/logica/lib/python3.10/site-packages (from jsonschema[format-nongpl]>=4.18.0->jupyter-events>=0.9.0->jupyter-server<3,>=2.4.0->notebook>=6.4.0->-r requirements_jupyter.txt (line 32)) (24.11.1)\n",
      "Requirement already satisfied: rich in /opt/anaconda3/envs/logica/lib/python3.10/site-packages (from keras>=3.5.0->tensorflow>=2.6.0->-r requirements_jupyter.txt (line 24)) (14.0.0)\n",
      "Requirement already satisfied: namex in /opt/anaconda3/envs/logica/lib/python3.10/site-packages (from keras>=3.5.0->tensorflow>=2.6.0->-r requirements_jupyter.txt (line 24)) (0.0.9)\n",
      "Requirement already satisfied: optree in /opt/anaconda3/envs/logica/lib/python3.10/site-packages (from keras>=3.5.0->tensorflow>=2.6.0->-r requirements_jupyter.txt (line 24)) (0.15.0)\n",
      "Requirement already satisfied: imageio<3.0,>=2.5 in /opt/anaconda3/envs/logica/lib/python3.10/site-packages (from moviepy>=1.0.0->openl3>=0.4.0->-r requirements_jupyter.txt (line 17)) (2.37.0)\n",
      "Requirement already satisfied: imageio_ffmpeg>=0.2.0 in /opt/anaconda3/envs/logica/lib/python3.10/site-packages (from moviepy>=1.0.0->openl3>=0.4.0->-r requirements_jupyter.txt (line 17)) (0.6.0)\n",
      "Requirement already satisfied: proglog<=1.0.0 in /opt/anaconda3/envs/logica/lib/python3.10/site-packages (from moviepy>=1.0.0->openl3>=0.4.0->-r requirements_jupyter.txt (line 17)) (0.1.11)\n",
      "Requirement already satisfied: beautifulsoup4 in /opt/anaconda3/envs/logica/lib/python3.10/site-packages (from nbconvert>=6.4.4->jupyter-server<3,>=2.4.0->notebook>=6.4.0->-r requirements_jupyter.txt (line 32)) (4.12.3)\n",
      "Requirement already satisfied: bleach!=5.0.0 in /opt/anaconda3/envs/logica/lib/python3.10/site-packages (from nbconvert>=6.4.4->jupyter-server<3,>=2.4.0->notebook>=6.4.0->-r requirements_jupyter.txt (line 32)) (4.1.0)\n",
      "Requirement already satisfied: defusedxml in /opt/anaconda3/envs/logica/lib/python3.10/site-packages (from nbconvert>=6.4.4->jupyter-server<3,>=2.4.0->notebook>=6.4.0->-r requirements_jupyter.txt (line 32)) (0.7.1)\n",
      "Requirement already satisfied: jupyterlab-pygments in /opt/anaconda3/envs/logica/lib/python3.10/site-packages (from nbconvert>=6.4.4->jupyter-server<3,>=2.4.0->notebook>=6.4.0->-r requirements_jupyter.txt (line 32)) (0.1.2)\n",
      "Requirement already satisfied: mistune<4,>=2.0.3 in /opt/anaconda3/envs/logica/lib/python3.10/site-packages (from nbconvert>=6.4.4->jupyter-server<3,>=2.4.0->notebook>=6.4.0->-r requirements_jupyter.txt (line 32)) (2.0.4)\n",
      "Requirement already satisfied: nbclient>=0.5.0 in /opt/anaconda3/envs/logica/lib/python3.10/site-packages (from nbconvert>=6.4.4->jupyter-server<3,>=2.4.0->notebook>=6.4.0->-r requirements_jupyter.txt (line 32)) (0.8.0)\n",
      "Requirement already satisfied: pandocfilters>=1.4.1 in /opt/anaconda3/envs/logica/lib/python3.10/site-packages (from nbconvert>=6.4.4->jupyter-server<3,>=2.4.0->notebook>=6.4.0->-r requirements_jupyter.txt (line 32)) (1.5.0)\n",
      "Requirement already satisfied: tinycss2 in /opt/anaconda3/envs/logica/lib/python3.10/site-packages (from nbconvert>=6.4.4->jupyter-server<3,>=2.4.0->notebook>=6.4.0->-r requirements_jupyter.txt (line 32)) (1.2.1)\n",
      "Requirement already satisfied: webencodings in /opt/anaconda3/envs/logica/lib/python3.10/site-packages (from bleach!=5.0.0->nbconvert>=6.4.4->jupyter-server<3,>=2.4.0->notebook>=6.4.0->-r requirements_jupyter.txt (line 32)) (0.5.1)\n",
      "Requirement already satisfied: fastjsonschema>=2.15 in /opt/anaconda3/envs/logica/lib/python3.10/site-packages (from nbformat>=5.3.0->jupyter-server<3,>=2.4.0->notebook>=6.4.0->-r requirements_jupyter.txt (line 32)) (2.16.2)\n",
      "Requirement already satisfied: llvmlite<0.45,>=0.44.0dev0 in /opt/anaconda3/envs/logica/lib/python3.10/site-packages (from numba>=0.51.0->librosa>=0.8.0->-r requirements_jupyter.txt (line 15)) (0.44.0)\n",
      "Requirement already satisfied: ptyprocess>=0.5 in /opt/anaconda3/envs/logica/lib/python3.10/site-packages (from pexpect>4.3->ipython>=7.0.0->-r requirements_jupyter.txt (line 31)) (0.7.0)\n",
      "Requirement already satisfied: tifffile>=2022.8.12 in /opt/anaconda3/envs/logica/lib/python3.10/site-packages (from scikit-image>=0.14.3->openl3>=0.4.0->-r requirements_jupyter.txt (line 17)) (2025.3.30)\n",
      "Requirement already satisfied: soupsieve>1.2 in /opt/anaconda3/envs/logica/lib/python3.10/site-packages (from beautifulsoup4->nbconvert>=6.4.4->jupyter-server<3,>=2.4.0->notebook>=6.4.0->-r requirements_jupyter.txt (line 32)) (2.5)\n",
      "Requirement already satisfied: arrow>=0.15.0 in /opt/anaconda3/envs/logica/lib/python3.10/site-packages (from isoduration->jsonschema[format-nongpl]>=4.18.0->jupyter-events>=0.9.0->jupyter-server<3,>=2.4.0->notebook>=6.4.0->-r requirements_jupyter.txt (line 32)) (1.3.0)\n",
      "Requirement already satisfied: types-python-dateutil>=2.8.10 in /opt/anaconda3/envs/logica/lib/python3.10/site-packages (from arrow>=0.15.0->isoduration->jsonschema[format-nongpl]>=4.18.0->jupyter-events>=0.9.0->jupyter-server<3,>=2.4.0->notebook>=6.4.0->-r requirements_jupyter.txt (line 32)) (2.9.0.20241206)\n",
      "Requirement already satisfied: markdown-it-py>=2.2.0 in /opt/anaconda3/envs/logica/lib/python3.10/site-packages (from rich->keras>=3.5.0->tensorflow>=2.6.0->-r requirements_jupyter.txt (line 24)) (3.0.0)\n",
      "Requirement already satisfied: mdurl~=0.1 in /opt/anaconda3/envs/logica/lib/python3.10/site-packages (from markdown-it-py>=2.2.0->rich->keras>=3.5.0->tensorflow>=2.6.0->-r requirements_jupyter.txt (line 24)) (0.1.2)\n",
      "Requirement already satisfied: executing in /opt/anaconda3/envs/logica/lib/python3.10/site-packages (from stack-data->ipython>=7.0.0->-r requirements_jupyter.txt (line 31)) (0.8.3)\n",
      "Requirement already satisfied: asttokens in /opt/anaconda3/envs/logica/lib/python3.10/site-packages (from stack-data->ipython>=7.0.0->-r requirements_jupyter.txt (line 31)) (2.0.5)\n",
      "Requirement already satisfied: pure-eval in /opt/anaconda3/envs/logica/lib/python3.10/site-packages (from stack-data->ipython>=7.0.0->-r requirements_jupyter.txt (line 31)) (0.2.2)\n"
     ]
    }
   ],
   "source": [
    "!pip install -r requirements_jupyter.txt"
   ]
  },
  {
   "cell_type": "markdown",
   "metadata": {},
   "source": [
    "### 1. Importações e Preparação do Ambiente\n",
    "\n",
    "Nesta primeira etapa, foram realizadas as importações das bibliotecas essenciais para o desenvolvimento do projeto. As bibliotecas englobam ferramentas para análise e visualização de dados (`pandas`, `numpy`, `matplotlib`, `seaborn`, `plotly`), redução de dimensionalidade (`sklearn.manifold.TSNE`), manipulação de arquivos e objetos (`ast`, `io`, `soundfile`, `IPython.display`, `ipywidgets`), bem como processamento de áudio e machine learning (`librosa`, `torch`, `transformers`, `MilvusClient`). Esta preparação permite a manipulação eficiente de dados, visualizações interativas e a aplicação de modelos de deep learning, nomeadamente com a arquitetura Wav2Vec2 para tarefas de processamento de áudio.\n"
   ]
  },
  {
   "cell_type": "code",
   "execution_count": 2,
   "metadata": {},
   "outputs": [],
   "source": [
    "# 📦 Importações e leitura dos dados\n",
    "import pandas as pd\n",
    "import numpy as np\n",
    "import matplotlib.pyplot as plt\n",
    "import seaborn as sns\n",
    "import plotly.express as px\n",
    "import plotly.graph_objects as go\n",
    "from sklearn.manifold import TSNE\n",
    "import ast\n",
    "from pymilvus import MilvusClient\n",
    "import librosa\n",
    "import torch\n",
    "from transformers import Wav2Vec2Processor, Wav2Vec2Model\n",
    "import soundfile as sf\n",
    "import io\n",
    "from IPython.display import display\n",
    "import ipywidgets as widgets\n",
    "\n",
    "\n"
   ]
  },
  {
   "cell_type": "markdown",
   "metadata": {},
   "source": [
    "### 2º Carregamento dos Dados\n",
    "\n",
    "Após a execução do script de benchmark, os resultados são guardados em ficheiros `.csv`, organizados em diretórios específicos dentro da pasta `benchmarks/`. Cada pasta representa uma execução independente, identificada pelo número de ficheiros processados (ex: `benchmark_30`, `benchmark_250`, etc.).\n",
    "\n",
    "Nesta fase, o notebook carrega os dados do ficheiro `resultados_benchmark.csv`, presente no diretório da execução. Os dados contêm métricas detalhadas de performance para cada modelo de embeddings, além dos próprios vetores (`embedding`), que são convertidos de string para listas numéricas com `ast.literal_eval`.\n",
    "\n",
    "Com o crescimento do projeto, será necessário comparar múltiplos benchmarks realizados em diferentes contextos (ex: com 30, 100, 250 ficheiros, ou com ficheiros de diferentes tipos de áudio).  \n",
    "A estrutura modular adotada permite facilmente carregar múltiplos datasets, bastando iterar sobre diferentes diretórios do tipo `benchmarks/benchmark_X/`.\n",
    "\n",
    "No futuro, será possível:\n",
    "\n",
    "- **Unificar e comparar múltiplos benchmarks num único DataFrame**;\n",
    "- **Aplicar filtros dinâmicos por modelo, dataset ou número de ficheiros**;\n",
    "- **Visualizar a evolução do desempenho com o aumento da escala de dados**;\n",
    "- **Integrar esses benchmarks numa interface (ex: dashboard Streamlit)** que permita ao utilizador selecionar o conjunto de resultados a analisar.\n",
    "\n",
    "Esta abordagem garante **escalabilidade horizontal**, permitindo expandir o sistema para novos testes e conjuntos de dados sem alterações estruturais ao código principal.\n"
   ]
  },
  {
   "cell_type": "code",
   "execution_count": 3,
   "metadata": {},
   "outputs": [
    {
     "name": "stdout",
     "output_type": "stream",
     "text": [
      "✅ Dados carregados com sucesso!\n",
      "   - 1500 registros de embeddings carregados\n",
      "   - Modelos disponíveis: wav2vec2, vggish, openl3, yamnet, clap, ast\n"
     ]
    }
   ],
   "source": [
    "# 📂 Leitura e limpeza dos dados\n",
    "try:\n",
    "    df = pd.read_csv('benchmarks/benchmark_250/resultados_benchmark.csv')\n",
    "    df['embedding'] = df['embedding'].apply(ast.literal_eval)\n",
    "    \n",
    "    # Success message with dataset information\n",
    "    print(f\"✅ Dados carregados com sucesso!\")\n",
    "    print(f\"   - {len(df)} registros de embeddings carregados\")\n",
    "    print(f\"   - Modelos disponíveis: {', '.join(df['modelo'].unique())}\")\n",
    "    \n",
    "except FileNotFoundError as e:\n",
    "    print(f\"❌ Erro ao carregar os arquivos de benchmark: {e}\")\n",
    "    print(\"   Verifique se os arquivos estão no diretório correto: benchmarks/benchmark_30/\")\n",
    "except Exception as e:\n",
    "    print(f\"❌ Erro ao processar os dados: {e}\")\n",
    "    print(\"   Verifique o formato dos arquivos CSV e tente novamente.\")"
   ]
  },
  {
   "cell_type": "markdown",
   "metadata": {},
   "source": [
    "### Conexão com Milvus e Seleção de Coleções\n",
    "\n",
    "Antes de realizar qualquer operação de pesquisa vetorial, é necessário estabelecer uma conexão com a instância do **Milvus**, que deve estar em execução localmente (por padrão, em `http://localhost:19530`).\n",
    "\n",
    "O código tenta criar um cliente `MilvusClient` apontando para o URI local. Em seguida, verifica se existem coleções já criadas no servidor, listando-as e apresentando informações como:\n",
    "\n",
    "- Número total de coleções disponíveis;\n",
    "- Nomes das coleções encontradas (ex: `audio_wav2vec2_30`, `audio_openl3_250`, etc.).\n",
    "\n",
    "Caso a conexão falhe, são apresentadas mensagens de erro específicas, incluindo sugestões para resolver o problema — por exemplo, iniciar o Milvus com `docker-compose up -d`. O tratamento de exceções garante que o script não falha abruptamente, e a variável `client` é definida como `None` caso a conexão não seja estabelecida com sucesso.\n",
    "\n",
    "Esta etapa é fundamental para confirmar que o ambiente está corretamente preparado para realizar pesquisas por similaridade, recuperar vetores ou executar benchmarks adicionais.\n"
   ]
  },
  {
   "cell_type": "code",
   "execution_count": 4,
   "metadata": {},
   "outputs": [
    {
     "name": "stderr",
     "output_type": "stream",
     "text": [
      "2025-05-25 22:21:18,921 [ERROR][_create_connection]: Failed to create new connection using: 8f974fdfeff541b186b233eb1a269103 (milvus_client.py:923)\n"
     ]
    },
    {
     "name": "stdout",
     "output_type": "stream",
     "text": [
      "❌ Erro ao conectar ao Milvus: <MilvusException: (code=2, message=Fail connecting to server on localhost:19530, illegal connection params or server unavailable)>\n",
      "   Verifique sua configuração e tente novamente.\n"
     ]
    }
   ],
   "source": [
    "# 🔄 Conexão com Milvus e seleção da coleção\n",
    "try:\n",
    "    # Tentar conectar ao Milvus\n",
    "    client = MilvusClient(uri='http://localhost:19530')\n",
    "    \n",
    "    # Obter coleções disponíveis\n",
    "    colecoes_disponiveis = client.list_collections()\n",
    "    \n",
    "    if colecoes_disponiveis:\n",
    "        print(f\"✅ Conexão com Milvus estabelecida com sucesso!\")\n",
    "        print(f\"   - {len(colecoes_disponiveis)} coleções disponíveis\")\n",
    "        print(f\"   - Coleções: {', '.join(colecoes_disponiveis)}\")\n",
    "        \n",
    "    else:\n",
    "        print(\"⚠️ Conectado ao Milvus, mas nenhuma coleção encontrada.\")\n",
    "        print(\"   Verifique se os dados foram carregados corretamente.\")\n",
    "        \n",
    "except ConnectionError as e:\n",
    "    print(f\"❌ Erro de conexão com o Milvus: {e}\")\n",
    "    print(\"   Verifique se o servidor Milvus está em execução em http://localhost:19530\")\n",
    "    print(\"   Para iniciar o Milvus localmente com Docker, execute:\")\n",
    "    print(\"   docker-compose up -d\")\n",
    "    client = None\n",
    "    \n",
    "except Exception as e:\n",
    "    print(f\"❌ Erro ao conectar ao Milvus: {e}\")\n",
    "    print(\"   Verifique sua configuração e tente novamente.\")\n",
    "    client = None"
   ]
  },
  {
   "cell_type": "markdown",
   "metadata": {},
   "source": [
    "### 4º Análise dos Resultados\n",
    "\n",
    "Nesta fase do projeto, será realizada uma análise detalhada dos resultados obtidos durante o benchmark dos diferentes modelos de embeddings de áudio. O objetivo é avaliar e comparar o desempenho dos modelos com base em métricas quantitativas, como tempo, consumo de memória e eficácia na pesquisa vetorial.\n",
    "\n",
    "A análise será conduzida utilizando **visualizações gráficas** que permitem identificar padrões, comparar desempenhos e apoiar a tomada de decisão sobre o modelo mais adequado. Os principais gráficos gerados são:\n",
    "\n",
    "- 📊 **Gráficos de Barras (Barplots)**  \n",
    "  Utilizados para visualizar o tempo médio de extração e inserção de embeddings por modelo, assim como o pico de memória RAM consumido durante a extração.\n",
    "\n",
    "- 📦 **Boxplots**  \n",
    "  Representam a distribuição dos tempos de extração por modelo, permitindo observar a variabilidade e identificar outliers no processamento.\n",
    "\n",
    "- 🧠 **Scatterplots**  \n",
    "  Avaliam a relação entre:\n",
    "  - Duração do ficheiro de áudio e o tempo de extração;\n",
    "  - Tamanho do ficheiro e tempo de extração;\n",
    "  Estes gráficos ajudam a perceber como diferentes características dos dados influenciam a performance dos modelos.\n",
    "\n",
    "- 📈 **Gráficos Temporais de Uso de Recursos**  \n",
    "  Mostram a evolução do uso de CPU, RAM e GPU ao longo do processamento dos ficheiros. Isto permite identificar picos de utilização e comparar a eficiência dos modelos em tempo real.\n",
    "\n",
    "- 📉 **Gráficos de Score da Pesquisa Vetorial**  \n",
    "  Após a indexação no Milvus, é feita uma pesquisa por similaridade e analisado o *score* do primeiro resultado obtido por modelo. Um gráfico de barras compara diretamente esses scores, indicando quais embeddings produzem buscas mais precisas.\n",
    "\n",
    "- 🧩 **Scatterplot 3D (opcional)**  \n",
    "  Em casos com variabilidade suficiente, é possível gerar uma visualização tridimensional combinando tempo de extração, memória usada e tamanho do ficheiro, permitindo uma análise multivariada da eficiência dos modelos.\n",
    "\n",
    "Todas estas visualizações serão geradas automaticamente e guardadas em ficheiros de imagem, organizadas numa pasta específica (`benchmarks/benchmark_X/`). A análise será acompanhada por resumos estatísticos (média, desvio padrão) e insights qualitativos que ajudarão a fundamentar a escolha do melhor modelo.\n",
    "\n"
   ]
  },
  {
   "cell_type": "markdown",
   "metadata": {},
   "source": [
    "### Benchmarks Interativos\n",
    "\n",
    "Foi desenvolvido um **dashboard interativo com recurso ao Streamlit**, que permite visualizar e explorar os resultados dos benchmarks realizados com diferentes volumes de dados (5, 25, 50, 100 e 250 ficheiros de áudio). Esta interface facilita a análise comparativa entre modelos, permitindo filtrar por modelo, métrica ou tamanho da base de dados de forma dinâmica e intuitiva.\n",
    "\n",
    "No entanto, para efeitos deste relatório, **optamos por focar a análise nos resultados obtidos com a base de dados contendo 250 ficheiros**, uma vez que este cenário oferece uma visão mais robusta e representativa do desempenho real dos modelos. Esta abordagem permite avaliar o comportamento dos modelos em contexto de maior escala, destacando diferenças de performance que não seriam tão evidentes em conjuntos de menor dimensão.\n"
   ]
  },
  {
   "cell_type": "markdown",
   "metadata": {},
   "source": [
    "Para executar o dashboard interativo, basta instalar o Streamlit com o seguinte comando:\n",
    "\n",
    "```bash\n",
    "pip install streamlit"
   ]
  },
  {
   "cell_type": "markdown",
   "metadata": {},
   "source": [
    "Caso pretenda executar o dashboard, correr os comandos abaixo"
   ]
  },
  {
   "cell_type": "code",
   "execution_count": null,
   "metadata": {},
   "outputs": [],
   "source": [
    "#!pip install streamlit"
   ]
  },
  {
   "cell_type": "code",
   "execution_count": null,
   "metadata": {},
   "outputs": [],
   "source": [
    "#Caso pretenda correr o dashboard interativo\n",
    "#streamlit run dashboard.py\n"
   ]
  },
  {
   "cell_type": "markdown",
   "metadata": {},
   "source": [
    "### Análise dos Gráficos Interativos por Métrica\n",
    "\n",
    "A interface interativa apresenta os resultados em diferentes **abas**, cada uma representando uma métrica específica relacionada com o desempenho dos modelos de extração de embeddings de áudio. Abaixo, detalhamos o objetivo de cada gráfico e as principais observações que podem ser extraídas.\n",
    "\n",
    "---\n",
    "\n",
    "#### 1️⃣ **Tempo de Extração por Modelo** (`fig1`)\n",
    "\n",
    "**Tipo:** Gráfico de barras  \n",
    "**Métrica:** `tempo_extracao` (segundos)\n",
    "\n",
    "Este gráfico apresenta o **tempo médio necessário por cada modelo para extrair embeddings de áudio**.  \n",
    "- ✅ Modelos com barras mais baixas são mais rápidos e eficientes.\n",
    "\n",
    "\n",
    "---\n",
    "\n",
    "#### 2️⃣ **Tempo de Inserção no Milvus por Modelo** (`fig2`)\n",
    "\n",
    "**Tipo:** Gráfico de barras  \n",
    "**Métrica:** `tempo_insercao` (segundos)\n",
    "\n",
    "Este gráfico mostra o **tempo médio necessário para inserir os embeddings na base de dados Milvus**.  \n",
    "- Diferenças nesta métrica podem refletir a **dimensão do vetor** gerado por cada modelo (ex: YAMNet gera vetores com 1024 dimensões).\n",
    "- Modelos com **dimensões maiores** tendem a demorar mais.\n",
    "\n",
    "---\n",
    "\n",
    "#### 3️⃣ **Boxplot do Tempo de Extração** (`fig3`)\n",
    "\n",
    "**Tipo:** Boxplot  \n",
    "**Métrica:** `tempo_extracao` (distribuição)\n",
    "\n",
    "Este gráfico permite observar a **variabilidade** dos tempos de extração por modelo:  \n",
    "- ✅ Modelos com boxplots mais “estreitos” são mais **consistentes e previsíveis**.\n",
    "- ⚠️ Modelos com muitos **outliers ou dispersão elevada** podem ter desempenho instável em diferentes tipos de áudio.\n",
    "\n",
    "---\n",
    "\n",
    "#### 4️⃣ **Boxplot do Tempo de Inserção** (`fig4`)\n",
    "\n",
    "**Tipo:** Boxplot  \n",
    "**Métrica:** `tempo_insercao` (distribuição)\n",
    "\n",
    "Tal como o anterior, este gráfico permite verificar a **estabilidade** no tempo de inserção dos vetores na base de dados.  \n",
    "- Pode indicar se **certos ficheiros causam atrasos** em modelos específicos.\n",
    "\n",
    "---\n",
    "\n",
    "#### 5️⃣ **Tamanho do Áudio vs Tempo de Extração** (`fig5`)\n",
    "\n",
    "**Tipo:** Gráfico de dispersão (scatter plot)  \n",
    "**Eixos:** `tamanho_audio_mb` vs `tempo_extracao`\n",
    "\n",
    "Este gráfico mostra a correlação entre o **tamanho (em MB)** dos ficheiros de áudio e o **tempo que cada modelo leva para extrair o embedding**.  \n",
    "- Ideal para verificar **escalabilidade linear**.\n",
    "- ✅ Uma relação linear indica eficiência previsível.\n",
    "- ⚠️ Curvas ou dispersões irregulares podem indicar problemas de desempenho com ficheiros maiores.\n",
    "\n",
    "---\n",
    "\n",
    "#### 6️⃣ **Tamanho do Áudio vs Tempo de Inserção** (`fig6`)\n",
    "\n",
    "**Tipo:** Gráfico de dispersão  \n",
    "**Eixos:** `tamanho_audio_mb` vs `tempo_insercao`\n",
    "\n",
    "Análogo ao gráfico anterior, mas focado no tempo de inserção dos dados no Milvus.  \n",
    "- Pode ajudar a perceber se a **inserção é afetada pela complexidade ou dimensão dos vetores** oriundos de ficheiros maiores.\n",
    "\n",
    "---\n",
    "\n",
    "### Conclusão Geral\n",
    "\n",
    "- Modelos como **VGGish** tendem a ser mais rápidos e estáveis, mas podem sacrificar riqueza semântica.\n",
    "- Modelos como **YAMNet**, **CLAP** e **AST** oferecem mais detalhe nos embeddings, mas com **maior custo computacional**.\n",
    "- **Boxplots** ajudam a detetar **instabilidades**, e os gráficos de dispersão revelam **como os modelos escalam** com ficheiros maiores.\n",
    "- A escolha ideal de modelo dependerá do **balanço entre velocidade e qualidade** desejada para a aplicação final (tempo real, precisão semântica, consumo de recursos, etc.).\n",
    "\n"
   ]
  },
  {
   "cell_type": "code",
   "execution_count": 6,
   "metadata": {},
   "outputs": [
    {
     "data": {
      "application/vnd.jupyter.widget-view+json": {
       "model_id": "661dc67003274755baecb5acba2e31d0",
       "version_major": 2,
       "version_minor": 0
      },
      "text/plain": [
       "Tab(children=(Output(), Output(), Output(), Output(), Output(), Output()), selected_index=0, titles=('Extração…"
      ]
     },
     "metadata": {},
     "output_type": "display_data"
    }
   ],
   "source": [
    "# 📊 Gráficos interativos por métrica em abas\n",
    "tab_contents = ['Extração', 'Inserção', 'Boxplot Extração', 'Boxplot Inserção','Tamanho vs Extração','Tamanho vs Inserção' ]\n",
    "children = []\n",
    "\n",
    "fig1 = px.bar(df, x='modelo', y='tempo_extracao', color='modelo', title='Tempo de Extração por Modelo')\n",
    "fig2 = px.bar(df, x='modelo', y='tempo_insercao', color='modelo', title='Tempo de Inserção por Modelo')\n",
    "fig3 = px.box(df, x='modelo', y='tempo_extracao', color='modelo', title='Boxplot Tempo de Extração')\n",
    "fig4 = px.box(df, x='modelo', y='tempo_insercao', color='modelo', title='Boxplot Tempo de Inserção')\n",
    "fig5 = px.scatter(df, x='tamanho_audio_mb', y='tempo_extracao', color='modelo', title='Tamanho vs Extração')\n",
    "fig6 = px.scatter(df, x='tamanho_audio_mb', y='tempo_insercao', color='modelo', title='Tamanho vs Inserção')\n",
    "\n",
    "#ADICIONAR MAIS ? \n",
    "\n",
    "for fig in [fig1, fig2, fig3, fig4,fig5, fig6]:\n",
    "    # Create a new tab for each figure\n",
    "    out = widgets.Output()\n",
    "    with out:\n",
    "        display(fig)\n",
    "    children.append(out)\n",
    "\n",
    "tab = widgets.Tab(children=children)\n",
    "for i in range(len(tab_contents)):\n",
    "    tab.set_title(i, tab_contents[i])\n",
    "display(tab)"
   ]
  },
  {
   "cell_type": "markdown",
   "metadata": {},
   "source": [
    "## 🧪 Comparação Final dos Modelos com Base nos Resultados dos Gráficos\n",
    "\n",
    "Com base na análise visual dos gráficos interativos, avaliamos o desempenho relativo de cada modelo de embeddings de áudio nas principais métricas: tempo de extração, tempo de inserção, estabilidade e escalabilidade. Abaixo segue uma análise detalhada por métrica, culminando na eleição do melhor e do pior modelo do benchmark.\n",
    "\n",
    "---\n",
    "\n",
    "### 🏆 Melhor Modelo: **VGGish**\n",
    "\n",
    "### ❌ Pior Modelo: **OpenL3**\n",
    "\n",
    "---\n",
    "\n",
    "### 📊 Análise Métrica a Métrica\n",
    "\n",
    "---\n",
    "\n",
    "#### 1️⃣ Tempo de Extração por Modelo\n",
    "\n",
    "- **VGGish**, **Wav2Vec2**, **YAMNet**, **CLAP** e **AST** apresentaram tempos de extração baixos e consistentes.\n",
    "- **OpenL3** teve tempos de extração extremamente elevados (superiores a 10.000 segundos em muitos casos), indicando um desempenho muito ineficiente ou até disfuncional.\n",
    "\n",
    "📌 **Conclusão:**  \n",
    "✅ Melhor: `VGGish`  \n",
    "❌ Pior: `OpenL3`\n",
    "\n",
    "---\n",
    "\n",
    "#### 2️⃣ Tempo de Inserção no Milvus\n",
    "\n",
    "- **VGGish** e **YAMNet** foram os mais rápidos na inserção.\n",
    "- **OpenL3** e **AST** tiveram os maiores tempos de inserção, possivelmente devido à dimensão dos embeddings.\n",
    "\n",
    "📌 **Conclusão:**  \n",
    "✅ Melhor: `VGGish`  \n",
    "❌ Pior: `OpenL3` / `AST`\n",
    "\n",
    "---\n",
    "\n",
    "#### 3️⃣ Boxplot do Tempo de Extração\n",
    "\n",
    "- O boxplot confirmou a **grande dispersão e presença de outliers extremos** no `OpenL3`.\n",
    "- `VGGish` e `Wav2Vec2` apresentaram baixa variância, sendo estáveis e previsíveis.\n",
    "\n",
    "📌 **Conclusão:**  \n",
    "✅ Melhor: `VGGish`  \n",
    "❌ Pior: `OpenL3`\n",
    "\n",
    "---\n",
    "\n",
    "#### 4️⃣ Boxplot do Tempo de Inserção\n",
    "\n",
    "- **OpenL3** teve vários outliers e distribuição mais espalhada.\n",
    "- **VGGish**, **YAMNet** e **CLAP** mostraram estabilidade e baixa dispersão.\n",
    "\n",
    "📌 **Conclusão:**  \n",
    "✅ Melhor: `YAMNet` / `VGGish`  \n",
    "❌ Pior: `OpenL3`\n",
    "\n",
    "---\n",
    "\n",
    "#### 5️⃣ Tamanho do Áudio vs Tempo de Extração\n",
    "\n",
    "- **OpenL3** demonstrou valores fora da escala e sem correlação aparente com o tamanho.\n",
    "- Os restantes modelos escalaram bem ou não foram fortemente afetados.\n",
    "\n",
    "📌 **Conclusão:**  \n",
    "✅ Melhor: `VGGish`, `CLAP`, `AST`  \n",
    "❌ Pior: `OpenL3`\n",
    "\n",
    "---\n",
    "\n",
    "#### 6️⃣ Tamanho do Áudio vs Tempo de Inserção\n",
    "\n",
    "- **VGGish**, **Wav2Vec2**, **YAMNet** e **CLAP** apresentaram tempos consistentes.\n",
    "- **OpenL3** teve picos dispersos, com comportamento errático.\n",
    "\n",
    "📌 **Conclusão:**  \n",
    "✅ Melhor: `VGGish` / `CLAP`  \n",
    "❌ Pior: `OpenL3`\n",
    "\n",
    "---\n",
    "\n",
    "### 📈 Tabela Comparativa Final\n",
    "\n",
    "| Métrica                         | ✅ Melhor Modelo | ❌ Pior Modelo |\n",
    "|--------------------------------|------------------|----------------|\n",
    "| Tempo de Extração              | VGGish           | OpenL3         |\n",
    "| Tempo de Inserção              | VGGish           | OpenL3         |\n",
    "| Estabilidade (Boxplots)        | VGGish           | OpenL3         |\n",
    "| Escalabilidade (vs Tamanho)    | VGGish / CLAP    | OpenL3         |\n",
    "| Consistência Geral             | VGGish           | OpenL3         |\n",
    "\n",
    "---\n",
    "\n",
    "### 🧠 Conclusão\n",
    "\n",
    "- O modelo **VGGish** demonstrou ser o mais eficiente, rápido, estável e previsível em todos os cenários testados.\n",
    "- O modelo **OpenL3**, embora poderoso em teoria por ser multimodal, revelou-se impraticável para uso real em bases de dados vetoriais devido ao seu desempenho extremamente fraco, instável e com altos tempos de execução.\n",
    "\n",
    "> Para aplicações com requisitos de performance, tempo real ou execução em larga escala, **VGGish** é a melhor escolha entre os modelos testados neste benchmark.\n"
   ]
  },
  {
   "cell_type": "markdown",
   "metadata": {},
   "source": [
    "## 🔍 Interpretação Geral dos Resultados\n",
    "\n",
    "Os resultados obtidos refletem as diferenças nas arquiteturas e complexidade dos modelos de embeddings de áudio utilizados.\n",
    "\n",
    "---\n",
    "\n",
    "### 🏆 VGGish – Melhor desempenho geral\n",
    "\n",
    "- **Rápido, leve e estável**.\n",
    "- Usa espectrogramas log-Mel e redes convolucionais simples.\n",
    "- Embeddings pequenos (128 dimensões), o que acelera a inserção no Milvus.\n",
    "- Ideal para aplicações com muitos dados ou tempo real.\n",
    "\n",
    "---\n",
    "\n",
    "### ❌ OpenL3 – Pior desempenho geral\n",
    "\n",
    "- **Extremamente lento e instável**, com tempos de extração muito elevados.\n",
    "- Arquitetura multimodal e pesada, com alto custo computacional.\n",
    "- Embeddings grandes (512+ dimensões) e inferência demorada.\n",
    "- Inadequado para aplicações práticas com muitos ficheiros.\n",
    "\n",
    "---\n",
    "\n",
    "### Outros modelos:\n",
    "\n",
    "- **YAMNet**: também leve e estável; boa alternativa ao VGGish.\n",
    "- **CLAP** e **AST**: mais pesados, mas geram embeddings de qualidade — bons para tarefas complexas.\n",
    "- **Wav2Vec2**: equilibrado, mas mais orientado para voz.\n",
    "\n",
    "---\n",
    "\n",
    "### 📌 Conclusão\n",
    "\n",
    "- O desempenho observado está diretamente ligado à **eficiência da arquitetura**, **tamanho dos embeddings** e **nível de pré-processamento**.\n",
    "- **VGGish** é o modelo mais indicado para sistemas escaláveis e rápidos.  \n",
    "- **OpenL3** deve ser evitado neste tipo de tarefa, devido à sua ineficiência.\n",
    "\n",
    "A escolha do modelo deve equilibrar **qualidade dos embeddings** com **performance computacional**, dependendo dos objetivos do projeto.\n"
   ]
  },
  {
   "cell_type": "markdown",
   "metadata": {},
   "source": [
    "### Evolução dos Recursos Computacionais\n",
    "\n",
    "Nesta secção analisamos a evolução dos recursos computacionais utilizados durante o processo de extração de embeddings e inserção na base de dados vetorial. Monitorizamos duas métricas principais:\n",
    "\n",
    "- **`cpu_percent_after`**: percentagem de utilização da CPU após cada processamento;\n",
    "- **`ram_percent_after`**: percentagem de memória RAM utilizada no sistema após cada iteração.\n",
    "\n",
    "---\n",
    "\n",
    "### 📈 O que estamos a medir\n",
    "\n",
    "Para cada ficheiro de áudio processado por cada modelo, medimos o uso dos recursos **imediatamente após a execução da extração e inserção**. Isto permite perceber:\n",
    "\n",
    "- Se o modelo tem um consumo constante e previsível;\n",
    "- Se há picos de uso ou variações inesperadas;\n",
    "- Como o sistema se comporta ao longo do tempo (carga acumulada ou estabilização).\n",
    "\n",
    "---\n",
    "\n",
    "### ✅ Comportamentos esperados e considerados “bons”\n",
    "\n",
    "Um bom desempenho ao nível dos recursos apresenta as seguintes características:\n",
    "\n",
    "- **Uso estável e moderado da CPU** (idealmente abaixo de 70%, sem grandes flutuações);\n",
    "- **Consumo de RAM controlado**, sem crescimento contínuo (indicativo de vazamentos de memória);\n",
    "- **Curvas suaves** nos gráficos de evolução, com poucas variações bruscas entre iterações;\n",
    "- Ausência de **picos isolados** ou comportamento errático ao longo do tempo.\n",
    "\n",
    "---\n",
    "\n",
    "### 🚩 Sinais de alerta\n",
    "\n",
    "Comportamentos considerados problemáticos incluem:\n",
    "\n",
    "- **Picos súbitos ou irregulares de CPU**, o que pode indicar modelos mal otimizados ou sobrecarga do sistema;\n",
    "- **Crescimento progressivo da RAM** sem recuperação (possível memory leak);\n",
    "- Modelos que, mesmo com ficheiros pequenos, causam **uso elevado e variável de recursos**, o que prejudica a escalabilidade.\n",
    "\n",
    "---\n",
    "\n",
    "### 📌 Objetivo da análise\n",
    "\n",
    "Este tipo de análise é essencial para avaliar a **viabilidade prática** de um modelo em ambientes de produção, onde:\n",
    "\n",
    "- A infraestrutura pode ter limitações (ex: edge devices, servidores partilhados);\n",
    "- A consistência do uso de recursos é tão importante quanto a precisão dos embeddings;\n",
    "- É necessário prever o custo computacional à medida que a base de dados cresce.\n",
    "\n",
    "---\n",
    "\n",
    "No gráfico gerado com `plotly`, conseguimos observar estas tendências para cada modelo ao longo da iteração dos ficheiros. Idealmente, os modelos mais leves (ex: VGGish, YAMNet) apresentam curvas mais suaves, enquanto modelos mais complexos (ex: CLAP, OpenL3, AST) podem gerar maior variabilidade — o que deve ser ponderado na escolha final do modelo.\n"
   ]
  },
  {
   "cell_type": "code",
   "execution_count": 7,
   "metadata": {},
   "outputs": [
    {
     "data": {
      "application/vnd.plotly.v1+json": {
       "config": {
        "plotlyServerURL": "https://plot.ly"
       },
       "data": [
        {
         "mode": "lines+markers",
         "name": "wav2vec2",
         "type": "scatter",
         "x": {
          "bdata": "AAABAAIAAwAEAAUABgAHAAgACQAKAAsADAANAA4ADwAQABEAEgATABQAFQAWABcAGAAZABoAGwAcAB0AHgAfACAAIQAiACMAJAAlACYAJwAoACkAKgArACwALQAuAC8AMAAxADIAMwA0ADUANgA3ADgAOQA6ADsAPAA9AD4APwBAAEEAQgBDAEQARQBGAEcASABJAEoASwBMAE0ATgBPAFAAUQBSAFMAVABVAFYAVwBYAFkAWgBbAFwAXQBeAF8AYABhAGIAYwBkAGUAZgBnAGgAaQBqAGsAbABtAG4AbwBwAHEAcgBzAHQAdQB2AHcAeAB5AHoAewB8AH0AfgB/AIAAgQCCAIMAhACFAIYAhwCIAIkAigCLAIwAjQCOAI8AkACRAJIAkwCUAJUAlgCXAJgAmQCaAJsAnACdAJ4AnwCgAKEAogCjAKQApQCmAKcAqACpAKoAqwCsAK0ArgCvALAAsQCyALMAtAC1ALYAtwC4ALkAugC7ALwAvQC+AL8AwADBAMIAwwDEAMUAxgDHAMgAyQDKAMsAzADNAM4AzwDQANEA0gDTANQA1QDWANcA2ADZANoA2wDcAN0A3gDfAOAA4QDiAOMA5ADlAOYA5wDoAOkA6gDrAOwA7QDuAO8A8ADxAPIA8wD0APUA9gD3APgA+QA=",
          "dtype": "i2"
         },
         "y": {
          "bdata": "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",
          "dtype": "f8"
         }
        },
        {
         "mode": "lines+markers",
         "name": "vggish",
         "type": "scatter",
         "x": {
          "bdata": "+gD7APwA/QD+AP8AAAEBAQIBAwEEAQUBBgEHAQgBCQEKAQsBDAENAQ4BDwEQAREBEgETARQBFQEWARcBGAEZARoBGwEcAR0BHgEfASABIQEiASMBJAElASYBJwEoASkBKgErASwBLQEuAS8BMAExATIBMwE0ATUBNgE3ATgBOQE6ATsBPAE9AT4BPwFAAUEBQgFDAUQBRQFGAUcBSAFJAUoBSwFMAU0BTgFPAVABUQFSAVMBVAFVAVYBVwFYAVkBWgFbAVwBXQFeAV8BYAFhAWIBYwFkAWUBZgFnAWgBaQFqAWsBbAFtAW4BbwFwAXEBcgFzAXQBdQF2AXcBeAF5AXoBewF8AX0BfgF/AYABgQGCAYMBhAGFAYYBhwGIAYkBigGLAYwBjQGOAY8BkAGRAZIBkwGUAZUBlgGXAZgBmQGaAZsBnAGdAZ4BnwGgAaEBogGjAaQBpQGmAacBqAGpAaoBqwGsAa0BrgGvAbABsQGyAbMBtAG1AbYBtwG4AbkBugG7AbwBvQG+Ab8BwAHBAcIBwwHEAcUBxgHHAcgByQHKAcsBzAHNAc4BzwHQAdEB0gHTAdQB1QHWAdcB2AHZAdoB2wHcAd0B3gHfAeAB4QHiAeMB5AHlAeYB5wHoAekB6gHrAewB7QHuAe8B8AHxAfIB8wE=",
          "dtype": "i2"
         },
         "y": {
          "bdata": "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",
          "dtype": "f8"
         }
        },
        {
         "mode": "lines+markers",
         "name": "openl3",
         "type": "scatter",
         "x": {
          "bdata": "9AH1AfYB9wH4AfkB+gH7AfwB/QH+Af8BAAIBAgICAwIEAgUCBgIHAggCCQIKAgsCDAINAg4CDwIQAhECEgITAhQCFQIWAhcCGAIZAhoCGwIcAh0CHgIfAiACIQIiAiMCJAIlAiYCJwIoAikCKgIrAiwCLQIuAi8CMAIxAjICMwI0AjUCNgI3AjgCOQI6AjsCPAI9Aj4CPwJAAkECQgJDAkQCRQJGAkcCSAJJAkoCSwJMAk0CTgJPAlACUQJSAlMCVAJVAlYCVwJYAlkCWgJbAlwCXQJeAl8CYAJhAmICYwJkAmUCZgJnAmgCaQJqAmsCbAJtAm4CbwJwAnECcgJzAnQCdQJ2AncCeAJ5AnoCewJ8An0CfgJ/AoACgQKCAoMChAKFAoYChwKIAokCigKLAowCjQKOAo8CkAKRApICkwKUApUClgKXApgCmQKaApsCnAKdAp4CnwKgAqECogKjAqQCpQKmAqcCqAKpAqoCqwKsAq0CrgKvArACsQKyArMCtAK1ArYCtwK4ArkCugK7ArwCvQK+Ar8CwALBAsICwwLEAsUCxgLHAsgCyQLKAssCzALNAs4CzwLQAtEC0gLTAtQC1QLWAtcC2ALZAtoC2wLcAt0C3gLfAuAC4QLiAuMC5ALlAuYC5wLoAukC6gLrAuwC7QI=",
          "dtype": "i2"
         },
         "y": {
          "bdata": "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",
          "dtype": "f8"
         }
        },
        {
         "mode": "lines+markers",
         "name": "yamnet",
         "type": "scatter",
         "x": {
          "bdata": "7gLvAvAC8QLyAvMC9AL1AvYC9wL4AvkC+gL7AvwC/QL+Av8CAAMBAwIDAwMEAwUDBgMHAwgDCQMKAwsDDAMNAw4DDwMQAxEDEgMTAxQDFQMWAxcDGAMZAxoDGwMcAx0DHgMfAyADIQMiAyMDJAMlAyYDJwMoAykDKgMrAywDLQMuAy8DMAMxAzIDMwM0AzUDNgM3AzgDOQM6AzsDPAM9Az4DPwNAA0EDQgNDA0QDRQNGA0cDSANJA0oDSwNMA00DTgNPA1ADUQNSA1MDVANVA1YDVwNYA1kDWgNbA1wDXQNeA18DYANhA2IDYwNkA2UDZgNnA2gDaQNqA2sDbANtA24DbwNwA3EDcgNzA3QDdQN2A3cDeAN5A3oDewN8A30DfgN/A4ADgQOCA4MDhAOFA4YDhwOIA4kDigOLA4wDjQOOA48DkAORA5IDkwOUA5UDlgOXA5gDmQOaA5sDnAOdA54DnwOgA6EDogOjA6QDpQOmA6cDqAOpA6oDqwOsA60DrgOvA7ADsQOyA7MDtAO1A7YDtwO4A7kDugO7A7wDvQO+A78DwAPBA8IDwwPEA8UDxgPHA8gDyQPKA8sDzAPNA84DzwPQA9ED0gPTA9QD1QPWA9cD2APZA9oD2wPcA90D3gPfA+AD4QPiA+MD5APlA+YD5wM=",
          "dtype": "i2"
         },
         "y": {
          "bdata": "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",
          "dtype": "f8"
         }
        },
        {
         "mode": "lines+markers",
         "name": "clap",
         "type": "scatter",
         "x": {
          "bdata": "6APpA+oD6wPsA+0D7gPvA/AD8QPyA/MD9AP1A/YD9wP4A/kD+gP7A/wD/QP+A/8DAAQBBAIEAwQEBAUEBgQHBAgECQQKBAsEDAQNBA4EDwQQBBEEEgQTBBQEFQQWBBcEGAQZBBoEGwQcBB0EHgQfBCAEIQQiBCMEJAQlBCYEJwQoBCkEKgQrBCwELQQuBC8EMAQxBDIEMwQ0BDUENgQ3BDgEOQQ6BDsEPAQ9BD4EPwRABEEEQgRDBEQERQRGBEcESARJBEoESwRMBE0ETgRPBFAEUQRSBFMEVARVBFYEVwRYBFkEWgRbBFwEXQReBF8EYARhBGIEYwRkBGUEZgRnBGgEaQRqBGsEbARtBG4EbwRwBHEEcgRzBHQEdQR2BHcEeAR5BHoEewR8BH0EfgR/BIAEgQSCBIMEhASFBIYEhwSIBIkEigSLBIwEjQSOBI8EkASRBJIEkwSUBJUElgSXBJgEmQSaBJsEnASdBJ4EnwSgBKEEogSjBKQEpQSmBKcEqASpBKoEqwSsBK0ErgSvBLAEsQSyBLMEtAS1BLYEtwS4BLkEugS7BLwEvQS+BL8EwATBBMIEwwTEBMUExgTHBMgEyQTKBMsEzATNBM4EzwTQBNEE0gTTBNQE1QTWBNcE2ATZBNoE2wTcBN0E3gTfBOAE4QQ=",
          "dtype": "i2"
         },
         "y": {
          "bdata": "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",
          "dtype": "f8"
         }
        },
        {
         "mode": "lines+markers",
         "name": "ast",
         "type": "scatter",
         "x": {
          "bdata": "4gTjBOQE5QTmBOcE6ATpBOoE6wTsBO0E7gTvBPAE8QTyBPME9AT1BPYE9wT4BPkE+gT7BPwE/QT+BP8EAAUBBQIFAwUEBQUFBgUHBQgFCQUKBQsFDAUNBQ4FDwUQBREFEgUTBRQFFQUWBRcFGAUZBRoFGwUcBR0FHgUfBSAFIQUiBSMFJAUlBSYFJwUoBSkFKgUrBSwFLQUuBS8FMAUxBTIFMwU0BTUFNgU3BTgFOQU6BTsFPAU9BT4FPwVABUEFQgVDBUQFRQVGBUcFSAVJBUoFSwVMBU0FTgVPBVAFUQVSBVMFVAVVBVYFVwVYBVkFWgVbBVwFXQVeBV8FYAVhBWIFYwVkBWUFZgVnBWgFaQVqBWsFbAVtBW4FbwVwBXEFcgVzBXQFdQV2BXcFeAV5BXoFewV8BX0FfgV/BYAFgQWCBYMFhAWFBYYFhwWIBYkFigWLBYwFjQWOBY8FkAWRBZIFkwWUBZUFlgWXBZgFmQWaBZsFnAWdBZ4FnwWgBaEFogWjBaQFpQWmBacFqAWpBaoFqwWsBa0FrgWvBbAFsQWyBbMFtAW1BbYFtwW4BbkFugW7BbwFvQW+Bb8FwAXBBcIFwwXEBcUFxgXHBcgFyQXKBcsFzAXNBc4FzwXQBdEF0gXTBdQF1QXWBdcF2AXZBdoF2wU=",
          "dtype": "i2"
         },
         "y": {
          "bdata": "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",
          "dtype": "f8"
         }
        }
       ],
       "layout": {
        "template": {
         "data": {
          "bar": [
           {
            "error_x": {
             "color": "#2a3f5f"
            },
            "error_y": {
             "color": "#2a3f5f"
            },
            "marker": {
             "line": {
              "color": "#E5ECF6",
              "width": 0.5
             },
             "pattern": {
              "fillmode": "overlay",
              "size": 10,
              "solidity": 0.2
             }
            },
            "type": "bar"
           }
          ],
          "barpolar": [
           {
            "marker": {
             "line": {
              "color": "#E5ECF6",
              "width": 0.5
             },
             "pattern": {
              "fillmode": "overlay",
              "size": 10,
              "solidity": 0.2
             }
            },
            "type": "barpolar"
           }
          ],
          "carpet": [
           {
            "aaxis": {
             "endlinecolor": "#2a3f5f",
             "gridcolor": "white",
             "linecolor": "white",
             "minorgridcolor": "white",
             "startlinecolor": "#2a3f5f"
            },
            "baxis": {
             "endlinecolor": "#2a3f5f",
             "gridcolor": "white",
             "linecolor": "white",
             "minorgridcolor": "white",
             "startlinecolor": "#2a3f5f"
            },
            "type": "carpet"
           }
          ],
          "choropleth": [
           {
            "colorbar": {
             "outlinewidth": 0,
             "ticks": ""
            },
            "type": "choropleth"
           }
          ],
          "contour": [
           {
            "colorbar": {
             "outlinewidth": 0,
             "ticks": ""
            },
            "colorscale": [
             [
              0,
              "#0d0887"
             ],
             [
              0.1111111111111111,
              "#46039f"
             ],
             [
              0.2222222222222222,
              "#7201a8"
             ],
             [
              0.3333333333333333,
              "#9c179e"
             ],
             [
              0.4444444444444444,
              "#bd3786"
             ],
             [
              0.5555555555555556,
              "#d8576b"
             ],
             [
              0.6666666666666666,
              "#ed7953"
             ],
             [
              0.7777777777777778,
              "#fb9f3a"
             ],
             [
              0.8888888888888888,
              "#fdca26"
             ],
             [
              1,
              "#f0f921"
             ]
            ],
            "type": "contour"
           }
          ],
          "contourcarpet": [
           {
            "colorbar": {
             "outlinewidth": 0,
             "ticks": ""
            },
            "type": "contourcarpet"
           }
          ],
          "heatmap": [
           {
            "colorbar": {
             "outlinewidth": 0,
             "ticks": ""
            },
            "colorscale": [
             [
              0,
              "#0d0887"
             ],
             [
              0.1111111111111111,
              "#46039f"
             ],
             [
              0.2222222222222222,
              "#7201a8"
             ],
             [
              0.3333333333333333,
              "#9c179e"
             ],
             [
              0.4444444444444444,
              "#bd3786"
             ],
             [
              0.5555555555555556,
              "#d8576b"
             ],
             [
              0.6666666666666666,
              "#ed7953"
             ],
             [
              0.7777777777777778,
              "#fb9f3a"
             ],
             [
              0.8888888888888888,
              "#fdca26"
             ],
             [
              1,
              "#f0f921"
             ]
            ],
            "type": "heatmap"
           }
          ],
          "histogram": [
           {
            "marker": {
             "pattern": {
              "fillmode": "overlay",
              "size": 10,
              "solidity": 0.2
             }
            },
            "type": "histogram"
           }
          ],
          "histogram2d": [
           {
            "colorbar": {
             "outlinewidth": 0,
             "ticks": ""
            },
            "colorscale": [
             [
              0,
              "#0d0887"
             ],
             [
              0.1111111111111111,
              "#46039f"
             ],
             [
              0.2222222222222222,
              "#7201a8"
             ],
             [
              0.3333333333333333,
              "#9c179e"
             ],
             [
              0.4444444444444444,
              "#bd3786"
             ],
             [
              0.5555555555555556,
              "#d8576b"
             ],
             [
              0.6666666666666666,
              "#ed7953"
             ],
             [
              0.7777777777777778,
              "#fb9f3a"
             ],
             [
              0.8888888888888888,
              "#fdca26"
             ],
             [
              1,
              "#f0f921"
             ]
            ],
            "type": "histogram2d"
           }
          ],
          "histogram2dcontour": [
           {
            "colorbar": {
             "outlinewidth": 0,
             "ticks": ""
            },
            "colorscale": [
             [
              0,
              "#0d0887"
             ],
             [
              0.1111111111111111,
              "#46039f"
             ],
             [
              0.2222222222222222,
              "#7201a8"
             ],
             [
              0.3333333333333333,
              "#9c179e"
             ],
             [
              0.4444444444444444,
              "#bd3786"
             ],
             [
              0.5555555555555556,
              "#d8576b"
             ],
             [
              0.6666666666666666,
              "#ed7953"
             ],
             [
              0.7777777777777778,
              "#fb9f3a"
             ],
             [
              0.8888888888888888,
              "#fdca26"
             ],
             [
              1,
              "#f0f921"
             ]
            ],
            "type": "histogram2dcontour"
           }
          ],
          "mesh3d": [
           {
            "colorbar": {
             "outlinewidth": 0,
             "ticks": ""
            },
            "type": "mesh3d"
           }
          ],
          "parcoords": [
           {
            "line": {
             "colorbar": {
              "outlinewidth": 0,
              "ticks": ""
             }
            },
            "type": "parcoords"
           }
          ],
          "pie": [
           {
            "automargin": true,
            "type": "pie"
           }
          ],
          "scatter": [
           {
            "fillpattern": {
             "fillmode": "overlay",
             "size": 10,
             "solidity": 0.2
            },
            "type": "scatter"
           }
          ],
          "scatter3d": [
           {
            "line": {
             "colorbar": {
              "outlinewidth": 0,
              "ticks": ""
             }
            },
            "marker": {
             "colorbar": {
              "outlinewidth": 0,
              "ticks": ""
             }
            },
            "type": "scatter3d"
           }
          ],
          "scattercarpet": [
           {
            "marker": {
             "colorbar": {
              "outlinewidth": 0,
              "ticks": ""
             }
            },
            "type": "scattercarpet"
           }
          ],
          "scattergeo": [
           {
            "marker": {
             "colorbar": {
              "outlinewidth": 0,
              "ticks": ""
             }
            },
            "type": "scattergeo"
           }
          ],
          "scattergl": [
           {
            "marker": {
             "colorbar": {
              "outlinewidth": 0,
              "ticks": ""
             }
            },
            "type": "scattergl"
           }
          ],
          "scattermap": [
           {
            "marker": {
             "colorbar": {
              "outlinewidth": 0,
              "ticks": ""
             }
            },
            "type": "scattermap"
           }
          ],
          "scattermapbox": [
           {
            "marker": {
             "colorbar": {
              "outlinewidth": 0,
              "ticks": ""
             }
            },
            "type": "scattermapbox"
           }
          ],
          "scatterpolar": [
           {
            "marker": {
             "colorbar": {
              "outlinewidth": 0,
              "ticks": ""
             }
            },
            "type": "scatterpolar"
           }
          ],
          "scatterpolargl": [
           {
            "marker": {
             "colorbar": {
              "outlinewidth": 0,
              "ticks": ""
             }
            },
            "type": "scatterpolargl"
           }
          ],
          "scatterternary": [
           {
            "marker": {
             "colorbar": {
              "outlinewidth": 0,
              "ticks": ""
             }
            },
            "type": "scatterternary"
           }
          ],
          "surface": [
           {
            "colorbar": {
             "outlinewidth": 0,
             "ticks": ""
            },
            "colorscale": [
             [
              0,
              "#0d0887"
             ],
             [
              0.1111111111111111,
              "#46039f"
             ],
             [
              0.2222222222222222,
              "#7201a8"
             ],
             [
              0.3333333333333333,
              "#9c179e"
             ],
             [
              0.4444444444444444,
              "#bd3786"
             ],
             [
              0.5555555555555556,
              "#d8576b"
             ],
             [
              0.6666666666666666,
              "#ed7953"
             ],
             [
              0.7777777777777778,
              "#fb9f3a"
             ],
             [
              0.8888888888888888,
              "#fdca26"
             ],
             [
              1,
              "#f0f921"
             ]
            ],
            "type": "surface"
           }
          ],
          "table": [
           {
            "cells": {
             "fill": {
              "color": "#EBF0F8"
             },
             "line": {
              "color": "white"
             }
            },
            "header": {
             "fill": {
              "color": "#C8D4E3"
             },
             "line": {
              "color": "white"
             }
            },
            "type": "table"
           }
          ]
         },
         "layout": {
          "annotationdefaults": {
           "arrowcolor": "#2a3f5f",
           "arrowhead": 0,
           "arrowwidth": 1
          },
          "autotypenumbers": "strict",
          "coloraxis": {
           "colorbar": {
            "outlinewidth": 0,
            "ticks": ""
           }
          },
          "colorscale": {
           "diverging": [
            [
             0,
             "#8e0152"
            ],
            [
             0.1,
             "#c51b7d"
            ],
            [
             0.2,
             "#de77ae"
            ],
            [
             0.3,
             "#f1b6da"
            ],
            [
             0.4,
             "#fde0ef"
            ],
            [
             0.5,
             "#f7f7f7"
            ],
            [
             0.6,
             "#e6f5d0"
            ],
            [
             0.7,
             "#b8e186"
            ],
            [
             0.8,
             "#7fbc41"
            ],
            [
             0.9,
             "#4d9221"
            ],
            [
             1,
             "#276419"
            ]
           ],
           "sequential": [
            [
             0,
             "#0d0887"
            ],
            [
             0.1111111111111111,
             "#46039f"
            ],
            [
             0.2222222222222222,
             "#7201a8"
            ],
            [
             0.3333333333333333,
             "#9c179e"
            ],
            [
             0.4444444444444444,
             "#bd3786"
            ],
            [
             0.5555555555555556,
             "#d8576b"
            ],
            [
             0.6666666666666666,
             "#ed7953"
            ],
            [
             0.7777777777777778,
             "#fb9f3a"
            ],
            [
             0.8888888888888888,
             "#fdca26"
            ],
            [
             1,
             "#f0f921"
            ]
           ],
           "sequentialminus": [
            [
             0,
             "#0d0887"
            ],
            [
             0.1111111111111111,
             "#46039f"
            ],
            [
             0.2222222222222222,
             "#7201a8"
            ],
            [
             0.3333333333333333,
             "#9c179e"
            ],
            [
             0.4444444444444444,
             "#bd3786"
            ],
            [
             0.5555555555555556,
             "#d8576b"
            ],
            [
             0.6666666666666666,
             "#ed7953"
            ],
            [
             0.7777777777777778,
             "#fb9f3a"
            ],
            [
             0.8888888888888888,
             "#fdca26"
            ],
            [
             1,
             "#f0f921"
            ]
           ]
          },
          "colorway": [
           "#636efa",
           "#EF553B",
           "#00cc96",
           "#ab63fa",
           "#FFA15A",
           "#19d3f3",
           "#FF6692",
           "#B6E880",
           "#FF97FF",
           "#FECB52"
          ],
          "font": {
           "color": "#2a3f5f"
          },
          "geo": {
           "bgcolor": "white",
           "lakecolor": "white",
           "landcolor": "#E5ECF6",
           "showlakes": true,
           "showland": true,
           "subunitcolor": "white"
          },
          "hoverlabel": {
           "align": "left"
          },
          "hovermode": "closest",
          "mapbox": {
           "style": "light"
          },
          "paper_bgcolor": "white",
          "plot_bgcolor": "#E5ECF6",
          "polar": {
           "angularaxis": {
            "gridcolor": "white",
            "linecolor": "white",
            "ticks": ""
           },
           "bgcolor": "#E5ECF6",
           "radialaxis": {
            "gridcolor": "white",
            "linecolor": "white",
            "ticks": ""
           }
          },
          "scene": {
           "xaxis": {
            "backgroundcolor": "#E5ECF6",
            "gridcolor": "white",
            "gridwidth": 2,
            "linecolor": "white",
            "showbackground": true,
            "ticks": "",
            "zerolinecolor": "white"
           },
           "yaxis": {
            "backgroundcolor": "#E5ECF6",
            "gridcolor": "white",
            "gridwidth": 2,
            "linecolor": "white",
            "showbackground": true,
            "ticks": "",
            "zerolinecolor": "white"
           },
           "zaxis": {
            "backgroundcolor": "#E5ECF6",
            "gridcolor": "white",
            "gridwidth": 2,
            "linecolor": "white",
            "showbackground": true,
            "ticks": "",
            "zerolinecolor": "white"
           }
          },
          "shapedefaults": {
           "line": {
            "color": "#2a3f5f"
           }
          },
          "ternary": {
           "aaxis": {
            "gridcolor": "white",
            "linecolor": "white",
            "ticks": ""
           },
           "baxis": {
            "gridcolor": "white",
            "linecolor": "white",
            "ticks": ""
           },
           "bgcolor": "#E5ECF6",
           "caxis": {
            "gridcolor": "white",
            "linecolor": "white",
            "ticks": ""
           }
          },
          "title": {
           "x": 0.05
          },
          "xaxis": {
           "automargin": true,
           "gridcolor": "white",
           "linecolor": "white",
           "ticks": "",
           "title": {
            "standoff": 15
           },
           "zerolinecolor": "white",
           "zerolinewidth": 2
          },
          "yaxis": {
           "automargin": true,
           "gridcolor": "white",
           "linecolor": "white",
           "ticks": "",
           "title": {
            "standoff": 15
           },
           "zerolinecolor": "white",
           "zerolinewidth": 2
          }
         }
        },
        "title": {
         "text": "Evolução de CPU_PERCENT_AFTER"
        },
        "xaxis": {
         "title": {
          "text": "Index"
         }
        },
        "yaxis": {
         "title": {
          "text": "cpu_percent_after"
         }
        }
       }
      }
     },
     "metadata": {},
     "output_type": "display_data"
    },
    {
     "data": {
      "application/vnd.plotly.v1+json": {
       "config": {
        "plotlyServerURL": "https://plot.ly"
       },
       "data": [
        {
         "mode": "lines+markers",
         "name": "wav2vec2",
         "type": "scatter",
         "x": {
          "bdata": "AAABAAIAAwAEAAUABgAHAAgACQAKAAsADAANAA4ADwAQABEAEgATABQAFQAWABcAGAAZABoAGwAcAB0AHgAfACAAIQAiACMAJAAlACYAJwAoACkAKgArACwALQAuAC8AMAAxADIAMwA0ADUANgA3ADgAOQA6ADsAPAA9AD4APwBAAEEAQgBDAEQARQBGAEcASABJAEoASwBMAE0ATgBPAFAAUQBSAFMAVABVAFYAVwBYAFkAWgBbAFwAXQBeAF8AYABhAGIAYwBkAGUAZgBnAGgAaQBqAGsAbABtAG4AbwBwAHEAcgBzAHQAdQB2AHcAeAB5AHoAewB8AH0AfgB/AIAAgQCCAIMAhACFAIYAhwCIAIkAigCLAIwAjQCOAI8AkACRAJIAkwCUAJUAlgCXAJgAmQCaAJsAnACdAJ4AnwCgAKEAogCjAKQApQCmAKcAqACpAKoAqwCsAK0ArgCvALAAsQCyALMAtAC1ALYAtwC4ALkAugC7ALwAvQC+AL8AwADBAMIAwwDEAMUAxgDHAMgAyQDKAMsAzADNAM4AzwDQANEA0gDTANQA1QDWANcA2ADZANoA2wDcAN0A3gDfAOAA4QDiAOMA5ADlAOYA5wDoAOkA6gDrAOwA7QDuAO8A8ADxAPIA8wD0APUA9gD3APgA+QA=",
          "dtype": "i2"
         },
         "y": {
          "bdata": "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",
          "dtype": "f8"
         }
        },
        {
         "mode": "lines+markers",
         "name": "vggish",
         "type": "scatter",
         "x": {
          "bdata": "+gD7APwA/QD+AP8AAAEBAQIBAwEEAQUBBgEHAQgBCQEKAQsBDAENAQ4BDwEQAREBEgETARQBFQEWARcBGAEZARoBGwEcAR0BHgEfASABIQEiASMBJAElASYBJwEoASkBKgErASwBLQEuAS8BMAExATIBMwE0ATUBNgE3ATgBOQE6ATsBPAE9AT4BPwFAAUEBQgFDAUQBRQFGAUcBSAFJAUoBSwFMAU0BTgFPAVABUQFSAVMBVAFVAVYBVwFYAVkBWgFbAVwBXQFeAV8BYAFhAWIBYwFkAWUBZgFnAWgBaQFqAWsBbAFtAW4BbwFwAXEBcgFzAXQBdQF2AXcBeAF5AXoBewF8AX0BfgF/AYABgQGCAYMBhAGFAYYBhwGIAYkBigGLAYwBjQGOAY8BkAGRAZIBkwGUAZUBlgGXAZgBmQGaAZsBnAGdAZ4BnwGgAaEBogGjAaQBpQGmAacBqAGpAaoBqwGsAa0BrgGvAbABsQGyAbMBtAG1AbYBtwG4AbkBugG7AbwBvQG+Ab8BwAHBAcIBwwHEAcUBxgHHAcgByQHKAcsBzAHNAc4BzwHQAdEB0gHTAdQB1QHWAdcB2AHZAdoB2wHcAd0B3gHfAeAB4QHiAeMB5AHlAeYB5wHoAekB6gHrAewB7QHuAe8B8AHxAfIB8wE=",
          "dtype": "i2"
         },
         "y": {
          "bdata": "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",
          "dtype": "f8"
         }
        },
        {
         "mode": "lines+markers",
         "name": "openl3",
         "type": "scatter",
         "x": {
          "bdata": "9AH1AfYB9wH4AfkB+gH7AfwB/QH+Af8BAAIBAgICAwIEAgUCBgIHAggCCQIKAgsCDAINAg4CDwIQAhECEgITAhQCFQIWAhcCGAIZAhoCGwIcAh0CHgIfAiACIQIiAiMCJAIlAiYCJwIoAikCKgIrAiwCLQIuAi8CMAIxAjICMwI0AjUCNgI3AjgCOQI6AjsCPAI9Aj4CPwJAAkECQgJDAkQCRQJGAkcCSAJJAkoCSwJMAk0CTgJPAlACUQJSAlMCVAJVAlYCVwJYAlkCWgJbAlwCXQJeAl8CYAJhAmICYwJkAmUCZgJnAmgCaQJqAmsCbAJtAm4CbwJwAnECcgJzAnQCdQJ2AncCeAJ5AnoCewJ8An0CfgJ/AoACgQKCAoMChAKFAoYChwKIAokCigKLAowCjQKOAo8CkAKRApICkwKUApUClgKXApgCmQKaApsCnAKdAp4CnwKgAqECogKjAqQCpQKmAqcCqAKpAqoCqwKsAq0CrgKvArACsQKyArMCtAK1ArYCtwK4ArkCugK7ArwCvQK+Ar8CwALBAsICwwLEAsUCxgLHAsgCyQLKAssCzALNAs4CzwLQAtEC0gLTAtQC1QLWAtcC2ALZAtoC2wLcAt0C3gLfAuAC4QLiAuMC5ALlAuYC5wLoAukC6gLrAuwC7QI=",
          "dtype": "i2"
         },
         "y": {
          "bdata": "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",
          "dtype": "f8"
         }
        },
        {
         "mode": "lines+markers",
         "name": "yamnet",
         "type": "scatter",
         "x": {
          "bdata": "7gLvAvAC8QLyAvMC9AL1AvYC9wL4AvkC+gL7AvwC/QL+Av8CAAMBAwIDAwMEAwUDBgMHAwgDCQMKAwsDDAMNAw4DDwMQAxEDEgMTAxQDFQMWAxcDGAMZAxoDGwMcAx0DHgMfAyADIQMiAyMDJAMlAyYDJwMoAykDKgMrAywDLQMuAy8DMAMxAzIDMwM0AzUDNgM3AzgDOQM6AzsDPAM9Az4DPwNAA0EDQgNDA0QDRQNGA0cDSANJA0oDSwNMA00DTgNPA1ADUQNSA1MDVANVA1YDVwNYA1kDWgNbA1wDXQNeA18DYANhA2IDYwNkA2UDZgNnA2gDaQNqA2sDbANtA24DbwNwA3EDcgNzA3QDdQN2A3cDeAN5A3oDewN8A30DfgN/A4ADgQOCA4MDhAOFA4YDhwOIA4kDigOLA4wDjQOOA48DkAORA5IDkwOUA5UDlgOXA5gDmQOaA5sDnAOdA54DnwOgA6EDogOjA6QDpQOmA6cDqAOpA6oDqwOsA60DrgOvA7ADsQOyA7MDtAO1A7YDtwO4A7kDugO7A7wDvQO+A78DwAPBA8IDwwPEA8UDxgPHA8gDyQPKA8sDzAPNA84DzwPQA9ED0gPTA9QD1QPWA9cD2APZA9oD2wPcA90D3gPfA+AD4QPiA+MD5APlA+YD5wM=",
          "dtype": "i2"
         },
         "y": {
          "bdata": "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",
          "dtype": "f8"
         }
        },
        {
         "mode": "lines+markers",
         "name": "clap",
         "type": "scatter",
         "x": {
          "bdata": "6APpA+oD6wPsA+0D7gPvA/AD8QPyA/MD9AP1A/YD9wP4A/kD+gP7A/wD/QP+A/8DAAQBBAIEAwQEBAUEBgQHBAgECQQKBAsEDAQNBA4EDwQQBBEEEgQTBBQEFQQWBBcEGAQZBBoEGwQcBB0EHgQfBCAEIQQiBCMEJAQlBCYEJwQoBCkEKgQrBCwELQQuBC8EMAQxBDIEMwQ0BDUENgQ3BDgEOQQ6BDsEPAQ9BD4EPwRABEEEQgRDBEQERQRGBEcESARJBEoESwRMBE0ETgRPBFAEUQRSBFMEVARVBFYEVwRYBFkEWgRbBFwEXQReBF8EYARhBGIEYwRkBGUEZgRnBGgEaQRqBGsEbARtBG4EbwRwBHEEcgRzBHQEdQR2BHcEeAR5BHoEewR8BH0EfgR/BIAEgQSCBIMEhASFBIYEhwSIBIkEigSLBIwEjQSOBI8EkASRBJIEkwSUBJUElgSXBJgEmQSaBJsEnASdBJ4EnwSgBKEEogSjBKQEpQSmBKcEqASpBKoEqwSsBK0ErgSvBLAEsQSyBLMEtAS1BLYEtwS4BLkEugS7BLwEvQS+BL8EwATBBMIEwwTEBMUExgTHBMgEyQTKBMsEzATNBM4EzwTQBNEE0gTTBNQE1QTWBNcE2ATZBNoE2wTcBN0E3gTfBOAE4QQ=",
          "dtype": "i2"
         },
         "y": {
          "bdata": "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",
          "dtype": "f8"
         }
        },
        {
         "mode": "lines+markers",
         "name": "ast",
         "type": "scatter",
         "x": {
          "bdata": "4gTjBOQE5QTmBOcE6ATpBOoE6wTsBO0E7gTvBPAE8QTyBPME9AT1BPYE9wT4BPkE+gT7BPwE/QT+BP8EAAUBBQIFAwUEBQUFBgUHBQgFCQUKBQsFDAUNBQ4FDwUQBREFEgUTBRQFFQUWBRcFGAUZBRoFGwUcBR0FHgUfBSAFIQUiBSMFJAUlBSYFJwUoBSkFKgUrBSwFLQUuBS8FMAUxBTIFMwU0BTUFNgU3BTgFOQU6BTsFPAU9BT4FPwVABUEFQgVDBUQFRQVGBUcFSAVJBUoFSwVMBU0FTgVPBVAFUQVSBVMFVAVVBVYFVwVYBVkFWgVbBVwFXQVeBV8FYAVhBWIFYwVkBWUFZgVnBWgFaQVqBWsFbAVtBW4FbwVwBXEFcgVzBXQFdQV2BXcFeAV5BXoFewV8BX0FfgV/BYAFgQWCBYMFhAWFBYYFhwWIBYkFigWLBYwFjQWOBY8FkAWRBZIFkwWUBZUFlgWXBZgFmQWaBZsFnAWdBZ4FnwWgBaEFogWjBaQFpQWmBacFqAWpBaoFqwWsBa0FrgWvBbAFsQWyBbMFtAW1BbYFtwW4BbkFugW7BbwFvQW+Bb8FwAXBBcIFwwXEBcUFxgXHBcgFyQXKBcsFzAXNBc4FzwXQBdEF0gXTBdQF1QXWBdcF2AXZBdoF2wU=",
          "dtype": "i2"
         },
         "y": {
          "bdata": "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",
          "dtype": "f8"
         }
        }
       ],
       "layout": {
        "template": {
         "data": {
          "bar": [
           {
            "error_x": {
             "color": "#2a3f5f"
            },
            "error_y": {
             "color": "#2a3f5f"
            },
            "marker": {
             "line": {
              "color": "#E5ECF6",
              "width": 0.5
             },
             "pattern": {
              "fillmode": "overlay",
              "size": 10,
              "solidity": 0.2
             }
            },
            "type": "bar"
           }
          ],
          "barpolar": [
           {
            "marker": {
             "line": {
              "color": "#E5ECF6",
              "width": 0.5
             },
             "pattern": {
              "fillmode": "overlay",
              "size": 10,
              "solidity": 0.2
             }
            },
            "type": "barpolar"
           }
          ],
          "carpet": [
           {
            "aaxis": {
             "endlinecolor": "#2a3f5f",
             "gridcolor": "white",
             "linecolor": "white",
             "minorgridcolor": "white",
             "startlinecolor": "#2a3f5f"
            },
            "baxis": {
             "endlinecolor": "#2a3f5f",
             "gridcolor": "white",
             "linecolor": "white",
             "minorgridcolor": "white",
             "startlinecolor": "#2a3f5f"
            },
            "type": "carpet"
           }
          ],
          "choropleth": [
           {
            "colorbar": {
             "outlinewidth": 0,
             "ticks": ""
            },
            "type": "choropleth"
           }
          ],
          "contour": [
           {
            "colorbar": {
             "outlinewidth": 0,
             "ticks": ""
            },
            "colorscale": [
             [
              0,
              "#0d0887"
             ],
             [
              0.1111111111111111,
              "#46039f"
             ],
             [
              0.2222222222222222,
              "#7201a8"
             ],
             [
              0.3333333333333333,
              "#9c179e"
             ],
             [
              0.4444444444444444,
              "#bd3786"
             ],
             [
              0.5555555555555556,
              "#d8576b"
             ],
             [
              0.6666666666666666,
              "#ed7953"
             ],
             [
              0.7777777777777778,
              "#fb9f3a"
             ],
             [
              0.8888888888888888,
              "#fdca26"
             ],
             [
              1,
              "#f0f921"
             ]
            ],
            "type": "contour"
           }
          ],
          "contourcarpet": [
           {
            "colorbar": {
             "outlinewidth": 0,
             "ticks": ""
            },
            "type": "contourcarpet"
           }
          ],
          "heatmap": [
           {
            "colorbar": {
             "outlinewidth": 0,
             "ticks": ""
            },
            "colorscale": [
             [
              0,
              "#0d0887"
             ],
             [
              0.1111111111111111,
              "#46039f"
             ],
             [
              0.2222222222222222,
              "#7201a8"
             ],
             [
              0.3333333333333333,
              "#9c179e"
             ],
             [
              0.4444444444444444,
              "#bd3786"
             ],
             [
              0.5555555555555556,
              "#d8576b"
             ],
             [
              0.6666666666666666,
              "#ed7953"
             ],
             [
              0.7777777777777778,
              "#fb9f3a"
             ],
             [
              0.8888888888888888,
              "#fdca26"
             ],
             [
              1,
              "#f0f921"
             ]
            ],
            "type": "heatmap"
           }
          ],
          "histogram": [
           {
            "marker": {
             "pattern": {
              "fillmode": "overlay",
              "size": 10,
              "solidity": 0.2
             }
            },
            "type": "histogram"
           }
          ],
          "histogram2d": [
           {
            "colorbar": {
             "outlinewidth": 0,
             "ticks": ""
            },
            "colorscale": [
             [
              0,
              "#0d0887"
             ],
             [
              0.1111111111111111,
              "#46039f"
             ],
             [
              0.2222222222222222,
              "#7201a8"
             ],
             [
              0.3333333333333333,
              "#9c179e"
             ],
             [
              0.4444444444444444,
              "#bd3786"
             ],
             [
              0.5555555555555556,
              "#d8576b"
             ],
             [
              0.6666666666666666,
              "#ed7953"
             ],
             [
              0.7777777777777778,
              "#fb9f3a"
             ],
             [
              0.8888888888888888,
              "#fdca26"
             ],
             [
              1,
              "#f0f921"
             ]
            ],
            "type": "histogram2d"
           }
          ],
          "histogram2dcontour": [
           {
            "colorbar": {
             "outlinewidth": 0,
             "ticks": ""
            },
            "colorscale": [
             [
              0,
              "#0d0887"
             ],
             [
              0.1111111111111111,
              "#46039f"
             ],
             [
              0.2222222222222222,
              "#7201a8"
             ],
             [
              0.3333333333333333,
              "#9c179e"
             ],
             [
              0.4444444444444444,
              "#bd3786"
             ],
             [
              0.5555555555555556,
              "#d8576b"
             ],
             [
              0.6666666666666666,
              "#ed7953"
             ],
             [
              0.7777777777777778,
              "#fb9f3a"
             ],
             [
              0.8888888888888888,
              "#fdca26"
             ],
             [
              1,
              "#f0f921"
             ]
            ],
            "type": "histogram2dcontour"
           }
          ],
          "mesh3d": [
           {
            "colorbar": {
             "outlinewidth": 0,
             "ticks": ""
            },
            "type": "mesh3d"
           }
          ],
          "parcoords": [
           {
            "line": {
             "colorbar": {
              "outlinewidth": 0,
              "ticks": ""
             }
            },
            "type": "parcoords"
           }
          ],
          "pie": [
           {
            "automargin": true,
            "type": "pie"
           }
          ],
          "scatter": [
           {
            "fillpattern": {
             "fillmode": "overlay",
             "size": 10,
             "solidity": 0.2
            },
            "type": "scatter"
           }
          ],
          "scatter3d": [
           {
            "line": {
             "colorbar": {
              "outlinewidth": 0,
              "ticks": ""
             }
            },
            "marker": {
             "colorbar": {
              "outlinewidth": 0,
              "ticks": ""
             }
            },
            "type": "scatter3d"
           }
          ],
          "scattercarpet": [
           {
            "marker": {
             "colorbar": {
              "outlinewidth": 0,
              "ticks": ""
             }
            },
            "type": "scattercarpet"
           }
          ],
          "scattergeo": [
           {
            "marker": {
             "colorbar": {
              "outlinewidth": 0,
              "ticks": ""
             }
            },
            "type": "scattergeo"
           }
          ],
          "scattergl": [
           {
            "marker": {
             "colorbar": {
              "outlinewidth": 0,
              "ticks": ""
             }
            },
            "type": "scattergl"
           }
          ],
          "scattermap": [
           {
            "marker": {
             "colorbar": {
              "outlinewidth": 0,
              "ticks": ""
             }
            },
            "type": "scattermap"
           }
          ],
          "scattermapbox": [
           {
            "marker": {
             "colorbar": {
              "outlinewidth": 0,
              "ticks": ""
             }
            },
            "type": "scattermapbox"
           }
          ],
          "scatterpolar": [
           {
            "marker": {
             "colorbar": {
              "outlinewidth": 0,
              "ticks": ""
             }
            },
            "type": "scatterpolar"
           }
          ],
          "scatterpolargl": [
           {
            "marker": {
             "colorbar": {
              "outlinewidth": 0,
              "ticks": ""
             }
            },
            "type": "scatterpolargl"
           }
          ],
          "scatterternary": [
           {
            "marker": {
             "colorbar": {
              "outlinewidth": 0,
              "ticks": ""
             }
            },
            "type": "scatterternary"
           }
          ],
          "surface": [
           {
            "colorbar": {
             "outlinewidth": 0,
             "ticks": ""
            },
            "colorscale": [
             [
              0,
              "#0d0887"
             ],
             [
              0.1111111111111111,
              "#46039f"
             ],
             [
              0.2222222222222222,
              "#7201a8"
             ],
             [
              0.3333333333333333,
              "#9c179e"
             ],
             [
              0.4444444444444444,
              "#bd3786"
             ],
             [
              0.5555555555555556,
              "#d8576b"
             ],
             [
              0.6666666666666666,
              "#ed7953"
             ],
             [
              0.7777777777777778,
              "#fb9f3a"
             ],
             [
              0.8888888888888888,
              "#fdca26"
             ],
             [
              1,
              "#f0f921"
             ]
            ],
            "type": "surface"
           }
          ],
          "table": [
           {
            "cells": {
             "fill": {
              "color": "#EBF0F8"
             },
             "line": {
              "color": "white"
             }
            },
            "header": {
             "fill": {
              "color": "#C8D4E3"
             },
             "line": {
              "color": "white"
             }
            },
            "type": "table"
           }
          ]
         },
         "layout": {
          "annotationdefaults": {
           "arrowcolor": "#2a3f5f",
           "arrowhead": 0,
           "arrowwidth": 1
          },
          "autotypenumbers": "strict",
          "coloraxis": {
           "colorbar": {
            "outlinewidth": 0,
            "ticks": ""
           }
          },
          "colorscale": {
           "diverging": [
            [
             0,
             "#8e0152"
            ],
            [
             0.1,
             "#c51b7d"
            ],
            [
             0.2,
             "#de77ae"
            ],
            [
             0.3,
             "#f1b6da"
            ],
            [
             0.4,
             "#fde0ef"
            ],
            [
             0.5,
             "#f7f7f7"
            ],
            [
             0.6,
             "#e6f5d0"
            ],
            [
             0.7,
             "#b8e186"
            ],
            [
             0.8,
             "#7fbc41"
            ],
            [
             0.9,
             "#4d9221"
            ],
            [
             1,
             "#276419"
            ]
           ],
           "sequential": [
            [
             0,
             "#0d0887"
            ],
            [
             0.1111111111111111,
             "#46039f"
            ],
            [
             0.2222222222222222,
             "#7201a8"
            ],
            [
             0.3333333333333333,
             "#9c179e"
            ],
            [
             0.4444444444444444,
             "#bd3786"
            ],
            [
             0.5555555555555556,
             "#d8576b"
            ],
            [
             0.6666666666666666,
             "#ed7953"
            ],
            [
             0.7777777777777778,
             "#fb9f3a"
            ],
            [
             0.8888888888888888,
             "#fdca26"
            ],
            [
             1,
             "#f0f921"
            ]
           ],
           "sequentialminus": [
            [
             0,
             "#0d0887"
            ],
            [
             0.1111111111111111,
             "#46039f"
            ],
            [
             0.2222222222222222,
             "#7201a8"
            ],
            [
             0.3333333333333333,
             "#9c179e"
            ],
            [
             0.4444444444444444,
             "#bd3786"
            ],
            [
             0.5555555555555556,
             "#d8576b"
            ],
            [
             0.6666666666666666,
             "#ed7953"
            ],
            [
             0.7777777777777778,
             "#fb9f3a"
            ],
            [
             0.8888888888888888,
             "#fdca26"
            ],
            [
             1,
             "#f0f921"
            ]
           ]
          },
          "colorway": [
           "#636efa",
           "#EF553B",
           "#00cc96",
           "#ab63fa",
           "#FFA15A",
           "#19d3f3",
           "#FF6692",
           "#B6E880",
           "#FF97FF",
           "#FECB52"
          ],
          "font": {
           "color": "#2a3f5f"
          },
          "geo": {
           "bgcolor": "white",
           "lakecolor": "white",
           "landcolor": "#E5ECF6",
           "showlakes": true,
           "showland": true,
           "subunitcolor": "white"
          },
          "hoverlabel": {
           "align": "left"
          },
          "hovermode": "closest",
          "mapbox": {
           "style": "light"
          },
          "paper_bgcolor": "white",
          "plot_bgcolor": "#E5ECF6",
          "polar": {
           "angularaxis": {
            "gridcolor": "white",
            "linecolor": "white",
            "ticks": ""
           },
           "bgcolor": "#E5ECF6",
           "radialaxis": {
            "gridcolor": "white",
            "linecolor": "white",
            "ticks": ""
           }
          },
          "scene": {
           "xaxis": {
            "backgroundcolor": "#E5ECF6",
            "gridcolor": "white",
            "gridwidth": 2,
            "linecolor": "white",
            "showbackground": true,
            "ticks": "",
            "zerolinecolor": "white"
           },
           "yaxis": {
            "backgroundcolor": "#E5ECF6",
            "gridcolor": "white",
            "gridwidth": 2,
            "linecolor": "white",
            "showbackground": true,
            "ticks": "",
            "zerolinecolor": "white"
           },
           "zaxis": {
            "backgroundcolor": "#E5ECF6",
            "gridcolor": "white",
            "gridwidth": 2,
            "linecolor": "white",
            "showbackground": true,
            "ticks": "",
            "zerolinecolor": "white"
           }
          },
          "shapedefaults": {
           "line": {
            "color": "#2a3f5f"
           }
          },
          "ternary": {
           "aaxis": {
            "gridcolor": "white",
            "linecolor": "white",
            "ticks": ""
           },
           "baxis": {
            "gridcolor": "white",
            "linecolor": "white",
            "ticks": ""
           },
           "bgcolor": "#E5ECF6",
           "caxis": {
            "gridcolor": "white",
            "linecolor": "white",
            "ticks": ""
           }
          },
          "title": {
           "x": 0.05
          },
          "xaxis": {
           "automargin": true,
           "gridcolor": "white",
           "linecolor": "white",
           "ticks": "",
           "title": {
            "standoff": 15
           },
           "zerolinecolor": "white",
           "zerolinewidth": 2
          },
          "yaxis": {
           "automargin": true,
           "gridcolor": "white",
           "linecolor": "white",
           "ticks": "",
           "title": {
            "standoff": 15
           },
           "zerolinecolor": "white",
           "zerolinewidth": 2
          }
         }
        },
        "title": {
         "text": "Evolução de RAM_PERCENT_AFTER"
        },
        "xaxis": {
         "title": {
          "text": "Index"
         }
        },
        "yaxis": {
         "title": {
          "text": "ram_percent_after"
         }
        }
       }
      }
     },
     "metadata": {},
     "output_type": "display_data"
    }
   ],
   "source": [
    "# 📈 Evolução dos recursos (CPU, RAM)\n",
    "recursos = ['cpu_percent_after', 'ram_percent_after']\n",
    "for recurso in recursos:\n",
    "    fig = go.Figure()\n",
    "    for modelo in df['modelo'].unique():\n",
    "        subset = df[df['modelo'] == modelo]\n",
    "        fig.add_trace(go.Scatter(x=subset.index, y=subset[recurso], mode='lines+markers', name=modelo))\n",
    "    fig.update_layout(title=f'Evolução de {recurso.upper()}', xaxis_title='Index', yaxis_title=recurso)\n",
    "    fig.show()"
   ]
  },
  {
   "cell_type": "markdown",
   "metadata": {},
   "source": [
    "## 📈 Análise da Evolução dos Recursos Computacionais\n",
    "\n",
    "Nesta secção analisamos a evolução do uso da **CPU** e da **memória RAM** ao longo do tempo para cada modelo de embeddings de áudio. Esta análise é essencial para entender a **eficiência e estabilidade** dos modelos sob carga contínua.\n",
    "\n",
    "---\n",
    "\n",
    "### 🔧 CPU – `cpu_percent_after`\n",
    "\n",
    "![Evolução da CPU](attachment:file-X98q35Af81JiktppDzqbPa)\n",
    "\n",
    "#### 🟦 `wav2vec2`\n",
    "- Consumo de CPU entre 60% e 75%, com boa estabilidade.\n",
    "- Oscilações pequenas e comportamento relativamente previsível.\n",
    "- Considerado eficiente e estável.\n",
    "\n",
    "#### 🟥 `vggish`\n",
    "- Apresenta **picos constantes a 90–100%**, mas também valores a 0%, o que indica **uso intermitente da CPU**.\n",
    "- Esse padrão pode dever-se a espera por I/O ou gargalos no carregamento do modelo.\n",
    "- Apesar de bom desempenho geral, o comportamento da CPU sugere **flutuação intensa**.\n",
    "\n",
    "#### 🟩 `openl3`\n",
    "- Uso de CPU extremamente elevado, próximo dos **100% em praticamente todas as iterações**.\n",
    "- Sem variações, mas com **custo computacional máximo**.\n",
    "- Comportamento esperado para um modelo muito pesado, mas **pouco eficiente**.\n",
    "\n",
    "#### 🟪 `yamnet`\n",
    "- Consumo moderado entre 20% e 60%, com **oscilações suaves**.\n",
    "- Apresenta comportamento estável e previsível.\n",
    "- Um dos mais eficientes em termos de uso de CPU.\n",
    "\n",
    "#### 🟧 `clap`\n",
    "- Variações acentuadas, com CPU entre 0% e 95%.\n",
    "- Oscilações indicam alternância entre carga de processamento e espera.\n",
    "- Padrão semelhante ao VGGish, mas com picos mais frequentes.\n",
    "\n",
    "#### 🟦 `ast`\n",
    "- Uso contínuo da CPU, com média alta (acima de 70%) e flutuação mais controlada.\n",
    "- Estável, mas com custo computacional significativo.\n",
    "\n",
    "---\n",
    "\n",
    "### 💾 RAM – `ram_percent_after`\n",
    "\n",
    "![Evolução da RAM](attachment:file-G8S7gsPCsCLvP6FZevbfLi)\n",
    "\n",
    "#### 🟦 `wav2vec2`\n",
    "- Consumo entre 81% e 84%, com variação suave.\n",
    "- Comportamento previsível e eficiente.\n",
    "\n",
    "#### 🟥 `vggish`\n",
    "- Uso de RAM entre 84% e 86%, relativamente estável.\n",
    "- Levemente mais exigente que Wav2Vec2.\n",
    "\n",
    "#### 🟩 `openl3`\n",
    "- Maior variabilidade no uso da RAM, oscilando de 78% a 85%.\n",
    "- Este comportamento pode indicar **ineficiências na gestão de memória** ou pré-processamento mais pesado.\n",
    "- Provável ausência de libertação imediata da memória.\n",
    "\n",
    "#### 🟪 `yamnet`\n",
    "- Uso da RAM crescente ao longo da execução.\n",
    "- Possível **acumulação de carga** sem libertação de memória entre iterações.\n",
    "- Mesmo assim, ainda aceitável em contextos com boa RAM disponível.\n",
    "\n",
    "#### 🟧 `clap`\n",
    "- Consumo estável, mas elevado (~86%), com tendência ascendente.\n",
    "- Comportamento consistente com um modelo grande, mas não caótico.\n",
    "\n",
    "#### 🟦 `ast`\n",
    "- Estabilidade razoável no uso da RAM, mas com valores altos (~86%).\n",
    "- Utilização elevada, mas sem crescimento contínuo (o que é positivo).\n",
    "\n",
    "---\n",
    "\n",
    "### ✅ Conclusões\n",
    "\n",
    "| Modelo    | CPU: Estável | CPU: Alta | RAM: Estável | RAM: Uso Elevado | Observações                          |\n",
    "|-----------|--------------|-----------|---------------|------------------|--------------------------------------|\n",
    "| VGGish    | ❌           | ✅        | ✅            | ✅               | Uso intermitente, picos de CPU       |\n",
    "| Wav2Vec2  | ✅           | ⚠️        | ✅            | ✅               | Estável e eficiente                  |\n",
    "| OpenL3    | ✅           | ✅        | ❌            | ✅               | Altíssimo custo de CPU e RAM         |\n",
    "| YAMNet    | ✅           | ❌        | ⚠️            | ⚠️               | Leve e eficiente, mas RAM crescente  |\n",
    "| CLAP      | ❌           | ✅        | ✅            | ✅               | Variações intensas, mas previsível   |\n",
    "| AST       | ✅           | ✅        | ✅            | ✅               | Carga constante e alta, mas estável  |\n",
    "\n",
    "---\n",
    "\n",
    "### 🧠 Considerações Finais\n",
    "\n",
    "- **Modelos como YAMNet e Wav2Vec2** mostram o melhor equilíbrio entre performance e uso de recursos.\n",
    "- **OpenL3** utiliza consistentemente **quase todos os recursos da máquina**, o que o torna **ineficiente para produção**.\n",
    "- **CLAP e AST** são pesados, mas mantêm padrões estáveis, o que pode ser aceitável em contextos com infraestrutura robusta.\n",
    "\n",
    "A escolha ideal depende dos requisitos da aplicação:  \n",
    "→ Para **baixa carga e tempo real**, **YAMNet ou VGGish** são os mais indicados.  \n",
    "→ Para **análises profundas ou embeddings ricos**, **AST** pode ser preferido — desde que haja recurso disponível.\n"
   ]
  },
  {
   "cell_type": "markdown",
   "metadata": {},
   "source": [
    "# Ranking Modelos"
   ]
  },
  {
   "cell_type": "markdown",
   "metadata": {},
   "source": [
    "## Explicação do Sistema de Ranking dos Modelos de Embeddings\n",
    "O sistema de ranking implementado no notebook oferece uma visão comparativa detalhada sobre o desempenho dos diferentes modelos de embeddings de áudio. Vamos explicar o significado dos valores apresentados e como interpretá-los:\n",
    "\n",
    "Rankings Individuais por Métrica:\n",
    "- Tempo de Extração (s)\n",
    "Representa quanto tempo cada modelo leva para processar o áudio e gerar o embedding\n",
    "Valores menores são melhores (indicam processamento mais rápido)\n",
    "Um modelo com tempo de extração baixo é ideal para aplicações em tempo real ou processamento em lote de grandes coleções de áudio\n",
    "- Tempo de Inserção (s)\n",
    "Mede quanto tempo leva para armazenar o embedding na base de dados Milvus\n",
    "Valores menores são melhores\n",
    "Geralmente menos crítico que o tempo de extração, mas importante para fluxos de ingestão de dados em grande escala\n",
    "- Pico de Memória (MB)\n",
    "Indica a quantidade máxima de memória RAM utilizada durante o processamento\n",
    "Valores menores são melhores (menos recursos consumidos)\n",
    "Crítico para ambientes com recursos limitados ou aplicações que precisam processar muitos arquivos simultaneamente\n",
    "- Uso de CPU (%)\n",
    "Porcentagem de utilização da CPU durante o processamento\n",
    "Valores menores são melhores\n",
    "Modelos com menor uso de CPU deixam mais recursos disponíveis para outras tarefas\n",
    "- Uso de RAM (%)\n",
    "Percentual total de memória do sistema utilizada\n",
    "Valores menores são melhores\n",
    "Diferente do \"Pico de Memória\" que é específico do processo\n",
    "- Dimensionalidade\n",
    "Tamanho do vetor de embedding gerado\n",
    "Não é classificado como \"melhor\" ou \"pior\" diretamente\n",
    "\n",
    "Embeddings maiores (maior dimensionalidade) podem capturar mais informações, mas:\n",
    "Consomem mais espaço de armazenamento\n",
    "Podem ser mais lentos para pesquisa\n",
    "Podem exigir mais recursos computacionais\n",
    "Ranking Geral\n",
    "Pontuação (0-100)\n",
    "Representa uma avaliação holística do desempenho do modelo\n",
    "Valores maiores são melhores (mais próximo de 100 = desempenho ideal)\n",
    "Calculada usando uma média ponderada normalizada das métricas principais\n",
    "Pesos das Métricas no Ranking Geral\n",
    "O ranking geral usa a seguinte distribuição de pesos:\n",
    "\n",
    "Tempo de extração: 35% (mais peso devido à sua importância crítica)\n",
    "Pico de memória: 25% (segundo mais importante)\n",
    "Uso de CPU: 20% (impacto moderado)\n",
    "Tempo de inserção: 15% (menos crítico que a extração)\n",
    "Uso de RAM total: 5% (menor peso pois depende de outros fatores do sistema)\n",
    "Processo de Normalização\n",
    "Para criar um ranking justo, o sistema:\n",
    "\n",
    "Normaliza cada métrica para uma escala de 0-1 (onde 0 é o melhor valor)\n",
    "Aplica os pesos definidos para cada métrica\n",
    "Inverte a escala final para que valores maiores (próximos de 100) sejam melhores\n",
    "Interpretação dos Resultados\n",
    "Primeiro lugar (ouro): Representa o modelo com melhor equilíbrio entre velocidade, eficiência de recursos e desempenho\n",
    "Segundo lugar (prata): Bom desempenho geral, possível alternativa ao primeiro colocado\n",
    "Terceiro lugar (bronze): Desempenho aceitável, pode ser útil em cenários específicos\n",
    "Demais posições: Podem ser adequadas para casos de uso específicos, dependendo da prioridade (velocidade vs. qualidade vs. recursos)\n",
    "É importante notar que o ranking geral oferece uma visão equilibrada, mas a escolha do melhor modelo ainda depende das prioridades específicas do seu projeto. Por exemplo, se você tem restrições severas de memória, pode preferir um modelo que não está no topo do ranking geral, mas que tem excelente desempenho na métrica de consumo de memória."
   ]
  },
  {
   "cell_type": "code",
   "execution_count": 8,
   "metadata": {},
   "outputs": [
    {
     "name": "stdout",
     "output_type": "stream",
     "text": [
      "🏆 Rankings dos Modelos de Embeddings de Áudio\n"
     ]
    },
    {
     "data": {
      "application/vnd.jupyter.widget-view+json": {
       "model_id": "715d16bc3efd434983ee992bf4c4a8e4",
       "version_major": 2,
       "version_minor": 0
      },
      "text/plain": [
       "Tab(children=(Output(), Output(), Output(), Output(), Output(), Output(), Output()), selected_index=0, titles=…"
      ]
     },
     "metadata": {},
     "output_type": "display_data"
    },
    {
     "name": "stdout",
     "output_type": "stream",
     "text": [
      "\n",
      "🏆 Ranking Geral dos Modelos\n"
     ]
    },
    {
     "data": {
      "application/vnd.plotly.v1+json": {
       "config": {
        "plotlyServerURL": "https://plot.ly"
       },
       "data": [
        {
         "cells": {
          "align": "center",
          "fill": {
           "color": [
            [
             "gold",
             "silver",
             "lightcoral",
             "white",
             "white",
             "white"
            ]
           ]
          },
          "font": {
           "size": 13
          },
          "height": 30,
          "values": [
           [
            1,
            2,
            3,
            4,
            5,
            6
           ],
           [
            "yamnet",
            "clap",
            "vggish",
            "wav2vec2",
            "ast",
            "openl3"
           ],
           [
            97.96,
            83.05,
            80.57,
            80.35,
            75.45,
            5
           ]
          ]
         },
         "header": {
          "align": "center",
          "fill": {
           "color": "darkblue"
          },
          "font": {
           "color": "white",
           "size": 14
          },
          "values": [
           "Posição",
           "Modelo",
           "Pontuação (0-100)"
          ]
         },
         "type": "table"
        }
       ],
       "layout": {
        "height": 400,
        "margin": {
         "b": 20,
         "l": 20,
         "r": 20,
         "t": 50
        },
        "template": {
         "data": {
          "bar": [
           {
            "error_x": {
             "color": "#2a3f5f"
            },
            "error_y": {
             "color": "#2a3f5f"
            },
            "marker": {
             "line": {
              "color": "#E5ECF6",
              "width": 0.5
             },
             "pattern": {
              "fillmode": "overlay",
              "size": 10,
              "solidity": 0.2
             }
            },
            "type": "bar"
           }
          ],
          "barpolar": [
           {
            "marker": {
             "line": {
              "color": "#E5ECF6",
              "width": 0.5
             },
             "pattern": {
              "fillmode": "overlay",
              "size": 10,
              "solidity": 0.2
             }
            },
            "type": "barpolar"
           }
          ],
          "carpet": [
           {
            "aaxis": {
             "endlinecolor": "#2a3f5f",
             "gridcolor": "white",
             "linecolor": "white",
             "minorgridcolor": "white",
             "startlinecolor": "#2a3f5f"
            },
            "baxis": {
             "endlinecolor": "#2a3f5f",
             "gridcolor": "white",
             "linecolor": "white",
             "minorgridcolor": "white",
             "startlinecolor": "#2a3f5f"
            },
            "type": "carpet"
           }
          ],
          "choropleth": [
           {
            "colorbar": {
             "outlinewidth": 0,
             "ticks": ""
            },
            "type": "choropleth"
           }
          ],
          "contour": [
           {
            "colorbar": {
             "outlinewidth": 0,
             "ticks": ""
            },
            "colorscale": [
             [
              0,
              "#0d0887"
             ],
             [
              0.1111111111111111,
              "#46039f"
             ],
             [
              0.2222222222222222,
              "#7201a8"
             ],
             [
              0.3333333333333333,
              "#9c179e"
             ],
             [
              0.4444444444444444,
              "#bd3786"
             ],
             [
              0.5555555555555556,
              "#d8576b"
             ],
             [
              0.6666666666666666,
              "#ed7953"
             ],
             [
              0.7777777777777778,
              "#fb9f3a"
             ],
             [
              0.8888888888888888,
              "#fdca26"
             ],
             [
              1,
              "#f0f921"
             ]
            ],
            "type": "contour"
           }
          ],
          "contourcarpet": [
           {
            "colorbar": {
             "outlinewidth": 0,
             "ticks": ""
            },
            "type": "contourcarpet"
           }
          ],
          "heatmap": [
           {
            "colorbar": {
             "outlinewidth": 0,
             "ticks": ""
            },
            "colorscale": [
             [
              0,
              "#0d0887"
             ],
             [
              0.1111111111111111,
              "#46039f"
             ],
             [
              0.2222222222222222,
              "#7201a8"
             ],
             [
              0.3333333333333333,
              "#9c179e"
             ],
             [
              0.4444444444444444,
              "#bd3786"
             ],
             [
              0.5555555555555556,
              "#d8576b"
             ],
             [
              0.6666666666666666,
              "#ed7953"
             ],
             [
              0.7777777777777778,
              "#fb9f3a"
             ],
             [
              0.8888888888888888,
              "#fdca26"
             ],
             [
              1,
              "#f0f921"
             ]
            ],
            "type": "heatmap"
           }
          ],
          "histogram": [
           {
            "marker": {
             "pattern": {
              "fillmode": "overlay",
              "size": 10,
              "solidity": 0.2
             }
            },
            "type": "histogram"
           }
          ],
          "histogram2d": [
           {
            "colorbar": {
             "outlinewidth": 0,
             "ticks": ""
            },
            "colorscale": [
             [
              0,
              "#0d0887"
             ],
             [
              0.1111111111111111,
              "#46039f"
             ],
             [
              0.2222222222222222,
              "#7201a8"
             ],
             [
              0.3333333333333333,
              "#9c179e"
             ],
             [
              0.4444444444444444,
              "#bd3786"
             ],
             [
              0.5555555555555556,
              "#d8576b"
             ],
             [
              0.6666666666666666,
              "#ed7953"
             ],
             [
              0.7777777777777778,
              "#fb9f3a"
             ],
             [
              0.8888888888888888,
              "#fdca26"
             ],
             [
              1,
              "#f0f921"
             ]
            ],
            "type": "histogram2d"
           }
          ],
          "histogram2dcontour": [
           {
            "colorbar": {
             "outlinewidth": 0,
             "ticks": ""
            },
            "colorscale": [
             [
              0,
              "#0d0887"
             ],
             [
              0.1111111111111111,
              "#46039f"
             ],
             [
              0.2222222222222222,
              "#7201a8"
             ],
             [
              0.3333333333333333,
              "#9c179e"
             ],
             [
              0.4444444444444444,
              "#bd3786"
             ],
             [
              0.5555555555555556,
              "#d8576b"
             ],
             [
              0.6666666666666666,
              "#ed7953"
             ],
             [
              0.7777777777777778,
              "#fb9f3a"
             ],
             [
              0.8888888888888888,
              "#fdca26"
             ],
             [
              1,
              "#f0f921"
             ]
            ],
            "type": "histogram2dcontour"
           }
          ],
          "mesh3d": [
           {
            "colorbar": {
             "outlinewidth": 0,
             "ticks": ""
            },
            "type": "mesh3d"
           }
          ],
          "parcoords": [
           {
            "line": {
             "colorbar": {
              "outlinewidth": 0,
              "ticks": ""
             }
            },
            "type": "parcoords"
           }
          ],
          "pie": [
           {
            "automargin": true,
            "type": "pie"
           }
          ],
          "scatter": [
           {
            "fillpattern": {
             "fillmode": "overlay",
             "size": 10,
             "solidity": 0.2
            },
            "type": "scatter"
           }
          ],
          "scatter3d": [
           {
            "line": {
             "colorbar": {
              "outlinewidth": 0,
              "ticks": ""
             }
            },
            "marker": {
             "colorbar": {
              "outlinewidth": 0,
              "ticks": ""
             }
            },
            "type": "scatter3d"
           }
          ],
          "scattercarpet": [
           {
            "marker": {
             "colorbar": {
              "outlinewidth": 0,
              "ticks": ""
             }
            },
            "type": "scattercarpet"
           }
          ],
          "scattergeo": [
           {
            "marker": {
             "colorbar": {
              "outlinewidth": 0,
              "ticks": ""
             }
            },
            "type": "scattergeo"
           }
          ],
          "scattergl": [
           {
            "marker": {
             "colorbar": {
              "outlinewidth": 0,
              "ticks": ""
             }
            },
            "type": "scattergl"
           }
          ],
          "scattermap": [
           {
            "marker": {
             "colorbar": {
              "outlinewidth": 0,
              "ticks": ""
             }
            },
            "type": "scattermap"
           }
          ],
          "scattermapbox": [
           {
            "marker": {
             "colorbar": {
              "outlinewidth": 0,
              "ticks": ""
             }
            },
            "type": "scattermapbox"
           }
          ],
          "scatterpolar": [
           {
            "marker": {
             "colorbar": {
              "outlinewidth": 0,
              "ticks": ""
             }
            },
            "type": "scatterpolar"
           }
          ],
          "scatterpolargl": [
           {
            "marker": {
             "colorbar": {
              "outlinewidth": 0,
              "ticks": ""
             }
            },
            "type": "scatterpolargl"
           }
          ],
          "scatterternary": [
           {
            "marker": {
             "colorbar": {
              "outlinewidth": 0,
              "ticks": ""
             }
            },
            "type": "scatterternary"
           }
          ],
          "surface": [
           {
            "colorbar": {
             "outlinewidth": 0,
             "ticks": ""
            },
            "colorscale": [
             [
              0,
              "#0d0887"
             ],
             [
              0.1111111111111111,
              "#46039f"
             ],
             [
              0.2222222222222222,
              "#7201a8"
             ],
             [
              0.3333333333333333,
              "#9c179e"
             ],
             [
              0.4444444444444444,
              "#bd3786"
             ],
             [
              0.5555555555555556,
              "#d8576b"
             ],
             [
              0.6666666666666666,
              "#ed7953"
             ],
             [
              0.7777777777777778,
              "#fb9f3a"
             ],
             [
              0.8888888888888888,
              "#fdca26"
             ],
             [
              1,
              "#f0f921"
             ]
            ],
            "type": "surface"
           }
          ],
          "table": [
           {
            "cells": {
             "fill": {
              "color": "#EBF0F8"
             },
             "line": {
              "color": "white"
             }
            },
            "header": {
             "fill": {
              "color": "#C8D4E3"
             },
             "line": {
              "color": "white"
             }
            },
            "type": "table"
           }
          ]
         },
         "layout": {
          "annotationdefaults": {
           "arrowcolor": "#2a3f5f",
           "arrowhead": 0,
           "arrowwidth": 1
          },
          "autotypenumbers": "strict",
          "coloraxis": {
           "colorbar": {
            "outlinewidth": 0,
            "ticks": ""
           }
          },
          "colorscale": {
           "diverging": [
            [
             0,
             "#8e0152"
            ],
            [
             0.1,
             "#c51b7d"
            ],
            [
             0.2,
             "#de77ae"
            ],
            [
             0.3,
             "#f1b6da"
            ],
            [
             0.4,
             "#fde0ef"
            ],
            [
             0.5,
             "#f7f7f7"
            ],
            [
             0.6,
             "#e6f5d0"
            ],
            [
             0.7,
             "#b8e186"
            ],
            [
             0.8,
             "#7fbc41"
            ],
            [
             0.9,
             "#4d9221"
            ],
            [
             1,
             "#276419"
            ]
           ],
           "sequential": [
            [
             0,
             "#0d0887"
            ],
            [
             0.1111111111111111,
             "#46039f"
            ],
            [
             0.2222222222222222,
             "#7201a8"
            ],
            [
             0.3333333333333333,
             "#9c179e"
            ],
            [
             0.4444444444444444,
             "#bd3786"
            ],
            [
             0.5555555555555556,
             "#d8576b"
            ],
            [
             0.6666666666666666,
             "#ed7953"
            ],
            [
             0.7777777777777778,
             "#fb9f3a"
            ],
            [
             0.8888888888888888,
             "#fdca26"
            ],
            [
             1,
             "#f0f921"
            ]
           ],
           "sequentialminus": [
            [
             0,
             "#0d0887"
            ],
            [
             0.1111111111111111,
             "#46039f"
            ],
            [
             0.2222222222222222,
             "#7201a8"
            ],
            [
             0.3333333333333333,
             "#9c179e"
            ],
            [
             0.4444444444444444,
             "#bd3786"
            ],
            [
             0.5555555555555556,
             "#d8576b"
            ],
            [
             0.6666666666666666,
             "#ed7953"
            ],
            [
             0.7777777777777778,
             "#fb9f3a"
            ],
            [
             0.8888888888888888,
             "#fdca26"
            ],
            [
             1,
             "#f0f921"
            ]
           ]
          },
          "colorway": [
           "#636efa",
           "#EF553B",
           "#00cc96",
           "#ab63fa",
           "#FFA15A",
           "#19d3f3",
           "#FF6692",
           "#B6E880",
           "#FF97FF",
           "#FECB52"
          ],
          "font": {
           "color": "#2a3f5f"
          },
          "geo": {
           "bgcolor": "white",
           "lakecolor": "white",
           "landcolor": "#E5ECF6",
           "showlakes": true,
           "showland": true,
           "subunitcolor": "white"
          },
          "hoverlabel": {
           "align": "left"
          },
          "hovermode": "closest",
          "mapbox": {
           "style": "light"
          },
          "paper_bgcolor": "white",
          "plot_bgcolor": "#E5ECF6",
          "polar": {
           "angularaxis": {
            "gridcolor": "white",
            "linecolor": "white",
            "ticks": ""
           },
           "bgcolor": "#E5ECF6",
           "radialaxis": {
            "gridcolor": "white",
            "linecolor": "white",
            "ticks": ""
           }
          },
          "scene": {
           "xaxis": {
            "backgroundcolor": "#E5ECF6",
            "gridcolor": "white",
            "gridwidth": 2,
            "linecolor": "white",
            "showbackground": true,
            "ticks": "",
            "zerolinecolor": "white"
           },
           "yaxis": {
            "backgroundcolor": "#E5ECF6",
            "gridcolor": "white",
            "gridwidth": 2,
            "linecolor": "white",
            "showbackground": true,
            "ticks": "",
            "zerolinecolor": "white"
           },
           "zaxis": {
            "backgroundcolor": "#E5ECF6",
            "gridcolor": "white",
            "gridwidth": 2,
            "linecolor": "white",
            "showbackground": true,
            "ticks": "",
            "zerolinecolor": "white"
           }
          },
          "shapedefaults": {
           "line": {
            "color": "#2a3f5f"
           }
          },
          "ternary": {
           "aaxis": {
            "gridcolor": "white",
            "linecolor": "white",
            "ticks": ""
           },
           "baxis": {
            "gridcolor": "white",
            "linecolor": "white",
            "ticks": ""
           },
           "bgcolor": "#E5ECF6",
           "caxis": {
            "gridcolor": "white",
            "linecolor": "white",
            "ticks": ""
           }
          },
          "title": {
           "x": 0.05
          },
          "xaxis": {
           "automargin": true,
           "gridcolor": "white",
           "linecolor": "white",
           "ticks": "",
           "title": {
            "standoff": 15
           },
           "zerolinecolor": "white",
           "zerolinewidth": 2
          },
          "yaxis": {
           "automargin": true,
           "gridcolor": "white",
           "linecolor": "white",
           "ticks": "",
           "title": {
            "standoff": 15
           },
           "zerolinecolor": "white",
           "zerolinewidth": 2
          }
         }
        },
        "title": {
         "text": "🏆 Ranking Geral dos Modelos de Embeddings de Áudio"
        }
       }
      }
     },
     "metadata": {},
     "output_type": "display_data"
    },
    {
     "data": {
      "application/vnd.plotly.v1+json": {
       "config": {
        "plotlyServerURL": "https://plot.ly"
       },
       "data": [
        {
         "hovertemplate": "Modelo=%{x}<br>Pontuação (0-100)=%{marker.color}<extra></extra>",
         "legendgroup": "",
         "marker": {
          "color": {
           "bdata": "wOqVKV99WECb2QQgHMNUQH6Uual8JFRAplFxpooWVEDDxdLD3NxSQPj//////xNA",
           "dtype": "f8"
          },
          "coloraxis": "coloraxis",
          "pattern": {
           "shape": ""
          }
         },
         "name": "",
         "orientation": "v",
         "showlegend": false,
         "text": {
          "bdata": "wOqVKV99WECb2QQgHMNUQH6Uual8JFRAplFxpooWVEDDxdLD3NxSQPj//////xNA",
          "dtype": "f8"
         },
         "textposition": "outside",
         "texttemplate": "%{text:.1f}",
         "type": "bar",
         "x": [
          "yamnet",
          "clap",
          "vggish",
          "wav2vec2",
          "ast",
          "openl3"
         ],
         "xaxis": "x",
         "y": {
          "bdata": "wOqVKV99WECb2QQgHMNUQH6Uual8JFRAplFxpooWVEDDxdLD3NxSQPj//////xNA",
          "dtype": "f8"
         },
         "yaxis": "y"
        }
       ],
       "layout": {
        "barmode": "relative",
        "coloraxis": {
         "colorbar": {
          "title": {
           "text": "Pontuação (0-100)"
          }
         },
         "colorscale": [
          [
           0,
           "#440154"
          ],
          [
           0.1111111111111111,
           "#482878"
          ],
          [
           0.2222222222222222,
           "#3e4989"
          ],
          [
           0.3333333333333333,
           "#31688e"
          ],
          [
           0.4444444444444444,
           "#26828e"
          ],
          [
           0.5555555555555556,
           "#1f9e89"
          ],
          [
           0.6666666666666666,
           "#35b779"
          ],
          [
           0.7777777777777778,
           "#6ece58"
          ],
          [
           0.8888888888888888,
           "#b5de2b"
          ],
          [
           1,
           "#fde725"
          ]
         ]
        },
        "legend": {
         "tracegroupgap": 0
        },
        "template": {
         "data": {
          "bar": [
           {
            "error_x": {
             "color": "#2a3f5f"
            },
            "error_y": {
             "color": "#2a3f5f"
            },
            "marker": {
             "line": {
              "color": "#E5ECF6",
              "width": 0.5
             },
             "pattern": {
              "fillmode": "overlay",
              "size": 10,
              "solidity": 0.2
             }
            },
            "type": "bar"
           }
          ],
          "barpolar": [
           {
            "marker": {
             "line": {
              "color": "#E5ECF6",
              "width": 0.5
             },
             "pattern": {
              "fillmode": "overlay",
              "size": 10,
              "solidity": 0.2
             }
            },
            "type": "barpolar"
           }
          ],
          "carpet": [
           {
            "aaxis": {
             "endlinecolor": "#2a3f5f",
             "gridcolor": "white",
             "linecolor": "white",
             "minorgridcolor": "white",
             "startlinecolor": "#2a3f5f"
            },
            "baxis": {
             "endlinecolor": "#2a3f5f",
             "gridcolor": "white",
             "linecolor": "white",
             "minorgridcolor": "white",
             "startlinecolor": "#2a3f5f"
            },
            "type": "carpet"
           }
          ],
          "choropleth": [
           {
            "colorbar": {
             "outlinewidth": 0,
             "ticks": ""
            },
            "type": "choropleth"
           }
          ],
          "contour": [
           {
            "colorbar": {
             "outlinewidth": 0,
             "ticks": ""
            },
            "colorscale": [
             [
              0,
              "#0d0887"
             ],
             [
              0.1111111111111111,
              "#46039f"
             ],
             [
              0.2222222222222222,
              "#7201a8"
             ],
             [
              0.3333333333333333,
              "#9c179e"
             ],
             [
              0.4444444444444444,
              "#bd3786"
             ],
             [
              0.5555555555555556,
              "#d8576b"
             ],
             [
              0.6666666666666666,
              "#ed7953"
             ],
             [
              0.7777777777777778,
              "#fb9f3a"
             ],
             [
              0.8888888888888888,
              "#fdca26"
             ],
             [
              1,
              "#f0f921"
             ]
            ],
            "type": "contour"
           }
          ],
          "contourcarpet": [
           {
            "colorbar": {
             "outlinewidth": 0,
             "ticks": ""
            },
            "type": "contourcarpet"
           }
          ],
          "heatmap": [
           {
            "colorbar": {
             "outlinewidth": 0,
             "ticks": ""
            },
            "colorscale": [
             [
              0,
              "#0d0887"
             ],
             [
              0.1111111111111111,
              "#46039f"
             ],
             [
              0.2222222222222222,
              "#7201a8"
             ],
             [
              0.3333333333333333,
              "#9c179e"
             ],
             [
              0.4444444444444444,
              "#bd3786"
             ],
             [
              0.5555555555555556,
              "#d8576b"
             ],
             [
              0.6666666666666666,
              "#ed7953"
             ],
             [
              0.7777777777777778,
              "#fb9f3a"
             ],
             [
              0.8888888888888888,
              "#fdca26"
             ],
             [
              1,
              "#f0f921"
             ]
            ],
            "type": "heatmap"
           }
          ],
          "histogram": [
           {
            "marker": {
             "pattern": {
              "fillmode": "overlay",
              "size": 10,
              "solidity": 0.2
             }
            },
            "type": "histogram"
           }
          ],
          "histogram2d": [
           {
            "colorbar": {
             "outlinewidth": 0,
             "ticks": ""
            },
            "colorscale": [
             [
              0,
              "#0d0887"
             ],
             [
              0.1111111111111111,
              "#46039f"
             ],
             [
              0.2222222222222222,
              "#7201a8"
             ],
             [
              0.3333333333333333,
              "#9c179e"
             ],
             [
              0.4444444444444444,
              "#bd3786"
             ],
             [
              0.5555555555555556,
              "#d8576b"
             ],
             [
              0.6666666666666666,
              "#ed7953"
             ],
             [
              0.7777777777777778,
              "#fb9f3a"
             ],
             [
              0.8888888888888888,
              "#fdca26"
             ],
             [
              1,
              "#f0f921"
             ]
            ],
            "type": "histogram2d"
           }
          ],
          "histogram2dcontour": [
           {
            "colorbar": {
             "outlinewidth": 0,
             "ticks": ""
            },
            "colorscale": [
             [
              0,
              "#0d0887"
             ],
             [
              0.1111111111111111,
              "#46039f"
             ],
             [
              0.2222222222222222,
              "#7201a8"
             ],
             [
              0.3333333333333333,
              "#9c179e"
             ],
             [
              0.4444444444444444,
              "#bd3786"
             ],
             [
              0.5555555555555556,
              "#d8576b"
             ],
             [
              0.6666666666666666,
              "#ed7953"
             ],
             [
              0.7777777777777778,
              "#fb9f3a"
             ],
             [
              0.8888888888888888,
              "#fdca26"
             ],
             [
              1,
              "#f0f921"
             ]
            ],
            "type": "histogram2dcontour"
           }
          ],
          "mesh3d": [
           {
            "colorbar": {
             "outlinewidth": 0,
             "ticks": ""
            },
            "type": "mesh3d"
           }
          ],
          "parcoords": [
           {
            "line": {
             "colorbar": {
              "outlinewidth": 0,
              "ticks": ""
             }
            },
            "type": "parcoords"
           }
          ],
          "pie": [
           {
            "automargin": true,
            "type": "pie"
           }
          ],
          "scatter": [
           {
            "fillpattern": {
             "fillmode": "overlay",
             "size": 10,
             "solidity": 0.2
            },
            "type": "scatter"
           }
          ],
          "scatter3d": [
           {
            "line": {
             "colorbar": {
              "outlinewidth": 0,
              "ticks": ""
             }
            },
            "marker": {
             "colorbar": {
              "outlinewidth": 0,
              "ticks": ""
             }
            },
            "type": "scatter3d"
           }
          ],
          "scattercarpet": [
           {
            "marker": {
             "colorbar": {
              "outlinewidth": 0,
              "ticks": ""
             }
            },
            "type": "scattercarpet"
           }
          ],
          "scattergeo": [
           {
            "marker": {
             "colorbar": {
              "outlinewidth": 0,
              "ticks": ""
             }
            },
            "type": "scattergeo"
           }
          ],
          "scattergl": [
           {
            "marker": {
             "colorbar": {
              "outlinewidth": 0,
              "ticks": ""
             }
            },
            "type": "scattergl"
           }
          ],
          "scattermap": [
           {
            "marker": {
             "colorbar": {
              "outlinewidth": 0,
              "ticks": ""
             }
            },
            "type": "scattermap"
           }
          ],
          "scattermapbox": [
           {
            "marker": {
             "colorbar": {
              "outlinewidth": 0,
              "ticks": ""
             }
            },
            "type": "scattermapbox"
           }
          ],
          "scatterpolar": [
           {
            "marker": {
             "colorbar": {
              "outlinewidth": 0,
              "ticks": ""
             }
            },
            "type": "scatterpolar"
           }
          ],
          "scatterpolargl": [
           {
            "marker": {
             "colorbar": {
              "outlinewidth": 0,
              "ticks": ""
             }
            },
            "type": "scatterpolargl"
           }
          ],
          "scatterternary": [
           {
            "marker": {
             "colorbar": {
              "outlinewidth": 0,
              "ticks": ""
             }
            },
            "type": "scatterternary"
           }
          ],
          "surface": [
           {
            "colorbar": {
             "outlinewidth": 0,
             "ticks": ""
            },
            "colorscale": [
             [
              0,
              "#0d0887"
             ],
             [
              0.1111111111111111,
              "#46039f"
             ],
             [
              0.2222222222222222,
              "#7201a8"
             ],
             [
              0.3333333333333333,
              "#9c179e"
             ],
             [
              0.4444444444444444,
              "#bd3786"
             ],
             [
              0.5555555555555556,
              "#d8576b"
             ],
             [
              0.6666666666666666,
              "#ed7953"
             ],
             [
              0.7777777777777778,
              "#fb9f3a"
             ],
             [
              0.8888888888888888,
              "#fdca26"
             ],
             [
              1,
              "#f0f921"
             ]
            ],
            "type": "surface"
           }
          ],
          "table": [
           {
            "cells": {
             "fill": {
              "color": "#EBF0F8"
             },
             "line": {
              "color": "white"
             }
            },
            "header": {
             "fill": {
              "color": "#C8D4E3"
             },
             "line": {
              "color": "white"
             }
            },
            "type": "table"
           }
          ]
         },
         "layout": {
          "annotationdefaults": {
           "arrowcolor": "#2a3f5f",
           "arrowhead": 0,
           "arrowwidth": 1
          },
          "autotypenumbers": "strict",
          "coloraxis": {
           "colorbar": {
            "outlinewidth": 0,
            "ticks": ""
           }
          },
          "colorscale": {
           "diverging": [
            [
             0,
             "#8e0152"
            ],
            [
             0.1,
             "#c51b7d"
            ],
            [
             0.2,
             "#de77ae"
            ],
            [
             0.3,
             "#f1b6da"
            ],
            [
             0.4,
             "#fde0ef"
            ],
            [
             0.5,
             "#f7f7f7"
            ],
            [
             0.6,
             "#e6f5d0"
            ],
            [
             0.7,
             "#b8e186"
            ],
            [
             0.8,
             "#7fbc41"
            ],
            [
             0.9,
             "#4d9221"
            ],
            [
             1,
             "#276419"
            ]
           ],
           "sequential": [
            [
             0,
             "#0d0887"
            ],
            [
             0.1111111111111111,
             "#46039f"
            ],
            [
             0.2222222222222222,
             "#7201a8"
            ],
            [
             0.3333333333333333,
             "#9c179e"
            ],
            [
             0.4444444444444444,
             "#bd3786"
            ],
            [
             0.5555555555555556,
             "#d8576b"
            ],
            [
             0.6666666666666666,
             "#ed7953"
            ],
            [
             0.7777777777777778,
             "#fb9f3a"
            ],
            [
             0.8888888888888888,
             "#fdca26"
            ],
            [
             1,
             "#f0f921"
            ]
           ],
           "sequentialminus": [
            [
             0,
             "#0d0887"
            ],
            [
             0.1111111111111111,
             "#46039f"
            ],
            [
             0.2222222222222222,
             "#7201a8"
            ],
            [
             0.3333333333333333,
             "#9c179e"
            ],
            [
             0.4444444444444444,
             "#bd3786"
            ],
            [
             0.5555555555555556,
             "#d8576b"
            ],
            [
             0.6666666666666666,
             "#ed7953"
            ],
            [
             0.7777777777777778,
             "#fb9f3a"
            ],
            [
             0.8888888888888888,
             "#fdca26"
            ],
            [
             1,
             "#f0f921"
            ]
           ]
          },
          "colorway": [
           "#636efa",
           "#EF553B",
           "#00cc96",
           "#ab63fa",
           "#FFA15A",
           "#19d3f3",
           "#FF6692",
           "#B6E880",
           "#FF97FF",
           "#FECB52"
          ],
          "font": {
           "color": "#2a3f5f"
          },
          "geo": {
           "bgcolor": "white",
           "lakecolor": "white",
           "landcolor": "#E5ECF6",
           "showlakes": true,
           "showland": true,
           "subunitcolor": "white"
          },
          "hoverlabel": {
           "align": "left"
          },
          "hovermode": "closest",
          "mapbox": {
           "style": "light"
          },
          "paper_bgcolor": "white",
          "plot_bgcolor": "#E5ECF6",
          "polar": {
           "angularaxis": {
            "gridcolor": "white",
            "linecolor": "white",
            "ticks": ""
           },
           "bgcolor": "#E5ECF6",
           "radialaxis": {
            "gridcolor": "white",
            "linecolor": "white",
            "ticks": ""
           }
          },
          "scene": {
           "xaxis": {
            "backgroundcolor": "#E5ECF6",
            "gridcolor": "white",
            "gridwidth": 2,
            "linecolor": "white",
            "showbackground": true,
            "ticks": "",
            "zerolinecolor": "white"
           },
           "yaxis": {
            "backgroundcolor": "#E5ECF6",
            "gridcolor": "white",
            "gridwidth": 2,
            "linecolor": "white",
            "showbackground": true,
            "ticks": "",
            "zerolinecolor": "white"
           },
           "zaxis": {
            "backgroundcolor": "#E5ECF6",
            "gridcolor": "white",
            "gridwidth": 2,
            "linecolor": "white",
            "showbackground": true,
            "ticks": "",
            "zerolinecolor": "white"
           }
          },
          "shapedefaults": {
           "line": {
            "color": "#2a3f5f"
           }
          },
          "ternary": {
           "aaxis": {
            "gridcolor": "white",
            "linecolor": "white",
            "ticks": ""
           },
           "baxis": {
            "gridcolor": "white",
            "linecolor": "white",
            "ticks": ""
           },
           "bgcolor": "#E5ECF6",
           "caxis": {
            "gridcolor": "white",
            "linecolor": "white",
            "ticks": ""
           }
          },
          "title": {
           "x": 0.05
          },
          "xaxis": {
           "automargin": true,
           "gridcolor": "white",
           "linecolor": "white",
           "ticks": "",
           "title": {
            "standoff": 15
           },
           "zerolinecolor": "white",
           "zerolinewidth": 2
          },
          "yaxis": {
           "automargin": true,
           "gridcolor": "white",
           "linecolor": "white",
           "ticks": "",
           "title": {
            "standoff": 15
           },
           "zerolinecolor": "white",
           "zerolinewidth": 2
          }
         }
        },
        "title": {
         "text": "Comparação Geral dos Modelos"
        },
        "uniformtext": {
         "minsize": 8,
         "mode": "hide"
        },
        "xaxis": {
         "anchor": "y",
         "domain": [
          0,
          1
         ],
         "title": {
          "text": "Modelo"
         }
        },
        "yaxis": {
         "anchor": "x",
         "domain": [
          0,
          1
         ],
         "title": {
          "text": "Pontuação (0-100)"
         }
        }
       }
      }
     },
     "metadata": {},
     "output_type": "display_data"
    }
   ],
   "source": [
    "# 🏆 Ranking dos modelos por diferentes métricas\n",
    "def create_ranking_table(df, metric_column, metric_name, lower_is_better=True):\n",
    "    \"\"\"\n",
    "    Cria uma tabela de classificação dos modelos baseada numa métrica específica.\n",
    "    \n",
    "    Args:\n",
    "        df: DataFrame com os resultados do benchmark\n",
    "        metric_column: Nome da coluna da métrica a ser analisada\n",
    "        metric_name: Nome amigável da métrica para exibição\n",
    "        lower_is_better: Se True, valores menores são melhores (ex: tempo, memória)\n",
    "    \n",
    "    Returns:\n",
    "        DataFrame com o ranking dos modelos\n",
    "    \"\"\"\n",
    "    # Calcular média e desvio padrão para cada modelo\n",
    "    ranking = df.groupby('modelo')[metric_column].agg(['mean', 'std', 'min', 'max']).reset_index()\n",
    "    \n",
    "    # Renomear colunas\n",
    "    ranking.columns = ['Modelo', f'Média {metric_name}', f'Desvio Padrão', f'Mínimo', f'Máximo']\n",
    "    \n",
    "    # Ordenar resultados (crescente se lower_is_better=True, decrescente caso contrário)\n",
    "    ranking = ranking.sort_values(by=f'Média {metric_name}', ascending=lower_is_better)\n",
    "    \n",
    "    # Adicionar coluna de ranking\n",
    "    ranking.insert(0, 'Posição', range(1, len(ranking) + 1))\n",
    "    \n",
    "    return ranking\n",
    "\n",
    "# Criar rankings para diferentes métricas\n",
    "try:\n",
    "    print(\"🏆 Rankings dos Modelos de Embeddings de Áudio\")\n",
    "    \n",
    "    # Definir as métricas e seus nomes amigáveis\n",
    "    metrics = [\n",
    "        ('tempo_extracao', 'Tempo de Extração (s)', True),\n",
    "        ('tempo_insercao', 'Tempo de Inserção (s)', True),\n",
    "        ('memoria_peak_mb', 'Pico de Memória (MB)', True),\n",
    "        ('cpu_percent_after', 'Uso de CPU (%)', True),\n",
    "        ('ram_percent_after', 'Uso de RAM (%)', True),\n",
    "        ('gpu_usage', 'Uso de GPU (%)', True),\n",
    "        ('dimensao', 'Dimensionalidade', None)  # None porque não é melhor nem pior\n",
    "    ]\n",
    "    \n",
    "    # Criar abas para os diferentes rankings\n",
    "    tab_contents = [m[1] for m in metrics]\n",
    "    children = []\n",
    "    \n",
    "    for metric_col, metric_name, lower_is_better in metrics:\n",
    "        if metric_col in df.columns:\n",
    "            # Criar tabela de ranking\n",
    "            if lower_is_better is None:  # Para dimensionalidade, só mostramos os valores sem julgar\n",
    "                ranking = df.groupby('modelo')[metric_col].first().reset_index()\n",
    "                ranking.columns = ['Modelo', metric_name]\n",
    "                ranking = ranking.sort_values(by=metric_name)\n",
    "                ranking.insert(0, 'Posição', range(1, len(ranking) + 1))\n",
    "            else:\n",
    "                ranking = create_ranking_table(df, metric_col, metric_name, lower_is_better)\n",
    "            \n",
    "            # Criar visualização de tabela colorida com Plotly\n",
    "            fig = go.Figure(data=[go.Table(\n",
    "                header=dict(\n",
    "                    values=list(ranking.columns),\n",
    "                    fill_color='royalblue',\n",
    "                    font=dict(color='white', size=12),\n",
    "                    align='left'\n",
    "                ),\n",
    "                cells=dict(\n",
    "                    values=[ranking[col] for col in ranking.columns],\n",
    "                    fill_color=[['lightcyan' if i % 2 == 0 else 'white' for i in range(len(ranking))]],\n",
    "                    align='left',\n",
    "                    font_size=11,\n",
    "                    height=25\n",
    "                )\n",
    "            )])\n",
    "            \n",
    "            fig.update_layout(\n",
    "                title=f\"Ranking por {metric_name}\",\n",
    "                height=400,\n",
    "                margin=dict(l=20, r=20, t=40, b=20)\n",
    "            )\n",
    "            \n",
    "            # Adicionar à aba\n",
    "            out = widgets.Output()\n",
    "            with out:\n",
    "                display(fig)\n",
    "            children.append(out)\n",
    "        else:\n",
    "            # Se a métrica não existe, mostrar mensagem\n",
    "            out = widgets.Output()\n",
    "            with out:\n",
    "                print(f\"⚠️ Métrica '{metric_name}' não disponível nos dados do benchmark.\")\n",
    "            children.append(out)\n",
    "    \n",
    "    # Criar widget de abas para os rankings\n",
    "    ranking_tab = widgets.Tab(children=children)\n",
    "    for i in range(len(tab_contents)):\n",
    "        ranking_tab.set_title(i, tab_contents[i])\n",
    "    \n",
    "    # Mostrar widget\n",
    "    display(ranking_tab)\n",
    "    \n",
    "    # Criar um ranking geral (média ponderada das principais métricas)\n",
    "    print(\"\\n🏆 Ranking Geral dos Modelos\")\n",
    "    \n",
    "    # Definir pesos para as métricas principais (ajuste conforme necessidade do projeto)\n",
    "    weights = {\n",
    "        'tempo_extracao': 0.35,  # Tempo de extração é muito importante\n",
    "        'memoria_peak_mb': 0.25,  # Uso de memória é importante\n",
    "        'cpu_percent_after': 0.20,  # Uso de CPU tem peso médio\n",
    "        'tempo_insercao': 0.15,  # Tempo de inserção é menos importante\n",
    "        'ram_percent_after': 0.05  # RAM total tem menos peso\n",
    "    }\n",
    "    \n",
    "    # Verificar quais métricas estão disponíveis\n",
    "    available_metrics = [m for m in weights.keys() if m in df.columns]\n",
    "    \n",
    "    if len(available_metrics) >= 3:  # Exigir pelo menos 3 métricas para um ranking geral adequado\n",
    "        # Normalizar os pesos para as métricas disponíveis\n",
    "        total_weight = sum(weights[m] for m in available_metrics)\n",
    "        normalized_weights = {m: weights[m]/total_weight for m in available_metrics}\n",
    "        \n",
    "        # Calcular médias para cada modelo e métrica\n",
    "        model_metrics = {}\n",
    "        for model in df['modelo'].unique():\n",
    "            model_data = df[df['modelo'] == model]\n",
    "            model_metrics[model] = {}\n",
    "            \n",
    "            for metric in available_metrics:\n",
    "                model_metrics[model][metric] = model_data[metric].mean()\n",
    "        \n",
    "        # Normalizar valores entre 0-1 (onde 0 é melhor, 1 é pior)\n",
    "        normalized_metrics = {}\n",
    "        for metric in available_metrics:\n",
    "            min_val = min(model_metrics[m][metric] for m in model_metrics)\n",
    "            max_val = max(model_metrics[m][metric] for m in model_metrics)\n",
    "            range_val = max_val - min_val\n",
    "            \n",
    "            if range_val > 0:  # Evitar divisão por zero\n",
    "                for model in model_metrics:\n",
    "                    if metric not in normalized_metrics:\n",
    "                        normalized_metrics[metric] = {}\n",
    "                    normalized_metrics[metric][model] = (model_metrics[model][metric] - min_val) / range_val\n",
    "            else:\n",
    "                # Se todos os valores forem iguais, atribuir 0.5 (neutro)\n",
    "                for model in model_metrics:\n",
    "                    if metric not in normalized_metrics:\n",
    "                        normalized_metrics[metric] = {}\n",
    "                    normalized_metrics[metric][model] = 0.5\n",
    "        \n",
    "        # Calcular pontuação final (ponderada)\n",
    "        final_scores = {}\n",
    "        for model in model_metrics:\n",
    "            score = 0\n",
    "            for metric in available_metrics:\n",
    "                score += normalized_metrics[metric][model] * normalized_weights[metric]\n",
    "            final_scores[model] = score\n",
    "        \n",
    "        # Criar DataFrame com ranking final\n",
    "        final_ranking = pd.DataFrame({\n",
    "            'Modelo': list(final_scores.keys()),\n",
    "            'Pontuação Final': list(final_scores.values())\n",
    "        })\n",
    "        \n",
    "        # Calcular pontuação de 0-100 (inverter para que maior seja melhor)\n",
    "        final_ranking['Pontuação (0-100)'] = 100 * (1 - final_ranking['Pontuação Final'])\n",
    "        \n",
    "        # Ordenar por pontuação (maior é melhor)\n",
    "        final_ranking = final_ranking.sort_values('Pontuação (0-100)', ascending=False)\n",
    "        final_ranking.insert(0, 'Posição', range(1, len(final_ranking) + 1))\n",
    "        \n",
    "        # Criar visualização de tabela colorida para o ranking final\n",
    "        fig = go.Figure(data=[go.Table(\n",
    "            header=dict(\n",
    "                values=['Posição', 'Modelo', 'Pontuação (0-100)'],\n",
    "                fill_color='darkblue',\n",
    "                font=dict(color='white', size=14),\n",
    "                align='center'\n",
    "            ),\n",
    "            cells=dict(\n",
    "                values=[\n",
    "                    final_ranking['Posição'],\n",
    "                    final_ranking['Modelo'],\n",
    "                    final_ranking['Pontuação (0-100)'].round(2)\n",
    "                ],\n",
    "                fill_color=[\n",
    "                    ['gold' if pos == 1 else 'silver' if pos == 2 else 'lightcoral' if pos == 3 \n",
    "                     else 'white' for pos in final_ranking['Posição']]\n",
    "                ],\n",
    "                align='center',\n",
    "                font_size=13,\n",
    "                height=30\n",
    "            )\n",
    "        )])\n",
    "        \n",
    "        fig.update_layout(\n",
    "            title=\"🏆 Ranking Geral dos Modelos de Embeddings de Áudio\",\n",
    "            height=400,\n",
    "            margin=dict(l=20, r=20, t=50, b=20)\n",
    "        )\n",
    "        \n",
    "        display(fig)\n",
    "        \n",
    "        # Criar gráfico de barras para o ranking final\n",
    "        bar_fig = px.bar(\n",
    "            final_ranking, \n",
    "            x='Modelo', \n",
    "            y='Pontuação (0-100)', \n",
    "            title='Comparação Geral dos Modelos', \n",
    "            color='Pontuação (0-100)',\n",
    "            color_continuous_scale=px.colors.sequential.Viridis,\n",
    "            text='Pontuação (0-100)'\n",
    "        )\n",
    "        \n",
    "        bar_fig.update_traces(texttemplate='%{text:.1f}', textposition='outside')\n",
    "        bar_fig.update_layout(uniformtext_minsize=8, uniformtext_mode='hide')\n",
    "        \n",
    "        display(bar_fig)\n",
    "        \n",
    "    else:\n",
    "        print(\"⚠️ Dados insuficientes para gerar um ranking geral significativo.\")\n",
    "\n",
    "except Exception as e:\n",
    "    import traceback\n",
    "    print(f\"❌ Erro ao gerar ranking dos modelos: {e}\")\n",
    "    traceback.print_exc()"
   ]
  },
  {
   "cell_type": "markdown",
   "metadata": {},
   "source": [
    "## 🏁 Conclusão Final: Por que o YAMNet foi o modelo vencedor\n",
    "\n",
    "A escolha do **YAMNet** como o modelo com melhor desempenho geral neste benchmark justifica-se por um equilíbrio notável entre **eficiência, estabilidade e qualidade técnica**, tendo em conta os seguintes fatores:\n",
    "\n",
    "---\n",
    "\n",
    "### ✅ 1. Desempenho técnico consistente\n",
    "- **Tempos de extração e inserção baixos**, tornando-o adequado para cenários em tempo real.\n",
    "- Apresentou **boa estabilidade nos boxplots**, com dispersão controlada e poucos outliers.\n",
    "- Embora não tenha sido o mais rápido em todas as métricas, demonstrou **regularidade superior** aos demais.\n",
    "\n",
    "---\n",
    "\n",
    "### 💾 2. Uso eficiente dos recursos\n",
    "- **Baixo uso de CPU**, mantendo-se geralmente entre os 20% e 60%, o que demonstra eficiência energética.\n",
    "- Apesar de uma **ligera tendência de crescimento no uso da RAM**, manteve-se dentro de limites aceitáveis e não indicou vazamentos de memória graves.\n",
    "- Comportamento previsível e controlado mesmo em execução prolongada.\n",
    "\n",
    "---\n",
    "\n",
    "### ⚖️ 3. Excelente relação performance/custo\n",
    "- Comparado com modelos mais pesados como **CLAP** ou **AST**, o YAMNet oferece um **ótimo compromisso entre qualidade de embedding e custo computacional**.\n",
    "- Produz embeddings ricos (1024 dimensões) com **menos impacto nos recursos do sistema**.\n",
    "\n",
    "---\n",
    "\n",
    "### 📈 4. Elevada pontuação no ranking final\n",
    "- Alcançou a **pontuação mais alta (97.96/100)** no ranking geral, que agregou múltiplas métricas de desempenho, consumo e escalabilidade.\n",
    "- Superou inclusive modelos como o **VGGish** (mais leve) e o **CLAP** (mais semântico), mostrando-se mais robusto no conjunto.\n",
    "\n",
    "---\n",
    "\n",
    "### 🧠 5. Adequação prática e versatilidade\n",
    "- É um modelo pronto para tarefas de classificação e similaridade sonora, treinado em larga escala com o **AudioSet**.\n",
    "- Integra-se facilmente em pipelines de pré-processamento com frameworks como TensorFlow Hub.\n",
    "- Ideal para **bases de dados vetoriais** onde se busca bom desempenho com escalabilidade.\n",
    "\n",
    "---\n",
    "\n",
    "### 🥇 Conclusão\n",
    "\n",
    "> O **YAMNet** foi escolhido como o melhor modelo de embeddings de áudio neste benchmark não por ser o mais rápido ou o mais leve, mas por oferecer **a melhor performance global**: estável, eficiente e com baixo custo computacional — uma escolha segura e versátil para aplicações reais.\n"
   ]
  },
  {
   "cell_type": "markdown",
   "metadata": {},
   "source": [
    "## 📈 Análise de Escalabilidade dos Modelos\n",
    "\n",
    "A escalabilidade é um dos fatores mais importantes ao escolher um modelo de embeddings para grandes bases de dados. Um modelo eficiente não deve apenas ter bom desempenho em cenários pequenos, mas também **manter a sua eficiência relativa à medida que o volume de dados cresce**.\n",
    "\n",
    "---\n",
    "\n",
    "### 🔍 Como foi feita a análise\n",
    "\n",
    "Foram realizados **vários benchmarks independentes**, variando o número de ficheiros processados:  \n",
    "`[5, 25, 50, 100, 250]`\n",
    "\n",
    "Para cada uma destas escalas, foram medidos os seguintes indicadores:\n",
    "\n",
    "- **Tempo médio de extração de embeddings**;\n",
    "- **Tempo médio de inserção no Milvus**;\n",
    "- **Pico médio de uso de memória (RAM)**;\n",
    "- **Uso médio de CPU (%)**;\n",
    "- **Ranking geral baseado em desempenho e eficiência combinados**.\n",
    "\n",
    "---\n",
    "\n",
    "### 🧪 Estratégia utilizada\n",
    "\n",
    "1. **Carregamento automático dos benchmarks**: os dados foram estruturados para serem facilmente carregados e analisados por escala.\n",
    "2. **Visualizações interativas**: foram criados gráficos comparativos para observar o comportamento de cada modelo com o aumento do número de ficheiros.\n",
    "3. **Cálculo da tendência de crescimento (slope)**: foi estimada a **taxa de crescimento do tempo de extração** para cada modelo, indicando se ele cresce linear, exponencial ou de forma controlada com o volume de dados.\n",
    "4. **Estabilidade de ranking**: foi analisada a **posição relativa dos modelos em diferentes tamanhos de benchmark**, com um heatmap mostrando quais modelos mantêm performance consistente.\n",
    "\n",
    "---\n",
    "\n",
    "### ✅ Comportamento esperado para um modelo escalável\n",
    "\n",
    "Um modelo considerado **escalável** deve:\n",
    "\n",
    "- Ter uma **taxa de crescimento baixa** na extração de embeddings;\n",
    "- Manter **uso de CPU e RAM estáveis** mesmo com mais ficheiros;\n",
    "- Preservar uma posição elevada no ranking à medida que o volume aumenta;\n",
    "- Não degradar significativamente o tempo de inserção ou processamento.\n",
    "\n",
    "---\n",
    "\n",
    "### 📊 Ferramentas utilizadas\n",
    "\n",
    "- **Gráficos de linha**: mostram como cada métrica varia com o número de ficheiros.\n",
    "- **Tabelas interativas e heatmaps**: revelam como os rankings se alteram com a escala.\n",
    "- **Cálculo de slope (taxa de crescimento)**: estima qual modelo é mais sensível ao aumento de dados.\n",
    "\n",
    "---\n",
    "\n",
    "### 🏁 Conclusão da análise de escalabilidade\n",
    "\n",
    "Esta abordagem permite identificar **quais modelos são apropriados para ambientes de produção com crescimento contínuo de dados**, ajudando a:\n",
    "\n",
    "- Antecipar problemas de performance em larga escala;\n",
    "- Escolher modelos que se comportem bem tanto em fase de prototipagem quanto em produção;\n",
    "- Tomar decisões baseadas não apenas no desempenho atual, mas também na **projeção futura do custo computacional**.\n",
    "\n",
    "> ⚠️ Mesmo modelos rápidos com poucos ficheiros podem tornar-se **ineficientes ou inviáveis** se não escalarem bem. Esta análise garante que essa escolha é feita de forma informada.\n"
   ]
  },
  {
   "cell_type": "code",
   "execution_count": 9,
   "metadata": {},
   "outputs": [
    {
     "name": "stdout",
     "output_type": "stream",
     "text": [
      "## Benchmark com 5 ficheiros\n",
      "- Total de registros: 30\n",
      "- Modelos disponíveis: wav2vec2, vggish, openl3, yamnet, clap, ast\n"
     ]
    },
    {
     "data": {
      "application/vnd.plotly.v1+json": {
       "config": {
        "plotlyServerURL": "https://plot.ly"
       },
       "data": [
        {
         "hovertemplate": "modelo=%{x}<br>tempo_extracao=%{y}<extra></extra>",
         "legendgroup": "wav2vec2",
         "marker": {
          "color": "#636efa",
          "pattern": {
           "shape": ""
          }
         },
         "name": "wav2vec2",
         "orientation": "v",
         "showlegend": true,
         "textposition": "auto",
         "type": "bar",
         "x": [
          "wav2vec2",
          "wav2vec2",
          "wav2vec2",
          "wav2vec2",
          "wav2vec2"
         ],
         "xaxis": "x",
         "y": {
          "bdata": "AAAAAHVUC0AAAACAmHb8PwAAAIDhevg/AAAAgMeo9T8BAABA/Hv0Pw==",
          "dtype": "f8"
         },
         "yaxis": "y"
        },
        {
         "hovertemplate": "modelo=%{x}<br>tempo_extracao=%{y}<extra></extra>",
         "legendgroup": "vggish",
         "marker": {
          "color": "#EF553B",
          "pattern": {
           "shape": ""
          }
         },
         "name": "vggish",
         "orientation": "v",
         "showlegend": true,
         "textposition": "auto",
         "type": "bar",
         "x": [
          "vggish",
          "vggish",
          "vggish",
          "vggish",
          "vggish"
         ],
         "xaxis": "x",
         "y": {
          "bdata": "AAAAgAb84T8AAAAAhNzNPwAAAAAQ+Mo//////yHiyj/+////tz3LPw==",
          "dtype": "f8"
         },
         "yaxis": "y"
        },
        {
         "hovertemplate": "modelo=%{x}<br>tempo_extracao=%{y}<extra></extra>",
         "legendgroup": "openl3",
         "marker": {
          "color": "#00cc96",
          "pattern": {
           "shape": ""
          }
         },
         "name": "openl3",
         "orientation": "v",
         "showlegend": true,
         "textposition": "auto",
         "type": "bar",
         "x": [
          "openl3",
          "openl3",
          "openl3",
          "openl3",
          "openl3"
         ],
         "xaxis": "x",
         "y": {
          "bdata": "AAAAGBg+OEAAAABIlZg6QAAAAASaGDxAAAAAbFE+PkAAAABEL4c9QA==",
          "dtype": "f8"
         },
         "yaxis": "y"
        },
        {
         "hovertemplate": "modelo=%{x}<br>tempo_extracao=%{y}<extra></extra>",
         "legendgroup": "yamnet",
         "marker": {
          "color": "#ab63fa",
          "pattern": {
           "shape": ""
          }
         },
         "name": "yamnet",
         "orientation": "v",
         "showlegend": true,
         "textposition": "auto",
         "type": "bar",
         "x": [
          "yamnet",
          "yamnet",
          "yamnet",
          "yamnet",
          "yamnet"
         ],
         "xaxis": "x",
         "y": {
          "bdata": "/////+jW1z8AAAAABBa5P/v///+/erg/AAAAAACatz//////LxS4Pw==",
          "dtype": "f8"
         },
         "yaxis": "y"
        },
        {
         "hovertemplate": "modelo=%{x}<br>tempo_extracao=%{y}<extra></extra>",
         "legendgroup": "clap",
         "marker": {
          "color": "#FFA15A",
          "pattern": {
           "shape": ""
          }
         },
         "name": "clap",
         "orientation": "v",
         "showlegend": true,
         "textposition": "auto",
         "type": "bar",
         "x": [
          "clap",
          "clap",
          "clap",
          "clap",
          "clap"
         ],
         "xaxis": "x",
         "y": {
          "bdata": "AAAAgGz04j8AAAAAkPLDP/3///9fGcE//////63XwD/9////4VLBPw==",
          "dtype": "f8"
         },
         "yaxis": "y"
        },
        {
         "hovertemplate": "modelo=%{x}<br>tempo_extracao=%{y}<extra></extra>",
         "legendgroup": "ast",
         "marker": {
          "color": "#19d3f3",
          "pattern": {
           "shape": ""
          }
         },
         "name": "ast",
         "orientation": "v",
         "showlegend": true,
         "textposition": "auto",
         "type": "bar",
         "x": [
          "ast",
          "ast",
          "ast",
          "ast",
          "ast"
         ],
         "xaxis": "x",
         "y": {
          "bdata": "AAAAgGbs9j8AAAAAhVHmPwAAAAAA5uU/AAAAAEkB5j8AAACAfx3mPw==",
          "dtype": "f8"
         },
         "yaxis": "y"
        }
       ],
       "layout": {
        "barmode": "relative",
        "legend": {
         "title": {
          "text": "modelo"
         },
         "tracegroupgap": 0
        },
        "template": {
         "data": {
          "bar": [
           {
            "error_x": {
             "color": "#2a3f5f"
            },
            "error_y": {
             "color": "#2a3f5f"
            },
            "marker": {
             "line": {
              "color": "#E5ECF6",
              "width": 0.5
             },
             "pattern": {
              "fillmode": "overlay",
              "size": 10,
              "solidity": 0.2
             }
            },
            "type": "bar"
           }
          ],
          "barpolar": [
           {
            "marker": {
             "line": {
              "color": "#E5ECF6",
              "width": 0.5
             },
             "pattern": {
              "fillmode": "overlay",
              "size": 10,
              "solidity": 0.2
             }
            },
            "type": "barpolar"
           }
          ],
          "carpet": [
           {
            "aaxis": {
             "endlinecolor": "#2a3f5f",
             "gridcolor": "white",
             "linecolor": "white",
             "minorgridcolor": "white",
             "startlinecolor": "#2a3f5f"
            },
            "baxis": {
             "endlinecolor": "#2a3f5f",
             "gridcolor": "white",
             "linecolor": "white",
             "minorgridcolor": "white",
             "startlinecolor": "#2a3f5f"
            },
            "type": "carpet"
           }
          ],
          "choropleth": [
           {
            "colorbar": {
             "outlinewidth": 0,
             "ticks": ""
            },
            "type": "choropleth"
           }
          ],
          "contour": [
           {
            "colorbar": {
             "outlinewidth": 0,
             "ticks": ""
            },
            "colorscale": [
             [
              0,
              "#0d0887"
             ],
             [
              0.1111111111111111,
              "#46039f"
             ],
             [
              0.2222222222222222,
              "#7201a8"
             ],
             [
              0.3333333333333333,
              "#9c179e"
             ],
             [
              0.4444444444444444,
              "#bd3786"
             ],
             [
              0.5555555555555556,
              "#d8576b"
             ],
             [
              0.6666666666666666,
              "#ed7953"
             ],
             [
              0.7777777777777778,
              "#fb9f3a"
             ],
             [
              0.8888888888888888,
              "#fdca26"
             ],
             [
              1,
              "#f0f921"
             ]
            ],
            "type": "contour"
           }
          ],
          "contourcarpet": [
           {
            "colorbar": {
             "outlinewidth": 0,
             "ticks": ""
            },
            "type": "contourcarpet"
           }
          ],
          "heatmap": [
           {
            "colorbar": {
             "outlinewidth": 0,
             "ticks": ""
            },
            "colorscale": [
             [
              0,
              "#0d0887"
             ],
             [
              0.1111111111111111,
              "#46039f"
             ],
             [
              0.2222222222222222,
              "#7201a8"
             ],
             [
              0.3333333333333333,
              "#9c179e"
             ],
             [
              0.4444444444444444,
              "#bd3786"
             ],
             [
              0.5555555555555556,
              "#d8576b"
             ],
             [
              0.6666666666666666,
              "#ed7953"
             ],
             [
              0.7777777777777778,
              "#fb9f3a"
             ],
             [
              0.8888888888888888,
              "#fdca26"
             ],
             [
              1,
              "#f0f921"
             ]
            ],
            "type": "heatmap"
           }
          ],
          "histogram": [
           {
            "marker": {
             "pattern": {
              "fillmode": "overlay",
              "size": 10,
              "solidity": 0.2
             }
            },
            "type": "histogram"
           }
          ],
          "histogram2d": [
           {
            "colorbar": {
             "outlinewidth": 0,
             "ticks": ""
            },
            "colorscale": [
             [
              0,
              "#0d0887"
             ],
             [
              0.1111111111111111,
              "#46039f"
             ],
             [
              0.2222222222222222,
              "#7201a8"
             ],
             [
              0.3333333333333333,
              "#9c179e"
             ],
             [
              0.4444444444444444,
              "#bd3786"
             ],
             [
              0.5555555555555556,
              "#d8576b"
             ],
             [
              0.6666666666666666,
              "#ed7953"
             ],
             [
              0.7777777777777778,
              "#fb9f3a"
             ],
             [
              0.8888888888888888,
              "#fdca26"
             ],
             [
              1,
              "#f0f921"
             ]
            ],
            "type": "histogram2d"
           }
          ],
          "histogram2dcontour": [
           {
            "colorbar": {
             "outlinewidth": 0,
             "ticks": ""
            },
            "colorscale": [
             [
              0,
              "#0d0887"
             ],
             [
              0.1111111111111111,
              "#46039f"
             ],
             [
              0.2222222222222222,
              "#7201a8"
             ],
             [
              0.3333333333333333,
              "#9c179e"
             ],
             [
              0.4444444444444444,
              "#bd3786"
             ],
             [
              0.5555555555555556,
              "#d8576b"
             ],
             [
              0.6666666666666666,
              "#ed7953"
             ],
             [
              0.7777777777777778,
              "#fb9f3a"
             ],
             [
              0.8888888888888888,
              "#fdca26"
             ],
             [
              1,
              "#f0f921"
             ]
            ],
            "type": "histogram2dcontour"
           }
          ],
          "mesh3d": [
           {
            "colorbar": {
             "outlinewidth": 0,
             "ticks": ""
            },
            "type": "mesh3d"
           }
          ],
          "parcoords": [
           {
            "line": {
             "colorbar": {
              "outlinewidth": 0,
              "ticks": ""
             }
            },
            "type": "parcoords"
           }
          ],
          "pie": [
           {
            "automargin": true,
            "type": "pie"
           }
          ],
          "scatter": [
           {
            "fillpattern": {
             "fillmode": "overlay",
             "size": 10,
             "solidity": 0.2
            },
            "type": "scatter"
           }
          ],
          "scatter3d": [
           {
            "line": {
             "colorbar": {
              "outlinewidth": 0,
              "ticks": ""
             }
            },
            "marker": {
             "colorbar": {
              "outlinewidth": 0,
              "ticks": ""
             }
            },
            "type": "scatter3d"
           }
          ],
          "scattercarpet": [
           {
            "marker": {
             "colorbar": {
              "outlinewidth": 0,
              "ticks": ""
             }
            },
            "type": "scattercarpet"
           }
          ],
          "scattergeo": [
           {
            "marker": {
             "colorbar": {
              "outlinewidth": 0,
              "ticks": ""
             }
            },
            "type": "scattergeo"
           }
          ],
          "scattergl": [
           {
            "marker": {
             "colorbar": {
              "outlinewidth": 0,
              "ticks": ""
             }
            },
            "type": "scattergl"
           }
          ],
          "scattermap": [
           {
            "marker": {
             "colorbar": {
              "outlinewidth": 0,
              "ticks": ""
             }
            },
            "type": "scattermap"
           }
          ],
          "scattermapbox": [
           {
            "marker": {
             "colorbar": {
              "outlinewidth": 0,
              "ticks": ""
             }
            },
            "type": "scattermapbox"
           }
          ],
          "scatterpolar": [
           {
            "marker": {
             "colorbar": {
              "outlinewidth": 0,
              "ticks": ""
             }
            },
            "type": "scatterpolar"
           }
          ],
          "scatterpolargl": [
           {
            "marker": {
             "colorbar": {
              "outlinewidth": 0,
              "ticks": ""
             }
            },
            "type": "scatterpolargl"
           }
          ],
          "scatterternary": [
           {
            "marker": {
             "colorbar": {
              "outlinewidth": 0,
              "ticks": ""
             }
            },
            "type": "scatterternary"
           }
          ],
          "surface": [
           {
            "colorbar": {
             "outlinewidth": 0,
             "ticks": ""
            },
            "colorscale": [
             [
              0,
              "#0d0887"
             ],
             [
              0.1111111111111111,
              "#46039f"
             ],
             [
              0.2222222222222222,
              "#7201a8"
             ],
             [
              0.3333333333333333,
              "#9c179e"
             ],
             [
              0.4444444444444444,
              "#bd3786"
             ],
             [
              0.5555555555555556,
              "#d8576b"
             ],
             [
              0.6666666666666666,
              "#ed7953"
             ],
             [
              0.7777777777777778,
              "#fb9f3a"
             ],
             [
              0.8888888888888888,
              "#fdca26"
             ],
             [
              1,
              "#f0f921"
             ]
            ],
            "type": "surface"
           }
          ],
          "table": [
           {
            "cells": {
             "fill": {
              "color": "#EBF0F8"
             },
             "line": {
              "color": "white"
             }
            },
            "header": {
             "fill": {
              "color": "#C8D4E3"
             },
             "line": {
              "color": "white"
             }
            },
            "type": "table"
           }
          ]
         },
         "layout": {
          "annotationdefaults": {
           "arrowcolor": "#2a3f5f",
           "arrowhead": 0,
           "arrowwidth": 1
          },
          "autotypenumbers": "strict",
          "coloraxis": {
           "colorbar": {
            "outlinewidth": 0,
            "ticks": ""
           }
          },
          "colorscale": {
           "diverging": [
            [
             0,
             "#8e0152"
            ],
            [
             0.1,
             "#c51b7d"
            ],
            [
             0.2,
             "#de77ae"
            ],
            [
             0.3,
             "#f1b6da"
            ],
            [
             0.4,
             "#fde0ef"
            ],
            [
             0.5,
             "#f7f7f7"
            ],
            [
             0.6,
             "#e6f5d0"
            ],
            [
             0.7,
             "#b8e186"
            ],
            [
             0.8,
             "#7fbc41"
            ],
            [
             0.9,
             "#4d9221"
            ],
            [
             1,
             "#276419"
            ]
           ],
           "sequential": [
            [
             0,
             "#0d0887"
            ],
            [
             0.1111111111111111,
             "#46039f"
            ],
            [
             0.2222222222222222,
             "#7201a8"
            ],
            [
             0.3333333333333333,
             "#9c179e"
            ],
            [
             0.4444444444444444,
             "#bd3786"
            ],
            [
             0.5555555555555556,
             "#d8576b"
            ],
            [
             0.6666666666666666,
             "#ed7953"
            ],
            [
             0.7777777777777778,
             "#fb9f3a"
            ],
            [
             0.8888888888888888,
             "#fdca26"
            ],
            [
             1,
             "#f0f921"
            ]
           ],
           "sequentialminus": [
            [
             0,
             "#0d0887"
            ],
            [
             0.1111111111111111,
             "#46039f"
            ],
            [
             0.2222222222222222,
             "#7201a8"
            ],
            [
             0.3333333333333333,
             "#9c179e"
            ],
            [
             0.4444444444444444,
             "#bd3786"
            ],
            [
             0.5555555555555556,
             "#d8576b"
            ],
            [
             0.6666666666666666,
             "#ed7953"
            ],
            [
             0.7777777777777778,
             "#fb9f3a"
            ],
            [
             0.8888888888888888,
             "#fdca26"
            ],
            [
             1,
             "#f0f921"
            ]
           ]
          },
          "colorway": [
           "#636efa",
           "#EF553B",
           "#00cc96",
           "#ab63fa",
           "#FFA15A",
           "#19d3f3",
           "#FF6692",
           "#B6E880",
           "#FF97FF",
           "#FECB52"
          ],
          "font": {
           "color": "#2a3f5f"
          },
          "geo": {
           "bgcolor": "white",
           "lakecolor": "white",
           "landcolor": "#E5ECF6",
           "showlakes": true,
           "showland": true,
           "subunitcolor": "white"
          },
          "hoverlabel": {
           "align": "left"
          },
          "hovermode": "closest",
          "mapbox": {
           "style": "light"
          },
          "paper_bgcolor": "white",
          "plot_bgcolor": "#E5ECF6",
          "polar": {
           "angularaxis": {
            "gridcolor": "white",
            "linecolor": "white",
            "ticks": ""
           },
           "bgcolor": "#E5ECF6",
           "radialaxis": {
            "gridcolor": "white",
            "linecolor": "white",
            "ticks": ""
           }
          },
          "scene": {
           "xaxis": {
            "backgroundcolor": "#E5ECF6",
            "gridcolor": "white",
            "gridwidth": 2,
            "linecolor": "white",
            "showbackground": true,
            "ticks": "",
            "zerolinecolor": "white"
           },
           "yaxis": {
            "backgroundcolor": "#E5ECF6",
            "gridcolor": "white",
            "gridwidth": 2,
            "linecolor": "white",
            "showbackground": true,
            "ticks": "",
            "zerolinecolor": "white"
           },
           "zaxis": {
            "backgroundcolor": "#E5ECF6",
            "gridcolor": "white",
            "gridwidth": 2,
            "linecolor": "white",
            "showbackground": true,
            "ticks": "",
            "zerolinecolor": "white"
           }
          },
          "shapedefaults": {
           "line": {
            "color": "#2a3f5f"
           }
          },
          "ternary": {
           "aaxis": {
            "gridcolor": "white",
            "linecolor": "white",
            "ticks": ""
           },
           "baxis": {
            "gridcolor": "white",
            "linecolor": "white",
            "ticks": ""
           },
           "bgcolor": "#E5ECF6",
           "caxis": {
            "gridcolor": "white",
            "linecolor": "white",
            "ticks": ""
           }
          },
          "title": {
           "x": 0.05
          },
          "xaxis": {
           "automargin": true,
           "gridcolor": "white",
           "linecolor": "white",
           "ticks": "",
           "title": {
            "standoff": 15
           },
           "zerolinecolor": "white",
           "zerolinewidth": 2
          },
          "yaxis": {
           "automargin": true,
           "gridcolor": "white",
           "linecolor": "white",
           "ticks": "",
           "title": {
            "standoff": 15
           },
           "zerolinecolor": "white",
           "zerolinewidth": 2
          }
         }
        },
        "title": {
         "text": "Tempo de Extração por Modelo (Base: 5 ficheiros)"
        },
        "xaxis": {
         "anchor": "y",
         "categoryarray": [
          "wav2vec2",
          "vggish",
          "openl3",
          "yamnet",
          "clap",
          "ast"
         ],
         "categoryorder": "array",
         "domain": [
          0,
          1
         ],
         "title": {
          "text": "modelo"
         }
        },
        "yaxis": {
         "anchor": "x",
         "domain": [
          0,
          1
         ],
         "title": {
          "text": "tempo_extracao"
         }
        }
       }
      }
     },
     "metadata": {},
     "output_type": "display_data"
    },
    {
     "data": {
      "application/vnd.plotly.v1+json": {
       "config": {
        "plotlyServerURL": "https://plot.ly"
       },
       "data": [
        {
         "hovertemplate": "modelo=%{x}<br>tempo_insercao=%{y}<extra></extra>",
         "legendgroup": "wav2vec2",
         "marker": {
          "color": "#636efa",
          "pattern": {
           "shape": ""
          }
         },
         "name": "wav2vec2",
         "orientation": "v",
         "showlegend": true,
         "textposition": "auto",
         "type": "bar",
         "x": [
          "wav2vec2",
          "wav2vec2",
          "wav2vec2",
          "wav2vec2",
          "wav2vec2"
         ],
         "xaxis": "x",
         "y": {
          "bdata": "/f///23axD/2////ZzOuPwAAAAAFjOM/9f///5fpqD/2////Z6mlPw==",
          "dtype": "f8"
         },
         "yaxis": "y"
        },
        {
         "hovertemplate": "modelo=%{x}<br>tempo_insercao=%{y}<extra></extra>",
         "legendgroup": "vggish",
         "marker": {
          "color": "#EF553B",
          "pattern": {
           "shape": ""
          }
         },
         "name": "vggish",
         "orientation": "v",
         "showlegend": true,
         "textposition": "auto",
         "type": "bar",
         "x": [
          "vggish",
          "vggish",
          "vggish",
          "vggish",
          "vggish"
         ],
         "xaxis": "x",
         "y": {
          "bdata": "/P///5MbtT/6////36KjP/L////fFaM/9////y/Hoz/2////b3+nPw==",
          "dtype": "f8"
         },
         "yaxis": "y"
        },
        {
         "hovertemplate": "modelo=%{x}<br>tempo_insercao=%{y}<extra></extra>",
         "legendgroup": "openl3",
         "marker": {
          "color": "#00cc96",
          "pattern": {
           "shape": ""
          }
         },
         "name": "openl3",
         "orientation": "v",
         "showlegend": true,
         "textposition": "auto",
         "type": "bar",
         "x": [
          "openl3",
          "openl3",
          "openl3",
          "openl3",
          "openl3"
         ],
         "xaxis": "x",
         "y": {
          "bdata": "8////9cLrT//////lwXEP/7///9Phqo//f///2fmtT/9////b0CwPw==",
          "dtype": "f8"
         },
         "yaxis": "y"
        },
        {
         "hovertemplate": "modelo=%{x}<br>tempo_insercao=%{y}<extra></extra>",
         "legendgroup": "yamnet",
         "marker": {
          "color": "#ab63fa",
          "pattern": {
           "shape": ""
          }
         },
         "name": "yamnet",
         "orientation": "v",
         "showlegend": true,
         "textposition": "auto",
         "type": "bar",
         "x": [
          "yamnet",
          "yamnet",
          "yamnet",
          "yamnet",
          "yamnet"
         ],
         "xaxis": "x",
         "y": {
          "bdata": "/P///4d4qz/1////dx+mP/3///93SqU//P///5dOpT8AAAAAENimPw==",
          "dtype": "f8"
         },
         "yaxis": "y"
        },
        {
         "hovertemplate": "modelo=%{x}<br>tempo_insercao=%{y}<extra></extra>",
         "legendgroup": "clap",
         "marker": {
          "color": "#FFA15A",
          "pattern": {
           "shape": ""
          }
         },
         "name": "clap",
         "orientation": "v",
         "showlegend": true,
         "textposition": "auto",
         "type": "bar",
         "x": [
          "clap",
          "clap",
          "clap",
          "clap",
          "clap"
         ],
         "xaxis": "x",
         "y": {
          "bdata": "9v///2ddqj/5////53ynPwAAAAD8HLM//////yckqD/2////Z1+oPw==",
          "dtype": "f8"
         },
         "yaxis": "y"
        },
        {
         "hovertemplate": "modelo=%{x}<br>tempo_insercao=%{y}<extra></extra>",
         "legendgroup": "ast",
         "marker": {
          "color": "#19d3f3",
          "pattern": {
           "shape": ""
          }
         },
         "name": "ast",
         "orientation": "v",
         "showlegend": true,
         "textposition": "auto",
         "type": "bar",
         "x": [
          "ast",
          "ast",
          "ast",
          "ast",
          "ast"
         ],
         "xaxis": "x",
         "y": {
          "bdata": "AAAAAADsrT8AAAAAQnnTP/7///9XuLA/AAAAAAj90j/8////f8axPw==",
          "dtype": "f8"
         },
         "yaxis": "y"
        }
       ],
       "layout": {
        "barmode": "relative",
        "legend": {
         "title": {
          "text": "modelo"
         },
         "tracegroupgap": 0
        },
        "template": {
         "data": {
          "bar": [
           {
            "error_x": {
             "color": "#2a3f5f"
            },
            "error_y": {
             "color": "#2a3f5f"
            },
            "marker": {
             "line": {
              "color": "#E5ECF6",
              "width": 0.5
             },
             "pattern": {
              "fillmode": "overlay",
              "size": 10,
              "solidity": 0.2
             }
            },
            "type": "bar"
           }
          ],
          "barpolar": [
           {
            "marker": {
             "line": {
              "color": "#E5ECF6",
              "width": 0.5
             },
             "pattern": {
              "fillmode": "overlay",
              "size": 10,
              "solidity": 0.2
             }
            },
            "type": "barpolar"
           }
          ],
          "carpet": [
           {
            "aaxis": {
             "endlinecolor": "#2a3f5f",
             "gridcolor": "white",
             "linecolor": "white",
             "minorgridcolor": "white",
             "startlinecolor": "#2a3f5f"
            },
            "baxis": {
             "endlinecolor": "#2a3f5f",
             "gridcolor": "white",
             "linecolor": "white",
             "minorgridcolor": "white",
             "startlinecolor": "#2a3f5f"
            },
            "type": "carpet"
           }
          ],
          "choropleth": [
           {
            "colorbar": {
             "outlinewidth": 0,
             "ticks": ""
            },
            "type": "choropleth"
           }
          ],
          "contour": [
           {
            "colorbar": {
             "outlinewidth": 0,
             "ticks": ""
            },
            "colorscale": [
             [
              0,
              "#0d0887"
             ],
             [
              0.1111111111111111,
              "#46039f"
             ],
             [
              0.2222222222222222,
              "#7201a8"
             ],
             [
              0.3333333333333333,
              "#9c179e"
             ],
             [
              0.4444444444444444,
              "#bd3786"
             ],
             [
              0.5555555555555556,
              "#d8576b"
             ],
             [
              0.6666666666666666,
              "#ed7953"
             ],
             [
              0.7777777777777778,
              "#fb9f3a"
             ],
             [
              0.8888888888888888,
              "#fdca26"
             ],
             [
              1,
              "#f0f921"
             ]
            ],
            "type": "contour"
           }
          ],
          "contourcarpet": [
           {
            "colorbar": {
             "outlinewidth": 0,
             "ticks": ""
            },
            "type": "contourcarpet"
           }
          ],
          "heatmap": [
           {
            "colorbar": {
             "outlinewidth": 0,
             "ticks": ""
            },
            "colorscale": [
             [
              0,
              "#0d0887"
             ],
             [
              0.1111111111111111,
              "#46039f"
             ],
             [
              0.2222222222222222,
              "#7201a8"
             ],
             [
              0.3333333333333333,
              "#9c179e"
             ],
             [
              0.4444444444444444,
              "#bd3786"
             ],
             [
              0.5555555555555556,
              "#d8576b"
             ],
             [
              0.6666666666666666,
              "#ed7953"
             ],
             [
              0.7777777777777778,
              "#fb9f3a"
             ],
             [
              0.8888888888888888,
              "#fdca26"
             ],
             [
              1,
              "#f0f921"
             ]
            ],
            "type": "heatmap"
           }
          ],
          "histogram": [
           {
            "marker": {
             "pattern": {
              "fillmode": "overlay",
              "size": 10,
              "solidity": 0.2
             }
            },
            "type": "histogram"
           }
          ],
          "histogram2d": [
           {
            "colorbar": {
             "outlinewidth": 0,
             "ticks": ""
            },
            "colorscale": [
             [
              0,
              "#0d0887"
             ],
             [
              0.1111111111111111,
              "#46039f"
             ],
             [
              0.2222222222222222,
              "#7201a8"
             ],
             [
              0.3333333333333333,
              "#9c179e"
             ],
             [
              0.4444444444444444,
              "#bd3786"
             ],
             [
              0.5555555555555556,
              "#d8576b"
             ],
             [
              0.6666666666666666,
              "#ed7953"
             ],
             [
              0.7777777777777778,
              "#fb9f3a"
             ],
             [
              0.8888888888888888,
              "#fdca26"
             ],
             [
              1,
              "#f0f921"
             ]
            ],
            "type": "histogram2d"
           }
          ],
          "histogram2dcontour": [
           {
            "colorbar": {
             "outlinewidth": 0,
             "ticks": ""
            },
            "colorscale": [
             [
              0,
              "#0d0887"
             ],
             [
              0.1111111111111111,
              "#46039f"
             ],
             [
              0.2222222222222222,
              "#7201a8"
             ],
             [
              0.3333333333333333,
              "#9c179e"
             ],
             [
              0.4444444444444444,
              "#bd3786"
             ],
             [
              0.5555555555555556,
              "#d8576b"
             ],
             [
              0.6666666666666666,
              "#ed7953"
             ],
             [
              0.7777777777777778,
              "#fb9f3a"
             ],
             [
              0.8888888888888888,
              "#fdca26"
             ],
             [
              1,
              "#f0f921"
             ]
            ],
            "type": "histogram2dcontour"
           }
          ],
          "mesh3d": [
           {
            "colorbar": {
             "outlinewidth": 0,
             "ticks": ""
            },
            "type": "mesh3d"
           }
          ],
          "parcoords": [
           {
            "line": {
             "colorbar": {
              "outlinewidth": 0,
              "ticks": ""
             }
            },
            "type": "parcoords"
           }
          ],
          "pie": [
           {
            "automargin": true,
            "type": "pie"
           }
          ],
          "scatter": [
           {
            "fillpattern": {
             "fillmode": "overlay",
             "size": 10,
             "solidity": 0.2
            },
            "type": "scatter"
           }
          ],
          "scatter3d": [
           {
            "line": {
             "colorbar": {
              "outlinewidth": 0,
              "ticks": ""
             }
            },
            "marker": {
             "colorbar": {
              "outlinewidth": 0,
              "ticks": ""
             }
            },
            "type": "scatter3d"
           }
          ],
          "scattercarpet": [
           {
            "marker": {
             "colorbar": {
              "outlinewidth": 0,
              "ticks": ""
             }
            },
            "type": "scattercarpet"
           }
          ],
          "scattergeo": [
           {
            "marker": {
             "colorbar": {
              "outlinewidth": 0,
              "ticks": ""
             }
            },
            "type": "scattergeo"
           }
          ],
          "scattergl": [
           {
            "marker": {
             "colorbar": {
              "outlinewidth": 0,
              "ticks": ""
             }
            },
            "type": "scattergl"
           }
          ],
          "scattermap": [
           {
            "marker": {
             "colorbar": {
              "outlinewidth": 0,
              "ticks": ""
             }
            },
            "type": "scattermap"
           }
          ],
          "scattermapbox": [
           {
            "marker": {
             "colorbar": {
              "outlinewidth": 0,
              "ticks": ""
             }
            },
            "type": "scattermapbox"
           }
          ],
          "scatterpolar": [
           {
            "marker": {
             "colorbar": {
              "outlinewidth": 0,
              "ticks": ""
             }
            },
            "type": "scatterpolar"
           }
          ],
          "scatterpolargl": [
           {
            "marker": {
             "colorbar": {
              "outlinewidth": 0,
              "ticks": ""
             }
            },
            "type": "scatterpolargl"
           }
          ],
          "scatterternary": [
           {
            "marker": {
             "colorbar": {
              "outlinewidth": 0,
              "ticks": ""
             }
            },
            "type": "scatterternary"
           }
          ],
          "surface": [
           {
            "colorbar": {
             "outlinewidth": 0,
             "ticks": ""
            },
            "colorscale": [
             [
              0,
              "#0d0887"
             ],
             [
              0.1111111111111111,
              "#46039f"
             ],
             [
              0.2222222222222222,
              "#7201a8"
             ],
             [
              0.3333333333333333,
              "#9c179e"
             ],
             [
              0.4444444444444444,
              "#bd3786"
             ],
             [
              0.5555555555555556,
              "#d8576b"
             ],
             [
              0.6666666666666666,
              "#ed7953"
             ],
             [
              0.7777777777777778,
              "#fb9f3a"
             ],
             [
              0.8888888888888888,
              "#fdca26"
             ],
             [
              1,
              "#f0f921"
             ]
            ],
            "type": "surface"
           }
          ],
          "table": [
           {
            "cells": {
             "fill": {
              "color": "#EBF0F8"
             },
             "line": {
              "color": "white"
             }
            },
            "header": {
             "fill": {
              "color": "#C8D4E3"
             },
             "line": {
              "color": "white"
             }
            },
            "type": "table"
           }
          ]
         },
         "layout": {
          "annotationdefaults": {
           "arrowcolor": "#2a3f5f",
           "arrowhead": 0,
           "arrowwidth": 1
          },
          "autotypenumbers": "strict",
          "coloraxis": {
           "colorbar": {
            "outlinewidth": 0,
            "ticks": ""
           }
          },
          "colorscale": {
           "diverging": [
            [
             0,
             "#8e0152"
            ],
            [
             0.1,
             "#c51b7d"
            ],
            [
             0.2,
             "#de77ae"
            ],
            [
             0.3,
             "#f1b6da"
            ],
            [
             0.4,
             "#fde0ef"
            ],
            [
             0.5,
             "#f7f7f7"
            ],
            [
             0.6,
             "#e6f5d0"
            ],
            [
             0.7,
             "#b8e186"
            ],
            [
             0.8,
             "#7fbc41"
            ],
            [
             0.9,
             "#4d9221"
            ],
            [
             1,
             "#276419"
            ]
           ],
           "sequential": [
            [
             0,
             "#0d0887"
            ],
            [
             0.1111111111111111,
             "#46039f"
            ],
            [
             0.2222222222222222,
             "#7201a8"
            ],
            [
             0.3333333333333333,
             "#9c179e"
            ],
            [
             0.4444444444444444,
             "#bd3786"
            ],
            [
             0.5555555555555556,
             "#d8576b"
            ],
            [
             0.6666666666666666,
             "#ed7953"
            ],
            [
             0.7777777777777778,
             "#fb9f3a"
            ],
            [
             0.8888888888888888,
             "#fdca26"
            ],
            [
             1,
             "#f0f921"
            ]
           ],
           "sequentialminus": [
            [
             0,
             "#0d0887"
            ],
            [
             0.1111111111111111,
             "#46039f"
            ],
            [
             0.2222222222222222,
             "#7201a8"
            ],
            [
             0.3333333333333333,
             "#9c179e"
            ],
            [
             0.4444444444444444,
             "#bd3786"
            ],
            [
             0.5555555555555556,
             "#d8576b"
            ],
            [
             0.6666666666666666,
             "#ed7953"
            ],
            [
             0.7777777777777778,
             "#fb9f3a"
            ],
            [
             0.8888888888888888,
             "#fdca26"
            ],
            [
             1,
             "#f0f921"
            ]
           ]
          },
          "colorway": [
           "#636efa",
           "#EF553B",
           "#00cc96",
           "#ab63fa",
           "#FFA15A",
           "#19d3f3",
           "#FF6692",
           "#B6E880",
           "#FF97FF",
           "#FECB52"
          ],
          "font": {
           "color": "#2a3f5f"
          },
          "geo": {
           "bgcolor": "white",
           "lakecolor": "white",
           "landcolor": "#E5ECF6",
           "showlakes": true,
           "showland": true,
           "subunitcolor": "white"
          },
          "hoverlabel": {
           "align": "left"
          },
          "hovermode": "closest",
          "mapbox": {
           "style": "light"
          },
          "paper_bgcolor": "white",
          "plot_bgcolor": "#E5ECF6",
          "polar": {
           "angularaxis": {
            "gridcolor": "white",
            "linecolor": "white",
            "ticks": ""
           },
           "bgcolor": "#E5ECF6",
           "radialaxis": {
            "gridcolor": "white",
            "linecolor": "white",
            "ticks": ""
           }
          },
          "scene": {
           "xaxis": {
            "backgroundcolor": "#E5ECF6",
            "gridcolor": "white",
            "gridwidth": 2,
            "linecolor": "white",
            "showbackground": true,
            "ticks": "",
            "zerolinecolor": "white"
           },
           "yaxis": {
            "backgroundcolor": "#E5ECF6",
            "gridcolor": "white",
            "gridwidth": 2,
            "linecolor": "white",
            "showbackground": true,
            "ticks": "",
            "zerolinecolor": "white"
           },
           "zaxis": {
            "backgroundcolor": "#E5ECF6",
            "gridcolor": "white",
            "gridwidth": 2,
            "linecolor": "white",
            "showbackground": true,
            "ticks": "",
            "zerolinecolor": "white"
           }
          },
          "shapedefaults": {
           "line": {
            "color": "#2a3f5f"
           }
          },
          "ternary": {
           "aaxis": {
            "gridcolor": "white",
            "linecolor": "white",
            "ticks": ""
           },
           "baxis": {
            "gridcolor": "white",
            "linecolor": "white",
            "ticks": ""
           },
           "bgcolor": "#E5ECF6",
           "caxis": {
            "gridcolor": "white",
            "linecolor": "white",
            "ticks": ""
           }
          },
          "title": {
           "x": 0.05
          },
          "xaxis": {
           "automargin": true,
           "gridcolor": "white",
           "linecolor": "white",
           "ticks": "",
           "title": {
            "standoff": 15
           },
           "zerolinecolor": "white",
           "zerolinewidth": 2
          },
          "yaxis": {
           "automargin": true,
           "gridcolor": "white",
           "linecolor": "white",
           "ticks": "",
           "title": {
            "standoff": 15
           },
           "zerolinecolor": "white",
           "zerolinewidth": 2
          }
         }
        },
        "title": {
         "text": "Tempo de Inserção por Modelo (Base: 5 ficheiros)"
        },
        "xaxis": {
         "anchor": "y",
         "categoryarray": [
          "wav2vec2",
          "vggish",
          "openl3",
          "yamnet",
          "clap",
          "ast"
         ],
         "categoryorder": "array",
         "domain": [
          0,
          1
         ],
         "title": {
          "text": "modelo"
         }
        },
        "yaxis": {
         "anchor": "x",
         "domain": [
          0,
          1
         ],
         "title": {
          "text": "tempo_insercao"
         }
        }
       }
      }
     },
     "metadata": {},
     "output_type": "display_data"
    },
    {
     "data": {
      "text/html": [
       "<div>\n",
       "<style scoped>\n",
       "    .dataframe tbody tr th:only-of-type {\n",
       "        vertical-align: middle;\n",
       "    }\n",
       "\n",
       "    .dataframe tbody tr th {\n",
       "        vertical-align: top;\n",
       "    }\n",
       "\n",
       "    .dataframe thead tr th {\n",
       "        text-align: left;\n",
       "    }\n",
       "</style>\n",
       "<table border=\"1\" class=\"dataframe\">\n",
       "  <thead>\n",
       "    <tr>\n",
       "      <th></th>\n",
       "      <th>modelo</th>\n",
       "      <th colspan=\"2\" halign=\"left\">tempo_extracao</th>\n",
       "      <th colspan=\"2\" halign=\"left\">tempo_insercao</th>\n",
       "    </tr>\n",
       "    <tr>\n",
       "      <th></th>\n",
       "      <th></th>\n",
       "      <th>mean</th>\n",
       "      <th>std</th>\n",
       "      <th>mean</th>\n",
       "      <th>std</th>\n",
       "    </tr>\n",
       "  </thead>\n",
       "  <tbody>\n",
       "    <tr>\n",
       "      <th>0</th>\n",
       "      <td>ast</td>\n",
       "      <td>0.838650</td>\n",
       "      <td>0.332128</td>\n",
       "      <td>0.158832</td>\n",
       "      <td>0.129398</td>\n",
       "    </tr>\n",
       "    <tr>\n",
       "      <th>1</th>\n",
       "      <td>clap</td>\n",
       "      <td>0.229738</td>\n",
       "      <td>0.202934</td>\n",
       "      <td>0.053357</td>\n",
       "      <td>0.012093</td>\n",
       "    </tr>\n",
       "    <tr>\n",
       "      <th>2</th>\n",
       "      <td>openl3</td>\n",
       "      <td>27.741236</td>\n",
       "      <td>2.404783</td>\n",
       "      <td>0.082798</td>\n",
       "      <td>0.043130</td>\n",
       "    </tr>\n",
       "    <tr>\n",
       "      <th>3</th>\n",
       "      <td>vggish</td>\n",
       "      <td>0.285770</td>\n",
       "      <td>0.154726</td>\n",
       "      <td>0.048521</td>\n",
       "      <td>0.019274</td>\n",
       "    </tr>\n",
       "    <tr>\n",
       "      <th>4</th>\n",
       "      <td>wav2vec2</td>\n",
       "      <td>1.871834</td>\n",
       "      <td>0.884459</td>\n",
       "      <td>0.184742</td>\n",
       "      <td>0.243238</td>\n",
       "    </tr>\n",
       "    <tr>\n",
       "      <th>5</th>\n",
       "      <td>yamnet</td>\n",
       "      <td>0.150472</td>\n",
       "      <td>0.124131</td>\n",
       "      <td>0.044936</td>\n",
       "      <td>0.005034</td>\n",
       "    </tr>\n",
       "  </tbody>\n",
       "</table>\n",
       "</div>"
      ],
      "text/plain": [
       "     modelo tempo_extracao           tempo_insercao          \n",
       "                      mean       std           mean       std\n",
       "0       ast       0.838650  0.332128       0.158832  0.129398\n",
       "1      clap       0.229738  0.202934       0.053357  0.012093\n",
       "2    openl3      27.741236  2.404783       0.082798  0.043130\n",
       "3    vggish       0.285770  0.154726       0.048521  0.019274\n",
       "4  wav2vec2       1.871834  0.884459       0.184742  0.243238\n",
       "5    yamnet       0.150472  0.124131       0.044936  0.005034"
      ]
     },
     "metadata": {},
     "output_type": "display_data"
    },
    {
     "name": "stdout",
     "output_type": "stream",
     "text": [
      "\n",
      "# Análise de Escalabilidade\n",
      "Observe como cada modelo se comporta com o aumento do número de ficheiros:\n"
     ]
    },
    {
     "data": {
      "application/vnd.jupyter.widget-view+json": {
       "model_id": "2407842f7b1a48509f8a59508d3a61f3",
       "version_major": 2,
       "version_minor": 0
      },
      "text/plain": [
       "Tab(children=(Output(), Output(), Output(), Output()), selected_index=0, titles=('Tempo Médio de Extração (s)'…"
      ]
     },
     "metadata": {},
     "output_type": "display_data"
    },
    {
     "name": "stdout",
     "output_type": "stream",
     "text": [
      "\n",
      "## Evolução dos Rankings com a Escala\n"
     ]
    },
    {
     "data": {
      "application/vnd.plotly.v1+json": {
       "config": {
        "plotlyServerURL": "https://plot.ly"
       },
       "data": [
        {
         "cells": {
          "align": "center",
          "fill": {
           "color": "lightcyan"
          },
          "values": [
           [
            "ast",
            "clap",
            "openl3",
            "vggish",
            "wav2vec2",
            "yamnet"
           ],
           [
            4,
            1,
            6,
            5,
            2,
            3
           ]
          ]
         },
         "header": {
          "align": "center",
          "fill": {
           "color": "royalblue"
          },
          "font": {
           "color": "white",
           "size": 12
          },
          "values": [
           "Modelo",
           "5 ficheiros",
           "25 ficheiros",
           "50 ficheiros",
           "100 ficheiros",
           "250 ficheiros"
          ]
         },
         "type": "table"
        }
       ],
       "layout": {
        "height": 400,
        "margin": {
         "b": 20,
         "l": 20,
         "r": 20,
         "t": 50
        },
        "template": {
         "data": {
          "bar": [
           {
            "error_x": {
             "color": "#2a3f5f"
            },
            "error_y": {
             "color": "#2a3f5f"
            },
            "marker": {
             "line": {
              "color": "#E5ECF6",
              "width": 0.5
             },
             "pattern": {
              "fillmode": "overlay",
              "size": 10,
              "solidity": 0.2
             }
            },
            "type": "bar"
           }
          ],
          "barpolar": [
           {
            "marker": {
             "line": {
              "color": "#E5ECF6",
              "width": 0.5
             },
             "pattern": {
              "fillmode": "overlay",
              "size": 10,
              "solidity": 0.2
             }
            },
            "type": "barpolar"
           }
          ],
          "carpet": [
           {
            "aaxis": {
             "endlinecolor": "#2a3f5f",
             "gridcolor": "white",
             "linecolor": "white",
             "minorgridcolor": "white",
             "startlinecolor": "#2a3f5f"
            },
            "baxis": {
             "endlinecolor": "#2a3f5f",
             "gridcolor": "white",
             "linecolor": "white",
             "minorgridcolor": "white",
             "startlinecolor": "#2a3f5f"
            },
            "type": "carpet"
           }
          ],
          "choropleth": [
           {
            "colorbar": {
             "outlinewidth": 0,
             "ticks": ""
            },
            "type": "choropleth"
           }
          ],
          "contour": [
           {
            "colorbar": {
             "outlinewidth": 0,
             "ticks": ""
            },
            "colorscale": [
             [
              0,
              "#0d0887"
             ],
             [
              0.1111111111111111,
              "#46039f"
             ],
             [
              0.2222222222222222,
              "#7201a8"
             ],
             [
              0.3333333333333333,
              "#9c179e"
             ],
             [
              0.4444444444444444,
              "#bd3786"
             ],
             [
              0.5555555555555556,
              "#d8576b"
             ],
             [
              0.6666666666666666,
              "#ed7953"
             ],
             [
              0.7777777777777778,
              "#fb9f3a"
             ],
             [
              0.8888888888888888,
              "#fdca26"
             ],
             [
              1,
              "#f0f921"
             ]
            ],
            "type": "contour"
           }
          ],
          "contourcarpet": [
           {
            "colorbar": {
             "outlinewidth": 0,
             "ticks": ""
            },
            "type": "contourcarpet"
           }
          ],
          "heatmap": [
           {
            "colorbar": {
             "outlinewidth": 0,
             "ticks": ""
            },
            "colorscale": [
             [
              0,
              "#0d0887"
             ],
             [
              0.1111111111111111,
              "#46039f"
             ],
             [
              0.2222222222222222,
              "#7201a8"
             ],
             [
              0.3333333333333333,
              "#9c179e"
             ],
             [
              0.4444444444444444,
              "#bd3786"
             ],
             [
              0.5555555555555556,
              "#d8576b"
             ],
             [
              0.6666666666666666,
              "#ed7953"
             ],
             [
              0.7777777777777778,
              "#fb9f3a"
             ],
             [
              0.8888888888888888,
              "#fdca26"
             ],
             [
              1,
              "#f0f921"
             ]
            ],
            "type": "heatmap"
           }
          ],
          "histogram": [
           {
            "marker": {
             "pattern": {
              "fillmode": "overlay",
              "size": 10,
              "solidity": 0.2
             }
            },
            "type": "histogram"
           }
          ],
          "histogram2d": [
           {
            "colorbar": {
             "outlinewidth": 0,
             "ticks": ""
            },
            "colorscale": [
             [
              0,
              "#0d0887"
             ],
             [
              0.1111111111111111,
              "#46039f"
             ],
             [
              0.2222222222222222,
              "#7201a8"
             ],
             [
              0.3333333333333333,
              "#9c179e"
             ],
             [
              0.4444444444444444,
              "#bd3786"
             ],
             [
              0.5555555555555556,
              "#d8576b"
             ],
             [
              0.6666666666666666,
              "#ed7953"
             ],
             [
              0.7777777777777778,
              "#fb9f3a"
             ],
             [
              0.8888888888888888,
              "#fdca26"
             ],
             [
              1,
              "#f0f921"
             ]
            ],
            "type": "histogram2d"
           }
          ],
          "histogram2dcontour": [
           {
            "colorbar": {
             "outlinewidth": 0,
             "ticks": ""
            },
            "colorscale": [
             [
              0,
              "#0d0887"
             ],
             [
              0.1111111111111111,
              "#46039f"
             ],
             [
              0.2222222222222222,
              "#7201a8"
             ],
             [
              0.3333333333333333,
              "#9c179e"
             ],
             [
              0.4444444444444444,
              "#bd3786"
             ],
             [
              0.5555555555555556,
              "#d8576b"
             ],
             [
              0.6666666666666666,
              "#ed7953"
             ],
             [
              0.7777777777777778,
              "#fb9f3a"
             ],
             [
              0.8888888888888888,
              "#fdca26"
             ],
             [
              1,
              "#f0f921"
             ]
            ],
            "type": "histogram2dcontour"
           }
          ],
          "mesh3d": [
           {
            "colorbar": {
             "outlinewidth": 0,
             "ticks": ""
            },
            "type": "mesh3d"
           }
          ],
          "parcoords": [
           {
            "line": {
             "colorbar": {
              "outlinewidth": 0,
              "ticks": ""
             }
            },
            "type": "parcoords"
           }
          ],
          "pie": [
           {
            "automargin": true,
            "type": "pie"
           }
          ],
          "scatter": [
           {
            "fillpattern": {
             "fillmode": "overlay",
             "size": 10,
             "solidity": 0.2
            },
            "type": "scatter"
           }
          ],
          "scatter3d": [
           {
            "line": {
             "colorbar": {
              "outlinewidth": 0,
              "ticks": ""
             }
            },
            "marker": {
             "colorbar": {
              "outlinewidth": 0,
              "ticks": ""
             }
            },
            "type": "scatter3d"
           }
          ],
          "scattercarpet": [
           {
            "marker": {
             "colorbar": {
              "outlinewidth": 0,
              "ticks": ""
             }
            },
            "type": "scattercarpet"
           }
          ],
          "scattergeo": [
           {
            "marker": {
             "colorbar": {
              "outlinewidth": 0,
              "ticks": ""
             }
            },
            "type": "scattergeo"
           }
          ],
          "scattergl": [
           {
            "marker": {
             "colorbar": {
              "outlinewidth": 0,
              "ticks": ""
             }
            },
            "type": "scattergl"
           }
          ],
          "scattermap": [
           {
            "marker": {
             "colorbar": {
              "outlinewidth": 0,
              "ticks": ""
             }
            },
            "type": "scattermap"
           }
          ],
          "scattermapbox": [
           {
            "marker": {
             "colorbar": {
              "outlinewidth": 0,
              "ticks": ""
             }
            },
            "type": "scattermapbox"
           }
          ],
          "scatterpolar": [
           {
            "marker": {
             "colorbar": {
              "outlinewidth": 0,
              "ticks": ""
             }
            },
            "type": "scatterpolar"
           }
          ],
          "scatterpolargl": [
           {
            "marker": {
             "colorbar": {
              "outlinewidth": 0,
              "ticks": ""
             }
            },
            "type": "scatterpolargl"
           }
          ],
          "scatterternary": [
           {
            "marker": {
             "colorbar": {
              "outlinewidth": 0,
              "ticks": ""
             }
            },
            "type": "scatterternary"
           }
          ],
          "surface": [
           {
            "colorbar": {
             "outlinewidth": 0,
             "ticks": ""
            },
            "colorscale": [
             [
              0,
              "#0d0887"
             ],
             [
              0.1111111111111111,
              "#46039f"
             ],
             [
              0.2222222222222222,
              "#7201a8"
             ],
             [
              0.3333333333333333,
              "#9c179e"
             ],
             [
              0.4444444444444444,
              "#bd3786"
             ],
             [
              0.5555555555555556,
              "#d8576b"
             ],
             [
              0.6666666666666666,
              "#ed7953"
             ],
             [
              0.7777777777777778,
              "#fb9f3a"
             ],
             [
              0.8888888888888888,
              "#fdca26"
             ],
             [
              1,
              "#f0f921"
             ]
            ],
            "type": "surface"
           }
          ],
          "table": [
           {
            "cells": {
             "fill": {
              "color": "#EBF0F8"
             },
             "line": {
              "color": "white"
             }
            },
            "header": {
             "fill": {
              "color": "#C8D4E3"
             },
             "line": {
              "color": "white"
             }
            },
            "type": "table"
           }
          ]
         },
         "layout": {
          "annotationdefaults": {
           "arrowcolor": "#2a3f5f",
           "arrowhead": 0,
           "arrowwidth": 1
          },
          "autotypenumbers": "strict",
          "coloraxis": {
           "colorbar": {
            "outlinewidth": 0,
            "ticks": ""
           }
          },
          "colorscale": {
           "diverging": [
            [
             0,
             "#8e0152"
            ],
            [
             0.1,
             "#c51b7d"
            ],
            [
             0.2,
             "#de77ae"
            ],
            [
             0.3,
             "#f1b6da"
            ],
            [
             0.4,
             "#fde0ef"
            ],
            [
             0.5,
             "#f7f7f7"
            ],
            [
             0.6,
             "#e6f5d0"
            ],
            [
             0.7,
             "#b8e186"
            ],
            [
             0.8,
             "#7fbc41"
            ],
            [
             0.9,
             "#4d9221"
            ],
            [
             1,
             "#276419"
            ]
           ],
           "sequential": [
            [
             0,
             "#0d0887"
            ],
            [
             0.1111111111111111,
             "#46039f"
            ],
            [
             0.2222222222222222,
             "#7201a8"
            ],
            [
             0.3333333333333333,
             "#9c179e"
            ],
            [
             0.4444444444444444,
             "#bd3786"
            ],
            [
             0.5555555555555556,
             "#d8576b"
            ],
            [
             0.6666666666666666,
             "#ed7953"
            ],
            [
             0.7777777777777778,
             "#fb9f3a"
            ],
            [
             0.8888888888888888,
             "#fdca26"
            ],
            [
             1,
             "#f0f921"
            ]
           ],
           "sequentialminus": [
            [
             0,
             "#0d0887"
            ],
            [
             0.1111111111111111,
             "#46039f"
            ],
            [
             0.2222222222222222,
             "#7201a8"
            ],
            [
             0.3333333333333333,
             "#9c179e"
            ],
            [
             0.4444444444444444,
             "#bd3786"
            ],
            [
             0.5555555555555556,
             "#d8576b"
            ],
            [
             0.6666666666666666,
             "#ed7953"
            ],
            [
             0.7777777777777778,
             "#fb9f3a"
            ],
            [
             0.8888888888888888,
             "#fdca26"
            ],
            [
             1,
             "#f0f921"
            ]
           ]
          },
          "colorway": [
           "#636efa",
           "#EF553B",
           "#00cc96",
           "#ab63fa",
           "#FFA15A",
           "#19d3f3",
           "#FF6692",
           "#B6E880",
           "#FF97FF",
           "#FECB52"
          ],
          "font": {
           "color": "#2a3f5f"
          },
          "geo": {
           "bgcolor": "white",
           "lakecolor": "white",
           "landcolor": "#E5ECF6",
           "showlakes": true,
           "showland": true,
           "subunitcolor": "white"
          },
          "hoverlabel": {
           "align": "left"
          },
          "hovermode": "closest",
          "mapbox": {
           "style": "light"
          },
          "paper_bgcolor": "white",
          "plot_bgcolor": "#E5ECF6",
          "polar": {
           "angularaxis": {
            "gridcolor": "white",
            "linecolor": "white",
            "ticks": ""
           },
           "bgcolor": "#E5ECF6",
           "radialaxis": {
            "gridcolor": "white",
            "linecolor": "white",
            "ticks": ""
           }
          },
          "scene": {
           "xaxis": {
            "backgroundcolor": "#E5ECF6",
            "gridcolor": "white",
            "gridwidth": 2,
            "linecolor": "white",
            "showbackground": true,
            "ticks": "",
            "zerolinecolor": "white"
           },
           "yaxis": {
            "backgroundcolor": "#E5ECF6",
            "gridcolor": "white",
            "gridwidth": 2,
            "linecolor": "white",
            "showbackground": true,
            "ticks": "",
            "zerolinecolor": "white"
           },
           "zaxis": {
            "backgroundcolor": "#E5ECF6",
            "gridcolor": "white",
            "gridwidth": 2,
            "linecolor": "white",
            "showbackground": true,
            "ticks": "",
            "zerolinecolor": "white"
           }
          },
          "shapedefaults": {
           "line": {
            "color": "#2a3f5f"
           }
          },
          "ternary": {
           "aaxis": {
            "gridcolor": "white",
            "linecolor": "white",
            "ticks": ""
           },
           "baxis": {
            "gridcolor": "white",
            "linecolor": "white",
            "ticks": ""
           },
           "bgcolor": "#E5ECF6",
           "caxis": {
            "gridcolor": "white",
            "linecolor": "white",
            "ticks": ""
           }
          },
          "title": {
           "x": 0.05
          },
          "xaxis": {
           "automargin": true,
           "gridcolor": "white",
           "linecolor": "white",
           "ticks": "",
           "title": {
            "standoff": 15
           },
           "zerolinecolor": "white",
           "zerolinewidth": 2
          },
          "yaxis": {
           "automargin": true,
           "gridcolor": "white",
           "linecolor": "white",
           "ticks": "",
           "title": {
            "standoff": 15
           },
           "zerolinecolor": "white",
           "zerolinewidth": 2
          }
         }
        },
        "title": {
         "text": "Evolução das Posições no Ranking por Escala"
        }
       }
      }
     },
     "metadata": {},
     "output_type": "display_data"
    },
    {
     "data": {
      "application/vnd.plotly.v1+json": {
       "config": {
        "plotlyServerURL": "https://plot.ly"
       },
       "data": [
        {
         "coloraxis": "coloraxis",
         "hovertemplate": "Tamanho do Benchmark: %{x}<br>Modelo: %{y}<br>Posição Relativa: %{z}<extra></extra>",
         "name": "0",
         "type": "heatmap",
         "x": [
          "5 ficheiros"
         ],
         "xaxis": "x",
         "y": [
          "ast",
          "clap",
          "openl3",
          "vggish",
          "wav2vec2",
          "yamnet"
         ],
         "yaxis": "y",
         "z": {
          "bdata": "AAAAAAAA4D8AAAAAAADwP1RVVVVVVcU/VlVVVVVV1T+rqqqqqqrqP1ZVVVVVVeU/",
          "dtype": "f8",
          "shape": "6, 1"
         }
        }
       ],
       "layout": {
        "coloraxis": {
         "colorbar": {
          "title": {
           "text": "Posição Relativa"
          }
         },
         "colorscale": [
          [
           0,
           "#440154"
          ],
          [
           0.1111111111111111,
           "#482878"
          ],
          [
           0.2222222222222222,
           "#3e4989"
          ],
          [
           0.3333333333333333,
           "#31688e"
          ],
          [
           0.4444444444444444,
           "#26828e"
          ],
          [
           0.5555555555555556,
           "#1f9e89"
          ],
          [
           0.6666666666666666,
           "#35b779"
          ],
          [
           0.7777777777777778,
           "#6ece58"
          ],
          [
           0.8888888888888888,
           "#b5de2b"
          ],
          [
           1,
           "#fde725"
          ]
         ]
        },
        "template": {
         "data": {
          "bar": [
           {
            "error_x": {
             "color": "#2a3f5f"
            },
            "error_y": {
             "color": "#2a3f5f"
            },
            "marker": {
             "line": {
              "color": "#E5ECF6",
              "width": 0.5
             },
             "pattern": {
              "fillmode": "overlay",
              "size": 10,
              "solidity": 0.2
             }
            },
            "type": "bar"
           }
          ],
          "barpolar": [
           {
            "marker": {
             "line": {
              "color": "#E5ECF6",
              "width": 0.5
             },
             "pattern": {
              "fillmode": "overlay",
              "size": 10,
              "solidity": 0.2
             }
            },
            "type": "barpolar"
           }
          ],
          "carpet": [
           {
            "aaxis": {
             "endlinecolor": "#2a3f5f",
             "gridcolor": "white",
             "linecolor": "white",
             "minorgridcolor": "white",
             "startlinecolor": "#2a3f5f"
            },
            "baxis": {
             "endlinecolor": "#2a3f5f",
             "gridcolor": "white",
             "linecolor": "white",
             "minorgridcolor": "white",
             "startlinecolor": "#2a3f5f"
            },
            "type": "carpet"
           }
          ],
          "choropleth": [
           {
            "colorbar": {
             "outlinewidth": 0,
             "ticks": ""
            },
            "type": "choropleth"
           }
          ],
          "contour": [
           {
            "colorbar": {
             "outlinewidth": 0,
             "ticks": ""
            },
            "colorscale": [
             [
              0,
              "#0d0887"
             ],
             [
              0.1111111111111111,
              "#46039f"
             ],
             [
              0.2222222222222222,
              "#7201a8"
             ],
             [
              0.3333333333333333,
              "#9c179e"
             ],
             [
              0.4444444444444444,
              "#bd3786"
             ],
             [
              0.5555555555555556,
              "#d8576b"
             ],
             [
              0.6666666666666666,
              "#ed7953"
             ],
             [
              0.7777777777777778,
              "#fb9f3a"
             ],
             [
              0.8888888888888888,
              "#fdca26"
             ],
             [
              1,
              "#f0f921"
             ]
            ],
            "type": "contour"
           }
          ],
          "contourcarpet": [
           {
            "colorbar": {
             "outlinewidth": 0,
             "ticks": ""
            },
            "type": "contourcarpet"
           }
          ],
          "heatmap": [
           {
            "colorbar": {
             "outlinewidth": 0,
             "ticks": ""
            },
            "colorscale": [
             [
              0,
              "#0d0887"
             ],
             [
              0.1111111111111111,
              "#46039f"
             ],
             [
              0.2222222222222222,
              "#7201a8"
             ],
             [
              0.3333333333333333,
              "#9c179e"
             ],
             [
              0.4444444444444444,
              "#bd3786"
             ],
             [
              0.5555555555555556,
              "#d8576b"
             ],
             [
              0.6666666666666666,
              "#ed7953"
             ],
             [
              0.7777777777777778,
              "#fb9f3a"
             ],
             [
              0.8888888888888888,
              "#fdca26"
             ],
             [
              1,
              "#f0f921"
             ]
            ],
            "type": "heatmap"
           }
          ],
          "histogram": [
           {
            "marker": {
             "pattern": {
              "fillmode": "overlay",
              "size": 10,
              "solidity": 0.2
             }
            },
            "type": "histogram"
           }
          ],
          "histogram2d": [
           {
            "colorbar": {
             "outlinewidth": 0,
             "ticks": ""
            },
            "colorscale": [
             [
              0,
              "#0d0887"
             ],
             [
              0.1111111111111111,
              "#46039f"
             ],
             [
              0.2222222222222222,
              "#7201a8"
             ],
             [
              0.3333333333333333,
              "#9c179e"
             ],
             [
              0.4444444444444444,
              "#bd3786"
             ],
             [
              0.5555555555555556,
              "#d8576b"
             ],
             [
              0.6666666666666666,
              "#ed7953"
             ],
             [
              0.7777777777777778,
              "#fb9f3a"
             ],
             [
              0.8888888888888888,
              "#fdca26"
             ],
             [
              1,
              "#f0f921"
             ]
            ],
            "type": "histogram2d"
           }
          ],
          "histogram2dcontour": [
           {
            "colorbar": {
             "outlinewidth": 0,
             "ticks": ""
            },
            "colorscale": [
             [
              0,
              "#0d0887"
             ],
             [
              0.1111111111111111,
              "#46039f"
             ],
             [
              0.2222222222222222,
              "#7201a8"
             ],
             [
              0.3333333333333333,
              "#9c179e"
             ],
             [
              0.4444444444444444,
              "#bd3786"
             ],
             [
              0.5555555555555556,
              "#d8576b"
             ],
             [
              0.6666666666666666,
              "#ed7953"
             ],
             [
              0.7777777777777778,
              "#fb9f3a"
             ],
             [
              0.8888888888888888,
              "#fdca26"
             ],
             [
              1,
              "#f0f921"
             ]
            ],
            "type": "histogram2dcontour"
           }
          ],
          "mesh3d": [
           {
            "colorbar": {
             "outlinewidth": 0,
             "ticks": ""
            },
            "type": "mesh3d"
           }
          ],
          "parcoords": [
           {
            "line": {
             "colorbar": {
              "outlinewidth": 0,
              "ticks": ""
             }
            },
            "type": "parcoords"
           }
          ],
          "pie": [
           {
            "automargin": true,
            "type": "pie"
           }
          ],
          "scatter": [
           {
            "fillpattern": {
             "fillmode": "overlay",
             "size": 10,
             "solidity": 0.2
            },
            "type": "scatter"
           }
          ],
          "scatter3d": [
           {
            "line": {
             "colorbar": {
              "outlinewidth": 0,
              "ticks": ""
             }
            },
            "marker": {
             "colorbar": {
              "outlinewidth": 0,
              "ticks": ""
             }
            },
            "type": "scatter3d"
           }
          ],
          "scattercarpet": [
           {
            "marker": {
             "colorbar": {
              "outlinewidth": 0,
              "ticks": ""
             }
            },
            "type": "scattercarpet"
           }
          ],
          "scattergeo": [
           {
            "marker": {
             "colorbar": {
              "outlinewidth": 0,
              "ticks": ""
             }
            },
            "type": "scattergeo"
           }
          ],
          "scattergl": [
           {
            "marker": {
             "colorbar": {
              "outlinewidth": 0,
              "ticks": ""
             }
            },
            "type": "scattergl"
           }
          ],
          "scattermap": [
           {
            "marker": {
             "colorbar": {
              "outlinewidth": 0,
              "ticks": ""
             }
            },
            "type": "scattermap"
           }
          ],
          "scattermapbox": [
           {
            "marker": {
             "colorbar": {
              "outlinewidth": 0,
              "ticks": ""
             }
            },
            "type": "scattermapbox"
           }
          ],
          "scatterpolar": [
           {
            "marker": {
             "colorbar": {
              "outlinewidth": 0,
              "ticks": ""
             }
            },
            "type": "scatterpolar"
           }
          ],
          "scatterpolargl": [
           {
            "marker": {
             "colorbar": {
              "outlinewidth": 0,
              "ticks": ""
             }
            },
            "type": "scatterpolargl"
           }
          ],
          "scatterternary": [
           {
            "marker": {
             "colorbar": {
              "outlinewidth": 0,
              "ticks": ""
             }
            },
            "type": "scatterternary"
           }
          ],
          "surface": [
           {
            "colorbar": {
             "outlinewidth": 0,
             "ticks": ""
            },
            "colorscale": [
             [
              0,
              "#0d0887"
             ],
             [
              0.1111111111111111,
              "#46039f"
             ],
             [
              0.2222222222222222,
              "#7201a8"
             ],
             [
              0.3333333333333333,
              "#9c179e"
             ],
             [
              0.4444444444444444,
              "#bd3786"
             ],
             [
              0.5555555555555556,
              "#d8576b"
             ],
             [
              0.6666666666666666,
              "#ed7953"
             ],
             [
              0.7777777777777778,
              "#fb9f3a"
             ],
             [
              0.8888888888888888,
              "#fdca26"
             ],
             [
              1,
              "#f0f921"
             ]
            ],
            "type": "surface"
           }
          ],
          "table": [
           {
            "cells": {
             "fill": {
              "color": "#EBF0F8"
             },
             "line": {
              "color": "white"
             }
            },
            "header": {
             "fill": {
              "color": "#C8D4E3"
             },
             "line": {
              "color": "white"
             }
            },
            "type": "table"
           }
          ]
         },
         "layout": {
          "annotationdefaults": {
           "arrowcolor": "#2a3f5f",
           "arrowhead": 0,
           "arrowwidth": 1
          },
          "autotypenumbers": "strict",
          "coloraxis": {
           "colorbar": {
            "outlinewidth": 0,
            "ticks": ""
           }
          },
          "colorscale": {
           "diverging": [
            [
             0,
             "#8e0152"
            ],
            [
             0.1,
             "#c51b7d"
            ],
            [
             0.2,
             "#de77ae"
            ],
            [
             0.3,
             "#f1b6da"
            ],
            [
             0.4,
             "#fde0ef"
            ],
            [
             0.5,
             "#f7f7f7"
            ],
            [
             0.6,
             "#e6f5d0"
            ],
            [
             0.7,
             "#b8e186"
            ],
            [
             0.8,
             "#7fbc41"
            ],
            [
             0.9,
             "#4d9221"
            ],
            [
             1,
             "#276419"
            ]
           ],
           "sequential": [
            [
             0,
             "#0d0887"
            ],
            [
             0.1111111111111111,
             "#46039f"
            ],
            [
             0.2222222222222222,
             "#7201a8"
            ],
            [
             0.3333333333333333,
             "#9c179e"
            ],
            [
             0.4444444444444444,
             "#bd3786"
            ],
            [
             0.5555555555555556,
             "#d8576b"
            ],
            [
             0.6666666666666666,
             "#ed7953"
            ],
            [
             0.7777777777777778,
             "#fb9f3a"
            ],
            [
             0.8888888888888888,
             "#fdca26"
            ],
            [
             1,
             "#f0f921"
            ]
           ],
           "sequentialminus": [
            [
             0,
             "#0d0887"
            ],
            [
             0.1111111111111111,
             "#46039f"
            ],
            [
             0.2222222222222222,
             "#7201a8"
            ],
            [
             0.3333333333333333,
             "#9c179e"
            ],
            [
             0.4444444444444444,
             "#bd3786"
            ],
            [
             0.5555555555555556,
             "#d8576b"
            ],
            [
             0.6666666666666666,
             "#ed7953"
            ],
            [
             0.7777777777777778,
             "#fb9f3a"
            ],
            [
             0.8888888888888888,
             "#fdca26"
            ],
            [
             1,
             "#f0f921"
            ]
           ]
          },
          "colorway": [
           "#636efa",
           "#EF553B",
           "#00cc96",
           "#ab63fa",
           "#FFA15A",
           "#19d3f3",
           "#FF6692",
           "#B6E880",
           "#FF97FF",
           "#FECB52"
          ],
          "font": {
           "color": "#2a3f5f"
          },
          "geo": {
           "bgcolor": "white",
           "lakecolor": "white",
           "landcolor": "#E5ECF6",
           "showlakes": true,
           "showland": true,
           "subunitcolor": "white"
          },
          "hoverlabel": {
           "align": "left"
          },
          "hovermode": "closest",
          "mapbox": {
           "style": "light"
          },
          "paper_bgcolor": "white",
          "plot_bgcolor": "#E5ECF6",
          "polar": {
           "angularaxis": {
            "gridcolor": "white",
            "linecolor": "white",
            "ticks": ""
           },
           "bgcolor": "#E5ECF6",
           "radialaxis": {
            "gridcolor": "white",
            "linecolor": "white",
            "ticks": ""
           }
          },
          "scene": {
           "xaxis": {
            "backgroundcolor": "#E5ECF6",
            "gridcolor": "white",
            "gridwidth": 2,
            "linecolor": "white",
            "showbackground": true,
            "ticks": "",
            "zerolinecolor": "white"
           },
           "yaxis": {
            "backgroundcolor": "#E5ECF6",
            "gridcolor": "white",
            "gridwidth": 2,
            "linecolor": "white",
            "showbackground": true,
            "ticks": "",
            "zerolinecolor": "white"
           },
           "zaxis": {
            "backgroundcolor": "#E5ECF6",
            "gridcolor": "white",
            "gridwidth": 2,
            "linecolor": "white",
            "showbackground": true,
            "ticks": "",
            "zerolinecolor": "white"
           }
          },
          "shapedefaults": {
           "line": {
            "color": "#2a3f5f"
           }
          },
          "ternary": {
           "aaxis": {
            "gridcolor": "white",
            "linecolor": "white",
            "ticks": ""
           },
           "baxis": {
            "gridcolor": "white",
            "linecolor": "white",
            "ticks": ""
           },
           "bgcolor": "#E5ECF6",
           "caxis": {
            "gridcolor": "white",
            "linecolor": "white",
            "ticks": ""
           }
          },
          "title": {
           "x": 0.05
          },
          "xaxis": {
           "automargin": true,
           "gridcolor": "white",
           "linecolor": "white",
           "ticks": "",
           "title": {
            "standoff": 15
           },
           "zerolinecolor": "white",
           "zerolinewidth": 2
          },
          "yaxis": {
           "automargin": true,
           "gridcolor": "white",
           "linecolor": "white",
           "ticks": "",
           "title": {
            "standoff": 15
           },
           "zerolinecolor": "white",
           "zerolinewidth": 2
          }
         }
        },
        "title": {
         "text": "Estabilidade dos Rankings com Escala"
        },
        "xaxis": {
         "anchor": "y",
         "constrain": "domain",
         "domain": [
          0,
          1
         ],
         "scaleanchor": "y",
         "title": {
          "text": "Tamanho do Benchmark"
         }
        },
        "yaxis": {
         "anchor": "x",
         "autorange": "reversed",
         "constrain": "domain",
         "domain": [
          0,
          1
         ],
         "title": {
          "text": "Modelo"
         }
        }
       }
      }
     },
     "metadata": {},
     "output_type": "display_data"
    },
    {
     "name": "stdout",
     "output_type": "stream",
     "text": [
      "\n",
      "## Eficiência com Escala\n",
      "Esta análise mostra quais modelos mantêm bom desempenho mesmo com grandes volumes de dados:\n"
     ]
    },
    {
     "data": {
      "application/vnd.plotly.v1+json": {
       "config": {
        "plotlyServerURL": "https://plot.ly"
       },
       "data": [
        {
         "hovertemplate": "Modelo=%{x}<br>Taxa de Crescimento=%{marker.color}<extra></extra>",
         "legendgroup": "",
         "marker": {
          "color": {
           "bdata": "9QZEdjz3Jz8Z5ptm7UgrP9BHkw2o+jk/ZzWMm1BGWD80ku4Ecs1YP2CaXHooCbU/",
           "dtype": "f8"
          },
          "coloraxis": "coloraxis",
          "pattern": {
           "shape": ""
          }
         },
         "name": "",
         "orientation": "v",
         "showlegend": false,
         "textposition": "auto",
         "type": "bar",
         "x": [
          "vggish",
          "yamnet",
          "clap",
          "ast",
          "wav2vec2",
          "openl3"
         ],
         "xaxis": "x",
         "y": {
          "bdata": "9QZEdjz3Jz8Z5ptm7UgrP9BHkw2o+jk/ZzWMm1BGWD80ku4Ecs1YP2CaXHooCbU/",
          "dtype": "f8"
         },
         "yaxis": "y"
        }
       ],
       "layout": {
        "barmode": "relative",
        "coloraxis": {
         "colorbar": {
          "title": {
           "text": "Taxa de Crescimento"
          }
         },
         "colorscale": [
          [
           0,
           "rgb(0,104,55)"
          ],
          [
           0.1,
           "rgb(26,152,80)"
          ],
          [
           0.2,
           "rgb(102,189,99)"
          ],
          [
           0.3,
           "rgb(166,217,106)"
          ],
          [
           0.4,
           "rgb(217,239,139)"
          ],
          [
           0.5,
           "rgb(255,255,191)"
          ],
          [
           0.6,
           "rgb(254,224,139)"
          ],
          [
           0.7,
           "rgb(253,174,97)"
          ],
          [
           0.8,
           "rgb(244,109,67)"
          ],
          [
           0.9,
           "rgb(215,48,39)"
          ],
          [
           1,
           "rgb(165,0,38)"
          ]
         ]
        },
        "legend": {
         "tracegroupgap": 0
        },
        "template": {
         "data": {
          "bar": [
           {
            "error_x": {
             "color": "#2a3f5f"
            },
            "error_y": {
             "color": "#2a3f5f"
            },
            "marker": {
             "line": {
              "color": "#E5ECF6",
              "width": 0.5
             },
             "pattern": {
              "fillmode": "overlay",
              "size": 10,
              "solidity": 0.2
             }
            },
            "type": "bar"
           }
          ],
          "barpolar": [
           {
            "marker": {
             "line": {
              "color": "#E5ECF6",
              "width": 0.5
             },
             "pattern": {
              "fillmode": "overlay",
              "size": 10,
              "solidity": 0.2
             }
            },
            "type": "barpolar"
           }
          ],
          "carpet": [
           {
            "aaxis": {
             "endlinecolor": "#2a3f5f",
             "gridcolor": "white",
             "linecolor": "white",
             "minorgridcolor": "white",
             "startlinecolor": "#2a3f5f"
            },
            "baxis": {
             "endlinecolor": "#2a3f5f",
             "gridcolor": "white",
             "linecolor": "white",
             "minorgridcolor": "white",
             "startlinecolor": "#2a3f5f"
            },
            "type": "carpet"
           }
          ],
          "choropleth": [
           {
            "colorbar": {
             "outlinewidth": 0,
             "ticks": ""
            },
            "type": "choropleth"
           }
          ],
          "contour": [
           {
            "colorbar": {
             "outlinewidth": 0,
             "ticks": ""
            },
            "colorscale": [
             [
              0,
              "#0d0887"
             ],
             [
              0.1111111111111111,
              "#46039f"
             ],
             [
              0.2222222222222222,
              "#7201a8"
             ],
             [
              0.3333333333333333,
              "#9c179e"
             ],
             [
              0.4444444444444444,
              "#bd3786"
             ],
             [
              0.5555555555555556,
              "#d8576b"
             ],
             [
              0.6666666666666666,
              "#ed7953"
             ],
             [
              0.7777777777777778,
              "#fb9f3a"
             ],
             [
              0.8888888888888888,
              "#fdca26"
             ],
             [
              1,
              "#f0f921"
             ]
            ],
            "type": "contour"
           }
          ],
          "contourcarpet": [
           {
            "colorbar": {
             "outlinewidth": 0,
             "ticks": ""
            },
            "type": "contourcarpet"
           }
          ],
          "heatmap": [
           {
            "colorbar": {
             "outlinewidth": 0,
             "ticks": ""
            },
            "colorscale": [
             [
              0,
              "#0d0887"
             ],
             [
              0.1111111111111111,
              "#46039f"
             ],
             [
              0.2222222222222222,
              "#7201a8"
             ],
             [
              0.3333333333333333,
              "#9c179e"
             ],
             [
              0.4444444444444444,
              "#bd3786"
             ],
             [
              0.5555555555555556,
              "#d8576b"
             ],
             [
              0.6666666666666666,
              "#ed7953"
             ],
             [
              0.7777777777777778,
              "#fb9f3a"
             ],
             [
              0.8888888888888888,
              "#fdca26"
             ],
             [
              1,
              "#f0f921"
             ]
            ],
            "type": "heatmap"
           }
          ],
          "histogram": [
           {
            "marker": {
             "pattern": {
              "fillmode": "overlay",
              "size": 10,
              "solidity": 0.2
             }
            },
            "type": "histogram"
           }
          ],
          "histogram2d": [
           {
            "colorbar": {
             "outlinewidth": 0,
             "ticks": ""
            },
            "colorscale": [
             [
              0,
              "#0d0887"
             ],
             [
              0.1111111111111111,
              "#46039f"
             ],
             [
              0.2222222222222222,
              "#7201a8"
             ],
             [
              0.3333333333333333,
              "#9c179e"
             ],
             [
              0.4444444444444444,
              "#bd3786"
             ],
             [
              0.5555555555555556,
              "#d8576b"
             ],
             [
              0.6666666666666666,
              "#ed7953"
             ],
             [
              0.7777777777777778,
              "#fb9f3a"
             ],
             [
              0.8888888888888888,
              "#fdca26"
             ],
             [
              1,
              "#f0f921"
             ]
            ],
            "type": "histogram2d"
           }
          ],
          "histogram2dcontour": [
           {
            "colorbar": {
             "outlinewidth": 0,
             "ticks": ""
            },
            "colorscale": [
             [
              0,
              "#0d0887"
             ],
             [
              0.1111111111111111,
              "#46039f"
             ],
             [
              0.2222222222222222,
              "#7201a8"
             ],
             [
              0.3333333333333333,
              "#9c179e"
             ],
             [
              0.4444444444444444,
              "#bd3786"
             ],
             [
              0.5555555555555556,
              "#d8576b"
             ],
             [
              0.6666666666666666,
              "#ed7953"
             ],
             [
              0.7777777777777778,
              "#fb9f3a"
             ],
             [
              0.8888888888888888,
              "#fdca26"
             ],
             [
              1,
              "#f0f921"
             ]
            ],
            "type": "histogram2dcontour"
           }
          ],
          "mesh3d": [
           {
            "colorbar": {
             "outlinewidth": 0,
             "ticks": ""
            },
            "type": "mesh3d"
           }
          ],
          "parcoords": [
           {
            "line": {
             "colorbar": {
              "outlinewidth": 0,
              "ticks": ""
             }
            },
            "type": "parcoords"
           }
          ],
          "pie": [
           {
            "automargin": true,
            "type": "pie"
           }
          ],
          "scatter": [
           {
            "fillpattern": {
             "fillmode": "overlay",
             "size": 10,
             "solidity": 0.2
            },
            "type": "scatter"
           }
          ],
          "scatter3d": [
           {
            "line": {
             "colorbar": {
              "outlinewidth": 0,
              "ticks": ""
             }
            },
            "marker": {
             "colorbar": {
              "outlinewidth": 0,
              "ticks": ""
             }
            },
            "type": "scatter3d"
           }
          ],
          "scattercarpet": [
           {
            "marker": {
             "colorbar": {
              "outlinewidth": 0,
              "ticks": ""
             }
            },
            "type": "scattercarpet"
           }
          ],
          "scattergeo": [
           {
            "marker": {
             "colorbar": {
              "outlinewidth": 0,
              "ticks": ""
             }
            },
            "type": "scattergeo"
           }
          ],
          "scattergl": [
           {
            "marker": {
             "colorbar": {
              "outlinewidth": 0,
              "ticks": ""
             }
            },
            "type": "scattergl"
           }
          ],
          "scattermap": [
           {
            "marker": {
             "colorbar": {
              "outlinewidth": 0,
              "ticks": ""
             }
            },
            "type": "scattermap"
           }
          ],
          "scattermapbox": [
           {
            "marker": {
             "colorbar": {
              "outlinewidth": 0,
              "ticks": ""
             }
            },
            "type": "scattermapbox"
           }
          ],
          "scatterpolar": [
           {
            "marker": {
             "colorbar": {
              "outlinewidth": 0,
              "ticks": ""
             }
            },
            "type": "scatterpolar"
           }
          ],
          "scatterpolargl": [
           {
            "marker": {
             "colorbar": {
              "outlinewidth": 0,
              "ticks": ""
             }
            },
            "type": "scatterpolargl"
           }
          ],
          "scatterternary": [
           {
            "marker": {
             "colorbar": {
              "outlinewidth": 0,
              "ticks": ""
             }
            },
            "type": "scatterternary"
           }
          ],
          "surface": [
           {
            "colorbar": {
             "outlinewidth": 0,
             "ticks": ""
            },
            "colorscale": [
             [
              0,
              "#0d0887"
             ],
             [
              0.1111111111111111,
              "#46039f"
             ],
             [
              0.2222222222222222,
              "#7201a8"
             ],
             [
              0.3333333333333333,
              "#9c179e"
             ],
             [
              0.4444444444444444,
              "#bd3786"
             ],
             [
              0.5555555555555556,
              "#d8576b"
             ],
             [
              0.6666666666666666,
              "#ed7953"
             ],
             [
              0.7777777777777778,
              "#fb9f3a"
             ],
             [
              0.8888888888888888,
              "#fdca26"
             ],
             [
              1,
              "#f0f921"
             ]
            ],
            "type": "surface"
           }
          ],
          "table": [
           {
            "cells": {
             "fill": {
              "color": "#EBF0F8"
             },
             "line": {
              "color": "white"
             }
            },
            "header": {
             "fill": {
              "color": "#C8D4E3"
             },
             "line": {
              "color": "white"
             }
            },
            "type": "table"
           }
          ]
         },
         "layout": {
          "annotationdefaults": {
           "arrowcolor": "#2a3f5f",
           "arrowhead": 0,
           "arrowwidth": 1
          },
          "autotypenumbers": "strict",
          "coloraxis": {
           "colorbar": {
            "outlinewidth": 0,
            "ticks": ""
           }
          },
          "colorscale": {
           "diverging": [
            [
             0,
             "#8e0152"
            ],
            [
             0.1,
             "#c51b7d"
            ],
            [
             0.2,
             "#de77ae"
            ],
            [
             0.3,
             "#f1b6da"
            ],
            [
             0.4,
             "#fde0ef"
            ],
            [
             0.5,
             "#f7f7f7"
            ],
            [
             0.6,
             "#e6f5d0"
            ],
            [
             0.7,
             "#b8e186"
            ],
            [
             0.8,
             "#7fbc41"
            ],
            [
             0.9,
             "#4d9221"
            ],
            [
             1,
             "#276419"
            ]
           ],
           "sequential": [
            [
             0,
             "#0d0887"
            ],
            [
             0.1111111111111111,
             "#46039f"
            ],
            [
             0.2222222222222222,
             "#7201a8"
            ],
            [
             0.3333333333333333,
             "#9c179e"
            ],
            [
             0.4444444444444444,
             "#bd3786"
            ],
            [
             0.5555555555555556,
             "#d8576b"
            ],
            [
             0.6666666666666666,
             "#ed7953"
            ],
            [
             0.7777777777777778,
             "#fb9f3a"
            ],
            [
             0.8888888888888888,
             "#fdca26"
            ],
            [
             1,
             "#f0f921"
            ]
           ],
           "sequentialminus": [
            [
             0,
             "#0d0887"
            ],
            [
             0.1111111111111111,
             "#46039f"
            ],
            [
             0.2222222222222222,
             "#7201a8"
            ],
            [
             0.3333333333333333,
             "#9c179e"
            ],
            [
             0.4444444444444444,
             "#bd3786"
            ],
            [
             0.5555555555555556,
             "#d8576b"
            ],
            [
             0.6666666666666666,
             "#ed7953"
            ],
            [
             0.7777777777777778,
             "#fb9f3a"
            ],
            [
             0.8888888888888888,
             "#fdca26"
            ],
            [
             1,
             "#f0f921"
            ]
           ]
          },
          "colorway": [
           "#636efa",
           "#EF553B",
           "#00cc96",
           "#ab63fa",
           "#FFA15A",
           "#19d3f3",
           "#FF6692",
           "#B6E880",
           "#FF97FF",
           "#FECB52"
          ],
          "font": {
           "color": "#2a3f5f"
          },
          "geo": {
           "bgcolor": "white",
           "lakecolor": "white",
           "landcolor": "#E5ECF6",
           "showlakes": true,
           "showland": true,
           "subunitcolor": "white"
          },
          "hoverlabel": {
           "align": "left"
          },
          "hovermode": "closest",
          "mapbox": {
           "style": "light"
          },
          "paper_bgcolor": "white",
          "plot_bgcolor": "#E5ECF6",
          "polar": {
           "angularaxis": {
            "gridcolor": "white",
            "linecolor": "white",
            "ticks": ""
           },
           "bgcolor": "#E5ECF6",
           "radialaxis": {
            "gridcolor": "white",
            "linecolor": "white",
            "ticks": ""
           }
          },
          "scene": {
           "xaxis": {
            "backgroundcolor": "#E5ECF6",
            "gridcolor": "white",
            "gridwidth": 2,
            "linecolor": "white",
            "showbackground": true,
            "ticks": "",
            "zerolinecolor": "white"
           },
           "yaxis": {
            "backgroundcolor": "#E5ECF6",
            "gridcolor": "white",
            "gridwidth": 2,
            "linecolor": "white",
            "showbackground": true,
            "ticks": "",
            "zerolinecolor": "white"
           },
           "zaxis": {
            "backgroundcolor": "#E5ECF6",
            "gridcolor": "white",
            "gridwidth": 2,
            "linecolor": "white",
            "showbackground": true,
            "ticks": "",
            "zerolinecolor": "white"
           }
          },
          "shapedefaults": {
           "line": {
            "color": "#2a3f5f"
           }
          },
          "ternary": {
           "aaxis": {
            "gridcolor": "white",
            "linecolor": "white",
            "ticks": ""
           },
           "baxis": {
            "gridcolor": "white",
            "linecolor": "white",
            "ticks": ""
           },
           "bgcolor": "#E5ECF6",
           "caxis": {
            "gridcolor": "white",
            "linecolor": "white",
            "ticks": ""
           }
          },
          "title": {
           "x": 0.05
          },
          "xaxis": {
           "automargin": true,
           "gridcolor": "white",
           "linecolor": "white",
           "ticks": "",
           "title": {
            "standoff": 15
           },
           "zerolinecolor": "white",
           "zerolinewidth": 2
          },
          "yaxis": {
           "automargin": true,
           "gridcolor": "white",
           "linecolor": "white",
           "ticks": "",
           "title": {
            "standoff": 15
           },
           "zerolinecolor": "white",
           "zerolinewidth": 2
          }
         }
        },
        "title": {
         "text": "Taxa de Crescimento do Tempo com Aumento da Base"
        },
        "xaxis": {
         "anchor": "y",
         "domain": [
          0,
          1
         ],
         "title": {
          "text": "Modelo"
         }
        },
        "yaxis": {
         "anchor": "x",
         "domain": [
          0,
          1
         ],
         "title": {
          "text": "Taxa de Crescimento"
         }
        }
       }
      }
     },
     "metadata": {},
     "output_type": "display_data"
    },
    {
     "name": "stdout",
     "output_type": "stream",
     "text": [
      "\n",
      "Modelos com menor taxa de crescimento são mais escaláveis, pois seu tempo de processamento\n",
      "aumenta mais lentamente com o crescimento do volume de dados.\n",
      "\n",
      "### Interpretação dos Resultados de Escalabilidade\n",
      "- **vggish** demonstra a melhor escalabilidade, com menor taxa de crescimento de tempo.\n",
      "- **openl3** apresenta a escalabilidade mais desafiadora, com maior aumento de tempo conforme o volume de dados cresce.\n",
      "\n",
      "Escolha o modelo considerando não apenas o desempenho atual, mas também a projeção futura do volume de dados.\n"
     ]
    },
    {
     "data": {
      "application/vnd.plotly.v1+json": {
       "config": {
        "plotlyServerURL": "https://plot.ly"
       },
       "data": [
        {
         "cells": {
          "align": "center",
          "fill": {
           "color": "lightcyan"
          },
          "values": [
           [
            "ast",
            "clap",
            "openl3",
            "vggish",
            "wav2vec2",
            "yamnet"
           ],
           [
            4,
            1,
            6,
            5,
            2,
            3
           ],
           [
            3,
            2,
            6,
            5,
            4,
            1
           ]
          ]
         },
         "header": {
          "align": "center",
          "fill": {
           "color": "royalblue"
          },
          "font": {
           "color": "white",
           "size": 12
          },
          "values": [
           "Modelo",
           "5 ficheiros",
           "25 ficheiros",
           "50 ficheiros",
           "100 ficheiros",
           "250 ficheiros"
          ]
         },
         "type": "table"
        }
       ],
       "layout": {
        "height": 400,
        "margin": {
         "b": 20,
         "l": 20,
         "r": 20,
         "t": 50
        },
        "template": {
         "data": {
          "bar": [
           {
            "error_x": {
             "color": "#2a3f5f"
            },
            "error_y": {
             "color": "#2a3f5f"
            },
            "marker": {
             "line": {
              "color": "#E5ECF6",
              "width": 0.5
             },
             "pattern": {
              "fillmode": "overlay",
              "size": 10,
              "solidity": 0.2
             }
            },
            "type": "bar"
           }
          ],
          "barpolar": [
           {
            "marker": {
             "line": {
              "color": "#E5ECF6",
              "width": 0.5
             },
             "pattern": {
              "fillmode": "overlay",
              "size": 10,
              "solidity": 0.2
             }
            },
            "type": "barpolar"
           }
          ],
          "carpet": [
           {
            "aaxis": {
             "endlinecolor": "#2a3f5f",
             "gridcolor": "white",
             "linecolor": "white",
             "minorgridcolor": "white",
             "startlinecolor": "#2a3f5f"
            },
            "baxis": {
             "endlinecolor": "#2a3f5f",
             "gridcolor": "white",
             "linecolor": "white",
             "minorgridcolor": "white",
             "startlinecolor": "#2a3f5f"
            },
            "type": "carpet"
           }
          ],
          "choropleth": [
           {
            "colorbar": {
             "outlinewidth": 0,
             "ticks": ""
            },
            "type": "choropleth"
           }
          ],
          "contour": [
           {
            "colorbar": {
             "outlinewidth": 0,
             "ticks": ""
            },
            "colorscale": [
             [
              0,
              "#0d0887"
             ],
             [
              0.1111111111111111,
              "#46039f"
             ],
             [
              0.2222222222222222,
              "#7201a8"
             ],
             [
              0.3333333333333333,
              "#9c179e"
             ],
             [
              0.4444444444444444,
              "#bd3786"
             ],
             [
              0.5555555555555556,
              "#d8576b"
             ],
             [
              0.6666666666666666,
              "#ed7953"
             ],
             [
              0.7777777777777778,
              "#fb9f3a"
             ],
             [
              0.8888888888888888,
              "#fdca26"
             ],
             [
              1,
              "#f0f921"
             ]
            ],
            "type": "contour"
           }
          ],
          "contourcarpet": [
           {
            "colorbar": {
             "outlinewidth": 0,
             "ticks": ""
            },
            "type": "contourcarpet"
           }
          ],
          "heatmap": [
           {
            "colorbar": {
             "outlinewidth": 0,
             "ticks": ""
            },
            "colorscale": [
             [
              0,
              "#0d0887"
             ],
             [
              0.1111111111111111,
              "#46039f"
             ],
             [
              0.2222222222222222,
              "#7201a8"
             ],
             [
              0.3333333333333333,
              "#9c179e"
             ],
             [
              0.4444444444444444,
              "#bd3786"
             ],
             [
              0.5555555555555556,
              "#d8576b"
             ],
             [
              0.6666666666666666,
              "#ed7953"
             ],
             [
              0.7777777777777778,
              "#fb9f3a"
             ],
             [
              0.8888888888888888,
              "#fdca26"
             ],
             [
              1,
              "#f0f921"
             ]
            ],
            "type": "heatmap"
           }
          ],
          "histogram": [
           {
            "marker": {
             "pattern": {
              "fillmode": "overlay",
              "size": 10,
              "solidity": 0.2
             }
            },
            "type": "histogram"
           }
          ],
          "histogram2d": [
           {
            "colorbar": {
             "outlinewidth": 0,
             "ticks": ""
            },
            "colorscale": [
             [
              0,
              "#0d0887"
             ],
             [
              0.1111111111111111,
              "#46039f"
             ],
             [
              0.2222222222222222,
              "#7201a8"
             ],
             [
              0.3333333333333333,
              "#9c179e"
             ],
             [
              0.4444444444444444,
              "#bd3786"
             ],
             [
              0.5555555555555556,
              "#d8576b"
             ],
             [
              0.6666666666666666,
              "#ed7953"
             ],
             [
              0.7777777777777778,
              "#fb9f3a"
             ],
             [
              0.8888888888888888,
              "#fdca26"
             ],
             [
              1,
              "#f0f921"
             ]
            ],
            "type": "histogram2d"
           }
          ],
          "histogram2dcontour": [
           {
            "colorbar": {
             "outlinewidth": 0,
             "ticks": ""
            },
            "colorscale": [
             [
              0,
              "#0d0887"
             ],
             [
              0.1111111111111111,
              "#46039f"
             ],
             [
              0.2222222222222222,
              "#7201a8"
             ],
             [
              0.3333333333333333,
              "#9c179e"
             ],
             [
              0.4444444444444444,
              "#bd3786"
             ],
             [
              0.5555555555555556,
              "#d8576b"
             ],
             [
              0.6666666666666666,
              "#ed7953"
             ],
             [
              0.7777777777777778,
              "#fb9f3a"
             ],
             [
              0.8888888888888888,
              "#fdca26"
             ],
             [
              1,
              "#f0f921"
             ]
            ],
            "type": "histogram2dcontour"
           }
          ],
          "mesh3d": [
           {
            "colorbar": {
             "outlinewidth": 0,
             "ticks": ""
            },
            "type": "mesh3d"
           }
          ],
          "parcoords": [
           {
            "line": {
             "colorbar": {
              "outlinewidth": 0,
              "ticks": ""
             }
            },
            "type": "parcoords"
           }
          ],
          "pie": [
           {
            "automargin": true,
            "type": "pie"
           }
          ],
          "scatter": [
           {
            "fillpattern": {
             "fillmode": "overlay",
             "size": 10,
             "solidity": 0.2
            },
            "type": "scatter"
           }
          ],
          "scatter3d": [
           {
            "line": {
             "colorbar": {
              "outlinewidth": 0,
              "ticks": ""
             }
            },
            "marker": {
             "colorbar": {
              "outlinewidth": 0,
              "ticks": ""
             }
            },
            "type": "scatter3d"
           }
          ],
          "scattercarpet": [
           {
            "marker": {
             "colorbar": {
              "outlinewidth": 0,
              "ticks": ""
             }
            },
            "type": "scattercarpet"
           }
          ],
          "scattergeo": [
           {
            "marker": {
             "colorbar": {
              "outlinewidth": 0,
              "ticks": ""
             }
            },
            "type": "scattergeo"
           }
          ],
          "scattergl": [
           {
            "marker": {
             "colorbar": {
              "outlinewidth": 0,
              "ticks": ""
             }
            },
            "type": "scattergl"
           }
          ],
          "scattermap": [
           {
            "marker": {
             "colorbar": {
              "outlinewidth": 0,
              "ticks": ""
             }
            },
            "type": "scattermap"
           }
          ],
          "scattermapbox": [
           {
            "marker": {
             "colorbar": {
              "outlinewidth": 0,
              "ticks": ""
             }
            },
            "type": "scattermapbox"
           }
          ],
          "scatterpolar": [
           {
            "marker": {
             "colorbar": {
              "outlinewidth": 0,
              "ticks": ""
             }
            },
            "type": "scatterpolar"
           }
          ],
          "scatterpolargl": [
           {
            "marker": {
             "colorbar": {
              "outlinewidth": 0,
              "ticks": ""
             }
            },
            "type": "scatterpolargl"
           }
          ],
          "scatterternary": [
           {
            "marker": {
             "colorbar": {
              "outlinewidth": 0,
              "ticks": ""
             }
            },
            "type": "scatterternary"
           }
          ],
          "surface": [
           {
            "colorbar": {
             "outlinewidth": 0,
             "ticks": ""
            },
            "colorscale": [
             [
              0,
              "#0d0887"
             ],
             [
              0.1111111111111111,
              "#46039f"
             ],
             [
              0.2222222222222222,
              "#7201a8"
             ],
             [
              0.3333333333333333,
              "#9c179e"
             ],
             [
              0.4444444444444444,
              "#bd3786"
             ],
             [
              0.5555555555555556,
              "#d8576b"
             ],
             [
              0.6666666666666666,
              "#ed7953"
             ],
             [
              0.7777777777777778,
              "#fb9f3a"
             ],
             [
              0.8888888888888888,
              "#fdca26"
             ],
             [
              1,
              "#f0f921"
             ]
            ],
            "type": "surface"
           }
          ],
          "table": [
           {
            "cells": {
             "fill": {
              "color": "#EBF0F8"
             },
             "line": {
              "color": "white"
             }
            },
            "header": {
             "fill": {
              "color": "#C8D4E3"
             },
             "line": {
              "color": "white"
             }
            },
            "type": "table"
           }
          ]
         },
         "layout": {
          "annotationdefaults": {
           "arrowcolor": "#2a3f5f",
           "arrowhead": 0,
           "arrowwidth": 1
          },
          "autotypenumbers": "strict",
          "coloraxis": {
           "colorbar": {
            "outlinewidth": 0,
            "ticks": ""
           }
          },
          "colorscale": {
           "diverging": [
            [
             0,
             "#8e0152"
            ],
            [
             0.1,
             "#c51b7d"
            ],
            [
             0.2,
             "#de77ae"
            ],
            [
             0.3,
             "#f1b6da"
            ],
            [
             0.4,
             "#fde0ef"
            ],
            [
             0.5,
             "#f7f7f7"
            ],
            [
             0.6,
             "#e6f5d0"
            ],
            [
             0.7,
             "#b8e186"
            ],
            [
             0.8,
             "#7fbc41"
            ],
            [
             0.9,
             "#4d9221"
            ],
            [
             1,
             "#276419"
            ]
           ],
           "sequential": [
            [
             0,
             "#0d0887"
            ],
            [
             0.1111111111111111,
             "#46039f"
            ],
            [
             0.2222222222222222,
             "#7201a8"
            ],
            [
             0.3333333333333333,
             "#9c179e"
            ],
            [
             0.4444444444444444,
             "#bd3786"
            ],
            [
             0.5555555555555556,
             "#d8576b"
            ],
            [
             0.6666666666666666,
             "#ed7953"
            ],
            [
             0.7777777777777778,
             "#fb9f3a"
            ],
            [
             0.8888888888888888,
             "#fdca26"
            ],
            [
             1,
             "#f0f921"
            ]
           ],
           "sequentialminus": [
            [
             0,
             "#0d0887"
            ],
            [
             0.1111111111111111,
             "#46039f"
            ],
            [
             0.2222222222222222,
             "#7201a8"
            ],
            [
             0.3333333333333333,
             "#9c179e"
            ],
            [
             0.4444444444444444,
             "#bd3786"
            ],
            [
             0.5555555555555556,
             "#d8576b"
            ],
            [
             0.6666666666666666,
             "#ed7953"
            ],
            [
             0.7777777777777778,
             "#fb9f3a"
            ],
            [
             0.8888888888888888,
             "#fdca26"
            ],
            [
             1,
             "#f0f921"
            ]
           ]
          },
          "colorway": [
           "#636efa",
           "#EF553B",
           "#00cc96",
           "#ab63fa",
           "#FFA15A",
           "#19d3f3",
           "#FF6692",
           "#B6E880",
           "#FF97FF",
           "#FECB52"
          ],
          "font": {
           "color": "#2a3f5f"
          },
          "geo": {
           "bgcolor": "white",
           "lakecolor": "white",
           "landcolor": "#E5ECF6",
           "showlakes": true,
           "showland": true,
           "subunitcolor": "white"
          },
          "hoverlabel": {
           "align": "left"
          },
          "hovermode": "closest",
          "mapbox": {
           "style": "light"
          },
          "paper_bgcolor": "white",
          "plot_bgcolor": "#E5ECF6",
          "polar": {
           "angularaxis": {
            "gridcolor": "white",
            "linecolor": "white",
            "ticks": ""
           },
           "bgcolor": "#E5ECF6",
           "radialaxis": {
            "gridcolor": "white",
            "linecolor": "white",
            "ticks": ""
           }
          },
          "scene": {
           "xaxis": {
            "backgroundcolor": "#E5ECF6",
            "gridcolor": "white",
            "gridwidth": 2,
            "linecolor": "white",
            "showbackground": true,
            "ticks": "",
            "zerolinecolor": "white"
           },
           "yaxis": {
            "backgroundcolor": "#E5ECF6",
            "gridcolor": "white",
            "gridwidth": 2,
            "linecolor": "white",
            "showbackground": true,
            "ticks": "",
            "zerolinecolor": "white"
           },
           "zaxis": {
            "backgroundcolor": "#E5ECF6",
            "gridcolor": "white",
            "gridwidth": 2,
            "linecolor": "white",
            "showbackground": true,
            "ticks": "",
            "zerolinecolor": "white"
           }
          },
          "shapedefaults": {
           "line": {
            "color": "#2a3f5f"
           }
          },
          "ternary": {
           "aaxis": {
            "gridcolor": "white",
            "linecolor": "white",
            "ticks": ""
           },
           "baxis": {
            "gridcolor": "white",
            "linecolor": "white",
            "ticks": ""
           },
           "bgcolor": "#E5ECF6",
           "caxis": {
            "gridcolor": "white",
            "linecolor": "white",
            "ticks": ""
           }
          },
          "title": {
           "x": 0.05
          },
          "xaxis": {
           "automargin": true,
           "gridcolor": "white",
           "linecolor": "white",
           "ticks": "",
           "title": {
            "standoff": 15
           },
           "zerolinecolor": "white",
           "zerolinewidth": 2
          },
          "yaxis": {
           "automargin": true,
           "gridcolor": "white",
           "linecolor": "white",
           "ticks": "",
           "title": {
            "standoff": 15
           },
           "zerolinecolor": "white",
           "zerolinewidth": 2
          }
         }
        },
        "title": {
         "text": "Evolução das Posições no Ranking por Escala"
        }
       }
      }
     },
     "metadata": {},
     "output_type": "display_data"
    },
    {
     "data": {
      "application/vnd.plotly.v1+json": {
       "config": {
        "plotlyServerURL": "https://plot.ly"
       },
       "data": [
        {
         "coloraxis": "coloraxis",
         "hovertemplate": "Tamanho do Benchmark: %{x}<br>Modelo: %{y}<br>Posição Relativa: %{z}<extra></extra>",
         "name": "0",
         "type": "heatmap",
         "x": [
          "5 ficheiros",
          "25 ficheiros"
         ],
         "xaxis": "x",
         "y": [
          "ast",
          "clap",
          "openl3",
          "vggish",
          "wav2vec2",
          "yamnet"
         ],
         "yaxis": "y",
         "z": {
          "bdata": "AAAAAAAA4D9WVVVVVVXlPwAAAAAAAPA/q6qqqqqq6j9UVVVVVVXFP1RVVVVVVcU/VlVVVVVV1T9WVVVVVVXVP6uqqqqqquo/AAAAAAAA4D9WVVVVVVXlPwAAAAAAAPA/",
          "dtype": "f8",
          "shape": "6, 2"
         }
        }
       ],
       "layout": {
        "coloraxis": {
         "colorbar": {
          "title": {
           "text": "Posição Relativa"
          }
         },
         "colorscale": [
          [
           0,
           "#440154"
          ],
          [
           0.1111111111111111,
           "#482878"
          ],
          [
           0.2222222222222222,
           "#3e4989"
          ],
          [
           0.3333333333333333,
           "#31688e"
          ],
          [
           0.4444444444444444,
           "#26828e"
          ],
          [
           0.5555555555555556,
           "#1f9e89"
          ],
          [
           0.6666666666666666,
           "#35b779"
          ],
          [
           0.7777777777777778,
           "#6ece58"
          ],
          [
           0.8888888888888888,
           "#b5de2b"
          ],
          [
           1,
           "#fde725"
          ]
         ]
        },
        "template": {
         "data": {
          "bar": [
           {
            "error_x": {
             "color": "#2a3f5f"
            },
            "error_y": {
             "color": "#2a3f5f"
            },
            "marker": {
             "line": {
              "color": "#E5ECF6",
              "width": 0.5
             },
             "pattern": {
              "fillmode": "overlay",
              "size": 10,
              "solidity": 0.2
             }
            },
            "type": "bar"
           }
          ],
          "barpolar": [
           {
            "marker": {
             "line": {
              "color": "#E5ECF6",
              "width": 0.5
             },
             "pattern": {
              "fillmode": "overlay",
              "size": 10,
              "solidity": 0.2
             }
            },
            "type": "barpolar"
           }
          ],
          "carpet": [
           {
            "aaxis": {
             "endlinecolor": "#2a3f5f",
             "gridcolor": "white",
             "linecolor": "white",
             "minorgridcolor": "white",
             "startlinecolor": "#2a3f5f"
            },
            "baxis": {
             "endlinecolor": "#2a3f5f",
             "gridcolor": "white",
             "linecolor": "white",
             "minorgridcolor": "white",
             "startlinecolor": "#2a3f5f"
            },
            "type": "carpet"
           }
          ],
          "choropleth": [
           {
            "colorbar": {
             "outlinewidth": 0,
             "ticks": ""
            },
            "type": "choropleth"
           }
          ],
          "contour": [
           {
            "colorbar": {
             "outlinewidth": 0,
             "ticks": ""
            },
            "colorscale": [
             [
              0,
              "#0d0887"
             ],
             [
              0.1111111111111111,
              "#46039f"
             ],
             [
              0.2222222222222222,
              "#7201a8"
             ],
             [
              0.3333333333333333,
              "#9c179e"
             ],
             [
              0.4444444444444444,
              "#bd3786"
             ],
             [
              0.5555555555555556,
              "#d8576b"
             ],
             [
              0.6666666666666666,
              "#ed7953"
             ],
             [
              0.7777777777777778,
              "#fb9f3a"
             ],
             [
              0.8888888888888888,
              "#fdca26"
             ],
             [
              1,
              "#f0f921"
             ]
            ],
            "type": "contour"
           }
          ],
          "contourcarpet": [
           {
            "colorbar": {
             "outlinewidth": 0,
             "ticks": ""
            },
            "type": "contourcarpet"
           }
          ],
          "heatmap": [
           {
            "colorbar": {
             "outlinewidth": 0,
             "ticks": ""
            },
            "colorscale": [
             [
              0,
              "#0d0887"
             ],
             [
              0.1111111111111111,
              "#46039f"
             ],
             [
              0.2222222222222222,
              "#7201a8"
             ],
             [
              0.3333333333333333,
              "#9c179e"
             ],
             [
              0.4444444444444444,
              "#bd3786"
             ],
             [
              0.5555555555555556,
              "#d8576b"
             ],
             [
              0.6666666666666666,
              "#ed7953"
             ],
             [
              0.7777777777777778,
              "#fb9f3a"
             ],
             [
              0.8888888888888888,
              "#fdca26"
             ],
             [
              1,
              "#f0f921"
             ]
            ],
            "type": "heatmap"
           }
          ],
          "histogram": [
           {
            "marker": {
             "pattern": {
              "fillmode": "overlay",
              "size": 10,
              "solidity": 0.2
             }
            },
            "type": "histogram"
           }
          ],
          "histogram2d": [
           {
            "colorbar": {
             "outlinewidth": 0,
             "ticks": ""
            },
            "colorscale": [
             [
              0,
              "#0d0887"
             ],
             [
              0.1111111111111111,
              "#46039f"
             ],
             [
              0.2222222222222222,
              "#7201a8"
             ],
             [
              0.3333333333333333,
              "#9c179e"
             ],
             [
              0.4444444444444444,
              "#bd3786"
             ],
             [
              0.5555555555555556,
              "#d8576b"
             ],
             [
              0.6666666666666666,
              "#ed7953"
             ],
             [
              0.7777777777777778,
              "#fb9f3a"
             ],
             [
              0.8888888888888888,
              "#fdca26"
             ],
             [
              1,
              "#f0f921"
             ]
            ],
            "type": "histogram2d"
           }
          ],
          "histogram2dcontour": [
           {
            "colorbar": {
             "outlinewidth": 0,
             "ticks": ""
            },
            "colorscale": [
             [
              0,
              "#0d0887"
             ],
             [
              0.1111111111111111,
              "#46039f"
             ],
             [
              0.2222222222222222,
              "#7201a8"
             ],
             [
              0.3333333333333333,
              "#9c179e"
             ],
             [
              0.4444444444444444,
              "#bd3786"
             ],
             [
              0.5555555555555556,
              "#d8576b"
             ],
             [
              0.6666666666666666,
              "#ed7953"
             ],
             [
              0.7777777777777778,
              "#fb9f3a"
             ],
             [
              0.8888888888888888,
              "#fdca26"
             ],
             [
              1,
              "#f0f921"
             ]
            ],
            "type": "histogram2dcontour"
           }
          ],
          "mesh3d": [
           {
            "colorbar": {
             "outlinewidth": 0,
             "ticks": ""
            },
            "type": "mesh3d"
           }
          ],
          "parcoords": [
           {
            "line": {
             "colorbar": {
              "outlinewidth": 0,
              "ticks": ""
             }
            },
            "type": "parcoords"
           }
          ],
          "pie": [
           {
            "automargin": true,
            "type": "pie"
           }
          ],
          "scatter": [
           {
            "fillpattern": {
             "fillmode": "overlay",
             "size": 10,
             "solidity": 0.2
            },
            "type": "scatter"
           }
          ],
          "scatter3d": [
           {
            "line": {
             "colorbar": {
              "outlinewidth": 0,
              "ticks": ""
             }
            },
            "marker": {
             "colorbar": {
              "outlinewidth": 0,
              "ticks": ""
             }
            },
            "type": "scatter3d"
           }
          ],
          "scattercarpet": [
           {
            "marker": {
             "colorbar": {
              "outlinewidth": 0,
              "ticks": ""
             }
            },
            "type": "scattercarpet"
           }
          ],
          "scattergeo": [
           {
            "marker": {
             "colorbar": {
              "outlinewidth": 0,
              "ticks": ""
             }
            },
            "type": "scattergeo"
           }
          ],
          "scattergl": [
           {
            "marker": {
             "colorbar": {
              "outlinewidth": 0,
              "ticks": ""
             }
            },
            "type": "scattergl"
           }
          ],
          "scattermap": [
           {
            "marker": {
             "colorbar": {
              "outlinewidth": 0,
              "ticks": ""
             }
            },
            "type": "scattermap"
           }
          ],
          "scattermapbox": [
           {
            "marker": {
             "colorbar": {
              "outlinewidth": 0,
              "ticks": ""
             }
            },
            "type": "scattermapbox"
           }
          ],
          "scatterpolar": [
           {
            "marker": {
             "colorbar": {
              "outlinewidth": 0,
              "ticks": ""
             }
            },
            "type": "scatterpolar"
           }
          ],
          "scatterpolargl": [
           {
            "marker": {
             "colorbar": {
              "outlinewidth": 0,
              "ticks": ""
             }
            },
            "type": "scatterpolargl"
           }
          ],
          "scatterternary": [
           {
            "marker": {
             "colorbar": {
              "outlinewidth": 0,
              "ticks": ""
             }
            },
            "type": "scatterternary"
           }
          ],
          "surface": [
           {
            "colorbar": {
             "outlinewidth": 0,
             "ticks": ""
            },
            "colorscale": [
             [
              0,
              "#0d0887"
             ],
             [
              0.1111111111111111,
              "#46039f"
             ],
             [
              0.2222222222222222,
              "#7201a8"
             ],
             [
              0.3333333333333333,
              "#9c179e"
             ],
             [
              0.4444444444444444,
              "#bd3786"
             ],
             [
              0.5555555555555556,
              "#d8576b"
             ],
             [
              0.6666666666666666,
              "#ed7953"
             ],
             [
              0.7777777777777778,
              "#fb9f3a"
             ],
             [
              0.8888888888888888,
              "#fdca26"
             ],
             [
              1,
              "#f0f921"
             ]
            ],
            "type": "surface"
           }
          ],
          "table": [
           {
            "cells": {
             "fill": {
              "color": "#EBF0F8"
             },
             "line": {
              "color": "white"
             }
            },
            "header": {
             "fill": {
              "color": "#C8D4E3"
             },
             "line": {
              "color": "white"
             }
            },
            "type": "table"
           }
          ]
         },
         "layout": {
          "annotationdefaults": {
           "arrowcolor": "#2a3f5f",
           "arrowhead": 0,
           "arrowwidth": 1
          },
          "autotypenumbers": "strict",
          "coloraxis": {
           "colorbar": {
            "outlinewidth": 0,
            "ticks": ""
           }
          },
          "colorscale": {
           "diverging": [
            [
             0,
             "#8e0152"
            ],
            [
             0.1,
             "#c51b7d"
            ],
            [
             0.2,
             "#de77ae"
            ],
            [
             0.3,
             "#f1b6da"
            ],
            [
             0.4,
             "#fde0ef"
            ],
            [
             0.5,
             "#f7f7f7"
            ],
            [
             0.6,
             "#e6f5d0"
            ],
            [
             0.7,
             "#b8e186"
            ],
            [
             0.8,
             "#7fbc41"
            ],
            [
             0.9,
             "#4d9221"
            ],
            [
             1,
             "#276419"
            ]
           ],
           "sequential": [
            [
             0,
             "#0d0887"
            ],
            [
             0.1111111111111111,
             "#46039f"
            ],
            [
             0.2222222222222222,
             "#7201a8"
            ],
            [
             0.3333333333333333,
             "#9c179e"
            ],
            [
             0.4444444444444444,
             "#bd3786"
            ],
            [
             0.5555555555555556,
             "#d8576b"
            ],
            [
             0.6666666666666666,
             "#ed7953"
            ],
            [
             0.7777777777777778,
             "#fb9f3a"
            ],
            [
             0.8888888888888888,
             "#fdca26"
            ],
            [
             1,
             "#f0f921"
            ]
           ],
           "sequentialminus": [
            [
             0,
             "#0d0887"
            ],
            [
             0.1111111111111111,
             "#46039f"
            ],
            [
             0.2222222222222222,
             "#7201a8"
            ],
            [
             0.3333333333333333,
             "#9c179e"
            ],
            [
             0.4444444444444444,
             "#bd3786"
            ],
            [
             0.5555555555555556,
             "#d8576b"
            ],
            [
             0.6666666666666666,
             "#ed7953"
            ],
            [
             0.7777777777777778,
             "#fb9f3a"
            ],
            [
             0.8888888888888888,
             "#fdca26"
            ],
            [
             1,
             "#f0f921"
            ]
           ]
          },
          "colorway": [
           "#636efa",
           "#EF553B",
           "#00cc96",
           "#ab63fa",
           "#FFA15A",
           "#19d3f3",
           "#FF6692",
           "#B6E880",
           "#FF97FF",
           "#FECB52"
          ],
          "font": {
           "color": "#2a3f5f"
          },
          "geo": {
           "bgcolor": "white",
           "lakecolor": "white",
           "landcolor": "#E5ECF6",
           "showlakes": true,
           "showland": true,
           "subunitcolor": "white"
          },
          "hoverlabel": {
           "align": "left"
          },
          "hovermode": "closest",
          "mapbox": {
           "style": "light"
          },
          "paper_bgcolor": "white",
          "plot_bgcolor": "#E5ECF6",
          "polar": {
           "angularaxis": {
            "gridcolor": "white",
            "linecolor": "white",
            "ticks": ""
           },
           "bgcolor": "#E5ECF6",
           "radialaxis": {
            "gridcolor": "white",
            "linecolor": "white",
            "ticks": ""
           }
          },
          "scene": {
           "xaxis": {
            "backgroundcolor": "#E5ECF6",
            "gridcolor": "white",
            "gridwidth": 2,
            "linecolor": "white",
            "showbackground": true,
            "ticks": "",
            "zerolinecolor": "white"
           },
           "yaxis": {
            "backgroundcolor": "#E5ECF6",
            "gridcolor": "white",
            "gridwidth": 2,
            "linecolor": "white",
            "showbackground": true,
            "ticks": "",
            "zerolinecolor": "white"
           },
           "zaxis": {
            "backgroundcolor": "#E5ECF6",
            "gridcolor": "white",
            "gridwidth": 2,
            "linecolor": "white",
            "showbackground": true,
            "ticks": "",
            "zerolinecolor": "white"
           }
          },
          "shapedefaults": {
           "line": {
            "color": "#2a3f5f"
           }
          },
          "ternary": {
           "aaxis": {
            "gridcolor": "white",
            "linecolor": "white",
            "ticks": ""
           },
           "baxis": {
            "gridcolor": "white",
            "linecolor": "white",
            "ticks": ""
           },
           "bgcolor": "#E5ECF6",
           "caxis": {
            "gridcolor": "white",
            "linecolor": "white",
            "ticks": ""
           }
          },
          "title": {
           "x": 0.05
          },
          "xaxis": {
           "automargin": true,
           "gridcolor": "white",
           "linecolor": "white",
           "ticks": "",
           "title": {
            "standoff": 15
           },
           "zerolinecolor": "white",
           "zerolinewidth": 2
          },
          "yaxis": {
           "automargin": true,
           "gridcolor": "white",
           "linecolor": "white",
           "ticks": "",
           "title": {
            "standoff": 15
           },
           "zerolinecolor": "white",
           "zerolinewidth": 2
          }
         }
        },
        "title": {
         "text": "Estabilidade dos Rankings com Escala"
        },
        "xaxis": {
         "anchor": "y",
         "constrain": "domain",
         "domain": [
          0,
          1
         ],
         "scaleanchor": "y",
         "title": {
          "text": "Tamanho do Benchmark"
         }
        },
        "yaxis": {
         "anchor": "x",
         "autorange": "reversed",
         "constrain": "domain",
         "domain": [
          0,
          1
         ],
         "title": {
          "text": "Modelo"
         }
        }
       }
      }
     },
     "metadata": {},
     "output_type": "display_data"
    },
    {
     "name": "stdout",
     "output_type": "stream",
     "text": [
      "\n",
      "## Eficiência com Escala\n",
      "Esta análise mostra quais modelos mantêm bom desempenho mesmo com grandes volumes de dados:\n"
     ]
    },
    {
     "data": {
      "application/vnd.plotly.v1+json": {
       "config": {
        "plotlyServerURL": "https://plot.ly"
       },
       "data": [
        {
         "hovertemplate": "Modelo=%{x}<br>Taxa de Crescimento=%{marker.color}<extra></extra>",
         "legendgroup": "",
         "marker": {
          "color": {
           "bdata": "9QZEdjz3Jz8Z5ptm7UgrP9BHkw2o+jk/ZzWMm1BGWD80ku4Ecs1YP2CaXHooCbU/",
           "dtype": "f8"
          },
          "coloraxis": "coloraxis",
          "pattern": {
           "shape": ""
          }
         },
         "name": "",
         "orientation": "v",
         "showlegend": false,
         "textposition": "auto",
         "type": "bar",
         "x": [
          "vggish",
          "yamnet",
          "clap",
          "ast",
          "wav2vec2",
          "openl3"
         ],
         "xaxis": "x",
         "y": {
          "bdata": "9QZEdjz3Jz8Z5ptm7UgrP9BHkw2o+jk/ZzWMm1BGWD80ku4Ecs1YP2CaXHooCbU/",
          "dtype": "f8"
         },
         "yaxis": "y"
        }
       ],
       "layout": {
        "barmode": "relative",
        "coloraxis": {
         "colorbar": {
          "title": {
           "text": "Taxa de Crescimento"
          }
         },
         "colorscale": [
          [
           0,
           "rgb(0,104,55)"
          ],
          [
           0.1,
           "rgb(26,152,80)"
          ],
          [
           0.2,
           "rgb(102,189,99)"
          ],
          [
           0.3,
           "rgb(166,217,106)"
          ],
          [
           0.4,
           "rgb(217,239,139)"
          ],
          [
           0.5,
           "rgb(255,255,191)"
          ],
          [
           0.6,
           "rgb(254,224,139)"
          ],
          [
           0.7,
           "rgb(253,174,97)"
          ],
          [
           0.8,
           "rgb(244,109,67)"
          ],
          [
           0.9,
           "rgb(215,48,39)"
          ],
          [
           1,
           "rgb(165,0,38)"
          ]
         ]
        },
        "legend": {
         "tracegroupgap": 0
        },
        "template": {
         "data": {
          "bar": [
           {
            "error_x": {
             "color": "#2a3f5f"
            },
            "error_y": {
             "color": "#2a3f5f"
            },
            "marker": {
             "line": {
              "color": "#E5ECF6",
              "width": 0.5
             },
             "pattern": {
              "fillmode": "overlay",
              "size": 10,
              "solidity": 0.2
             }
            },
            "type": "bar"
           }
          ],
          "barpolar": [
           {
            "marker": {
             "line": {
              "color": "#E5ECF6",
              "width": 0.5
             },
             "pattern": {
              "fillmode": "overlay",
              "size": 10,
              "solidity": 0.2
             }
            },
            "type": "barpolar"
           }
          ],
          "carpet": [
           {
            "aaxis": {
             "endlinecolor": "#2a3f5f",
             "gridcolor": "white",
             "linecolor": "white",
             "minorgridcolor": "white",
             "startlinecolor": "#2a3f5f"
            },
            "baxis": {
             "endlinecolor": "#2a3f5f",
             "gridcolor": "white",
             "linecolor": "white",
             "minorgridcolor": "white",
             "startlinecolor": "#2a3f5f"
            },
            "type": "carpet"
           }
          ],
          "choropleth": [
           {
            "colorbar": {
             "outlinewidth": 0,
             "ticks": ""
            },
            "type": "choropleth"
           }
          ],
          "contour": [
           {
            "colorbar": {
             "outlinewidth": 0,
             "ticks": ""
            },
            "colorscale": [
             [
              0,
              "#0d0887"
             ],
             [
              0.1111111111111111,
              "#46039f"
             ],
             [
              0.2222222222222222,
              "#7201a8"
             ],
             [
              0.3333333333333333,
              "#9c179e"
             ],
             [
              0.4444444444444444,
              "#bd3786"
             ],
             [
              0.5555555555555556,
              "#d8576b"
             ],
             [
              0.6666666666666666,
              "#ed7953"
             ],
             [
              0.7777777777777778,
              "#fb9f3a"
             ],
             [
              0.8888888888888888,
              "#fdca26"
             ],
             [
              1,
              "#f0f921"
             ]
            ],
            "type": "contour"
           }
          ],
          "contourcarpet": [
           {
            "colorbar": {
             "outlinewidth": 0,
             "ticks": ""
            },
            "type": "contourcarpet"
           }
          ],
          "heatmap": [
           {
            "colorbar": {
             "outlinewidth": 0,
             "ticks": ""
            },
            "colorscale": [
             [
              0,
              "#0d0887"
             ],
             [
              0.1111111111111111,
              "#46039f"
             ],
             [
              0.2222222222222222,
              "#7201a8"
             ],
             [
              0.3333333333333333,
              "#9c179e"
             ],
             [
              0.4444444444444444,
              "#bd3786"
             ],
             [
              0.5555555555555556,
              "#d8576b"
             ],
             [
              0.6666666666666666,
              "#ed7953"
             ],
             [
              0.7777777777777778,
              "#fb9f3a"
             ],
             [
              0.8888888888888888,
              "#fdca26"
             ],
             [
              1,
              "#f0f921"
             ]
            ],
            "type": "heatmap"
           }
          ],
          "histogram": [
           {
            "marker": {
             "pattern": {
              "fillmode": "overlay",
              "size": 10,
              "solidity": 0.2
             }
            },
            "type": "histogram"
           }
          ],
          "histogram2d": [
           {
            "colorbar": {
             "outlinewidth": 0,
             "ticks": ""
            },
            "colorscale": [
             [
              0,
              "#0d0887"
             ],
             [
              0.1111111111111111,
              "#46039f"
             ],
             [
              0.2222222222222222,
              "#7201a8"
             ],
             [
              0.3333333333333333,
              "#9c179e"
             ],
             [
              0.4444444444444444,
              "#bd3786"
             ],
             [
              0.5555555555555556,
              "#d8576b"
             ],
             [
              0.6666666666666666,
              "#ed7953"
             ],
             [
              0.7777777777777778,
              "#fb9f3a"
             ],
             [
              0.8888888888888888,
              "#fdca26"
             ],
             [
              1,
              "#f0f921"
             ]
            ],
            "type": "histogram2d"
           }
          ],
          "histogram2dcontour": [
           {
            "colorbar": {
             "outlinewidth": 0,
             "ticks": ""
            },
            "colorscale": [
             [
              0,
              "#0d0887"
             ],
             [
              0.1111111111111111,
              "#46039f"
             ],
             [
              0.2222222222222222,
              "#7201a8"
             ],
             [
              0.3333333333333333,
              "#9c179e"
             ],
             [
              0.4444444444444444,
              "#bd3786"
             ],
             [
              0.5555555555555556,
              "#d8576b"
             ],
             [
              0.6666666666666666,
              "#ed7953"
             ],
             [
              0.7777777777777778,
              "#fb9f3a"
             ],
             [
              0.8888888888888888,
              "#fdca26"
             ],
             [
              1,
              "#f0f921"
             ]
            ],
            "type": "histogram2dcontour"
           }
          ],
          "mesh3d": [
           {
            "colorbar": {
             "outlinewidth": 0,
             "ticks": ""
            },
            "type": "mesh3d"
           }
          ],
          "parcoords": [
           {
            "line": {
             "colorbar": {
              "outlinewidth": 0,
              "ticks": ""
             }
            },
            "type": "parcoords"
           }
          ],
          "pie": [
           {
            "automargin": true,
            "type": "pie"
           }
          ],
          "scatter": [
           {
            "fillpattern": {
             "fillmode": "overlay",
             "size": 10,
             "solidity": 0.2
            },
            "type": "scatter"
           }
          ],
          "scatter3d": [
           {
            "line": {
             "colorbar": {
              "outlinewidth": 0,
              "ticks": ""
             }
            },
            "marker": {
             "colorbar": {
              "outlinewidth": 0,
              "ticks": ""
             }
            },
            "type": "scatter3d"
           }
          ],
          "scattercarpet": [
           {
            "marker": {
             "colorbar": {
              "outlinewidth": 0,
              "ticks": ""
             }
            },
            "type": "scattercarpet"
           }
          ],
          "scattergeo": [
           {
            "marker": {
             "colorbar": {
              "outlinewidth": 0,
              "ticks": ""
             }
            },
            "type": "scattergeo"
           }
          ],
          "scattergl": [
           {
            "marker": {
             "colorbar": {
              "outlinewidth": 0,
              "ticks": ""
             }
            },
            "type": "scattergl"
           }
          ],
          "scattermap": [
           {
            "marker": {
             "colorbar": {
              "outlinewidth": 0,
              "ticks": ""
             }
            },
            "type": "scattermap"
           }
          ],
          "scattermapbox": [
           {
            "marker": {
             "colorbar": {
              "outlinewidth": 0,
              "ticks": ""
             }
            },
            "type": "scattermapbox"
           }
          ],
          "scatterpolar": [
           {
            "marker": {
             "colorbar": {
              "outlinewidth": 0,
              "ticks": ""
             }
            },
            "type": "scatterpolar"
           }
          ],
          "scatterpolargl": [
           {
            "marker": {
             "colorbar": {
              "outlinewidth": 0,
              "ticks": ""
             }
            },
            "type": "scatterpolargl"
           }
          ],
          "scatterternary": [
           {
            "marker": {
             "colorbar": {
              "outlinewidth": 0,
              "ticks": ""
             }
            },
            "type": "scatterternary"
           }
          ],
          "surface": [
           {
            "colorbar": {
             "outlinewidth": 0,
             "ticks": ""
            },
            "colorscale": [
             [
              0,
              "#0d0887"
             ],
             [
              0.1111111111111111,
              "#46039f"
             ],
             [
              0.2222222222222222,
              "#7201a8"
             ],
             [
              0.3333333333333333,
              "#9c179e"
             ],
             [
              0.4444444444444444,
              "#bd3786"
             ],
             [
              0.5555555555555556,
              "#d8576b"
             ],
             [
              0.6666666666666666,
              "#ed7953"
             ],
             [
              0.7777777777777778,
              "#fb9f3a"
             ],
             [
              0.8888888888888888,
              "#fdca26"
             ],
             [
              1,
              "#f0f921"
             ]
            ],
            "type": "surface"
           }
          ],
          "table": [
           {
            "cells": {
             "fill": {
              "color": "#EBF0F8"
             },
             "line": {
              "color": "white"
             }
            },
            "header": {
             "fill": {
              "color": "#C8D4E3"
             },
             "line": {
              "color": "white"
             }
            },
            "type": "table"
           }
          ]
         },
         "layout": {
          "annotationdefaults": {
           "arrowcolor": "#2a3f5f",
           "arrowhead": 0,
           "arrowwidth": 1
          },
          "autotypenumbers": "strict",
          "coloraxis": {
           "colorbar": {
            "outlinewidth": 0,
            "ticks": ""
           }
          },
          "colorscale": {
           "diverging": [
            [
             0,
             "#8e0152"
            ],
            [
             0.1,
             "#c51b7d"
            ],
            [
             0.2,
             "#de77ae"
            ],
            [
             0.3,
             "#f1b6da"
            ],
            [
             0.4,
             "#fde0ef"
            ],
            [
             0.5,
             "#f7f7f7"
            ],
            [
             0.6,
             "#e6f5d0"
            ],
            [
             0.7,
             "#b8e186"
            ],
            [
             0.8,
             "#7fbc41"
            ],
            [
             0.9,
             "#4d9221"
            ],
            [
             1,
             "#276419"
            ]
           ],
           "sequential": [
            [
             0,
             "#0d0887"
            ],
            [
             0.1111111111111111,
             "#46039f"
            ],
            [
             0.2222222222222222,
             "#7201a8"
            ],
            [
             0.3333333333333333,
             "#9c179e"
            ],
            [
             0.4444444444444444,
             "#bd3786"
            ],
            [
             0.5555555555555556,
             "#d8576b"
            ],
            [
             0.6666666666666666,
             "#ed7953"
            ],
            [
             0.7777777777777778,
             "#fb9f3a"
            ],
            [
             0.8888888888888888,
             "#fdca26"
            ],
            [
             1,
             "#f0f921"
            ]
           ],
           "sequentialminus": [
            [
             0,
             "#0d0887"
            ],
            [
             0.1111111111111111,
             "#46039f"
            ],
            [
             0.2222222222222222,
             "#7201a8"
            ],
            [
             0.3333333333333333,
             "#9c179e"
            ],
            [
             0.4444444444444444,
             "#bd3786"
            ],
            [
             0.5555555555555556,
             "#d8576b"
            ],
            [
             0.6666666666666666,
             "#ed7953"
            ],
            [
             0.7777777777777778,
             "#fb9f3a"
            ],
            [
             0.8888888888888888,
             "#fdca26"
            ],
            [
             1,
             "#f0f921"
            ]
           ]
          },
          "colorway": [
           "#636efa",
           "#EF553B",
           "#00cc96",
           "#ab63fa",
           "#FFA15A",
           "#19d3f3",
           "#FF6692",
           "#B6E880",
           "#FF97FF",
           "#FECB52"
          ],
          "font": {
           "color": "#2a3f5f"
          },
          "geo": {
           "bgcolor": "white",
           "lakecolor": "white",
           "landcolor": "#E5ECF6",
           "showlakes": true,
           "showland": true,
           "subunitcolor": "white"
          },
          "hoverlabel": {
           "align": "left"
          },
          "hovermode": "closest",
          "mapbox": {
           "style": "light"
          },
          "paper_bgcolor": "white",
          "plot_bgcolor": "#E5ECF6",
          "polar": {
           "angularaxis": {
            "gridcolor": "white",
            "linecolor": "white",
            "ticks": ""
           },
           "bgcolor": "#E5ECF6",
           "radialaxis": {
            "gridcolor": "white",
            "linecolor": "white",
            "ticks": ""
           }
          },
          "scene": {
           "xaxis": {
            "backgroundcolor": "#E5ECF6",
            "gridcolor": "white",
            "gridwidth": 2,
            "linecolor": "white",
            "showbackground": true,
            "ticks": "",
            "zerolinecolor": "white"
           },
           "yaxis": {
            "backgroundcolor": "#E5ECF6",
            "gridcolor": "white",
            "gridwidth": 2,
            "linecolor": "white",
            "showbackground": true,
            "ticks": "",
            "zerolinecolor": "white"
           },
           "zaxis": {
            "backgroundcolor": "#E5ECF6",
            "gridcolor": "white",
            "gridwidth": 2,
            "linecolor": "white",
            "showbackground": true,
            "ticks": "",
            "zerolinecolor": "white"
           }
          },
          "shapedefaults": {
           "line": {
            "color": "#2a3f5f"
           }
          },
          "ternary": {
           "aaxis": {
            "gridcolor": "white",
            "linecolor": "white",
            "ticks": ""
           },
           "baxis": {
            "gridcolor": "white",
            "linecolor": "white",
            "ticks": ""
           },
           "bgcolor": "#E5ECF6",
           "caxis": {
            "gridcolor": "white",
            "linecolor": "white",
            "ticks": ""
           }
          },
          "title": {
           "x": 0.05
          },
          "xaxis": {
           "automargin": true,
           "gridcolor": "white",
           "linecolor": "white",
           "ticks": "",
           "title": {
            "standoff": 15
           },
           "zerolinecolor": "white",
           "zerolinewidth": 2
          },
          "yaxis": {
           "automargin": true,
           "gridcolor": "white",
           "linecolor": "white",
           "ticks": "",
           "title": {
            "standoff": 15
           },
           "zerolinecolor": "white",
           "zerolinewidth": 2
          }
         }
        },
        "title": {
         "text": "Taxa de Crescimento do Tempo com Aumento da Base"
        },
        "xaxis": {
         "anchor": "y",
         "domain": [
          0,
          1
         ],
         "title": {
          "text": "Modelo"
         }
        },
        "yaxis": {
         "anchor": "x",
         "domain": [
          0,
          1
         ],
         "title": {
          "text": "Taxa de Crescimento"
         }
        }
       }
      }
     },
     "metadata": {},
     "output_type": "display_data"
    },
    {
     "name": "stdout",
     "output_type": "stream",
     "text": [
      "\n",
      "Modelos com menor taxa de crescimento são mais escaláveis, pois seu tempo de processamento\n",
      "aumenta mais lentamente com o crescimento do volume de dados.\n",
      "\n",
      "### Interpretação dos Resultados de Escalabilidade\n",
      "- **vggish** demonstra a melhor escalabilidade, com menor taxa de crescimento de tempo.\n",
      "- **openl3** apresenta a escalabilidade mais desafiadora, com maior aumento de tempo conforme o volume de dados cresce.\n",
      "\n",
      "Escolha o modelo considerando não apenas o desempenho atual, mas também a projeção futura do volume de dados.\n"
     ]
    },
    {
     "data": {
      "application/vnd.plotly.v1+json": {
       "config": {
        "plotlyServerURL": "https://plot.ly"
       },
       "data": [
        {
         "cells": {
          "align": "center",
          "fill": {
           "color": "lightcyan"
          },
          "values": [
           [
            "ast",
            "clap",
            "openl3",
            "vggish",
            "wav2vec2",
            "yamnet"
           ],
           [
            4,
            1,
            6,
            5,
            2,
            3
           ],
           [
            3,
            2,
            6,
            5,
            4,
            1
           ],
           [
            3,
            2,
            6,
            4,
            5,
            1
           ]
          ]
         },
         "header": {
          "align": "center",
          "fill": {
           "color": "royalblue"
          },
          "font": {
           "color": "white",
           "size": 12
          },
          "values": [
           "Modelo",
           "5 ficheiros",
           "25 ficheiros",
           "50 ficheiros",
           "100 ficheiros",
           "250 ficheiros"
          ]
         },
         "type": "table"
        }
       ],
       "layout": {
        "height": 400,
        "margin": {
         "b": 20,
         "l": 20,
         "r": 20,
         "t": 50
        },
        "template": {
         "data": {
          "bar": [
           {
            "error_x": {
             "color": "#2a3f5f"
            },
            "error_y": {
             "color": "#2a3f5f"
            },
            "marker": {
             "line": {
              "color": "#E5ECF6",
              "width": 0.5
             },
             "pattern": {
              "fillmode": "overlay",
              "size": 10,
              "solidity": 0.2
             }
            },
            "type": "bar"
           }
          ],
          "barpolar": [
           {
            "marker": {
             "line": {
              "color": "#E5ECF6",
              "width": 0.5
             },
             "pattern": {
              "fillmode": "overlay",
              "size": 10,
              "solidity": 0.2
             }
            },
            "type": "barpolar"
           }
          ],
          "carpet": [
           {
            "aaxis": {
             "endlinecolor": "#2a3f5f",
             "gridcolor": "white",
             "linecolor": "white",
             "minorgridcolor": "white",
             "startlinecolor": "#2a3f5f"
            },
            "baxis": {
             "endlinecolor": "#2a3f5f",
             "gridcolor": "white",
             "linecolor": "white",
             "minorgridcolor": "white",
             "startlinecolor": "#2a3f5f"
            },
            "type": "carpet"
           }
          ],
          "choropleth": [
           {
            "colorbar": {
             "outlinewidth": 0,
             "ticks": ""
            },
            "type": "choropleth"
           }
          ],
          "contour": [
           {
            "colorbar": {
             "outlinewidth": 0,
             "ticks": ""
            },
            "colorscale": [
             [
              0,
              "#0d0887"
             ],
             [
              0.1111111111111111,
              "#46039f"
             ],
             [
              0.2222222222222222,
              "#7201a8"
             ],
             [
              0.3333333333333333,
              "#9c179e"
             ],
             [
              0.4444444444444444,
              "#bd3786"
             ],
             [
              0.5555555555555556,
              "#d8576b"
             ],
             [
              0.6666666666666666,
              "#ed7953"
             ],
             [
              0.7777777777777778,
              "#fb9f3a"
             ],
             [
              0.8888888888888888,
              "#fdca26"
             ],
             [
              1,
              "#f0f921"
             ]
            ],
            "type": "contour"
           }
          ],
          "contourcarpet": [
           {
            "colorbar": {
             "outlinewidth": 0,
             "ticks": ""
            },
            "type": "contourcarpet"
           }
          ],
          "heatmap": [
           {
            "colorbar": {
             "outlinewidth": 0,
             "ticks": ""
            },
            "colorscale": [
             [
              0,
              "#0d0887"
             ],
             [
              0.1111111111111111,
              "#46039f"
             ],
             [
              0.2222222222222222,
              "#7201a8"
             ],
             [
              0.3333333333333333,
              "#9c179e"
             ],
             [
              0.4444444444444444,
              "#bd3786"
             ],
             [
              0.5555555555555556,
              "#d8576b"
             ],
             [
              0.6666666666666666,
              "#ed7953"
             ],
             [
              0.7777777777777778,
              "#fb9f3a"
             ],
             [
              0.8888888888888888,
              "#fdca26"
             ],
             [
              1,
              "#f0f921"
             ]
            ],
            "type": "heatmap"
           }
          ],
          "histogram": [
           {
            "marker": {
             "pattern": {
              "fillmode": "overlay",
              "size": 10,
              "solidity": 0.2
             }
            },
            "type": "histogram"
           }
          ],
          "histogram2d": [
           {
            "colorbar": {
             "outlinewidth": 0,
             "ticks": ""
            },
            "colorscale": [
             [
              0,
              "#0d0887"
             ],
             [
              0.1111111111111111,
              "#46039f"
             ],
             [
              0.2222222222222222,
              "#7201a8"
             ],
             [
              0.3333333333333333,
              "#9c179e"
             ],
             [
              0.4444444444444444,
              "#bd3786"
             ],
             [
              0.5555555555555556,
              "#d8576b"
             ],
             [
              0.6666666666666666,
              "#ed7953"
             ],
             [
              0.7777777777777778,
              "#fb9f3a"
             ],
             [
              0.8888888888888888,
              "#fdca26"
             ],
             [
              1,
              "#f0f921"
             ]
            ],
            "type": "histogram2d"
           }
          ],
          "histogram2dcontour": [
           {
            "colorbar": {
             "outlinewidth": 0,
             "ticks": ""
            },
            "colorscale": [
             [
              0,
              "#0d0887"
             ],
             [
              0.1111111111111111,
              "#46039f"
             ],
             [
              0.2222222222222222,
              "#7201a8"
             ],
             [
              0.3333333333333333,
              "#9c179e"
             ],
             [
              0.4444444444444444,
              "#bd3786"
             ],
             [
              0.5555555555555556,
              "#d8576b"
             ],
             [
              0.6666666666666666,
              "#ed7953"
             ],
             [
              0.7777777777777778,
              "#fb9f3a"
             ],
             [
              0.8888888888888888,
              "#fdca26"
             ],
             [
              1,
              "#f0f921"
             ]
            ],
            "type": "histogram2dcontour"
           }
          ],
          "mesh3d": [
           {
            "colorbar": {
             "outlinewidth": 0,
             "ticks": ""
            },
            "type": "mesh3d"
           }
          ],
          "parcoords": [
           {
            "line": {
             "colorbar": {
              "outlinewidth": 0,
              "ticks": ""
             }
            },
            "type": "parcoords"
           }
          ],
          "pie": [
           {
            "automargin": true,
            "type": "pie"
           }
          ],
          "scatter": [
           {
            "fillpattern": {
             "fillmode": "overlay",
             "size": 10,
             "solidity": 0.2
            },
            "type": "scatter"
           }
          ],
          "scatter3d": [
           {
            "line": {
             "colorbar": {
              "outlinewidth": 0,
              "ticks": ""
             }
            },
            "marker": {
             "colorbar": {
              "outlinewidth": 0,
              "ticks": ""
             }
            },
            "type": "scatter3d"
           }
          ],
          "scattercarpet": [
           {
            "marker": {
             "colorbar": {
              "outlinewidth": 0,
              "ticks": ""
             }
            },
            "type": "scattercarpet"
           }
          ],
          "scattergeo": [
           {
            "marker": {
             "colorbar": {
              "outlinewidth": 0,
              "ticks": ""
             }
            },
            "type": "scattergeo"
           }
          ],
          "scattergl": [
           {
            "marker": {
             "colorbar": {
              "outlinewidth": 0,
              "ticks": ""
             }
            },
            "type": "scattergl"
           }
          ],
          "scattermap": [
           {
            "marker": {
             "colorbar": {
              "outlinewidth": 0,
              "ticks": ""
             }
            },
            "type": "scattermap"
           }
          ],
          "scattermapbox": [
           {
            "marker": {
             "colorbar": {
              "outlinewidth": 0,
              "ticks": ""
             }
            },
            "type": "scattermapbox"
           }
          ],
          "scatterpolar": [
           {
            "marker": {
             "colorbar": {
              "outlinewidth": 0,
              "ticks": ""
             }
            },
            "type": "scatterpolar"
           }
          ],
          "scatterpolargl": [
           {
            "marker": {
             "colorbar": {
              "outlinewidth": 0,
              "ticks": ""
             }
            },
            "type": "scatterpolargl"
           }
          ],
          "scatterternary": [
           {
            "marker": {
             "colorbar": {
              "outlinewidth": 0,
              "ticks": ""
             }
            },
            "type": "scatterternary"
           }
          ],
          "surface": [
           {
            "colorbar": {
             "outlinewidth": 0,
             "ticks": ""
            },
            "colorscale": [
             [
              0,
              "#0d0887"
             ],
             [
              0.1111111111111111,
              "#46039f"
             ],
             [
              0.2222222222222222,
              "#7201a8"
             ],
             [
              0.3333333333333333,
              "#9c179e"
             ],
             [
              0.4444444444444444,
              "#bd3786"
             ],
             [
              0.5555555555555556,
              "#d8576b"
             ],
             [
              0.6666666666666666,
              "#ed7953"
             ],
             [
              0.7777777777777778,
              "#fb9f3a"
             ],
             [
              0.8888888888888888,
              "#fdca26"
             ],
             [
              1,
              "#f0f921"
             ]
            ],
            "type": "surface"
           }
          ],
          "table": [
           {
            "cells": {
             "fill": {
              "color": "#EBF0F8"
             },
             "line": {
              "color": "white"
             }
            },
            "header": {
             "fill": {
              "color": "#C8D4E3"
             },
             "line": {
              "color": "white"
             }
            },
            "type": "table"
           }
          ]
         },
         "layout": {
          "annotationdefaults": {
           "arrowcolor": "#2a3f5f",
           "arrowhead": 0,
           "arrowwidth": 1
          },
          "autotypenumbers": "strict",
          "coloraxis": {
           "colorbar": {
            "outlinewidth": 0,
            "ticks": ""
           }
          },
          "colorscale": {
           "diverging": [
            [
             0,
             "#8e0152"
            ],
            [
             0.1,
             "#c51b7d"
            ],
            [
             0.2,
             "#de77ae"
            ],
            [
             0.3,
             "#f1b6da"
            ],
            [
             0.4,
             "#fde0ef"
            ],
            [
             0.5,
             "#f7f7f7"
            ],
            [
             0.6,
             "#e6f5d0"
            ],
            [
             0.7,
             "#b8e186"
            ],
            [
             0.8,
             "#7fbc41"
            ],
            [
             0.9,
             "#4d9221"
            ],
            [
             1,
             "#276419"
            ]
           ],
           "sequential": [
            [
             0,
             "#0d0887"
            ],
            [
             0.1111111111111111,
             "#46039f"
            ],
            [
             0.2222222222222222,
             "#7201a8"
            ],
            [
             0.3333333333333333,
             "#9c179e"
            ],
            [
             0.4444444444444444,
             "#bd3786"
            ],
            [
             0.5555555555555556,
             "#d8576b"
            ],
            [
             0.6666666666666666,
             "#ed7953"
            ],
            [
             0.7777777777777778,
             "#fb9f3a"
            ],
            [
             0.8888888888888888,
             "#fdca26"
            ],
            [
             1,
             "#f0f921"
            ]
           ],
           "sequentialminus": [
            [
             0,
             "#0d0887"
            ],
            [
             0.1111111111111111,
             "#46039f"
            ],
            [
             0.2222222222222222,
             "#7201a8"
            ],
            [
             0.3333333333333333,
             "#9c179e"
            ],
            [
             0.4444444444444444,
             "#bd3786"
            ],
            [
             0.5555555555555556,
             "#d8576b"
            ],
            [
             0.6666666666666666,
             "#ed7953"
            ],
            [
             0.7777777777777778,
             "#fb9f3a"
            ],
            [
             0.8888888888888888,
             "#fdca26"
            ],
            [
             1,
             "#f0f921"
            ]
           ]
          },
          "colorway": [
           "#636efa",
           "#EF553B",
           "#00cc96",
           "#ab63fa",
           "#FFA15A",
           "#19d3f3",
           "#FF6692",
           "#B6E880",
           "#FF97FF",
           "#FECB52"
          ],
          "font": {
           "color": "#2a3f5f"
          },
          "geo": {
           "bgcolor": "white",
           "lakecolor": "white",
           "landcolor": "#E5ECF6",
           "showlakes": true,
           "showland": true,
           "subunitcolor": "white"
          },
          "hoverlabel": {
           "align": "left"
          },
          "hovermode": "closest",
          "mapbox": {
           "style": "light"
          },
          "paper_bgcolor": "white",
          "plot_bgcolor": "#E5ECF6",
          "polar": {
           "angularaxis": {
            "gridcolor": "white",
            "linecolor": "white",
            "ticks": ""
           },
           "bgcolor": "#E5ECF6",
           "radialaxis": {
            "gridcolor": "white",
            "linecolor": "white",
            "ticks": ""
           }
          },
          "scene": {
           "xaxis": {
            "backgroundcolor": "#E5ECF6",
            "gridcolor": "white",
            "gridwidth": 2,
            "linecolor": "white",
            "showbackground": true,
            "ticks": "",
            "zerolinecolor": "white"
           },
           "yaxis": {
            "backgroundcolor": "#E5ECF6",
            "gridcolor": "white",
            "gridwidth": 2,
            "linecolor": "white",
            "showbackground": true,
            "ticks": "",
            "zerolinecolor": "white"
           },
           "zaxis": {
            "backgroundcolor": "#E5ECF6",
            "gridcolor": "white",
            "gridwidth": 2,
            "linecolor": "white",
            "showbackground": true,
            "ticks": "",
            "zerolinecolor": "white"
           }
          },
          "shapedefaults": {
           "line": {
            "color": "#2a3f5f"
           }
          },
          "ternary": {
           "aaxis": {
            "gridcolor": "white",
            "linecolor": "white",
            "ticks": ""
           },
           "baxis": {
            "gridcolor": "white",
            "linecolor": "white",
            "ticks": ""
           },
           "bgcolor": "#E5ECF6",
           "caxis": {
            "gridcolor": "white",
            "linecolor": "white",
            "ticks": ""
           }
          },
          "title": {
           "x": 0.05
          },
          "xaxis": {
           "automargin": true,
           "gridcolor": "white",
           "linecolor": "white",
           "ticks": "",
           "title": {
            "standoff": 15
           },
           "zerolinecolor": "white",
           "zerolinewidth": 2
          },
          "yaxis": {
           "automargin": true,
           "gridcolor": "white",
           "linecolor": "white",
           "ticks": "",
           "title": {
            "standoff": 15
           },
           "zerolinecolor": "white",
           "zerolinewidth": 2
          }
         }
        },
        "title": {
         "text": "Evolução das Posições no Ranking por Escala"
        }
       }
      }
     },
     "metadata": {},
     "output_type": "display_data"
    },
    {
     "data": {
      "application/vnd.plotly.v1+json": {
       "config": {
        "plotlyServerURL": "https://plot.ly"
       },
       "data": [
        {
         "coloraxis": "coloraxis",
         "hovertemplate": "Tamanho do Benchmark: %{x}<br>Modelo: %{y}<br>Posição Relativa: %{z}<extra></extra>",
         "name": "0",
         "type": "heatmap",
         "x": [
          "5 ficheiros",
          "25 ficheiros",
          "50 ficheiros"
         ],
         "xaxis": "x",
         "y": [
          "ast",
          "clap",
          "openl3",
          "vggish",
          "wav2vec2",
          "yamnet"
         ],
         "yaxis": "y",
         "z": {
          "bdata": "AAAAAAAA4D9WVVVVVVXlP1ZVVVVVVeU/AAAAAAAA8D+rqqqqqqrqP6uqqqqqquo/VFVVVVVVxT9UVVVVVVXFP1RVVVVVVcU/VlVVVVVV1T9WVVVVVVXVPwAAAAAAAOA/q6qqqqqq6j8AAAAAAADgP1ZVVVVVVdU/VlVVVVVV5T8AAAAAAADwPwAAAAAAAPA/",
          "dtype": "f8",
          "shape": "6, 3"
         }
        }
       ],
       "layout": {
        "coloraxis": {
         "colorbar": {
          "title": {
           "text": "Posição Relativa"
          }
         },
         "colorscale": [
          [
           0,
           "#440154"
          ],
          [
           0.1111111111111111,
           "#482878"
          ],
          [
           0.2222222222222222,
           "#3e4989"
          ],
          [
           0.3333333333333333,
           "#31688e"
          ],
          [
           0.4444444444444444,
           "#26828e"
          ],
          [
           0.5555555555555556,
           "#1f9e89"
          ],
          [
           0.6666666666666666,
           "#35b779"
          ],
          [
           0.7777777777777778,
           "#6ece58"
          ],
          [
           0.8888888888888888,
           "#b5de2b"
          ],
          [
           1,
           "#fde725"
          ]
         ]
        },
        "template": {
         "data": {
          "bar": [
           {
            "error_x": {
             "color": "#2a3f5f"
            },
            "error_y": {
             "color": "#2a3f5f"
            },
            "marker": {
             "line": {
              "color": "#E5ECF6",
              "width": 0.5
             },
             "pattern": {
              "fillmode": "overlay",
              "size": 10,
              "solidity": 0.2
             }
            },
            "type": "bar"
           }
          ],
          "barpolar": [
           {
            "marker": {
             "line": {
              "color": "#E5ECF6",
              "width": 0.5
             },
             "pattern": {
              "fillmode": "overlay",
              "size": 10,
              "solidity": 0.2
             }
            },
            "type": "barpolar"
           }
          ],
          "carpet": [
           {
            "aaxis": {
             "endlinecolor": "#2a3f5f",
             "gridcolor": "white",
             "linecolor": "white",
             "minorgridcolor": "white",
             "startlinecolor": "#2a3f5f"
            },
            "baxis": {
             "endlinecolor": "#2a3f5f",
             "gridcolor": "white",
             "linecolor": "white",
             "minorgridcolor": "white",
             "startlinecolor": "#2a3f5f"
            },
            "type": "carpet"
           }
          ],
          "choropleth": [
           {
            "colorbar": {
             "outlinewidth": 0,
             "ticks": ""
            },
            "type": "choropleth"
           }
          ],
          "contour": [
           {
            "colorbar": {
             "outlinewidth": 0,
             "ticks": ""
            },
            "colorscale": [
             [
              0,
              "#0d0887"
             ],
             [
              0.1111111111111111,
              "#46039f"
             ],
             [
              0.2222222222222222,
              "#7201a8"
             ],
             [
              0.3333333333333333,
              "#9c179e"
             ],
             [
              0.4444444444444444,
              "#bd3786"
             ],
             [
              0.5555555555555556,
              "#d8576b"
             ],
             [
              0.6666666666666666,
              "#ed7953"
             ],
             [
              0.7777777777777778,
              "#fb9f3a"
             ],
             [
              0.8888888888888888,
              "#fdca26"
             ],
             [
              1,
              "#f0f921"
             ]
            ],
            "type": "contour"
           }
          ],
          "contourcarpet": [
           {
            "colorbar": {
             "outlinewidth": 0,
             "ticks": ""
            },
            "type": "contourcarpet"
           }
          ],
          "heatmap": [
           {
            "colorbar": {
             "outlinewidth": 0,
             "ticks": ""
            },
            "colorscale": [
             [
              0,
              "#0d0887"
             ],
             [
              0.1111111111111111,
              "#46039f"
             ],
             [
              0.2222222222222222,
              "#7201a8"
             ],
             [
              0.3333333333333333,
              "#9c179e"
             ],
             [
              0.4444444444444444,
              "#bd3786"
             ],
             [
              0.5555555555555556,
              "#d8576b"
             ],
             [
              0.6666666666666666,
              "#ed7953"
             ],
             [
              0.7777777777777778,
              "#fb9f3a"
             ],
             [
              0.8888888888888888,
              "#fdca26"
             ],
             [
              1,
              "#f0f921"
             ]
            ],
            "type": "heatmap"
           }
          ],
          "histogram": [
           {
            "marker": {
             "pattern": {
              "fillmode": "overlay",
              "size": 10,
              "solidity": 0.2
             }
            },
            "type": "histogram"
           }
          ],
          "histogram2d": [
           {
            "colorbar": {
             "outlinewidth": 0,
             "ticks": ""
            },
            "colorscale": [
             [
              0,
              "#0d0887"
             ],
             [
              0.1111111111111111,
              "#46039f"
             ],
             [
              0.2222222222222222,
              "#7201a8"
             ],
             [
              0.3333333333333333,
              "#9c179e"
             ],
             [
              0.4444444444444444,
              "#bd3786"
             ],
             [
              0.5555555555555556,
              "#d8576b"
             ],
             [
              0.6666666666666666,
              "#ed7953"
             ],
             [
              0.7777777777777778,
              "#fb9f3a"
             ],
             [
              0.8888888888888888,
              "#fdca26"
             ],
             [
              1,
              "#f0f921"
             ]
            ],
            "type": "histogram2d"
           }
          ],
          "histogram2dcontour": [
           {
            "colorbar": {
             "outlinewidth": 0,
             "ticks": ""
            },
            "colorscale": [
             [
              0,
              "#0d0887"
             ],
             [
              0.1111111111111111,
              "#46039f"
             ],
             [
              0.2222222222222222,
              "#7201a8"
             ],
             [
              0.3333333333333333,
              "#9c179e"
             ],
             [
              0.4444444444444444,
              "#bd3786"
             ],
             [
              0.5555555555555556,
              "#d8576b"
             ],
             [
              0.6666666666666666,
              "#ed7953"
             ],
             [
              0.7777777777777778,
              "#fb9f3a"
             ],
             [
              0.8888888888888888,
              "#fdca26"
             ],
             [
              1,
              "#f0f921"
             ]
            ],
            "type": "histogram2dcontour"
           }
          ],
          "mesh3d": [
           {
            "colorbar": {
             "outlinewidth": 0,
             "ticks": ""
            },
            "type": "mesh3d"
           }
          ],
          "parcoords": [
           {
            "line": {
             "colorbar": {
              "outlinewidth": 0,
              "ticks": ""
             }
            },
            "type": "parcoords"
           }
          ],
          "pie": [
           {
            "automargin": true,
            "type": "pie"
           }
          ],
          "scatter": [
           {
            "fillpattern": {
             "fillmode": "overlay",
             "size": 10,
             "solidity": 0.2
            },
            "type": "scatter"
           }
          ],
          "scatter3d": [
           {
            "line": {
             "colorbar": {
              "outlinewidth": 0,
              "ticks": ""
             }
            },
            "marker": {
             "colorbar": {
              "outlinewidth": 0,
              "ticks": ""
             }
            },
            "type": "scatter3d"
           }
          ],
          "scattercarpet": [
           {
            "marker": {
             "colorbar": {
              "outlinewidth": 0,
              "ticks": ""
             }
            },
            "type": "scattercarpet"
           }
          ],
          "scattergeo": [
           {
            "marker": {
             "colorbar": {
              "outlinewidth": 0,
              "ticks": ""
             }
            },
            "type": "scattergeo"
           }
          ],
          "scattergl": [
           {
            "marker": {
             "colorbar": {
              "outlinewidth": 0,
              "ticks": ""
             }
            },
            "type": "scattergl"
           }
          ],
          "scattermap": [
           {
            "marker": {
             "colorbar": {
              "outlinewidth": 0,
              "ticks": ""
             }
            },
            "type": "scattermap"
           }
          ],
          "scattermapbox": [
           {
            "marker": {
             "colorbar": {
              "outlinewidth": 0,
              "ticks": ""
             }
            },
            "type": "scattermapbox"
           }
          ],
          "scatterpolar": [
           {
            "marker": {
             "colorbar": {
              "outlinewidth": 0,
              "ticks": ""
             }
            },
            "type": "scatterpolar"
           }
          ],
          "scatterpolargl": [
           {
            "marker": {
             "colorbar": {
              "outlinewidth": 0,
              "ticks": ""
             }
            },
            "type": "scatterpolargl"
           }
          ],
          "scatterternary": [
           {
            "marker": {
             "colorbar": {
              "outlinewidth": 0,
              "ticks": ""
             }
            },
            "type": "scatterternary"
           }
          ],
          "surface": [
           {
            "colorbar": {
             "outlinewidth": 0,
             "ticks": ""
            },
            "colorscale": [
             [
              0,
              "#0d0887"
             ],
             [
              0.1111111111111111,
              "#46039f"
             ],
             [
              0.2222222222222222,
              "#7201a8"
             ],
             [
              0.3333333333333333,
              "#9c179e"
             ],
             [
              0.4444444444444444,
              "#bd3786"
             ],
             [
              0.5555555555555556,
              "#d8576b"
             ],
             [
              0.6666666666666666,
              "#ed7953"
             ],
             [
              0.7777777777777778,
              "#fb9f3a"
             ],
             [
              0.8888888888888888,
              "#fdca26"
             ],
             [
              1,
              "#f0f921"
             ]
            ],
            "type": "surface"
           }
          ],
          "table": [
           {
            "cells": {
             "fill": {
              "color": "#EBF0F8"
             },
             "line": {
              "color": "white"
             }
            },
            "header": {
             "fill": {
              "color": "#C8D4E3"
             },
             "line": {
              "color": "white"
             }
            },
            "type": "table"
           }
          ]
         },
         "layout": {
          "annotationdefaults": {
           "arrowcolor": "#2a3f5f",
           "arrowhead": 0,
           "arrowwidth": 1
          },
          "autotypenumbers": "strict",
          "coloraxis": {
           "colorbar": {
            "outlinewidth": 0,
            "ticks": ""
           }
          },
          "colorscale": {
           "diverging": [
            [
             0,
             "#8e0152"
            ],
            [
             0.1,
             "#c51b7d"
            ],
            [
             0.2,
             "#de77ae"
            ],
            [
             0.3,
             "#f1b6da"
            ],
            [
             0.4,
             "#fde0ef"
            ],
            [
             0.5,
             "#f7f7f7"
            ],
            [
             0.6,
             "#e6f5d0"
            ],
            [
             0.7,
             "#b8e186"
            ],
            [
             0.8,
             "#7fbc41"
            ],
            [
             0.9,
             "#4d9221"
            ],
            [
             1,
             "#276419"
            ]
           ],
           "sequential": [
            [
             0,
             "#0d0887"
            ],
            [
             0.1111111111111111,
             "#46039f"
            ],
            [
             0.2222222222222222,
             "#7201a8"
            ],
            [
             0.3333333333333333,
             "#9c179e"
            ],
            [
             0.4444444444444444,
             "#bd3786"
            ],
            [
             0.5555555555555556,
             "#d8576b"
            ],
            [
             0.6666666666666666,
             "#ed7953"
            ],
            [
             0.7777777777777778,
             "#fb9f3a"
            ],
            [
             0.8888888888888888,
             "#fdca26"
            ],
            [
             1,
             "#f0f921"
            ]
           ],
           "sequentialminus": [
            [
             0,
             "#0d0887"
            ],
            [
             0.1111111111111111,
             "#46039f"
            ],
            [
             0.2222222222222222,
             "#7201a8"
            ],
            [
             0.3333333333333333,
             "#9c179e"
            ],
            [
             0.4444444444444444,
             "#bd3786"
            ],
            [
             0.5555555555555556,
             "#d8576b"
            ],
            [
             0.6666666666666666,
             "#ed7953"
            ],
            [
             0.7777777777777778,
             "#fb9f3a"
            ],
            [
             0.8888888888888888,
             "#fdca26"
            ],
            [
             1,
             "#f0f921"
            ]
           ]
          },
          "colorway": [
           "#636efa",
           "#EF553B",
           "#00cc96",
           "#ab63fa",
           "#FFA15A",
           "#19d3f3",
           "#FF6692",
           "#B6E880",
           "#FF97FF",
           "#FECB52"
          ],
          "font": {
           "color": "#2a3f5f"
          },
          "geo": {
           "bgcolor": "white",
           "lakecolor": "white",
           "landcolor": "#E5ECF6",
           "showlakes": true,
           "showland": true,
           "subunitcolor": "white"
          },
          "hoverlabel": {
           "align": "left"
          },
          "hovermode": "closest",
          "mapbox": {
           "style": "light"
          },
          "paper_bgcolor": "white",
          "plot_bgcolor": "#E5ECF6",
          "polar": {
           "angularaxis": {
            "gridcolor": "white",
            "linecolor": "white",
            "ticks": ""
           },
           "bgcolor": "#E5ECF6",
           "radialaxis": {
            "gridcolor": "white",
            "linecolor": "white",
            "ticks": ""
           }
          },
          "scene": {
           "xaxis": {
            "backgroundcolor": "#E5ECF6",
            "gridcolor": "white",
            "gridwidth": 2,
            "linecolor": "white",
            "showbackground": true,
            "ticks": "",
            "zerolinecolor": "white"
           },
           "yaxis": {
            "backgroundcolor": "#E5ECF6",
            "gridcolor": "white",
            "gridwidth": 2,
            "linecolor": "white",
            "showbackground": true,
            "ticks": "",
            "zerolinecolor": "white"
           },
           "zaxis": {
            "backgroundcolor": "#E5ECF6",
            "gridcolor": "white",
            "gridwidth": 2,
            "linecolor": "white",
            "showbackground": true,
            "ticks": "",
            "zerolinecolor": "white"
           }
          },
          "shapedefaults": {
           "line": {
            "color": "#2a3f5f"
           }
          },
          "ternary": {
           "aaxis": {
            "gridcolor": "white",
            "linecolor": "white",
            "ticks": ""
           },
           "baxis": {
            "gridcolor": "white",
            "linecolor": "white",
            "ticks": ""
           },
           "bgcolor": "#E5ECF6",
           "caxis": {
            "gridcolor": "white",
            "linecolor": "white",
            "ticks": ""
           }
          },
          "title": {
           "x": 0.05
          },
          "xaxis": {
           "automargin": true,
           "gridcolor": "white",
           "linecolor": "white",
           "ticks": "",
           "title": {
            "standoff": 15
           },
           "zerolinecolor": "white",
           "zerolinewidth": 2
          },
          "yaxis": {
           "automargin": true,
           "gridcolor": "white",
           "linecolor": "white",
           "ticks": "",
           "title": {
            "standoff": 15
           },
           "zerolinecolor": "white",
           "zerolinewidth": 2
          }
         }
        },
        "title": {
         "text": "Estabilidade dos Rankings com Escala"
        },
        "xaxis": {
         "anchor": "y",
         "constrain": "domain",
         "domain": [
          0,
          1
         ],
         "scaleanchor": "y",
         "title": {
          "text": "Tamanho do Benchmark"
         }
        },
        "yaxis": {
         "anchor": "x",
         "autorange": "reversed",
         "constrain": "domain",
         "domain": [
          0,
          1
         ],
         "title": {
          "text": "Modelo"
         }
        }
       }
      }
     },
     "metadata": {},
     "output_type": "display_data"
    },
    {
     "name": "stdout",
     "output_type": "stream",
     "text": [
      "\n",
      "## Eficiência com Escala\n",
      "Esta análise mostra quais modelos mantêm bom desempenho mesmo com grandes volumes de dados:\n"
     ]
    },
    {
     "data": {
      "application/vnd.plotly.v1+json": {
       "config": {
        "plotlyServerURL": "https://plot.ly"
       },
       "data": [
        {
         "hovertemplate": "Modelo=%{x}<br>Taxa de Crescimento=%{marker.color}<extra></extra>",
         "legendgroup": "",
         "marker": {
          "color": {
           "bdata": "9QZEdjz3Jz8Z5ptm7UgrP9BHkw2o+jk/ZzWMm1BGWD80ku4Ecs1YP2CaXHooCbU/",
           "dtype": "f8"
          },
          "coloraxis": "coloraxis",
          "pattern": {
           "shape": ""
          }
         },
         "name": "",
         "orientation": "v",
         "showlegend": false,
         "textposition": "auto",
         "type": "bar",
         "x": [
          "vggish",
          "yamnet",
          "clap",
          "ast",
          "wav2vec2",
          "openl3"
         ],
         "xaxis": "x",
         "y": {
          "bdata": "9QZEdjz3Jz8Z5ptm7UgrP9BHkw2o+jk/ZzWMm1BGWD80ku4Ecs1YP2CaXHooCbU/",
          "dtype": "f8"
         },
         "yaxis": "y"
        }
       ],
       "layout": {
        "barmode": "relative",
        "coloraxis": {
         "colorbar": {
          "title": {
           "text": "Taxa de Crescimento"
          }
         },
         "colorscale": [
          [
           0,
           "rgb(0,104,55)"
          ],
          [
           0.1,
           "rgb(26,152,80)"
          ],
          [
           0.2,
           "rgb(102,189,99)"
          ],
          [
           0.3,
           "rgb(166,217,106)"
          ],
          [
           0.4,
           "rgb(217,239,139)"
          ],
          [
           0.5,
           "rgb(255,255,191)"
          ],
          [
           0.6,
           "rgb(254,224,139)"
          ],
          [
           0.7,
           "rgb(253,174,97)"
          ],
          [
           0.8,
           "rgb(244,109,67)"
          ],
          [
           0.9,
           "rgb(215,48,39)"
          ],
          [
           1,
           "rgb(165,0,38)"
          ]
         ]
        },
        "legend": {
         "tracegroupgap": 0
        },
        "template": {
         "data": {
          "bar": [
           {
            "error_x": {
             "color": "#2a3f5f"
            },
            "error_y": {
             "color": "#2a3f5f"
            },
            "marker": {
             "line": {
              "color": "#E5ECF6",
              "width": 0.5
             },
             "pattern": {
              "fillmode": "overlay",
              "size": 10,
              "solidity": 0.2
             }
            },
            "type": "bar"
           }
          ],
          "barpolar": [
           {
            "marker": {
             "line": {
              "color": "#E5ECF6",
              "width": 0.5
             },
             "pattern": {
              "fillmode": "overlay",
              "size": 10,
              "solidity": 0.2
             }
            },
            "type": "barpolar"
           }
          ],
          "carpet": [
           {
            "aaxis": {
             "endlinecolor": "#2a3f5f",
             "gridcolor": "white",
             "linecolor": "white",
             "minorgridcolor": "white",
             "startlinecolor": "#2a3f5f"
            },
            "baxis": {
             "endlinecolor": "#2a3f5f",
             "gridcolor": "white",
             "linecolor": "white",
             "minorgridcolor": "white",
             "startlinecolor": "#2a3f5f"
            },
            "type": "carpet"
           }
          ],
          "choropleth": [
           {
            "colorbar": {
             "outlinewidth": 0,
             "ticks": ""
            },
            "type": "choropleth"
           }
          ],
          "contour": [
           {
            "colorbar": {
             "outlinewidth": 0,
             "ticks": ""
            },
            "colorscale": [
             [
              0,
              "#0d0887"
             ],
             [
              0.1111111111111111,
              "#46039f"
             ],
             [
              0.2222222222222222,
              "#7201a8"
             ],
             [
              0.3333333333333333,
              "#9c179e"
             ],
             [
              0.4444444444444444,
              "#bd3786"
             ],
             [
              0.5555555555555556,
              "#d8576b"
             ],
             [
              0.6666666666666666,
              "#ed7953"
             ],
             [
              0.7777777777777778,
              "#fb9f3a"
             ],
             [
              0.8888888888888888,
              "#fdca26"
             ],
             [
              1,
              "#f0f921"
             ]
            ],
            "type": "contour"
           }
          ],
          "contourcarpet": [
           {
            "colorbar": {
             "outlinewidth": 0,
             "ticks": ""
            },
            "type": "contourcarpet"
           }
          ],
          "heatmap": [
           {
            "colorbar": {
             "outlinewidth": 0,
             "ticks": ""
            },
            "colorscale": [
             [
              0,
              "#0d0887"
             ],
             [
              0.1111111111111111,
              "#46039f"
             ],
             [
              0.2222222222222222,
              "#7201a8"
             ],
             [
              0.3333333333333333,
              "#9c179e"
             ],
             [
              0.4444444444444444,
              "#bd3786"
             ],
             [
              0.5555555555555556,
              "#d8576b"
             ],
             [
              0.6666666666666666,
              "#ed7953"
             ],
             [
              0.7777777777777778,
              "#fb9f3a"
             ],
             [
              0.8888888888888888,
              "#fdca26"
             ],
             [
              1,
              "#f0f921"
             ]
            ],
            "type": "heatmap"
           }
          ],
          "histogram": [
           {
            "marker": {
             "pattern": {
              "fillmode": "overlay",
              "size": 10,
              "solidity": 0.2
             }
            },
            "type": "histogram"
           }
          ],
          "histogram2d": [
           {
            "colorbar": {
             "outlinewidth": 0,
             "ticks": ""
            },
            "colorscale": [
             [
              0,
              "#0d0887"
             ],
             [
              0.1111111111111111,
              "#46039f"
             ],
             [
              0.2222222222222222,
              "#7201a8"
             ],
             [
              0.3333333333333333,
              "#9c179e"
             ],
             [
              0.4444444444444444,
              "#bd3786"
             ],
             [
              0.5555555555555556,
              "#d8576b"
             ],
             [
              0.6666666666666666,
              "#ed7953"
             ],
             [
              0.7777777777777778,
              "#fb9f3a"
             ],
             [
              0.8888888888888888,
              "#fdca26"
             ],
             [
              1,
              "#f0f921"
             ]
            ],
            "type": "histogram2d"
           }
          ],
          "histogram2dcontour": [
           {
            "colorbar": {
             "outlinewidth": 0,
             "ticks": ""
            },
            "colorscale": [
             [
              0,
              "#0d0887"
             ],
             [
              0.1111111111111111,
              "#46039f"
             ],
             [
              0.2222222222222222,
              "#7201a8"
             ],
             [
              0.3333333333333333,
              "#9c179e"
             ],
             [
              0.4444444444444444,
              "#bd3786"
             ],
             [
              0.5555555555555556,
              "#d8576b"
             ],
             [
              0.6666666666666666,
              "#ed7953"
             ],
             [
              0.7777777777777778,
              "#fb9f3a"
             ],
             [
              0.8888888888888888,
              "#fdca26"
             ],
             [
              1,
              "#f0f921"
             ]
            ],
            "type": "histogram2dcontour"
           }
          ],
          "mesh3d": [
           {
            "colorbar": {
             "outlinewidth": 0,
             "ticks": ""
            },
            "type": "mesh3d"
           }
          ],
          "parcoords": [
           {
            "line": {
             "colorbar": {
              "outlinewidth": 0,
              "ticks": ""
             }
            },
            "type": "parcoords"
           }
          ],
          "pie": [
           {
            "automargin": true,
            "type": "pie"
           }
          ],
          "scatter": [
           {
            "fillpattern": {
             "fillmode": "overlay",
             "size": 10,
             "solidity": 0.2
            },
            "type": "scatter"
           }
          ],
          "scatter3d": [
           {
            "line": {
             "colorbar": {
              "outlinewidth": 0,
              "ticks": ""
             }
            },
            "marker": {
             "colorbar": {
              "outlinewidth": 0,
              "ticks": ""
             }
            },
            "type": "scatter3d"
           }
          ],
          "scattercarpet": [
           {
            "marker": {
             "colorbar": {
              "outlinewidth": 0,
              "ticks": ""
             }
            },
            "type": "scattercarpet"
           }
          ],
          "scattergeo": [
           {
            "marker": {
             "colorbar": {
              "outlinewidth": 0,
              "ticks": ""
             }
            },
            "type": "scattergeo"
           }
          ],
          "scattergl": [
           {
            "marker": {
             "colorbar": {
              "outlinewidth": 0,
              "ticks": ""
             }
            },
            "type": "scattergl"
           }
          ],
          "scattermap": [
           {
            "marker": {
             "colorbar": {
              "outlinewidth": 0,
              "ticks": ""
             }
            },
            "type": "scattermap"
           }
          ],
          "scattermapbox": [
           {
            "marker": {
             "colorbar": {
              "outlinewidth": 0,
              "ticks": ""
             }
            },
            "type": "scattermapbox"
           }
          ],
          "scatterpolar": [
           {
            "marker": {
             "colorbar": {
              "outlinewidth": 0,
              "ticks": ""
             }
            },
            "type": "scatterpolar"
           }
          ],
          "scatterpolargl": [
           {
            "marker": {
             "colorbar": {
              "outlinewidth": 0,
              "ticks": ""
             }
            },
            "type": "scatterpolargl"
           }
          ],
          "scatterternary": [
           {
            "marker": {
             "colorbar": {
              "outlinewidth": 0,
              "ticks": ""
             }
            },
            "type": "scatterternary"
           }
          ],
          "surface": [
           {
            "colorbar": {
             "outlinewidth": 0,
             "ticks": ""
            },
            "colorscale": [
             [
              0,
              "#0d0887"
             ],
             [
              0.1111111111111111,
              "#46039f"
             ],
             [
              0.2222222222222222,
              "#7201a8"
             ],
             [
              0.3333333333333333,
              "#9c179e"
             ],
             [
              0.4444444444444444,
              "#bd3786"
             ],
             [
              0.5555555555555556,
              "#d8576b"
             ],
             [
              0.6666666666666666,
              "#ed7953"
             ],
             [
              0.7777777777777778,
              "#fb9f3a"
             ],
             [
              0.8888888888888888,
              "#fdca26"
             ],
             [
              1,
              "#f0f921"
             ]
            ],
            "type": "surface"
           }
          ],
          "table": [
           {
            "cells": {
             "fill": {
              "color": "#EBF0F8"
             },
             "line": {
              "color": "white"
             }
            },
            "header": {
             "fill": {
              "color": "#C8D4E3"
             },
             "line": {
              "color": "white"
             }
            },
            "type": "table"
           }
          ]
         },
         "layout": {
          "annotationdefaults": {
           "arrowcolor": "#2a3f5f",
           "arrowhead": 0,
           "arrowwidth": 1
          },
          "autotypenumbers": "strict",
          "coloraxis": {
           "colorbar": {
            "outlinewidth": 0,
            "ticks": ""
           }
          },
          "colorscale": {
           "diverging": [
            [
             0,
             "#8e0152"
            ],
            [
             0.1,
             "#c51b7d"
            ],
            [
             0.2,
             "#de77ae"
            ],
            [
             0.3,
             "#f1b6da"
            ],
            [
             0.4,
             "#fde0ef"
            ],
            [
             0.5,
             "#f7f7f7"
            ],
            [
             0.6,
             "#e6f5d0"
            ],
            [
             0.7,
             "#b8e186"
            ],
            [
             0.8,
             "#7fbc41"
            ],
            [
             0.9,
             "#4d9221"
            ],
            [
             1,
             "#276419"
            ]
           ],
           "sequential": [
            [
             0,
             "#0d0887"
            ],
            [
             0.1111111111111111,
             "#46039f"
            ],
            [
             0.2222222222222222,
             "#7201a8"
            ],
            [
             0.3333333333333333,
             "#9c179e"
            ],
            [
             0.4444444444444444,
             "#bd3786"
            ],
            [
             0.5555555555555556,
             "#d8576b"
            ],
            [
             0.6666666666666666,
             "#ed7953"
            ],
            [
             0.7777777777777778,
             "#fb9f3a"
            ],
            [
             0.8888888888888888,
             "#fdca26"
            ],
            [
             1,
             "#f0f921"
            ]
           ],
           "sequentialminus": [
            [
             0,
             "#0d0887"
            ],
            [
             0.1111111111111111,
             "#46039f"
            ],
            [
             0.2222222222222222,
             "#7201a8"
            ],
            [
             0.3333333333333333,
             "#9c179e"
            ],
            [
             0.4444444444444444,
             "#bd3786"
            ],
            [
             0.5555555555555556,
             "#d8576b"
            ],
            [
             0.6666666666666666,
             "#ed7953"
            ],
            [
             0.7777777777777778,
             "#fb9f3a"
            ],
            [
             0.8888888888888888,
             "#fdca26"
            ],
            [
             1,
             "#f0f921"
            ]
           ]
          },
          "colorway": [
           "#636efa",
           "#EF553B",
           "#00cc96",
           "#ab63fa",
           "#FFA15A",
           "#19d3f3",
           "#FF6692",
           "#B6E880",
           "#FF97FF",
           "#FECB52"
          ],
          "font": {
           "color": "#2a3f5f"
          },
          "geo": {
           "bgcolor": "white",
           "lakecolor": "white",
           "landcolor": "#E5ECF6",
           "showlakes": true,
           "showland": true,
           "subunitcolor": "white"
          },
          "hoverlabel": {
           "align": "left"
          },
          "hovermode": "closest",
          "mapbox": {
           "style": "light"
          },
          "paper_bgcolor": "white",
          "plot_bgcolor": "#E5ECF6",
          "polar": {
           "angularaxis": {
            "gridcolor": "white",
            "linecolor": "white",
            "ticks": ""
           },
           "bgcolor": "#E5ECF6",
           "radialaxis": {
            "gridcolor": "white",
            "linecolor": "white",
            "ticks": ""
           }
          },
          "scene": {
           "xaxis": {
            "backgroundcolor": "#E5ECF6",
            "gridcolor": "white",
            "gridwidth": 2,
            "linecolor": "white",
            "showbackground": true,
            "ticks": "",
            "zerolinecolor": "white"
           },
           "yaxis": {
            "backgroundcolor": "#E5ECF6",
            "gridcolor": "white",
            "gridwidth": 2,
            "linecolor": "white",
            "showbackground": true,
            "ticks": "",
            "zerolinecolor": "white"
           },
           "zaxis": {
            "backgroundcolor": "#E5ECF6",
            "gridcolor": "white",
            "gridwidth": 2,
            "linecolor": "white",
            "showbackground": true,
            "ticks": "",
            "zerolinecolor": "white"
           }
          },
          "shapedefaults": {
           "line": {
            "color": "#2a3f5f"
           }
          },
          "ternary": {
           "aaxis": {
            "gridcolor": "white",
            "linecolor": "white",
            "ticks": ""
           },
           "baxis": {
            "gridcolor": "white",
            "linecolor": "white",
            "ticks": ""
           },
           "bgcolor": "#E5ECF6",
           "caxis": {
            "gridcolor": "white",
            "linecolor": "white",
            "ticks": ""
           }
          },
          "title": {
           "x": 0.05
          },
          "xaxis": {
           "automargin": true,
           "gridcolor": "white",
           "linecolor": "white",
           "ticks": "",
           "title": {
            "standoff": 15
           },
           "zerolinecolor": "white",
           "zerolinewidth": 2
          },
          "yaxis": {
           "automargin": true,
           "gridcolor": "white",
           "linecolor": "white",
           "ticks": "",
           "title": {
            "standoff": 15
           },
           "zerolinecolor": "white",
           "zerolinewidth": 2
          }
         }
        },
        "title": {
         "text": "Taxa de Crescimento do Tempo com Aumento da Base"
        },
        "xaxis": {
         "anchor": "y",
         "domain": [
          0,
          1
         ],
         "title": {
          "text": "Modelo"
         }
        },
        "yaxis": {
         "anchor": "x",
         "domain": [
          0,
          1
         ],
         "title": {
          "text": "Taxa de Crescimento"
         }
        }
       }
      }
     },
     "metadata": {},
     "output_type": "display_data"
    },
    {
     "name": "stdout",
     "output_type": "stream",
     "text": [
      "\n",
      "Modelos com menor taxa de crescimento são mais escaláveis, pois seu tempo de processamento\n",
      "aumenta mais lentamente com o crescimento do volume de dados.\n",
      "\n",
      "### Interpretação dos Resultados de Escalabilidade\n",
      "- **vggish** demonstra a melhor escalabilidade, com menor taxa de crescimento de tempo.\n",
      "- **openl3** apresenta a escalabilidade mais desafiadora, com maior aumento de tempo conforme o volume de dados cresce.\n",
      "\n",
      "Escolha o modelo considerando não apenas o desempenho atual, mas também a projeção futura do volume de dados.\n"
     ]
    },
    {
     "data": {
      "application/vnd.plotly.v1+json": {
       "config": {
        "plotlyServerURL": "https://plot.ly"
       },
       "data": [
        {
         "cells": {
          "align": "center",
          "fill": {
           "color": "lightcyan"
          },
          "values": [
           [
            "ast",
            "clap",
            "openl3",
            "vggish",
            "wav2vec2",
            "yamnet"
           ],
           [
            4,
            1,
            6,
            5,
            2,
            3
           ],
           [
            3,
            2,
            6,
            5,
            4,
            1
           ],
           [
            3,
            2,
            6,
            4,
            5,
            1
           ],
           [
            5,
            2,
            6,
            4,
            3,
            1
           ]
          ]
         },
         "header": {
          "align": "center",
          "fill": {
           "color": "royalblue"
          },
          "font": {
           "color": "white",
           "size": 12
          },
          "values": [
           "Modelo",
           "5 ficheiros",
           "25 ficheiros",
           "50 ficheiros",
           "100 ficheiros",
           "250 ficheiros"
          ]
         },
         "type": "table"
        }
       ],
       "layout": {
        "height": 400,
        "margin": {
         "b": 20,
         "l": 20,
         "r": 20,
         "t": 50
        },
        "template": {
         "data": {
          "bar": [
           {
            "error_x": {
             "color": "#2a3f5f"
            },
            "error_y": {
             "color": "#2a3f5f"
            },
            "marker": {
             "line": {
              "color": "#E5ECF6",
              "width": 0.5
             },
             "pattern": {
              "fillmode": "overlay",
              "size": 10,
              "solidity": 0.2
             }
            },
            "type": "bar"
           }
          ],
          "barpolar": [
           {
            "marker": {
             "line": {
              "color": "#E5ECF6",
              "width": 0.5
             },
             "pattern": {
              "fillmode": "overlay",
              "size": 10,
              "solidity": 0.2
             }
            },
            "type": "barpolar"
           }
          ],
          "carpet": [
           {
            "aaxis": {
             "endlinecolor": "#2a3f5f",
             "gridcolor": "white",
             "linecolor": "white",
             "minorgridcolor": "white",
             "startlinecolor": "#2a3f5f"
            },
            "baxis": {
             "endlinecolor": "#2a3f5f",
             "gridcolor": "white",
             "linecolor": "white",
             "minorgridcolor": "white",
             "startlinecolor": "#2a3f5f"
            },
            "type": "carpet"
           }
          ],
          "choropleth": [
           {
            "colorbar": {
             "outlinewidth": 0,
             "ticks": ""
            },
            "type": "choropleth"
           }
          ],
          "contour": [
           {
            "colorbar": {
             "outlinewidth": 0,
             "ticks": ""
            },
            "colorscale": [
             [
              0,
              "#0d0887"
             ],
             [
              0.1111111111111111,
              "#46039f"
             ],
             [
              0.2222222222222222,
              "#7201a8"
             ],
             [
              0.3333333333333333,
              "#9c179e"
             ],
             [
              0.4444444444444444,
              "#bd3786"
             ],
             [
              0.5555555555555556,
              "#d8576b"
             ],
             [
              0.6666666666666666,
              "#ed7953"
             ],
             [
              0.7777777777777778,
              "#fb9f3a"
             ],
             [
              0.8888888888888888,
              "#fdca26"
             ],
             [
              1,
              "#f0f921"
             ]
            ],
            "type": "contour"
           }
          ],
          "contourcarpet": [
           {
            "colorbar": {
             "outlinewidth": 0,
             "ticks": ""
            },
            "type": "contourcarpet"
           }
          ],
          "heatmap": [
           {
            "colorbar": {
             "outlinewidth": 0,
             "ticks": ""
            },
            "colorscale": [
             [
              0,
              "#0d0887"
             ],
             [
              0.1111111111111111,
              "#46039f"
             ],
             [
              0.2222222222222222,
              "#7201a8"
             ],
             [
              0.3333333333333333,
              "#9c179e"
             ],
             [
              0.4444444444444444,
              "#bd3786"
             ],
             [
              0.5555555555555556,
              "#d8576b"
             ],
             [
              0.6666666666666666,
              "#ed7953"
             ],
             [
              0.7777777777777778,
              "#fb9f3a"
             ],
             [
              0.8888888888888888,
              "#fdca26"
             ],
             [
              1,
              "#f0f921"
             ]
            ],
            "type": "heatmap"
           }
          ],
          "histogram": [
           {
            "marker": {
             "pattern": {
              "fillmode": "overlay",
              "size": 10,
              "solidity": 0.2
             }
            },
            "type": "histogram"
           }
          ],
          "histogram2d": [
           {
            "colorbar": {
             "outlinewidth": 0,
             "ticks": ""
            },
            "colorscale": [
             [
              0,
              "#0d0887"
             ],
             [
              0.1111111111111111,
              "#46039f"
             ],
             [
              0.2222222222222222,
              "#7201a8"
             ],
             [
              0.3333333333333333,
              "#9c179e"
             ],
             [
              0.4444444444444444,
              "#bd3786"
             ],
             [
              0.5555555555555556,
              "#d8576b"
             ],
             [
              0.6666666666666666,
              "#ed7953"
             ],
             [
              0.7777777777777778,
              "#fb9f3a"
             ],
             [
              0.8888888888888888,
              "#fdca26"
             ],
             [
              1,
              "#f0f921"
             ]
            ],
            "type": "histogram2d"
           }
          ],
          "histogram2dcontour": [
           {
            "colorbar": {
             "outlinewidth": 0,
             "ticks": ""
            },
            "colorscale": [
             [
              0,
              "#0d0887"
             ],
             [
              0.1111111111111111,
              "#46039f"
             ],
             [
              0.2222222222222222,
              "#7201a8"
             ],
             [
              0.3333333333333333,
              "#9c179e"
             ],
             [
              0.4444444444444444,
              "#bd3786"
             ],
             [
              0.5555555555555556,
              "#d8576b"
             ],
             [
              0.6666666666666666,
              "#ed7953"
             ],
             [
              0.7777777777777778,
              "#fb9f3a"
             ],
             [
              0.8888888888888888,
              "#fdca26"
             ],
             [
              1,
              "#f0f921"
             ]
            ],
            "type": "histogram2dcontour"
           }
          ],
          "mesh3d": [
           {
            "colorbar": {
             "outlinewidth": 0,
             "ticks": ""
            },
            "type": "mesh3d"
           }
          ],
          "parcoords": [
           {
            "line": {
             "colorbar": {
              "outlinewidth": 0,
              "ticks": ""
             }
            },
            "type": "parcoords"
           }
          ],
          "pie": [
           {
            "automargin": true,
            "type": "pie"
           }
          ],
          "scatter": [
           {
            "fillpattern": {
             "fillmode": "overlay",
             "size": 10,
             "solidity": 0.2
            },
            "type": "scatter"
           }
          ],
          "scatter3d": [
           {
            "line": {
             "colorbar": {
              "outlinewidth": 0,
              "ticks": ""
             }
            },
            "marker": {
             "colorbar": {
              "outlinewidth": 0,
              "ticks": ""
             }
            },
            "type": "scatter3d"
           }
          ],
          "scattercarpet": [
           {
            "marker": {
             "colorbar": {
              "outlinewidth": 0,
              "ticks": ""
             }
            },
            "type": "scattercarpet"
           }
          ],
          "scattergeo": [
           {
            "marker": {
             "colorbar": {
              "outlinewidth": 0,
              "ticks": ""
             }
            },
            "type": "scattergeo"
           }
          ],
          "scattergl": [
           {
            "marker": {
             "colorbar": {
              "outlinewidth": 0,
              "ticks": ""
             }
            },
            "type": "scattergl"
           }
          ],
          "scattermap": [
           {
            "marker": {
             "colorbar": {
              "outlinewidth": 0,
              "ticks": ""
             }
            },
            "type": "scattermap"
           }
          ],
          "scattermapbox": [
           {
            "marker": {
             "colorbar": {
              "outlinewidth": 0,
              "ticks": ""
             }
            },
            "type": "scattermapbox"
           }
          ],
          "scatterpolar": [
           {
            "marker": {
             "colorbar": {
              "outlinewidth": 0,
              "ticks": ""
             }
            },
            "type": "scatterpolar"
           }
          ],
          "scatterpolargl": [
           {
            "marker": {
             "colorbar": {
              "outlinewidth": 0,
              "ticks": ""
             }
            },
            "type": "scatterpolargl"
           }
          ],
          "scatterternary": [
           {
            "marker": {
             "colorbar": {
              "outlinewidth": 0,
              "ticks": ""
             }
            },
            "type": "scatterternary"
           }
          ],
          "surface": [
           {
            "colorbar": {
             "outlinewidth": 0,
             "ticks": ""
            },
            "colorscale": [
             [
              0,
              "#0d0887"
             ],
             [
              0.1111111111111111,
              "#46039f"
             ],
             [
              0.2222222222222222,
              "#7201a8"
             ],
             [
              0.3333333333333333,
              "#9c179e"
             ],
             [
              0.4444444444444444,
              "#bd3786"
             ],
             [
              0.5555555555555556,
              "#d8576b"
             ],
             [
              0.6666666666666666,
              "#ed7953"
             ],
             [
              0.7777777777777778,
              "#fb9f3a"
             ],
             [
              0.8888888888888888,
              "#fdca26"
             ],
             [
              1,
              "#f0f921"
             ]
            ],
            "type": "surface"
           }
          ],
          "table": [
           {
            "cells": {
             "fill": {
              "color": "#EBF0F8"
             },
             "line": {
              "color": "white"
             }
            },
            "header": {
             "fill": {
              "color": "#C8D4E3"
             },
             "line": {
              "color": "white"
             }
            },
            "type": "table"
           }
          ]
         },
         "layout": {
          "annotationdefaults": {
           "arrowcolor": "#2a3f5f",
           "arrowhead": 0,
           "arrowwidth": 1
          },
          "autotypenumbers": "strict",
          "coloraxis": {
           "colorbar": {
            "outlinewidth": 0,
            "ticks": ""
           }
          },
          "colorscale": {
           "diverging": [
            [
             0,
             "#8e0152"
            ],
            [
             0.1,
             "#c51b7d"
            ],
            [
             0.2,
             "#de77ae"
            ],
            [
             0.3,
             "#f1b6da"
            ],
            [
             0.4,
             "#fde0ef"
            ],
            [
             0.5,
             "#f7f7f7"
            ],
            [
             0.6,
             "#e6f5d0"
            ],
            [
             0.7,
             "#b8e186"
            ],
            [
             0.8,
             "#7fbc41"
            ],
            [
             0.9,
             "#4d9221"
            ],
            [
             1,
             "#276419"
            ]
           ],
           "sequential": [
            [
             0,
             "#0d0887"
            ],
            [
             0.1111111111111111,
             "#46039f"
            ],
            [
             0.2222222222222222,
             "#7201a8"
            ],
            [
             0.3333333333333333,
             "#9c179e"
            ],
            [
             0.4444444444444444,
             "#bd3786"
            ],
            [
             0.5555555555555556,
             "#d8576b"
            ],
            [
             0.6666666666666666,
             "#ed7953"
            ],
            [
             0.7777777777777778,
             "#fb9f3a"
            ],
            [
             0.8888888888888888,
             "#fdca26"
            ],
            [
             1,
             "#f0f921"
            ]
           ],
           "sequentialminus": [
            [
             0,
             "#0d0887"
            ],
            [
             0.1111111111111111,
             "#46039f"
            ],
            [
             0.2222222222222222,
             "#7201a8"
            ],
            [
             0.3333333333333333,
             "#9c179e"
            ],
            [
             0.4444444444444444,
             "#bd3786"
            ],
            [
             0.5555555555555556,
             "#d8576b"
            ],
            [
             0.6666666666666666,
             "#ed7953"
            ],
            [
             0.7777777777777778,
             "#fb9f3a"
            ],
            [
             0.8888888888888888,
             "#fdca26"
            ],
            [
             1,
             "#f0f921"
            ]
           ]
          },
          "colorway": [
           "#636efa",
           "#EF553B",
           "#00cc96",
           "#ab63fa",
           "#FFA15A",
           "#19d3f3",
           "#FF6692",
           "#B6E880",
           "#FF97FF",
           "#FECB52"
          ],
          "font": {
           "color": "#2a3f5f"
          },
          "geo": {
           "bgcolor": "white",
           "lakecolor": "white",
           "landcolor": "#E5ECF6",
           "showlakes": true,
           "showland": true,
           "subunitcolor": "white"
          },
          "hoverlabel": {
           "align": "left"
          },
          "hovermode": "closest",
          "mapbox": {
           "style": "light"
          },
          "paper_bgcolor": "white",
          "plot_bgcolor": "#E5ECF6",
          "polar": {
           "angularaxis": {
            "gridcolor": "white",
            "linecolor": "white",
            "ticks": ""
           },
           "bgcolor": "#E5ECF6",
           "radialaxis": {
            "gridcolor": "white",
            "linecolor": "white",
            "ticks": ""
           }
          },
          "scene": {
           "xaxis": {
            "backgroundcolor": "#E5ECF6",
            "gridcolor": "white",
            "gridwidth": 2,
            "linecolor": "white",
            "showbackground": true,
            "ticks": "",
            "zerolinecolor": "white"
           },
           "yaxis": {
            "backgroundcolor": "#E5ECF6",
            "gridcolor": "white",
            "gridwidth": 2,
            "linecolor": "white",
            "showbackground": true,
            "ticks": "",
            "zerolinecolor": "white"
           },
           "zaxis": {
            "backgroundcolor": "#E5ECF6",
            "gridcolor": "white",
            "gridwidth": 2,
            "linecolor": "white",
            "showbackground": true,
            "ticks": "",
            "zerolinecolor": "white"
           }
          },
          "shapedefaults": {
           "line": {
            "color": "#2a3f5f"
           }
          },
          "ternary": {
           "aaxis": {
            "gridcolor": "white",
            "linecolor": "white",
            "ticks": ""
           },
           "baxis": {
            "gridcolor": "white",
            "linecolor": "white",
            "ticks": ""
           },
           "bgcolor": "#E5ECF6",
           "caxis": {
            "gridcolor": "white",
            "linecolor": "white",
            "ticks": ""
           }
          },
          "title": {
           "x": 0.05
          },
          "xaxis": {
           "automargin": true,
           "gridcolor": "white",
           "linecolor": "white",
           "ticks": "",
           "title": {
            "standoff": 15
           },
           "zerolinecolor": "white",
           "zerolinewidth": 2
          },
          "yaxis": {
           "automargin": true,
           "gridcolor": "white",
           "linecolor": "white",
           "ticks": "",
           "title": {
            "standoff": 15
           },
           "zerolinecolor": "white",
           "zerolinewidth": 2
          }
         }
        },
        "title": {
         "text": "Evolução das Posições no Ranking por Escala"
        }
       }
      }
     },
     "metadata": {},
     "output_type": "display_data"
    },
    {
     "data": {
      "application/vnd.plotly.v1+json": {
       "config": {
        "plotlyServerURL": "https://plot.ly"
       },
       "data": [
        {
         "coloraxis": "coloraxis",
         "hovertemplate": "Tamanho do Benchmark: %{x}<br>Modelo: %{y}<br>Posição Relativa: %{z}<extra></extra>",
         "name": "0",
         "type": "heatmap",
         "x": [
          "5 ficheiros",
          "25 ficheiros",
          "50 ficheiros",
          "100 ficheiros"
         ],
         "xaxis": "x",
         "y": [
          "ast",
          "clap",
          "openl3",
          "vggish",
          "wav2vec2",
          "yamnet"
         ],
         "yaxis": "y",
         "z": {
          "bdata": "AAAAAAAA4D9WVVVVVVXlP1ZVVVVVVeU/VlVVVVVV1T8AAAAAAADwP6uqqqqqquo/q6qqqqqq6j+rqqqqqqrqP1RVVVVVVcU/VFVVVVVVxT9UVVVVVVXFP1RVVVVVVcU/VlVVVVVV1T9WVVVVVVXVPwAAAAAAAOA/AAAAAAAA4D+rqqqqqqrqPwAAAAAAAOA/VlVVVVVV1T9WVVVVVVXlP1ZVVVVVVeU/AAAAAAAA8D8AAAAAAADwPwAAAAAAAPA/",
          "dtype": "f8",
          "shape": "6, 4"
         }
        }
       ],
       "layout": {
        "coloraxis": {
         "colorbar": {
          "title": {
           "text": "Posição Relativa"
          }
         },
         "colorscale": [
          [
           0,
           "#440154"
          ],
          [
           0.1111111111111111,
           "#482878"
          ],
          [
           0.2222222222222222,
           "#3e4989"
          ],
          [
           0.3333333333333333,
           "#31688e"
          ],
          [
           0.4444444444444444,
           "#26828e"
          ],
          [
           0.5555555555555556,
           "#1f9e89"
          ],
          [
           0.6666666666666666,
           "#35b779"
          ],
          [
           0.7777777777777778,
           "#6ece58"
          ],
          [
           0.8888888888888888,
           "#b5de2b"
          ],
          [
           1,
           "#fde725"
          ]
         ]
        },
        "template": {
         "data": {
          "bar": [
           {
            "error_x": {
             "color": "#2a3f5f"
            },
            "error_y": {
             "color": "#2a3f5f"
            },
            "marker": {
             "line": {
              "color": "#E5ECF6",
              "width": 0.5
             },
             "pattern": {
              "fillmode": "overlay",
              "size": 10,
              "solidity": 0.2
             }
            },
            "type": "bar"
           }
          ],
          "barpolar": [
           {
            "marker": {
             "line": {
              "color": "#E5ECF6",
              "width": 0.5
             },
             "pattern": {
              "fillmode": "overlay",
              "size": 10,
              "solidity": 0.2
             }
            },
            "type": "barpolar"
           }
          ],
          "carpet": [
           {
            "aaxis": {
             "endlinecolor": "#2a3f5f",
             "gridcolor": "white",
             "linecolor": "white",
             "minorgridcolor": "white",
             "startlinecolor": "#2a3f5f"
            },
            "baxis": {
             "endlinecolor": "#2a3f5f",
             "gridcolor": "white",
             "linecolor": "white",
             "minorgridcolor": "white",
             "startlinecolor": "#2a3f5f"
            },
            "type": "carpet"
           }
          ],
          "choropleth": [
           {
            "colorbar": {
             "outlinewidth": 0,
             "ticks": ""
            },
            "type": "choropleth"
           }
          ],
          "contour": [
           {
            "colorbar": {
             "outlinewidth": 0,
             "ticks": ""
            },
            "colorscale": [
             [
              0,
              "#0d0887"
             ],
             [
              0.1111111111111111,
              "#46039f"
             ],
             [
              0.2222222222222222,
              "#7201a8"
             ],
             [
              0.3333333333333333,
              "#9c179e"
             ],
             [
              0.4444444444444444,
              "#bd3786"
             ],
             [
              0.5555555555555556,
              "#d8576b"
             ],
             [
              0.6666666666666666,
              "#ed7953"
             ],
             [
              0.7777777777777778,
              "#fb9f3a"
             ],
             [
              0.8888888888888888,
              "#fdca26"
             ],
             [
              1,
              "#f0f921"
             ]
            ],
            "type": "contour"
           }
          ],
          "contourcarpet": [
           {
            "colorbar": {
             "outlinewidth": 0,
             "ticks": ""
            },
            "type": "contourcarpet"
           }
          ],
          "heatmap": [
           {
            "colorbar": {
             "outlinewidth": 0,
             "ticks": ""
            },
            "colorscale": [
             [
              0,
              "#0d0887"
             ],
             [
              0.1111111111111111,
              "#46039f"
             ],
             [
              0.2222222222222222,
              "#7201a8"
             ],
             [
              0.3333333333333333,
              "#9c179e"
             ],
             [
              0.4444444444444444,
              "#bd3786"
             ],
             [
              0.5555555555555556,
              "#d8576b"
             ],
             [
              0.6666666666666666,
              "#ed7953"
             ],
             [
              0.7777777777777778,
              "#fb9f3a"
             ],
             [
              0.8888888888888888,
              "#fdca26"
             ],
             [
              1,
              "#f0f921"
             ]
            ],
            "type": "heatmap"
           }
          ],
          "histogram": [
           {
            "marker": {
             "pattern": {
              "fillmode": "overlay",
              "size": 10,
              "solidity": 0.2
             }
            },
            "type": "histogram"
           }
          ],
          "histogram2d": [
           {
            "colorbar": {
             "outlinewidth": 0,
             "ticks": ""
            },
            "colorscale": [
             [
              0,
              "#0d0887"
             ],
             [
              0.1111111111111111,
              "#46039f"
             ],
             [
              0.2222222222222222,
              "#7201a8"
             ],
             [
              0.3333333333333333,
              "#9c179e"
             ],
             [
              0.4444444444444444,
              "#bd3786"
             ],
             [
              0.5555555555555556,
              "#d8576b"
             ],
             [
              0.6666666666666666,
              "#ed7953"
             ],
             [
              0.7777777777777778,
              "#fb9f3a"
             ],
             [
              0.8888888888888888,
              "#fdca26"
             ],
             [
              1,
              "#f0f921"
             ]
            ],
            "type": "histogram2d"
           }
          ],
          "histogram2dcontour": [
           {
            "colorbar": {
             "outlinewidth": 0,
             "ticks": ""
            },
            "colorscale": [
             [
              0,
              "#0d0887"
             ],
             [
              0.1111111111111111,
              "#46039f"
             ],
             [
              0.2222222222222222,
              "#7201a8"
             ],
             [
              0.3333333333333333,
              "#9c179e"
             ],
             [
              0.4444444444444444,
              "#bd3786"
             ],
             [
              0.5555555555555556,
              "#d8576b"
             ],
             [
              0.6666666666666666,
              "#ed7953"
             ],
             [
              0.7777777777777778,
              "#fb9f3a"
             ],
             [
              0.8888888888888888,
              "#fdca26"
             ],
             [
              1,
              "#f0f921"
             ]
            ],
            "type": "histogram2dcontour"
           }
          ],
          "mesh3d": [
           {
            "colorbar": {
             "outlinewidth": 0,
             "ticks": ""
            },
            "type": "mesh3d"
           }
          ],
          "parcoords": [
           {
            "line": {
             "colorbar": {
              "outlinewidth": 0,
              "ticks": ""
             }
            },
            "type": "parcoords"
           }
          ],
          "pie": [
           {
            "automargin": true,
            "type": "pie"
           }
          ],
          "scatter": [
           {
            "fillpattern": {
             "fillmode": "overlay",
             "size": 10,
             "solidity": 0.2
            },
            "type": "scatter"
           }
          ],
          "scatter3d": [
           {
            "line": {
             "colorbar": {
              "outlinewidth": 0,
              "ticks": ""
             }
            },
            "marker": {
             "colorbar": {
              "outlinewidth": 0,
              "ticks": ""
             }
            },
            "type": "scatter3d"
           }
          ],
          "scattercarpet": [
           {
            "marker": {
             "colorbar": {
              "outlinewidth": 0,
              "ticks": ""
             }
            },
            "type": "scattercarpet"
           }
          ],
          "scattergeo": [
           {
            "marker": {
             "colorbar": {
              "outlinewidth": 0,
              "ticks": ""
             }
            },
            "type": "scattergeo"
           }
          ],
          "scattergl": [
           {
            "marker": {
             "colorbar": {
              "outlinewidth": 0,
              "ticks": ""
             }
            },
            "type": "scattergl"
           }
          ],
          "scattermap": [
           {
            "marker": {
             "colorbar": {
              "outlinewidth": 0,
              "ticks": ""
             }
            },
            "type": "scattermap"
           }
          ],
          "scattermapbox": [
           {
            "marker": {
             "colorbar": {
              "outlinewidth": 0,
              "ticks": ""
             }
            },
            "type": "scattermapbox"
           }
          ],
          "scatterpolar": [
           {
            "marker": {
             "colorbar": {
              "outlinewidth": 0,
              "ticks": ""
             }
            },
            "type": "scatterpolar"
           }
          ],
          "scatterpolargl": [
           {
            "marker": {
             "colorbar": {
              "outlinewidth": 0,
              "ticks": ""
             }
            },
            "type": "scatterpolargl"
           }
          ],
          "scatterternary": [
           {
            "marker": {
             "colorbar": {
              "outlinewidth": 0,
              "ticks": ""
             }
            },
            "type": "scatterternary"
           }
          ],
          "surface": [
           {
            "colorbar": {
             "outlinewidth": 0,
             "ticks": ""
            },
            "colorscale": [
             [
              0,
              "#0d0887"
             ],
             [
              0.1111111111111111,
              "#46039f"
             ],
             [
              0.2222222222222222,
              "#7201a8"
             ],
             [
              0.3333333333333333,
              "#9c179e"
             ],
             [
              0.4444444444444444,
              "#bd3786"
             ],
             [
              0.5555555555555556,
              "#d8576b"
             ],
             [
              0.6666666666666666,
              "#ed7953"
             ],
             [
              0.7777777777777778,
              "#fb9f3a"
             ],
             [
              0.8888888888888888,
              "#fdca26"
             ],
             [
              1,
              "#f0f921"
             ]
            ],
            "type": "surface"
           }
          ],
          "table": [
           {
            "cells": {
             "fill": {
              "color": "#EBF0F8"
             },
             "line": {
              "color": "white"
             }
            },
            "header": {
             "fill": {
              "color": "#C8D4E3"
             },
             "line": {
              "color": "white"
             }
            },
            "type": "table"
           }
          ]
         },
         "layout": {
          "annotationdefaults": {
           "arrowcolor": "#2a3f5f",
           "arrowhead": 0,
           "arrowwidth": 1
          },
          "autotypenumbers": "strict",
          "coloraxis": {
           "colorbar": {
            "outlinewidth": 0,
            "ticks": ""
           }
          },
          "colorscale": {
           "diverging": [
            [
             0,
             "#8e0152"
            ],
            [
             0.1,
             "#c51b7d"
            ],
            [
             0.2,
             "#de77ae"
            ],
            [
             0.3,
             "#f1b6da"
            ],
            [
             0.4,
             "#fde0ef"
            ],
            [
             0.5,
             "#f7f7f7"
            ],
            [
             0.6,
             "#e6f5d0"
            ],
            [
             0.7,
             "#b8e186"
            ],
            [
             0.8,
             "#7fbc41"
            ],
            [
             0.9,
             "#4d9221"
            ],
            [
             1,
             "#276419"
            ]
           ],
           "sequential": [
            [
             0,
             "#0d0887"
            ],
            [
             0.1111111111111111,
             "#46039f"
            ],
            [
             0.2222222222222222,
             "#7201a8"
            ],
            [
             0.3333333333333333,
             "#9c179e"
            ],
            [
             0.4444444444444444,
             "#bd3786"
            ],
            [
             0.5555555555555556,
             "#d8576b"
            ],
            [
             0.6666666666666666,
             "#ed7953"
            ],
            [
             0.7777777777777778,
             "#fb9f3a"
            ],
            [
             0.8888888888888888,
             "#fdca26"
            ],
            [
             1,
             "#f0f921"
            ]
           ],
           "sequentialminus": [
            [
             0,
             "#0d0887"
            ],
            [
             0.1111111111111111,
             "#46039f"
            ],
            [
             0.2222222222222222,
             "#7201a8"
            ],
            [
             0.3333333333333333,
             "#9c179e"
            ],
            [
             0.4444444444444444,
             "#bd3786"
            ],
            [
             0.5555555555555556,
             "#d8576b"
            ],
            [
             0.6666666666666666,
             "#ed7953"
            ],
            [
             0.7777777777777778,
             "#fb9f3a"
            ],
            [
             0.8888888888888888,
             "#fdca26"
            ],
            [
             1,
             "#f0f921"
            ]
           ]
          },
          "colorway": [
           "#636efa",
           "#EF553B",
           "#00cc96",
           "#ab63fa",
           "#FFA15A",
           "#19d3f3",
           "#FF6692",
           "#B6E880",
           "#FF97FF",
           "#FECB52"
          ],
          "font": {
           "color": "#2a3f5f"
          },
          "geo": {
           "bgcolor": "white",
           "lakecolor": "white",
           "landcolor": "#E5ECF6",
           "showlakes": true,
           "showland": true,
           "subunitcolor": "white"
          },
          "hoverlabel": {
           "align": "left"
          },
          "hovermode": "closest",
          "mapbox": {
           "style": "light"
          },
          "paper_bgcolor": "white",
          "plot_bgcolor": "#E5ECF6",
          "polar": {
           "angularaxis": {
            "gridcolor": "white",
            "linecolor": "white",
            "ticks": ""
           },
           "bgcolor": "#E5ECF6",
           "radialaxis": {
            "gridcolor": "white",
            "linecolor": "white",
            "ticks": ""
           }
          },
          "scene": {
           "xaxis": {
            "backgroundcolor": "#E5ECF6",
            "gridcolor": "white",
            "gridwidth": 2,
            "linecolor": "white",
            "showbackground": true,
            "ticks": "",
            "zerolinecolor": "white"
           },
           "yaxis": {
            "backgroundcolor": "#E5ECF6",
            "gridcolor": "white",
            "gridwidth": 2,
            "linecolor": "white",
            "showbackground": true,
            "ticks": "",
            "zerolinecolor": "white"
           },
           "zaxis": {
            "backgroundcolor": "#E5ECF6",
            "gridcolor": "white",
            "gridwidth": 2,
            "linecolor": "white",
            "showbackground": true,
            "ticks": "",
            "zerolinecolor": "white"
           }
          },
          "shapedefaults": {
           "line": {
            "color": "#2a3f5f"
           }
          },
          "ternary": {
           "aaxis": {
            "gridcolor": "white",
            "linecolor": "white",
            "ticks": ""
           },
           "baxis": {
            "gridcolor": "white",
            "linecolor": "white",
            "ticks": ""
           },
           "bgcolor": "#E5ECF6",
           "caxis": {
            "gridcolor": "white",
            "linecolor": "white",
            "ticks": ""
           }
          },
          "title": {
           "x": 0.05
          },
          "xaxis": {
           "automargin": true,
           "gridcolor": "white",
           "linecolor": "white",
           "ticks": "",
           "title": {
            "standoff": 15
           },
           "zerolinecolor": "white",
           "zerolinewidth": 2
          },
          "yaxis": {
           "automargin": true,
           "gridcolor": "white",
           "linecolor": "white",
           "ticks": "",
           "title": {
            "standoff": 15
           },
           "zerolinecolor": "white",
           "zerolinewidth": 2
          }
         }
        },
        "title": {
         "text": "Estabilidade dos Rankings com Escala"
        },
        "xaxis": {
         "anchor": "y",
         "constrain": "domain",
         "domain": [
          0,
          1
         ],
         "scaleanchor": "y",
         "title": {
          "text": "Tamanho do Benchmark"
         }
        },
        "yaxis": {
         "anchor": "x",
         "autorange": "reversed",
         "constrain": "domain",
         "domain": [
          0,
          1
         ],
         "title": {
          "text": "Modelo"
         }
        }
       }
      }
     },
     "metadata": {},
     "output_type": "display_data"
    },
    {
     "name": "stdout",
     "output_type": "stream",
     "text": [
      "\n",
      "## Eficiência com Escala\n",
      "Esta análise mostra quais modelos mantêm bom desempenho mesmo com grandes volumes de dados:\n"
     ]
    },
    {
     "data": {
      "application/vnd.plotly.v1+json": {
       "config": {
        "plotlyServerURL": "https://plot.ly"
       },
       "data": [
        {
         "hovertemplate": "Modelo=%{x}<br>Taxa de Crescimento=%{marker.color}<extra></extra>",
         "legendgroup": "",
         "marker": {
          "color": {
           "bdata": "9QZEdjz3Jz8Z5ptm7UgrP9BHkw2o+jk/ZzWMm1BGWD80ku4Ecs1YP2CaXHooCbU/",
           "dtype": "f8"
          },
          "coloraxis": "coloraxis",
          "pattern": {
           "shape": ""
          }
         },
         "name": "",
         "orientation": "v",
         "showlegend": false,
         "textposition": "auto",
         "type": "bar",
         "x": [
          "vggish",
          "yamnet",
          "clap",
          "ast",
          "wav2vec2",
          "openl3"
         ],
         "xaxis": "x",
         "y": {
          "bdata": "9QZEdjz3Jz8Z5ptm7UgrP9BHkw2o+jk/ZzWMm1BGWD80ku4Ecs1YP2CaXHooCbU/",
          "dtype": "f8"
         },
         "yaxis": "y"
        }
       ],
       "layout": {
        "barmode": "relative",
        "coloraxis": {
         "colorbar": {
          "title": {
           "text": "Taxa de Crescimento"
          }
         },
         "colorscale": [
          [
           0,
           "rgb(0,104,55)"
          ],
          [
           0.1,
           "rgb(26,152,80)"
          ],
          [
           0.2,
           "rgb(102,189,99)"
          ],
          [
           0.3,
           "rgb(166,217,106)"
          ],
          [
           0.4,
           "rgb(217,239,139)"
          ],
          [
           0.5,
           "rgb(255,255,191)"
          ],
          [
           0.6,
           "rgb(254,224,139)"
          ],
          [
           0.7,
           "rgb(253,174,97)"
          ],
          [
           0.8,
           "rgb(244,109,67)"
          ],
          [
           0.9,
           "rgb(215,48,39)"
          ],
          [
           1,
           "rgb(165,0,38)"
          ]
         ]
        },
        "legend": {
         "tracegroupgap": 0
        },
        "template": {
         "data": {
          "bar": [
           {
            "error_x": {
             "color": "#2a3f5f"
            },
            "error_y": {
             "color": "#2a3f5f"
            },
            "marker": {
             "line": {
              "color": "#E5ECF6",
              "width": 0.5
             },
             "pattern": {
              "fillmode": "overlay",
              "size": 10,
              "solidity": 0.2
             }
            },
            "type": "bar"
           }
          ],
          "barpolar": [
           {
            "marker": {
             "line": {
              "color": "#E5ECF6",
              "width": 0.5
             },
             "pattern": {
              "fillmode": "overlay",
              "size": 10,
              "solidity": 0.2
             }
            },
            "type": "barpolar"
           }
          ],
          "carpet": [
           {
            "aaxis": {
             "endlinecolor": "#2a3f5f",
             "gridcolor": "white",
             "linecolor": "white",
             "minorgridcolor": "white",
             "startlinecolor": "#2a3f5f"
            },
            "baxis": {
             "endlinecolor": "#2a3f5f",
             "gridcolor": "white",
             "linecolor": "white",
             "minorgridcolor": "white",
             "startlinecolor": "#2a3f5f"
            },
            "type": "carpet"
           }
          ],
          "choropleth": [
           {
            "colorbar": {
             "outlinewidth": 0,
             "ticks": ""
            },
            "type": "choropleth"
           }
          ],
          "contour": [
           {
            "colorbar": {
             "outlinewidth": 0,
             "ticks": ""
            },
            "colorscale": [
             [
              0,
              "#0d0887"
             ],
             [
              0.1111111111111111,
              "#46039f"
             ],
             [
              0.2222222222222222,
              "#7201a8"
             ],
             [
              0.3333333333333333,
              "#9c179e"
             ],
             [
              0.4444444444444444,
              "#bd3786"
             ],
             [
              0.5555555555555556,
              "#d8576b"
             ],
             [
              0.6666666666666666,
              "#ed7953"
             ],
             [
              0.7777777777777778,
              "#fb9f3a"
             ],
             [
              0.8888888888888888,
              "#fdca26"
             ],
             [
              1,
              "#f0f921"
             ]
            ],
            "type": "contour"
           }
          ],
          "contourcarpet": [
           {
            "colorbar": {
             "outlinewidth": 0,
             "ticks": ""
            },
            "type": "contourcarpet"
           }
          ],
          "heatmap": [
           {
            "colorbar": {
             "outlinewidth": 0,
             "ticks": ""
            },
            "colorscale": [
             [
              0,
              "#0d0887"
             ],
             [
              0.1111111111111111,
              "#46039f"
             ],
             [
              0.2222222222222222,
              "#7201a8"
             ],
             [
              0.3333333333333333,
              "#9c179e"
             ],
             [
              0.4444444444444444,
              "#bd3786"
             ],
             [
              0.5555555555555556,
              "#d8576b"
             ],
             [
              0.6666666666666666,
              "#ed7953"
             ],
             [
              0.7777777777777778,
              "#fb9f3a"
             ],
             [
              0.8888888888888888,
              "#fdca26"
             ],
             [
              1,
              "#f0f921"
             ]
            ],
            "type": "heatmap"
           }
          ],
          "histogram": [
           {
            "marker": {
             "pattern": {
              "fillmode": "overlay",
              "size": 10,
              "solidity": 0.2
             }
            },
            "type": "histogram"
           }
          ],
          "histogram2d": [
           {
            "colorbar": {
             "outlinewidth": 0,
             "ticks": ""
            },
            "colorscale": [
             [
              0,
              "#0d0887"
             ],
             [
              0.1111111111111111,
              "#46039f"
             ],
             [
              0.2222222222222222,
              "#7201a8"
             ],
             [
              0.3333333333333333,
              "#9c179e"
             ],
             [
              0.4444444444444444,
              "#bd3786"
             ],
             [
              0.5555555555555556,
              "#d8576b"
             ],
             [
              0.6666666666666666,
              "#ed7953"
             ],
             [
              0.7777777777777778,
              "#fb9f3a"
             ],
             [
              0.8888888888888888,
              "#fdca26"
             ],
             [
              1,
              "#f0f921"
             ]
            ],
            "type": "histogram2d"
           }
          ],
          "histogram2dcontour": [
           {
            "colorbar": {
             "outlinewidth": 0,
             "ticks": ""
            },
            "colorscale": [
             [
              0,
              "#0d0887"
             ],
             [
              0.1111111111111111,
              "#46039f"
             ],
             [
              0.2222222222222222,
              "#7201a8"
             ],
             [
              0.3333333333333333,
              "#9c179e"
             ],
             [
              0.4444444444444444,
              "#bd3786"
             ],
             [
              0.5555555555555556,
              "#d8576b"
             ],
             [
              0.6666666666666666,
              "#ed7953"
             ],
             [
              0.7777777777777778,
              "#fb9f3a"
             ],
             [
              0.8888888888888888,
              "#fdca26"
             ],
             [
              1,
              "#f0f921"
             ]
            ],
            "type": "histogram2dcontour"
           }
          ],
          "mesh3d": [
           {
            "colorbar": {
             "outlinewidth": 0,
             "ticks": ""
            },
            "type": "mesh3d"
           }
          ],
          "parcoords": [
           {
            "line": {
             "colorbar": {
              "outlinewidth": 0,
              "ticks": ""
             }
            },
            "type": "parcoords"
           }
          ],
          "pie": [
           {
            "automargin": true,
            "type": "pie"
           }
          ],
          "scatter": [
           {
            "fillpattern": {
             "fillmode": "overlay",
             "size": 10,
             "solidity": 0.2
            },
            "type": "scatter"
           }
          ],
          "scatter3d": [
           {
            "line": {
             "colorbar": {
              "outlinewidth": 0,
              "ticks": ""
             }
            },
            "marker": {
             "colorbar": {
              "outlinewidth": 0,
              "ticks": ""
             }
            },
            "type": "scatter3d"
           }
          ],
          "scattercarpet": [
           {
            "marker": {
             "colorbar": {
              "outlinewidth": 0,
              "ticks": ""
             }
            },
            "type": "scattercarpet"
           }
          ],
          "scattergeo": [
           {
            "marker": {
             "colorbar": {
              "outlinewidth": 0,
              "ticks": ""
             }
            },
            "type": "scattergeo"
           }
          ],
          "scattergl": [
           {
            "marker": {
             "colorbar": {
              "outlinewidth": 0,
              "ticks": ""
             }
            },
            "type": "scattergl"
           }
          ],
          "scattermap": [
           {
            "marker": {
             "colorbar": {
              "outlinewidth": 0,
              "ticks": ""
             }
            },
            "type": "scattermap"
           }
          ],
          "scattermapbox": [
           {
            "marker": {
             "colorbar": {
              "outlinewidth": 0,
              "ticks": ""
             }
            },
            "type": "scattermapbox"
           }
          ],
          "scatterpolar": [
           {
            "marker": {
             "colorbar": {
              "outlinewidth": 0,
              "ticks": ""
             }
            },
            "type": "scatterpolar"
           }
          ],
          "scatterpolargl": [
           {
            "marker": {
             "colorbar": {
              "outlinewidth": 0,
              "ticks": ""
             }
            },
            "type": "scatterpolargl"
           }
          ],
          "scatterternary": [
           {
            "marker": {
             "colorbar": {
              "outlinewidth": 0,
              "ticks": ""
             }
            },
            "type": "scatterternary"
           }
          ],
          "surface": [
           {
            "colorbar": {
             "outlinewidth": 0,
             "ticks": ""
            },
            "colorscale": [
             [
              0,
              "#0d0887"
             ],
             [
              0.1111111111111111,
              "#46039f"
             ],
             [
              0.2222222222222222,
              "#7201a8"
             ],
             [
              0.3333333333333333,
              "#9c179e"
             ],
             [
              0.4444444444444444,
              "#bd3786"
             ],
             [
              0.5555555555555556,
              "#d8576b"
             ],
             [
              0.6666666666666666,
              "#ed7953"
             ],
             [
              0.7777777777777778,
              "#fb9f3a"
             ],
             [
              0.8888888888888888,
              "#fdca26"
             ],
             [
              1,
              "#f0f921"
             ]
            ],
            "type": "surface"
           }
          ],
          "table": [
           {
            "cells": {
             "fill": {
              "color": "#EBF0F8"
             },
             "line": {
              "color": "white"
             }
            },
            "header": {
             "fill": {
              "color": "#C8D4E3"
             },
             "line": {
              "color": "white"
             }
            },
            "type": "table"
           }
          ]
         },
         "layout": {
          "annotationdefaults": {
           "arrowcolor": "#2a3f5f",
           "arrowhead": 0,
           "arrowwidth": 1
          },
          "autotypenumbers": "strict",
          "coloraxis": {
           "colorbar": {
            "outlinewidth": 0,
            "ticks": ""
           }
          },
          "colorscale": {
           "diverging": [
            [
             0,
             "#8e0152"
            ],
            [
             0.1,
             "#c51b7d"
            ],
            [
             0.2,
             "#de77ae"
            ],
            [
             0.3,
             "#f1b6da"
            ],
            [
             0.4,
             "#fde0ef"
            ],
            [
             0.5,
             "#f7f7f7"
            ],
            [
             0.6,
             "#e6f5d0"
            ],
            [
             0.7,
             "#b8e186"
            ],
            [
             0.8,
             "#7fbc41"
            ],
            [
             0.9,
             "#4d9221"
            ],
            [
             1,
             "#276419"
            ]
           ],
           "sequential": [
            [
             0,
             "#0d0887"
            ],
            [
             0.1111111111111111,
             "#46039f"
            ],
            [
             0.2222222222222222,
             "#7201a8"
            ],
            [
             0.3333333333333333,
             "#9c179e"
            ],
            [
             0.4444444444444444,
             "#bd3786"
            ],
            [
             0.5555555555555556,
             "#d8576b"
            ],
            [
             0.6666666666666666,
             "#ed7953"
            ],
            [
             0.7777777777777778,
             "#fb9f3a"
            ],
            [
             0.8888888888888888,
             "#fdca26"
            ],
            [
             1,
             "#f0f921"
            ]
           ],
           "sequentialminus": [
            [
             0,
             "#0d0887"
            ],
            [
             0.1111111111111111,
             "#46039f"
            ],
            [
             0.2222222222222222,
             "#7201a8"
            ],
            [
             0.3333333333333333,
             "#9c179e"
            ],
            [
             0.4444444444444444,
             "#bd3786"
            ],
            [
             0.5555555555555556,
             "#d8576b"
            ],
            [
             0.6666666666666666,
             "#ed7953"
            ],
            [
             0.7777777777777778,
             "#fb9f3a"
            ],
            [
             0.8888888888888888,
             "#fdca26"
            ],
            [
             1,
             "#f0f921"
            ]
           ]
          },
          "colorway": [
           "#636efa",
           "#EF553B",
           "#00cc96",
           "#ab63fa",
           "#FFA15A",
           "#19d3f3",
           "#FF6692",
           "#B6E880",
           "#FF97FF",
           "#FECB52"
          ],
          "font": {
           "color": "#2a3f5f"
          },
          "geo": {
           "bgcolor": "white",
           "lakecolor": "white",
           "landcolor": "#E5ECF6",
           "showlakes": true,
           "showland": true,
           "subunitcolor": "white"
          },
          "hoverlabel": {
           "align": "left"
          },
          "hovermode": "closest",
          "mapbox": {
           "style": "light"
          },
          "paper_bgcolor": "white",
          "plot_bgcolor": "#E5ECF6",
          "polar": {
           "angularaxis": {
            "gridcolor": "white",
            "linecolor": "white",
            "ticks": ""
           },
           "bgcolor": "#E5ECF6",
           "radialaxis": {
            "gridcolor": "white",
            "linecolor": "white",
            "ticks": ""
           }
          },
          "scene": {
           "xaxis": {
            "backgroundcolor": "#E5ECF6",
            "gridcolor": "white",
            "gridwidth": 2,
            "linecolor": "white",
            "showbackground": true,
            "ticks": "",
            "zerolinecolor": "white"
           },
           "yaxis": {
            "backgroundcolor": "#E5ECF6",
            "gridcolor": "white",
            "gridwidth": 2,
            "linecolor": "white",
            "showbackground": true,
            "ticks": "",
            "zerolinecolor": "white"
           },
           "zaxis": {
            "backgroundcolor": "#E5ECF6",
            "gridcolor": "white",
            "gridwidth": 2,
            "linecolor": "white",
            "showbackground": true,
            "ticks": "",
            "zerolinecolor": "white"
           }
          },
          "shapedefaults": {
           "line": {
            "color": "#2a3f5f"
           }
          },
          "ternary": {
           "aaxis": {
            "gridcolor": "white",
            "linecolor": "white",
            "ticks": ""
           },
           "baxis": {
            "gridcolor": "white",
            "linecolor": "white",
            "ticks": ""
           },
           "bgcolor": "#E5ECF6",
           "caxis": {
            "gridcolor": "white",
            "linecolor": "white",
            "ticks": ""
           }
          },
          "title": {
           "x": 0.05
          },
          "xaxis": {
           "automargin": true,
           "gridcolor": "white",
           "linecolor": "white",
           "ticks": "",
           "title": {
            "standoff": 15
           },
           "zerolinecolor": "white",
           "zerolinewidth": 2
          },
          "yaxis": {
           "automargin": true,
           "gridcolor": "white",
           "linecolor": "white",
           "ticks": "",
           "title": {
            "standoff": 15
           },
           "zerolinecolor": "white",
           "zerolinewidth": 2
          }
         }
        },
        "title": {
         "text": "Taxa de Crescimento do Tempo com Aumento da Base"
        },
        "xaxis": {
         "anchor": "y",
         "domain": [
          0,
          1
         ],
         "title": {
          "text": "Modelo"
         }
        },
        "yaxis": {
         "anchor": "x",
         "domain": [
          0,
          1
         ],
         "title": {
          "text": "Taxa de Crescimento"
         }
        }
       }
      }
     },
     "metadata": {},
     "output_type": "display_data"
    },
    {
     "name": "stdout",
     "output_type": "stream",
     "text": [
      "\n",
      "Modelos com menor taxa de crescimento são mais escaláveis, pois seu tempo de processamento\n",
      "aumenta mais lentamente com o crescimento do volume de dados.\n",
      "\n",
      "### Interpretação dos Resultados de Escalabilidade\n",
      "- **vggish** demonstra a melhor escalabilidade, com menor taxa de crescimento de tempo.\n",
      "- **openl3** apresenta a escalabilidade mais desafiadora, com maior aumento de tempo conforme o volume de dados cresce.\n",
      "\n",
      "Escolha o modelo considerando não apenas o desempenho atual, mas também a projeção futura do volume de dados.\n"
     ]
    },
    {
     "data": {
      "application/vnd.plotly.v1+json": {
       "config": {
        "plotlyServerURL": "https://plot.ly"
       },
       "data": [
        {
         "cells": {
          "align": "center",
          "fill": {
           "color": "lightcyan"
          },
          "values": [
           [
            "ast",
            "clap",
            "openl3",
            "vggish",
            "wav2vec2",
            "yamnet"
           ],
           [
            4,
            1,
            6,
            5,
            2,
            3
           ],
           [
            3,
            2,
            6,
            5,
            4,
            1
           ],
           [
            3,
            2,
            6,
            4,
            5,
            1
           ],
           [
            5,
            2,
            6,
            4,
            3,
            1
           ],
           [
            4,
            2,
            6,
            5,
            3,
            1
           ]
          ]
         },
         "header": {
          "align": "center",
          "fill": {
           "color": "royalblue"
          },
          "font": {
           "color": "white",
           "size": 12
          },
          "values": [
           "Modelo",
           "5 ficheiros",
           "25 ficheiros",
           "50 ficheiros",
           "100 ficheiros",
           "250 ficheiros"
          ]
         },
         "type": "table"
        }
       ],
       "layout": {
        "height": 400,
        "margin": {
         "b": 20,
         "l": 20,
         "r": 20,
         "t": 50
        },
        "template": {
         "data": {
          "bar": [
           {
            "error_x": {
             "color": "#2a3f5f"
            },
            "error_y": {
             "color": "#2a3f5f"
            },
            "marker": {
             "line": {
              "color": "#E5ECF6",
              "width": 0.5
             },
             "pattern": {
              "fillmode": "overlay",
              "size": 10,
              "solidity": 0.2
             }
            },
            "type": "bar"
           }
          ],
          "barpolar": [
           {
            "marker": {
             "line": {
              "color": "#E5ECF6",
              "width": 0.5
             },
             "pattern": {
              "fillmode": "overlay",
              "size": 10,
              "solidity": 0.2
             }
            },
            "type": "barpolar"
           }
          ],
          "carpet": [
           {
            "aaxis": {
             "endlinecolor": "#2a3f5f",
             "gridcolor": "white",
             "linecolor": "white",
             "minorgridcolor": "white",
             "startlinecolor": "#2a3f5f"
            },
            "baxis": {
             "endlinecolor": "#2a3f5f",
             "gridcolor": "white",
             "linecolor": "white",
             "minorgridcolor": "white",
             "startlinecolor": "#2a3f5f"
            },
            "type": "carpet"
           }
          ],
          "choropleth": [
           {
            "colorbar": {
             "outlinewidth": 0,
             "ticks": ""
            },
            "type": "choropleth"
           }
          ],
          "contour": [
           {
            "colorbar": {
             "outlinewidth": 0,
             "ticks": ""
            },
            "colorscale": [
             [
              0,
              "#0d0887"
             ],
             [
              0.1111111111111111,
              "#46039f"
             ],
             [
              0.2222222222222222,
              "#7201a8"
             ],
             [
              0.3333333333333333,
              "#9c179e"
             ],
             [
              0.4444444444444444,
              "#bd3786"
             ],
             [
              0.5555555555555556,
              "#d8576b"
             ],
             [
              0.6666666666666666,
              "#ed7953"
             ],
             [
              0.7777777777777778,
              "#fb9f3a"
             ],
             [
              0.8888888888888888,
              "#fdca26"
             ],
             [
              1,
              "#f0f921"
             ]
            ],
            "type": "contour"
           }
          ],
          "contourcarpet": [
           {
            "colorbar": {
             "outlinewidth": 0,
             "ticks": ""
            },
            "type": "contourcarpet"
           }
          ],
          "heatmap": [
           {
            "colorbar": {
             "outlinewidth": 0,
             "ticks": ""
            },
            "colorscale": [
             [
              0,
              "#0d0887"
             ],
             [
              0.1111111111111111,
              "#46039f"
             ],
             [
              0.2222222222222222,
              "#7201a8"
             ],
             [
              0.3333333333333333,
              "#9c179e"
             ],
             [
              0.4444444444444444,
              "#bd3786"
             ],
             [
              0.5555555555555556,
              "#d8576b"
             ],
             [
              0.6666666666666666,
              "#ed7953"
             ],
             [
              0.7777777777777778,
              "#fb9f3a"
             ],
             [
              0.8888888888888888,
              "#fdca26"
             ],
             [
              1,
              "#f0f921"
             ]
            ],
            "type": "heatmap"
           }
          ],
          "histogram": [
           {
            "marker": {
             "pattern": {
              "fillmode": "overlay",
              "size": 10,
              "solidity": 0.2
             }
            },
            "type": "histogram"
           }
          ],
          "histogram2d": [
           {
            "colorbar": {
             "outlinewidth": 0,
             "ticks": ""
            },
            "colorscale": [
             [
              0,
              "#0d0887"
             ],
             [
              0.1111111111111111,
              "#46039f"
             ],
             [
              0.2222222222222222,
              "#7201a8"
             ],
             [
              0.3333333333333333,
              "#9c179e"
             ],
             [
              0.4444444444444444,
              "#bd3786"
             ],
             [
              0.5555555555555556,
              "#d8576b"
             ],
             [
              0.6666666666666666,
              "#ed7953"
             ],
             [
              0.7777777777777778,
              "#fb9f3a"
             ],
             [
              0.8888888888888888,
              "#fdca26"
             ],
             [
              1,
              "#f0f921"
             ]
            ],
            "type": "histogram2d"
           }
          ],
          "histogram2dcontour": [
           {
            "colorbar": {
             "outlinewidth": 0,
             "ticks": ""
            },
            "colorscale": [
             [
              0,
              "#0d0887"
             ],
             [
              0.1111111111111111,
              "#46039f"
             ],
             [
              0.2222222222222222,
              "#7201a8"
             ],
             [
              0.3333333333333333,
              "#9c179e"
             ],
             [
              0.4444444444444444,
              "#bd3786"
             ],
             [
              0.5555555555555556,
              "#d8576b"
             ],
             [
              0.6666666666666666,
              "#ed7953"
             ],
             [
              0.7777777777777778,
              "#fb9f3a"
             ],
             [
              0.8888888888888888,
              "#fdca26"
             ],
             [
              1,
              "#f0f921"
             ]
            ],
            "type": "histogram2dcontour"
           }
          ],
          "mesh3d": [
           {
            "colorbar": {
             "outlinewidth": 0,
             "ticks": ""
            },
            "type": "mesh3d"
           }
          ],
          "parcoords": [
           {
            "line": {
             "colorbar": {
              "outlinewidth": 0,
              "ticks": ""
             }
            },
            "type": "parcoords"
           }
          ],
          "pie": [
           {
            "automargin": true,
            "type": "pie"
           }
          ],
          "scatter": [
           {
            "fillpattern": {
             "fillmode": "overlay",
             "size": 10,
             "solidity": 0.2
            },
            "type": "scatter"
           }
          ],
          "scatter3d": [
           {
            "line": {
             "colorbar": {
              "outlinewidth": 0,
              "ticks": ""
             }
            },
            "marker": {
             "colorbar": {
              "outlinewidth": 0,
              "ticks": ""
             }
            },
            "type": "scatter3d"
           }
          ],
          "scattercarpet": [
           {
            "marker": {
             "colorbar": {
              "outlinewidth": 0,
              "ticks": ""
             }
            },
            "type": "scattercarpet"
           }
          ],
          "scattergeo": [
           {
            "marker": {
             "colorbar": {
              "outlinewidth": 0,
              "ticks": ""
             }
            },
            "type": "scattergeo"
           }
          ],
          "scattergl": [
           {
            "marker": {
             "colorbar": {
              "outlinewidth": 0,
              "ticks": ""
             }
            },
            "type": "scattergl"
           }
          ],
          "scattermap": [
           {
            "marker": {
             "colorbar": {
              "outlinewidth": 0,
              "ticks": ""
             }
            },
            "type": "scattermap"
           }
          ],
          "scattermapbox": [
           {
            "marker": {
             "colorbar": {
              "outlinewidth": 0,
              "ticks": ""
             }
            },
            "type": "scattermapbox"
           }
          ],
          "scatterpolar": [
           {
            "marker": {
             "colorbar": {
              "outlinewidth": 0,
              "ticks": ""
             }
            },
            "type": "scatterpolar"
           }
          ],
          "scatterpolargl": [
           {
            "marker": {
             "colorbar": {
              "outlinewidth": 0,
              "ticks": ""
             }
            },
            "type": "scatterpolargl"
           }
          ],
          "scatterternary": [
           {
            "marker": {
             "colorbar": {
              "outlinewidth": 0,
              "ticks": ""
             }
            },
            "type": "scatterternary"
           }
          ],
          "surface": [
           {
            "colorbar": {
             "outlinewidth": 0,
             "ticks": ""
            },
            "colorscale": [
             [
              0,
              "#0d0887"
             ],
             [
              0.1111111111111111,
              "#46039f"
             ],
             [
              0.2222222222222222,
              "#7201a8"
             ],
             [
              0.3333333333333333,
              "#9c179e"
             ],
             [
              0.4444444444444444,
              "#bd3786"
             ],
             [
              0.5555555555555556,
              "#d8576b"
             ],
             [
              0.6666666666666666,
              "#ed7953"
             ],
             [
              0.7777777777777778,
              "#fb9f3a"
             ],
             [
              0.8888888888888888,
              "#fdca26"
             ],
             [
              1,
              "#f0f921"
             ]
            ],
            "type": "surface"
           }
          ],
          "table": [
           {
            "cells": {
             "fill": {
              "color": "#EBF0F8"
             },
             "line": {
              "color": "white"
             }
            },
            "header": {
             "fill": {
              "color": "#C8D4E3"
             },
             "line": {
              "color": "white"
             }
            },
            "type": "table"
           }
          ]
         },
         "layout": {
          "annotationdefaults": {
           "arrowcolor": "#2a3f5f",
           "arrowhead": 0,
           "arrowwidth": 1
          },
          "autotypenumbers": "strict",
          "coloraxis": {
           "colorbar": {
            "outlinewidth": 0,
            "ticks": ""
           }
          },
          "colorscale": {
           "diverging": [
            [
             0,
             "#8e0152"
            ],
            [
             0.1,
             "#c51b7d"
            ],
            [
             0.2,
             "#de77ae"
            ],
            [
             0.3,
             "#f1b6da"
            ],
            [
             0.4,
             "#fde0ef"
            ],
            [
             0.5,
             "#f7f7f7"
            ],
            [
             0.6,
             "#e6f5d0"
            ],
            [
             0.7,
             "#b8e186"
            ],
            [
             0.8,
             "#7fbc41"
            ],
            [
             0.9,
             "#4d9221"
            ],
            [
             1,
             "#276419"
            ]
           ],
           "sequential": [
            [
             0,
             "#0d0887"
            ],
            [
             0.1111111111111111,
             "#46039f"
            ],
            [
             0.2222222222222222,
             "#7201a8"
            ],
            [
             0.3333333333333333,
             "#9c179e"
            ],
            [
             0.4444444444444444,
             "#bd3786"
            ],
            [
             0.5555555555555556,
             "#d8576b"
            ],
            [
             0.6666666666666666,
             "#ed7953"
            ],
            [
             0.7777777777777778,
             "#fb9f3a"
            ],
            [
             0.8888888888888888,
             "#fdca26"
            ],
            [
             1,
             "#f0f921"
            ]
           ],
           "sequentialminus": [
            [
             0,
             "#0d0887"
            ],
            [
             0.1111111111111111,
             "#46039f"
            ],
            [
             0.2222222222222222,
             "#7201a8"
            ],
            [
             0.3333333333333333,
             "#9c179e"
            ],
            [
             0.4444444444444444,
             "#bd3786"
            ],
            [
             0.5555555555555556,
             "#d8576b"
            ],
            [
             0.6666666666666666,
             "#ed7953"
            ],
            [
             0.7777777777777778,
             "#fb9f3a"
            ],
            [
             0.8888888888888888,
             "#fdca26"
            ],
            [
             1,
             "#f0f921"
            ]
           ]
          },
          "colorway": [
           "#636efa",
           "#EF553B",
           "#00cc96",
           "#ab63fa",
           "#FFA15A",
           "#19d3f3",
           "#FF6692",
           "#B6E880",
           "#FF97FF",
           "#FECB52"
          ],
          "font": {
           "color": "#2a3f5f"
          },
          "geo": {
           "bgcolor": "white",
           "lakecolor": "white",
           "landcolor": "#E5ECF6",
           "showlakes": true,
           "showland": true,
           "subunitcolor": "white"
          },
          "hoverlabel": {
           "align": "left"
          },
          "hovermode": "closest",
          "mapbox": {
           "style": "light"
          },
          "paper_bgcolor": "white",
          "plot_bgcolor": "#E5ECF6",
          "polar": {
           "angularaxis": {
            "gridcolor": "white",
            "linecolor": "white",
            "ticks": ""
           },
           "bgcolor": "#E5ECF6",
           "radialaxis": {
            "gridcolor": "white",
            "linecolor": "white",
            "ticks": ""
           }
          },
          "scene": {
           "xaxis": {
            "backgroundcolor": "#E5ECF6",
            "gridcolor": "white",
            "gridwidth": 2,
            "linecolor": "white",
            "showbackground": true,
            "ticks": "",
            "zerolinecolor": "white"
           },
           "yaxis": {
            "backgroundcolor": "#E5ECF6",
            "gridcolor": "white",
            "gridwidth": 2,
            "linecolor": "white",
            "showbackground": true,
            "ticks": "",
            "zerolinecolor": "white"
           },
           "zaxis": {
            "backgroundcolor": "#E5ECF6",
            "gridcolor": "white",
            "gridwidth": 2,
            "linecolor": "white",
            "showbackground": true,
            "ticks": "",
            "zerolinecolor": "white"
           }
          },
          "shapedefaults": {
           "line": {
            "color": "#2a3f5f"
           }
          },
          "ternary": {
           "aaxis": {
            "gridcolor": "white",
            "linecolor": "white",
            "ticks": ""
           },
           "baxis": {
            "gridcolor": "white",
            "linecolor": "white",
            "ticks": ""
           },
           "bgcolor": "#E5ECF6",
           "caxis": {
            "gridcolor": "white",
            "linecolor": "white",
            "ticks": ""
           }
          },
          "title": {
           "x": 0.05
          },
          "xaxis": {
           "automargin": true,
           "gridcolor": "white",
           "linecolor": "white",
           "ticks": "",
           "title": {
            "standoff": 15
           },
           "zerolinecolor": "white",
           "zerolinewidth": 2
          },
          "yaxis": {
           "automargin": true,
           "gridcolor": "white",
           "linecolor": "white",
           "ticks": "",
           "title": {
            "standoff": 15
           },
           "zerolinecolor": "white",
           "zerolinewidth": 2
          }
         }
        },
        "title": {
         "text": "Evolução das Posições no Ranking por Escala"
        }
       }
      }
     },
     "metadata": {},
     "output_type": "display_data"
    },
    {
     "data": {
      "application/vnd.plotly.v1+json": {
       "config": {
        "plotlyServerURL": "https://plot.ly"
       },
       "data": [
        {
         "coloraxis": "coloraxis",
         "hovertemplate": "Tamanho do Benchmark: %{x}<br>Modelo: %{y}<br>Posição Relativa: %{z}<extra></extra>",
         "name": "0",
         "type": "heatmap",
         "x": [
          "5 ficheiros",
          "25 ficheiros",
          "50 ficheiros",
          "100 ficheiros",
          "250 ficheiros"
         ],
         "xaxis": "x",
         "y": [
          "ast",
          "clap",
          "openl3",
          "vggish",
          "wav2vec2",
          "yamnet"
         ],
         "yaxis": "y",
         "z": {
          "bdata": "AAAAAAAA4D9WVVVVVVXlP1ZVVVVVVeU/VlVVVVVV1T8AAAAAAADgPwAAAAAAAPA/q6qqqqqq6j+rqqqqqqrqP6uqqqqqquo/q6qqqqqq6j9UVVVVVVXFP1RVVVVVVcU/VFVVVVVVxT9UVVVVVVXFP1RVVVVVVcU/VlVVVVVV1T9WVVVVVVXVPwAAAAAAAOA/AAAAAAAA4D9WVVVVVVXVP6uqqqqqquo/AAAAAAAA4D9WVVVVVVXVP1ZVVVVVVeU/VlVVVVVV5T9WVVVVVVXlPwAAAAAAAPA/AAAAAAAA8D8AAAAAAADwPwAAAAAAAPA/",
          "dtype": "f8",
          "shape": "6, 5"
         }
        }
       ],
       "layout": {
        "coloraxis": {
         "colorbar": {
          "title": {
           "text": "Posição Relativa"
          }
         },
         "colorscale": [
          [
           0,
           "#440154"
          ],
          [
           0.1111111111111111,
           "#482878"
          ],
          [
           0.2222222222222222,
           "#3e4989"
          ],
          [
           0.3333333333333333,
           "#31688e"
          ],
          [
           0.4444444444444444,
           "#26828e"
          ],
          [
           0.5555555555555556,
           "#1f9e89"
          ],
          [
           0.6666666666666666,
           "#35b779"
          ],
          [
           0.7777777777777778,
           "#6ece58"
          ],
          [
           0.8888888888888888,
           "#b5de2b"
          ],
          [
           1,
           "#fde725"
          ]
         ]
        },
        "template": {
         "data": {
          "bar": [
           {
            "error_x": {
             "color": "#2a3f5f"
            },
            "error_y": {
             "color": "#2a3f5f"
            },
            "marker": {
             "line": {
              "color": "#E5ECF6",
              "width": 0.5
             },
             "pattern": {
              "fillmode": "overlay",
              "size": 10,
              "solidity": 0.2
             }
            },
            "type": "bar"
           }
          ],
          "barpolar": [
           {
            "marker": {
             "line": {
              "color": "#E5ECF6",
              "width": 0.5
             },
             "pattern": {
              "fillmode": "overlay",
              "size": 10,
              "solidity": 0.2
             }
            },
            "type": "barpolar"
           }
          ],
          "carpet": [
           {
            "aaxis": {
             "endlinecolor": "#2a3f5f",
             "gridcolor": "white",
             "linecolor": "white",
             "minorgridcolor": "white",
             "startlinecolor": "#2a3f5f"
            },
            "baxis": {
             "endlinecolor": "#2a3f5f",
             "gridcolor": "white",
             "linecolor": "white",
             "minorgridcolor": "white",
             "startlinecolor": "#2a3f5f"
            },
            "type": "carpet"
           }
          ],
          "choropleth": [
           {
            "colorbar": {
             "outlinewidth": 0,
             "ticks": ""
            },
            "type": "choropleth"
           }
          ],
          "contour": [
           {
            "colorbar": {
             "outlinewidth": 0,
             "ticks": ""
            },
            "colorscale": [
             [
              0,
              "#0d0887"
             ],
             [
              0.1111111111111111,
              "#46039f"
             ],
             [
              0.2222222222222222,
              "#7201a8"
             ],
             [
              0.3333333333333333,
              "#9c179e"
             ],
             [
              0.4444444444444444,
              "#bd3786"
             ],
             [
              0.5555555555555556,
              "#d8576b"
             ],
             [
              0.6666666666666666,
              "#ed7953"
             ],
             [
              0.7777777777777778,
              "#fb9f3a"
             ],
             [
              0.8888888888888888,
              "#fdca26"
             ],
             [
              1,
              "#f0f921"
             ]
            ],
            "type": "contour"
           }
          ],
          "contourcarpet": [
           {
            "colorbar": {
             "outlinewidth": 0,
             "ticks": ""
            },
            "type": "contourcarpet"
           }
          ],
          "heatmap": [
           {
            "colorbar": {
             "outlinewidth": 0,
             "ticks": ""
            },
            "colorscale": [
             [
              0,
              "#0d0887"
             ],
             [
              0.1111111111111111,
              "#46039f"
             ],
             [
              0.2222222222222222,
              "#7201a8"
             ],
             [
              0.3333333333333333,
              "#9c179e"
             ],
             [
              0.4444444444444444,
              "#bd3786"
             ],
             [
              0.5555555555555556,
              "#d8576b"
             ],
             [
              0.6666666666666666,
              "#ed7953"
             ],
             [
              0.7777777777777778,
              "#fb9f3a"
             ],
             [
              0.8888888888888888,
              "#fdca26"
             ],
             [
              1,
              "#f0f921"
             ]
            ],
            "type": "heatmap"
           }
          ],
          "histogram": [
           {
            "marker": {
             "pattern": {
              "fillmode": "overlay",
              "size": 10,
              "solidity": 0.2
             }
            },
            "type": "histogram"
           }
          ],
          "histogram2d": [
           {
            "colorbar": {
             "outlinewidth": 0,
             "ticks": ""
            },
            "colorscale": [
             [
              0,
              "#0d0887"
             ],
             [
              0.1111111111111111,
              "#46039f"
             ],
             [
              0.2222222222222222,
              "#7201a8"
             ],
             [
              0.3333333333333333,
              "#9c179e"
             ],
             [
              0.4444444444444444,
              "#bd3786"
             ],
             [
              0.5555555555555556,
              "#d8576b"
             ],
             [
              0.6666666666666666,
              "#ed7953"
             ],
             [
              0.7777777777777778,
              "#fb9f3a"
             ],
             [
              0.8888888888888888,
              "#fdca26"
             ],
             [
              1,
              "#f0f921"
             ]
            ],
            "type": "histogram2d"
           }
          ],
          "histogram2dcontour": [
           {
            "colorbar": {
             "outlinewidth": 0,
             "ticks": ""
            },
            "colorscale": [
             [
              0,
              "#0d0887"
             ],
             [
              0.1111111111111111,
              "#46039f"
             ],
             [
              0.2222222222222222,
              "#7201a8"
             ],
             [
              0.3333333333333333,
              "#9c179e"
             ],
             [
              0.4444444444444444,
              "#bd3786"
             ],
             [
              0.5555555555555556,
              "#d8576b"
             ],
             [
              0.6666666666666666,
              "#ed7953"
             ],
             [
              0.7777777777777778,
              "#fb9f3a"
             ],
             [
              0.8888888888888888,
              "#fdca26"
             ],
             [
              1,
              "#f0f921"
             ]
            ],
            "type": "histogram2dcontour"
           }
          ],
          "mesh3d": [
           {
            "colorbar": {
             "outlinewidth": 0,
             "ticks": ""
            },
            "type": "mesh3d"
           }
          ],
          "parcoords": [
           {
            "line": {
             "colorbar": {
              "outlinewidth": 0,
              "ticks": ""
             }
            },
            "type": "parcoords"
           }
          ],
          "pie": [
           {
            "automargin": true,
            "type": "pie"
           }
          ],
          "scatter": [
           {
            "fillpattern": {
             "fillmode": "overlay",
             "size": 10,
             "solidity": 0.2
            },
            "type": "scatter"
           }
          ],
          "scatter3d": [
           {
            "line": {
             "colorbar": {
              "outlinewidth": 0,
              "ticks": ""
             }
            },
            "marker": {
             "colorbar": {
              "outlinewidth": 0,
              "ticks": ""
             }
            },
            "type": "scatter3d"
           }
          ],
          "scattercarpet": [
           {
            "marker": {
             "colorbar": {
              "outlinewidth": 0,
              "ticks": ""
             }
            },
            "type": "scattercarpet"
           }
          ],
          "scattergeo": [
           {
            "marker": {
             "colorbar": {
              "outlinewidth": 0,
              "ticks": ""
             }
            },
            "type": "scattergeo"
           }
          ],
          "scattergl": [
           {
            "marker": {
             "colorbar": {
              "outlinewidth": 0,
              "ticks": ""
             }
            },
            "type": "scattergl"
           }
          ],
          "scattermap": [
           {
            "marker": {
             "colorbar": {
              "outlinewidth": 0,
              "ticks": ""
             }
            },
            "type": "scattermap"
           }
          ],
          "scattermapbox": [
           {
            "marker": {
             "colorbar": {
              "outlinewidth": 0,
              "ticks": ""
             }
            },
            "type": "scattermapbox"
           }
          ],
          "scatterpolar": [
           {
            "marker": {
             "colorbar": {
              "outlinewidth": 0,
              "ticks": ""
             }
            },
            "type": "scatterpolar"
           }
          ],
          "scatterpolargl": [
           {
            "marker": {
             "colorbar": {
              "outlinewidth": 0,
              "ticks": ""
             }
            },
            "type": "scatterpolargl"
           }
          ],
          "scatterternary": [
           {
            "marker": {
             "colorbar": {
              "outlinewidth": 0,
              "ticks": ""
             }
            },
            "type": "scatterternary"
           }
          ],
          "surface": [
           {
            "colorbar": {
             "outlinewidth": 0,
             "ticks": ""
            },
            "colorscale": [
             [
              0,
              "#0d0887"
             ],
             [
              0.1111111111111111,
              "#46039f"
             ],
             [
              0.2222222222222222,
              "#7201a8"
             ],
             [
              0.3333333333333333,
              "#9c179e"
             ],
             [
              0.4444444444444444,
              "#bd3786"
             ],
             [
              0.5555555555555556,
              "#d8576b"
             ],
             [
              0.6666666666666666,
              "#ed7953"
             ],
             [
              0.7777777777777778,
              "#fb9f3a"
             ],
             [
              0.8888888888888888,
              "#fdca26"
             ],
             [
              1,
              "#f0f921"
             ]
            ],
            "type": "surface"
           }
          ],
          "table": [
           {
            "cells": {
             "fill": {
              "color": "#EBF0F8"
             },
             "line": {
              "color": "white"
             }
            },
            "header": {
             "fill": {
              "color": "#C8D4E3"
             },
             "line": {
              "color": "white"
             }
            },
            "type": "table"
           }
          ]
         },
         "layout": {
          "annotationdefaults": {
           "arrowcolor": "#2a3f5f",
           "arrowhead": 0,
           "arrowwidth": 1
          },
          "autotypenumbers": "strict",
          "coloraxis": {
           "colorbar": {
            "outlinewidth": 0,
            "ticks": ""
           }
          },
          "colorscale": {
           "diverging": [
            [
             0,
             "#8e0152"
            ],
            [
             0.1,
             "#c51b7d"
            ],
            [
             0.2,
             "#de77ae"
            ],
            [
             0.3,
             "#f1b6da"
            ],
            [
             0.4,
             "#fde0ef"
            ],
            [
             0.5,
             "#f7f7f7"
            ],
            [
             0.6,
             "#e6f5d0"
            ],
            [
             0.7,
             "#b8e186"
            ],
            [
             0.8,
             "#7fbc41"
            ],
            [
             0.9,
             "#4d9221"
            ],
            [
             1,
             "#276419"
            ]
           ],
           "sequential": [
            [
             0,
             "#0d0887"
            ],
            [
             0.1111111111111111,
             "#46039f"
            ],
            [
             0.2222222222222222,
             "#7201a8"
            ],
            [
             0.3333333333333333,
             "#9c179e"
            ],
            [
             0.4444444444444444,
             "#bd3786"
            ],
            [
             0.5555555555555556,
             "#d8576b"
            ],
            [
             0.6666666666666666,
             "#ed7953"
            ],
            [
             0.7777777777777778,
             "#fb9f3a"
            ],
            [
             0.8888888888888888,
             "#fdca26"
            ],
            [
             1,
             "#f0f921"
            ]
           ],
           "sequentialminus": [
            [
             0,
             "#0d0887"
            ],
            [
             0.1111111111111111,
             "#46039f"
            ],
            [
             0.2222222222222222,
             "#7201a8"
            ],
            [
             0.3333333333333333,
             "#9c179e"
            ],
            [
             0.4444444444444444,
             "#bd3786"
            ],
            [
             0.5555555555555556,
             "#d8576b"
            ],
            [
             0.6666666666666666,
             "#ed7953"
            ],
            [
             0.7777777777777778,
             "#fb9f3a"
            ],
            [
             0.8888888888888888,
             "#fdca26"
            ],
            [
             1,
             "#f0f921"
            ]
           ]
          },
          "colorway": [
           "#636efa",
           "#EF553B",
           "#00cc96",
           "#ab63fa",
           "#FFA15A",
           "#19d3f3",
           "#FF6692",
           "#B6E880",
           "#FF97FF",
           "#FECB52"
          ],
          "font": {
           "color": "#2a3f5f"
          },
          "geo": {
           "bgcolor": "white",
           "lakecolor": "white",
           "landcolor": "#E5ECF6",
           "showlakes": true,
           "showland": true,
           "subunitcolor": "white"
          },
          "hoverlabel": {
           "align": "left"
          },
          "hovermode": "closest",
          "mapbox": {
           "style": "light"
          },
          "paper_bgcolor": "white",
          "plot_bgcolor": "#E5ECF6",
          "polar": {
           "angularaxis": {
            "gridcolor": "white",
            "linecolor": "white",
            "ticks": ""
           },
           "bgcolor": "#E5ECF6",
           "radialaxis": {
            "gridcolor": "white",
            "linecolor": "white",
            "ticks": ""
           }
          },
          "scene": {
           "xaxis": {
            "backgroundcolor": "#E5ECF6",
            "gridcolor": "white",
            "gridwidth": 2,
            "linecolor": "white",
            "showbackground": true,
            "ticks": "",
            "zerolinecolor": "white"
           },
           "yaxis": {
            "backgroundcolor": "#E5ECF6",
            "gridcolor": "white",
            "gridwidth": 2,
            "linecolor": "white",
            "showbackground": true,
            "ticks": "",
            "zerolinecolor": "white"
           },
           "zaxis": {
            "backgroundcolor": "#E5ECF6",
            "gridcolor": "white",
            "gridwidth": 2,
            "linecolor": "white",
            "showbackground": true,
            "ticks": "",
            "zerolinecolor": "white"
           }
          },
          "shapedefaults": {
           "line": {
            "color": "#2a3f5f"
           }
          },
          "ternary": {
           "aaxis": {
            "gridcolor": "white",
            "linecolor": "white",
            "ticks": ""
           },
           "baxis": {
            "gridcolor": "white",
            "linecolor": "white",
            "ticks": ""
           },
           "bgcolor": "#E5ECF6",
           "caxis": {
            "gridcolor": "white",
            "linecolor": "white",
            "ticks": ""
           }
          },
          "title": {
           "x": 0.05
          },
          "xaxis": {
           "automargin": true,
           "gridcolor": "white",
           "linecolor": "white",
           "ticks": "",
           "title": {
            "standoff": 15
           },
           "zerolinecolor": "white",
           "zerolinewidth": 2
          },
          "yaxis": {
           "automargin": true,
           "gridcolor": "white",
           "linecolor": "white",
           "ticks": "",
           "title": {
            "standoff": 15
           },
           "zerolinecolor": "white",
           "zerolinewidth": 2
          }
         }
        },
        "title": {
         "text": "Estabilidade dos Rankings com Escala"
        },
        "xaxis": {
         "anchor": "y",
         "constrain": "domain",
         "domain": [
          0,
          1
         ],
         "scaleanchor": "y",
         "title": {
          "text": "Tamanho do Benchmark"
         }
        },
        "yaxis": {
         "anchor": "x",
         "autorange": "reversed",
         "constrain": "domain",
         "domain": [
          0,
          1
         ],
         "title": {
          "text": "Modelo"
         }
        }
       }
      }
     },
     "metadata": {},
     "output_type": "display_data"
    },
    {
     "name": "stdout",
     "output_type": "stream",
     "text": [
      "\n",
      "## Eficiência com Escala\n",
      "Esta análise mostra quais modelos mantêm bom desempenho mesmo com grandes volumes de dados:\n"
     ]
    },
    {
     "data": {
      "application/vnd.plotly.v1+json": {
       "config": {
        "plotlyServerURL": "https://plot.ly"
       },
       "data": [
        {
         "hovertemplate": "Modelo=%{x}<br>Taxa de Crescimento=%{marker.color}<extra></extra>",
         "legendgroup": "",
         "marker": {
          "color": {
           "bdata": "9QZEdjz3Jz8Z5ptm7UgrP9BHkw2o+jk/ZzWMm1BGWD80ku4Ecs1YP2CaXHooCbU/",
           "dtype": "f8"
          },
          "coloraxis": "coloraxis",
          "pattern": {
           "shape": ""
          }
         },
         "name": "",
         "orientation": "v",
         "showlegend": false,
         "textposition": "auto",
         "type": "bar",
         "x": [
          "vggish",
          "yamnet",
          "clap",
          "ast",
          "wav2vec2",
          "openl3"
         ],
         "xaxis": "x",
         "y": {
          "bdata": "9QZEdjz3Jz8Z5ptm7UgrP9BHkw2o+jk/ZzWMm1BGWD80ku4Ecs1YP2CaXHooCbU/",
          "dtype": "f8"
         },
         "yaxis": "y"
        }
       ],
       "layout": {
        "barmode": "relative",
        "coloraxis": {
         "colorbar": {
          "title": {
           "text": "Taxa de Crescimento"
          }
         },
         "colorscale": [
          [
           0,
           "rgb(0,104,55)"
          ],
          [
           0.1,
           "rgb(26,152,80)"
          ],
          [
           0.2,
           "rgb(102,189,99)"
          ],
          [
           0.3,
           "rgb(166,217,106)"
          ],
          [
           0.4,
           "rgb(217,239,139)"
          ],
          [
           0.5,
           "rgb(255,255,191)"
          ],
          [
           0.6,
           "rgb(254,224,139)"
          ],
          [
           0.7,
           "rgb(253,174,97)"
          ],
          [
           0.8,
           "rgb(244,109,67)"
          ],
          [
           0.9,
           "rgb(215,48,39)"
          ],
          [
           1,
           "rgb(165,0,38)"
          ]
         ]
        },
        "legend": {
         "tracegroupgap": 0
        },
        "template": {
         "data": {
          "bar": [
           {
            "error_x": {
             "color": "#2a3f5f"
            },
            "error_y": {
             "color": "#2a3f5f"
            },
            "marker": {
             "line": {
              "color": "#E5ECF6",
              "width": 0.5
             },
             "pattern": {
              "fillmode": "overlay",
              "size": 10,
              "solidity": 0.2
             }
            },
            "type": "bar"
           }
          ],
          "barpolar": [
           {
            "marker": {
             "line": {
              "color": "#E5ECF6",
              "width": 0.5
             },
             "pattern": {
              "fillmode": "overlay",
              "size": 10,
              "solidity": 0.2
             }
            },
            "type": "barpolar"
           }
          ],
          "carpet": [
           {
            "aaxis": {
             "endlinecolor": "#2a3f5f",
             "gridcolor": "white",
             "linecolor": "white",
             "minorgridcolor": "white",
             "startlinecolor": "#2a3f5f"
            },
            "baxis": {
             "endlinecolor": "#2a3f5f",
             "gridcolor": "white",
             "linecolor": "white",
             "minorgridcolor": "white",
             "startlinecolor": "#2a3f5f"
            },
            "type": "carpet"
           }
          ],
          "choropleth": [
           {
            "colorbar": {
             "outlinewidth": 0,
             "ticks": ""
            },
            "type": "choropleth"
           }
          ],
          "contour": [
           {
            "colorbar": {
             "outlinewidth": 0,
             "ticks": ""
            },
            "colorscale": [
             [
              0,
              "#0d0887"
             ],
             [
              0.1111111111111111,
              "#46039f"
             ],
             [
              0.2222222222222222,
              "#7201a8"
             ],
             [
              0.3333333333333333,
              "#9c179e"
             ],
             [
              0.4444444444444444,
              "#bd3786"
             ],
             [
              0.5555555555555556,
              "#d8576b"
             ],
             [
              0.6666666666666666,
              "#ed7953"
             ],
             [
              0.7777777777777778,
              "#fb9f3a"
             ],
             [
              0.8888888888888888,
              "#fdca26"
             ],
             [
              1,
              "#f0f921"
             ]
            ],
            "type": "contour"
           }
          ],
          "contourcarpet": [
           {
            "colorbar": {
             "outlinewidth": 0,
             "ticks": ""
            },
            "type": "contourcarpet"
           }
          ],
          "heatmap": [
           {
            "colorbar": {
             "outlinewidth": 0,
             "ticks": ""
            },
            "colorscale": [
             [
              0,
              "#0d0887"
             ],
             [
              0.1111111111111111,
              "#46039f"
             ],
             [
              0.2222222222222222,
              "#7201a8"
             ],
             [
              0.3333333333333333,
              "#9c179e"
             ],
             [
              0.4444444444444444,
              "#bd3786"
             ],
             [
              0.5555555555555556,
              "#d8576b"
             ],
             [
              0.6666666666666666,
              "#ed7953"
             ],
             [
              0.7777777777777778,
              "#fb9f3a"
             ],
             [
              0.8888888888888888,
              "#fdca26"
             ],
             [
              1,
              "#f0f921"
             ]
            ],
            "type": "heatmap"
           }
          ],
          "histogram": [
           {
            "marker": {
             "pattern": {
              "fillmode": "overlay",
              "size": 10,
              "solidity": 0.2
             }
            },
            "type": "histogram"
           }
          ],
          "histogram2d": [
           {
            "colorbar": {
             "outlinewidth": 0,
             "ticks": ""
            },
            "colorscale": [
             [
              0,
              "#0d0887"
             ],
             [
              0.1111111111111111,
              "#46039f"
             ],
             [
              0.2222222222222222,
              "#7201a8"
             ],
             [
              0.3333333333333333,
              "#9c179e"
             ],
             [
              0.4444444444444444,
              "#bd3786"
             ],
             [
              0.5555555555555556,
              "#d8576b"
             ],
             [
              0.6666666666666666,
              "#ed7953"
             ],
             [
              0.7777777777777778,
              "#fb9f3a"
             ],
             [
              0.8888888888888888,
              "#fdca26"
             ],
             [
              1,
              "#f0f921"
             ]
            ],
            "type": "histogram2d"
           }
          ],
          "histogram2dcontour": [
           {
            "colorbar": {
             "outlinewidth": 0,
             "ticks": ""
            },
            "colorscale": [
             [
              0,
              "#0d0887"
             ],
             [
              0.1111111111111111,
              "#46039f"
             ],
             [
              0.2222222222222222,
              "#7201a8"
             ],
             [
              0.3333333333333333,
              "#9c179e"
             ],
             [
              0.4444444444444444,
              "#bd3786"
             ],
             [
              0.5555555555555556,
              "#d8576b"
             ],
             [
              0.6666666666666666,
              "#ed7953"
             ],
             [
              0.7777777777777778,
              "#fb9f3a"
             ],
             [
              0.8888888888888888,
              "#fdca26"
             ],
             [
              1,
              "#f0f921"
             ]
            ],
            "type": "histogram2dcontour"
           }
          ],
          "mesh3d": [
           {
            "colorbar": {
             "outlinewidth": 0,
             "ticks": ""
            },
            "type": "mesh3d"
           }
          ],
          "parcoords": [
           {
            "line": {
             "colorbar": {
              "outlinewidth": 0,
              "ticks": ""
             }
            },
            "type": "parcoords"
           }
          ],
          "pie": [
           {
            "automargin": true,
            "type": "pie"
           }
          ],
          "scatter": [
           {
            "fillpattern": {
             "fillmode": "overlay",
             "size": 10,
             "solidity": 0.2
            },
            "type": "scatter"
           }
          ],
          "scatter3d": [
           {
            "line": {
             "colorbar": {
              "outlinewidth": 0,
              "ticks": ""
             }
            },
            "marker": {
             "colorbar": {
              "outlinewidth": 0,
              "ticks": ""
             }
            },
            "type": "scatter3d"
           }
          ],
          "scattercarpet": [
           {
            "marker": {
             "colorbar": {
              "outlinewidth": 0,
              "ticks": ""
             }
            },
            "type": "scattercarpet"
           }
          ],
          "scattergeo": [
           {
            "marker": {
             "colorbar": {
              "outlinewidth": 0,
              "ticks": ""
             }
            },
            "type": "scattergeo"
           }
          ],
          "scattergl": [
           {
            "marker": {
             "colorbar": {
              "outlinewidth": 0,
              "ticks": ""
             }
            },
            "type": "scattergl"
           }
          ],
          "scattermap": [
           {
            "marker": {
             "colorbar": {
              "outlinewidth": 0,
              "ticks": ""
             }
            },
            "type": "scattermap"
           }
          ],
          "scattermapbox": [
           {
            "marker": {
             "colorbar": {
              "outlinewidth": 0,
              "ticks": ""
             }
            },
            "type": "scattermapbox"
           }
          ],
          "scatterpolar": [
           {
            "marker": {
             "colorbar": {
              "outlinewidth": 0,
              "ticks": ""
             }
            },
            "type": "scatterpolar"
           }
          ],
          "scatterpolargl": [
           {
            "marker": {
             "colorbar": {
              "outlinewidth": 0,
              "ticks": ""
             }
            },
            "type": "scatterpolargl"
           }
          ],
          "scatterternary": [
           {
            "marker": {
             "colorbar": {
              "outlinewidth": 0,
              "ticks": ""
             }
            },
            "type": "scatterternary"
           }
          ],
          "surface": [
           {
            "colorbar": {
             "outlinewidth": 0,
             "ticks": ""
            },
            "colorscale": [
             [
              0,
              "#0d0887"
             ],
             [
              0.1111111111111111,
              "#46039f"
             ],
             [
              0.2222222222222222,
              "#7201a8"
             ],
             [
              0.3333333333333333,
              "#9c179e"
             ],
             [
              0.4444444444444444,
              "#bd3786"
             ],
             [
              0.5555555555555556,
              "#d8576b"
             ],
             [
              0.6666666666666666,
              "#ed7953"
             ],
             [
              0.7777777777777778,
              "#fb9f3a"
             ],
             [
              0.8888888888888888,
              "#fdca26"
             ],
             [
              1,
              "#f0f921"
             ]
            ],
            "type": "surface"
           }
          ],
          "table": [
           {
            "cells": {
             "fill": {
              "color": "#EBF0F8"
             },
             "line": {
              "color": "white"
             }
            },
            "header": {
             "fill": {
              "color": "#C8D4E3"
             },
             "line": {
              "color": "white"
             }
            },
            "type": "table"
           }
          ]
         },
         "layout": {
          "annotationdefaults": {
           "arrowcolor": "#2a3f5f",
           "arrowhead": 0,
           "arrowwidth": 1
          },
          "autotypenumbers": "strict",
          "coloraxis": {
           "colorbar": {
            "outlinewidth": 0,
            "ticks": ""
           }
          },
          "colorscale": {
           "diverging": [
            [
             0,
             "#8e0152"
            ],
            [
             0.1,
             "#c51b7d"
            ],
            [
             0.2,
             "#de77ae"
            ],
            [
             0.3,
             "#f1b6da"
            ],
            [
             0.4,
             "#fde0ef"
            ],
            [
             0.5,
             "#f7f7f7"
            ],
            [
             0.6,
             "#e6f5d0"
            ],
            [
             0.7,
             "#b8e186"
            ],
            [
             0.8,
             "#7fbc41"
            ],
            [
             0.9,
             "#4d9221"
            ],
            [
             1,
             "#276419"
            ]
           ],
           "sequential": [
            [
             0,
             "#0d0887"
            ],
            [
             0.1111111111111111,
             "#46039f"
            ],
            [
             0.2222222222222222,
             "#7201a8"
            ],
            [
             0.3333333333333333,
             "#9c179e"
            ],
            [
             0.4444444444444444,
             "#bd3786"
            ],
            [
             0.5555555555555556,
             "#d8576b"
            ],
            [
             0.6666666666666666,
             "#ed7953"
            ],
            [
             0.7777777777777778,
             "#fb9f3a"
            ],
            [
             0.8888888888888888,
             "#fdca26"
            ],
            [
             1,
             "#f0f921"
            ]
           ],
           "sequentialminus": [
            [
             0,
             "#0d0887"
            ],
            [
             0.1111111111111111,
             "#46039f"
            ],
            [
             0.2222222222222222,
             "#7201a8"
            ],
            [
             0.3333333333333333,
             "#9c179e"
            ],
            [
             0.4444444444444444,
             "#bd3786"
            ],
            [
             0.5555555555555556,
             "#d8576b"
            ],
            [
             0.6666666666666666,
             "#ed7953"
            ],
            [
             0.7777777777777778,
             "#fb9f3a"
            ],
            [
             0.8888888888888888,
             "#fdca26"
            ],
            [
             1,
             "#f0f921"
            ]
           ]
          },
          "colorway": [
           "#636efa",
           "#EF553B",
           "#00cc96",
           "#ab63fa",
           "#FFA15A",
           "#19d3f3",
           "#FF6692",
           "#B6E880",
           "#FF97FF",
           "#FECB52"
          ],
          "font": {
           "color": "#2a3f5f"
          },
          "geo": {
           "bgcolor": "white",
           "lakecolor": "white",
           "landcolor": "#E5ECF6",
           "showlakes": true,
           "showland": true,
           "subunitcolor": "white"
          },
          "hoverlabel": {
           "align": "left"
          },
          "hovermode": "closest",
          "mapbox": {
           "style": "light"
          },
          "paper_bgcolor": "white",
          "plot_bgcolor": "#E5ECF6",
          "polar": {
           "angularaxis": {
            "gridcolor": "white",
            "linecolor": "white",
            "ticks": ""
           },
           "bgcolor": "#E5ECF6",
           "radialaxis": {
            "gridcolor": "white",
            "linecolor": "white",
            "ticks": ""
           }
          },
          "scene": {
           "xaxis": {
            "backgroundcolor": "#E5ECF6",
            "gridcolor": "white",
            "gridwidth": 2,
            "linecolor": "white",
            "showbackground": true,
            "ticks": "",
            "zerolinecolor": "white"
           },
           "yaxis": {
            "backgroundcolor": "#E5ECF6",
            "gridcolor": "white",
            "gridwidth": 2,
            "linecolor": "white",
            "showbackground": true,
            "ticks": "",
            "zerolinecolor": "white"
           },
           "zaxis": {
            "backgroundcolor": "#E5ECF6",
            "gridcolor": "white",
            "gridwidth": 2,
            "linecolor": "white",
            "showbackground": true,
            "ticks": "",
            "zerolinecolor": "white"
           }
          },
          "shapedefaults": {
           "line": {
            "color": "#2a3f5f"
           }
          },
          "ternary": {
           "aaxis": {
            "gridcolor": "white",
            "linecolor": "white",
            "ticks": ""
           },
           "baxis": {
            "gridcolor": "white",
            "linecolor": "white",
            "ticks": ""
           },
           "bgcolor": "#E5ECF6",
           "caxis": {
            "gridcolor": "white",
            "linecolor": "white",
            "ticks": ""
           }
          },
          "title": {
           "x": 0.05
          },
          "xaxis": {
           "automargin": true,
           "gridcolor": "white",
           "linecolor": "white",
           "ticks": "",
           "title": {
            "standoff": 15
           },
           "zerolinecolor": "white",
           "zerolinewidth": 2
          },
          "yaxis": {
           "automargin": true,
           "gridcolor": "white",
           "linecolor": "white",
           "ticks": "",
           "title": {
            "standoff": 15
           },
           "zerolinecolor": "white",
           "zerolinewidth": 2
          }
         }
        },
        "title": {
         "text": "Taxa de Crescimento do Tempo com Aumento da Base"
        },
        "xaxis": {
         "anchor": "y",
         "domain": [
          0,
          1
         ],
         "title": {
          "text": "Modelo"
         }
        },
        "yaxis": {
         "anchor": "x",
         "domain": [
          0,
          1
         ],
         "title": {
          "text": "Taxa de Crescimento"
         }
        }
       }
      }
     },
     "metadata": {},
     "output_type": "display_data"
    },
    {
     "name": "stdout",
     "output_type": "stream",
     "text": [
      "\n",
      "Modelos com menor taxa de crescimento são mais escaláveis, pois seu tempo de processamento\n",
      "aumenta mais lentamente com o crescimento do volume de dados.\n",
      "\n",
      "### Interpretação dos Resultados de Escalabilidade\n",
      "- **vggish** demonstra a melhor escalabilidade, com menor taxa de crescimento de tempo.\n",
      "- **openl3** apresenta a escalabilidade mais desafiadora, com maior aumento de tempo conforme o volume de dados cresce.\n",
      "\n",
      "Escolha o modelo considerando não apenas o desempenho atual, mas também a projeção futura do volume de dados.\n"
     ]
    }
   ],
   "source": [
    "# 📊 Comparação de benchmarks com diferentes quantidades de ficheiros\n",
    "from IPython.display import display, clear_output\n",
    "\n",
    "def carregar_multiplos_benchmarks():\n",
    "    \"\"\"Carrega todos os benchmarks disponíveis em uma estrutura unificada\"\"\"\n",
    "    tamanhos = [5, 25, 50, 100, 250]\n",
    "    dataframes = {}\n",
    "    \n",
    "    for tamanho in tamanhos:\n",
    "        try:\n",
    "            caminho = f'benchmarks/benchmark_{tamanho}/resultados_benchmark.csv'\n",
    "            df = pd.read_csv(caminho)\n",
    "            df['embedding'] = df['embedding'].apply(ast.literal_eval)\n",
    "            df['tamanho_benchmark'] = tamanho  # Adiciona coluna identificando o tamanho\n",
    "            dataframes[tamanho] = df\n",
    "            print(f\"✅ Benchmark com {tamanho} ficheiros carregado: {len(df)} registros\")\n",
    "        except FileNotFoundError:\n",
    "            print(f\"⚠️ Benchmark com {tamanho} ficheiros não encontrado\")\n",
    "        except Exception as e:\n",
    "            print(f\"❌ Erro ao carregar benchmark com {tamanho} ficheiros: {e}\")\n",
    "    \n",
    "    return dataframes\n",
    "\n",
    "# Função para exibir visualizações de um benchmark específico\n",
    "def display_benchmark(df):\n",
    "    \"\"\"Exibe visualizações para um benchmark específico\"\"\"\n",
    "    if df is None or df.empty:\n",
    "        print(\"Sem dados para exibir\")\n",
    "        return\n",
    "    \n",
    "    # Limpar saída anterior\n",
    "    clear_output(wait=True)\n",
    "    \n",
    "    # Mostrar informações básicas\n",
    "    print(f\"## Benchmark com {df['tamanho_benchmark'].iloc[0]} ficheiros\")\n",
    "    print(f\"- Total de registros: {len(df)}\")\n",
    "    print(f\"- Modelos disponíveis: {', '.join(df['modelo'].unique())}\")\n",
    "    \n",
    "    # Visualizações principais\n",
    "    fig1 = px.bar(df, x='modelo', y='tempo_extracao', color='modelo', \n",
    "                 title=f'Tempo de Extração por Modelo (Base: {df[\"tamanho_benchmark\"].iloc[0]} ficheiros)')\n",
    "    fig2 = px.bar(df, x='modelo', y='tempo_insercao', color='modelo', \n",
    "                 title=f'Tempo de Inserção por Modelo (Base: {df[\"tamanho_benchmark\"].iloc[0]} ficheiros)')\n",
    "    \n",
    "    display(fig1)\n",
    "    display(fig2)\n",
    "    \n",
    "    # Mostrar estatísticas\n",
    "    stats = df.groupby('modelo')[['tempo_extracao', 'tempo_insercao']].agg(['mean', 'std']).reset_index()\n",
    "    display(stats)\n",
    "\n",
    "# Carregar todos os benchmarks\n",
    "benchmarks = carregar_multiplos_benchmarks()\n",
    "\n",
    "# Interface para seleção do benchmark a visualizar\n",
    "tamanhos_disponiveis = list(benchmarks.keys())\n",
    "if tamanhos_disponiveis:\n",
    "    # Definir a função de atualização de visualização\n",
    "    def atualizar_visualizacao(change):\n",
    "        tamanho_selecionado = change['new']\n",
    "        if tamanho_selecionado in benchmarks:\n",
    "            display_benchmark(benchmarks[tamanho_selecionado])\n",
    "    \n",
    "    # Criar o seletor\n",
    "    selector = widgets.Dropdown(\n",
    "        options=tamanhos_disponiveis,\n",
    "        description='Benchmark:',\n",
    "        value=tamanhos_disponiveis[0]\n",
    "    )\n",
    "    \n",
    "    selector.observe(atualizar_visualizacao, names='value')\n",
    "    display(selector)\n",
    "    \n",
    "    # Mostrar o benchmark inicial\n",
    "    display_benchmark(benchmarks[tamanhos_disponiveis[0]])\n",
    "else:\n",
    "    print(\"Nenhum benchmark encontrado.\")\n",
    "\n",
    "# Análise de escalabilidade\n",
    "if len(benchmarks) >= 2:\n",
    "    print(\"\\n# Análise de Escalabilidade\")\n",
    "    print(\"Observe como cada modelo se comporta com o aumento do número de ficheiros:\")\n",
    "    \n",
    "    # 1. Gráfico de evolução de tempo de extração com o aumento do número de arquivos\n",
    "    metricas_escalabilidade = [\n",
    "        ('tempo_extracao', 'Tempo Médio de Extração (s)'),\n",
    "        ('tempo_insercao', 'Tempo Médio de Inserção (s)'),\n",
    "        ('memoria_peak_mb', 'Pico Médio de Memória (MB)'),\n",
    "        ('cpu_percent_after', 'Uso Médio de CPU (%)')\n",
    "    ]\n",
    "    \n",
    "    tab_contents_escala = [m[1] for m in metricas_escalabilidade]\n",
    "    children_escala = []\n",
    "    \n",
    "    for metrica, titulo in metricas_escalabilidade:\n",
    "        # Criar figura\n",
    "        fig_escala = go.Figure()\n",
    "        \n",
    "        # Verificar se a métrica existe em pelo menos um dataframe\n",
    "        if not any(metrica in df.columns for df in benchmarks.values()):\n",
    "            out = widgets.Output()\n",
    "            with out:\n",
    "                print(f\"Métrica '{titulo}' não disponível nos dados\")\n",
    "            children_escala.append(out)\n",
    "            continue\n",
    "        \n",
    "        # Para cada modelo, coletar dados de todos os benchmarks\n",
    "        all_models = set()\n",
    "        for df in benchmarks.values():\n",
    "            if not df.empty:\n",
    "                all_models.update(df['modelo'].unique())\n",
    "        \n",
    "        for modelo in all_models:\n",
    "            x_vals = []  # Tamanhos dos benchmarks\n",
    "            y_vals = []  # Valores médios da métrica\n",
    "            \n",
    "            for tamanho, df in benchmarks.items():\n",
    "                if not df.empty and modelo in df['modelo'].unique() and metrica in df.columns:\n",
    "                    x_vals.append(tamanho)\n",
    "                    y_vals.append(df[df['modelo'] == modelo][metrica].mean())\n",
    "            \n",
    "            # Ordenar por tamanho (para garantir que a linha seja traçada corretamente)\n",
    "            pontos = sorted(zip(x_vals, y_vals))\n",
    "            if pontos:\n",
    "                x_vals, y_vals = zip(*pontos)\n",
    "                fig_escala.add_trace(go.Scatter(\n",
    "                    x=x_vals, \n",
    "                    y=y_vals, \n",
    "                    mode='lines+markers', \n",
    "                    name=modelo\n",
    "                ))\n",
    "        \n",
    "        fig_escala.update_layout(\n",
    "            title=f'Escalabilidade: {titulo} por Tamanho da Base',\n",
    "            xaxis_title='Número de Ficheiros',\n",
    "            yaxis_title=titulo,\n",
    "            hovermode='closest'\n",
    "        )\n",
    "        \n",
    "        # Adicionar à aba\n",
    "        out = widgets.Output()\n",
    "        with out:\n",
    "            display(fig_escala)\n",
    "        children_escala.append(out)\n",
    "    \n",
    "    # Criar widget de abas para os gráficos de escalabilidade\n",
    "    escalabilidade_tab = widgets.Tab(children=children_escala)\n",
    "    for i in range(len(tab_contents_escala)):\n",
    "        escalabilidade_tab.set_title(i, tab_contents_escala[i])\n",
    "    \n",
    "    display(escalabilidade_tab)\n",
    "    \n",
    "    # 2. Comparação de rankings entre benchmarks\n",
    "    print(\"\\n## Evolução dos Rankings com a Escala\")\n",
    "    \n",
    "    # Extrair rankings para cada tamanho\n",
    "    rankings_por_tamanho = {}\n",
    "    for tamanho, df in benchmarks.items():\n",
    "        if not df.empty:\n",
    "            # Usar algoritmo de ranking simplificado\n",
    "            rankings = {}\n",
    "            for modelo in df['modelo'].unique():\n",
    "                # Cálculo do ranking (simplificado)\n",
    "                metricas = {\n",
    "                    'tempo_extracao': df[df['modelo'] == modelo]['tempo_extracao'].mean(),\n",
    "                    'memoria_peak_mb': df[df['modelo'] == modelo]['memoria_peak_mb'].mean() if 'memoria_peak_mb' in df.columns else None,\n",
    "                    'cpu_percent_after': df[df['modelo'] == modelo]['cpu_percent_after'].mean() if 'cpu_percent_after' in df.columns else None,\n",
    "                    'tempo_insercao': df[df['modelo'] == modelo]['tempo_insercao'].mean() if 'tempo_insercao' in df.columns else None\n",
    "                }\n",
    "                # Pontuação simples (quanto menor, melhor)\n",
    "                pontuacao = sum(v for v in metricas.values() if v is not None) \n",
    "                rankings[modelo] = pontuacao\n",
    "            \n",
    "            # Ordenar do melhor para o pior\n",
    "            rankings_ordenados = {k: v for k, v in sorted(rankings.items(), key=lambda item: item[1])}\n",
    "            rankings_por_tamanho[tamanho] = rankings_ordenados\n",
    "    \n",
    "    # Visualizar como os rankings mudam\n",
    "    # Visualizar como os rankings mudam\n",
    "if rankings_por_tamanho:\n",
    "    # Criar tabela de evolução de posições\n",
    "    modelos = set()\n",
    "    for r in rankings_por_tamanho.values():\n",
    "        modelos.update(r.keys())\n",
    "    \n",
    "    # Convert set to list for pandas DataFrame index\n",
    "    modelos = sorted(list(modelos))\n",
    "    \n",
    "    tabela_posicoes = pd.DataFrame(index=modelos)\n",
    "    \n",
    "    for tamanho, ranking in sorted(rankings_por_tamanho.items()):\n",
    "        # Converte o ranking em posições (1º, 2º, 3º...)\n",
    "        posicoes = {modelo: pos+1 for pos, modelo in enumerate(ranking.keys())}\n",
    "        tabela_posicoes[f'{tamanho} ficheiros'] = pd.Series(posicoes)\n",
    "        \n",
    "        # Mostrar tabela colorida\n",
    "        fig_ranking = go.Figure(data=[go.Table(\n",
    "            header=dict(\n",
    "                values=['Modelo'] + [f'{t} ficheiros' for t in sorted(rankings_por_tamanho.keys())],\n",
    "                fill_color='royalblue',\n",
    "                font=dict(color='white', size=12),\n",
    "                align='center'\n",
    "            ),\n",
    "            cells=dict(\n",
    "                values=[tabela_posicoes.index] + [tabela_posicoes[col] for col in tabela_posicoes.columns],\n",
    "                fill_color='lightcyan',\n",
    "                align='center'\n",
    "            )\n",
    "        )])\n",
    "        \n",
    "        fig_ranking.update_layout(\n",
    "            title=\"Evolução das Posições no Ranking por Escala\",\n",
    "            height=400,\n",
    "            margin=dict(l=20, r=20, t=50, b=20)\n",
    "        )\n",
    "        \n",
    "        display(fig_ranking)\n",
    "        \n",
    "        # Heatmap de estabilidade do ranking\n",
    "        heatmap_data = tabela_posicoes.copy()\n",
    "        \n",
    "        # Normalizar valores para visualização (posição 1 = melhor = 1.0, posições piores = valores menores)\n",
    "        for col in heatmap_data.columns:\n",
    "            max_pos = heatmap_data[col].max()\n",
    "            if pd.notna(max_pos) and max_pos > 1:\n",
    "                heatmap_data[col] = 1 - (heatmap_data[col] - 1) / max_pos\n",
    "        \n",
    "        fig_heatmap = px.imshow(\n",
    "            heatmap_data,\n",
    "            labels=dict(x=\"Tamanho do Benchmark\", y=\"Modelo\", color=\"Posição Relativa\"),\n",
    "            x=heatmap_data.columns,\n",
    "            y=heatmap_data.index,\n",
    "            color_continuous_scale='viridis',\n",
    "            title=\"Estabilidade dos Rankings com Escala\"\n",
    "        )\n",
    "        \n",
    "        display(fig_heatmap)\n",
    "        \n",
    "        # Análise de eficiência com escala\n",
    "        print(\"\\n## Eficiência com Escala\")\n",
    "        print(\"Esta análise mostra quais modelos mantêm bom desempenho mesmo com grandes volumes de dados:\")\n",
    "        \n",
    "        # Calcular a tendência de cada modelo em tempo de extração com aumento da escala\n",
    "        slopes = {}\n",
    "        for modelo in modelos:\n",
    "            x_vals = []\n",
    "            y_vals = []\n",
    "            for tamanho, df in benchmarks.items():\n",
    "                if not df.empty and modelo in df['modelo'].unique() and 'tempo_extracao' in df.columns:\n",
    "                    x_vals.append(tamanho)\n",
    "                    y_vals.append(df[df['modelo'] == modelo]['tempo_extracao'].mean())\n",
    "            \n",
    "            if len(x_vals) >= 2:\n",
    "                # Calcular tendência (aproximação simples)\n",
    "                if max(x_vals) > min(x_vals):\n",
    "                    slope = (max(y_vals) - min(y_vals)) / (max(x_vals) - min(x_vals))\n",
    "                    slopes[modelo] = slope\n",
    "        \n",
    "        if slopes:\n",
    "            slopes_df = pd.DataFrame({\n",
    "                'Modelo': list(slopes.keys()),\n",
    "                'Taxa de Crescimento': list(slopes.values())\n",
    "            })\n",
    "            \n",
    "            slopes_df = slopes_df.sort_values('Taxa de Crescimento')\n",
    "            \n",
    "            fig_slopes = px.bar(\n",
    "                slopes_df, \n",
    "                x='Modelo', \n",
    "                y='Taxa de Crescimento',\n",
    "                title='Taxa de Crescimento do Tempo com Aumento da Base',\n",
    "                color='Taxa de Crescimento',\n",
    "                color_continuous_scale='RdYlGn_r'  # Vermelho = pior, Verde = melhor\n",
    "            )\n",
    "            \n",
    "            display(fig_slopes)\n",
    "            \n",
    "            print(\"\\nModelos com menor taxa de crescimento são mais escaláveis, pois seu tempo de processamento\")\n",
    "            print(\"aumenta mais lentamente com o crescimento do volume de dados.\")\n",
    "            \n",
    "            # Adicionar interpretação dos resultados\n",
    "            melhor_modelo = slopes_df.iloc[0]['Modelo']\n",
    "            pior_modelo = slopes_df.iloc[-1]['Modelo']\n",
    "            \n",
    "            print(f\"\\n### Interpretação dos Resultados de Escalabilidade\")\n",
    "            print(f\"- **{melhor_modelo}** demonstra a melhor escalabilidade, com menor taxa de crescimento de tempo.\")\n",
    "            print(f\"- **{pior_modelo}** apresenta a escalabilidade mais desafiadora, com maior aumento de tempo conforme o volume de dados cresce.\")\n",
    "            print(\"\\nEscolha o modelo considerando não apenas o desempenho atual, mas também a projeção futura do volume de dados.\")"
   ]
  },
  {
   "cell_type": "markdown",
   "metadata": {},
   "source": [
    "Benefícios desta Abordagem\n",
    "Análise de Escalabilidade: Mostra como cada modelo se comporta à medida que o número de arquivos aumenta\n",
    "\n",
    "Evolução dos Rankings: Permite ver se os modelos que são melhores em conjuntos pequenos mantêm sua posição com conjuntos maiores\n",
    "\n",
    "Estabilidade de Desempenho: O heatmap visualiza quais modelos são mais consistentes em diferentes escalas\n",
    "\n",
    "Análise de Eficiência: Identifica quais modelos têm melhor \"crescimento\" de tempo/recursos, indicando escalabilidade\n",
    "\n",
    "Interface Interativa: Permite alternar facilmente entre diferentes tamanhos de benchmark\n",
    "\n",
    "Interpretação dos Resultados\n",
    "Taxa de Crescimento: Modelos com menor taxa indicam melhor escalabilidade\n",
    "Estabilidade do Ranking: Modelos que mantêm cores consistentes no heatmap são mais previsíveis em diferentes escalas\n",
    "Evolução das Métricas: Os gráficos de linha mostram se o crescimento é linear, exponencial ou irregular\n",
    "Esta análise permitirá determinar qual modelo é mais adequado não apenas para o tamanho atual da sua base, mas também para o crescimento futuro, facilitando decisões estratégicas sobre qual embedding adotar em produção."
   ]
  },
  {
   "cell_type": "markdown",
   "metadata": {},
   "source": [
    "## 📈 Análise de Escalabilidade dos Modelos\n",
    "\n",
    "Com base nas imagens dos gráficos de escalabilidade, realizamos uma análise detalhada do comportamento dos modelos face ao aumento do número de ficheiros (5, 25, 50, 100, 250). As principais métricas observadas foram: tempo médio de extração, tempo médio de inserção, pico médio de memória e uso médio de CPU.\n",
    "\n",
    "---\n",
    "\n",
    "### 🔹 1. Tempo Médio de Extração\n",
    "\n",
    "- **openl3** apresenta claramente o pior desempenho nesta métrica, com tempo médio de extração que cresce significativamente com o número de ficheiros, atingindo mais de 45 segundos com 250 ficheiros.\n",
    "- Todos os outros modelos mantêm tempos baixos e relativamente estáveis, com destaque para **yamnet**, que se mantém consistentemente abaixo de 1 segundo.\n",
    "- **Conclusão**: *yamnet* e *vggish* demonstram excelente escalabilidade nesta métrica.\n",
    "\n",
    "---\n",
    "\n",
    "### 🔹 2. Tempo Médio de Inserção\n",
    "\n",
    "- A maior parte dos modelos tem curvas suaves e estáveis, com tempos de inserção abaixo de 0.2s.\n",
    "- **openl3** volta a destacar-se negativamente, com um aumento notável à medida que a base cresce.\n",
    "- **clap** e **yamnet** mantêm tempos de inserção baixos e consistentes — ideal para bases vetoriais dinâmicas.\n",
    "\n",
    "---\n",
    "\n",
    "### 🔹 3. Pico Médio de Memória RAM\n",
    "\n",
    "- Todos os modelos mostram comportamento muito estável em termos de uso de memória, independentemente da escala.\n",
    "- Mesmo **openl3**, que teve mau desempenho noutras métricas, mantém uso de RAM relativamente constante.\n",
    "- **yamnet** apresenta um dos menores picos médios de memória, o que reforça sua eficiência.\n",
    "\n",
    "---\n",
    "\n",
    "### 🔹 4. Uso Médio de CPU\n",
    "\n",
    "- **openl3** mantém o uso de CPU consistentemente elevado (acima dos 90%), sugerindo uma alta carga de processamento.\n",
    "- **yamnet**, por contraste, opera com uso de CPU bastante baixo e estável (~25%), o que é altamente desejável em ambientes de produção.\n",
    "- **clap** e **ast** apresentam variações suaves, indicando bom controlo da carga mesmo com bases maiores.\n",
    "\n",
    "---\n",
    "\n",
    "### 🧠 Padrões Observados\n",
    "\n",
    "| Modelo     | Tempo Extração | Inserção | RAM | CPU | Escalabilidade Geral |\n",
    "|------------|----------------|----------|-----|-----|------------------------|\n",
    "| **yamnet** | Excelente       | Muito boa | Baixa | Baixíssima | ⭐ Melhor |\n",
    "| clap       | Boa            | Boa       | Baixa | Moderada | Boa |\n",
    "| vggish     | Boa            | Excelente | Baixa | Alta     | Boa |\n",
    "| wav2vec2   | Média          | Média     | Baixa | Alta     | Razoável |\n",
    "| ast        | Média          | Média     | Baixa | Média    | Razoável |\n",
    "| **openl3** | Fraca          | Fraca     | Constante mas alta | Altíssima | ❌ Fraca |\n",
    "\n",
    "---\n",
    "\n",
    "### ✅ Conclusão\n",
    "\n",
    "A partir da análise de escalabilidade:\n",
    "\n",
    "- **Yamnet** é o modelo com melhor comportamento geral. Combina baixo tempo de extração, baixo uso de CPU, baixo uso de memória e boa estabilidade com o aumento do volume de dados.\n",
    "- **Openl3** mostra-se ineficiente e pouco escalável: é o único modelo que degrada visivelmente com a escala, sendo o menos recomendado.\n",
    "- Outros modelos como **clap** e **vggish** apresentam desempenho sólido, mas com maiores exigências de CPU ou menos estabilidade com crescimento da base.\n",
    "\n",
    "> Esta análise reforça a importância de não apenas olhar para a performance bruta de um modelo, mas sim para o seu comportamento em larga escala — fundamental em aplicações reais com milhares de ficheiros de áudio.\n"
   ]
  },
  {
   "cell_type": "markdown",
   "metadata": {},
   "source": [
    "### Visualização dos Embeddings no Espaço\n",
    "\n",
    "Para melhor compreender como os diferentes ficheiros de áudio são representados no espaço vetorial por cada modelo, utilizámos uma técnica de redução de dimensionalidade chamada **t-SNE (t-Distributed Stochastic Neighbor Embedding)**. Esta técnica permite transformar os embeddings de alta dimensão (por exemplo, 768 ou 1024 dimensões) em dois eixos principais, possibilitando a visualização num gráfico 2D.\n",
    "\n",
    "---\n",
    "\n",
    "#### 🧠 O que significa a visualização?\n",
    "\n",
    "- **Pontos próximos** no gráfico indicam que os ficheiros de áudio correspondentes geraram embeddings semelhantes.\n",
    "  - Isto pode significar que o modelo está a conseguir **captar padrões semelhantes** entre áudios que partilham características comuns (por exemplo, o mesmo género musical, tipo de voz ou ambiente).\n",
    "  \n",
    "- **Pontos afastados** indicam que os ficheiros foram considerados diferentes pelo modelo, ou seja, os seus embeddings têm **baixa similaridade**.\n",
    "  - Isso é esperado entre ficheiros com conteúdo muito distinto (ex: música vs. fala).\n",
    "\n",
    "---\n",
    "\n",
    "#### 🔍 Como foi feito?\n",
    "\n",
    "```python\n",
    "modelo_tsne = 'wav2vec2'\n",
    "subset = df[df['modelo'] == modelo_tsne]\n"
   ]
  },
  {
   "cell_type": "code",
   "execution_count": 10,
   "metadata": {},
   "outputs": [
    {
     "data": {
      "application/vnd.plotly.v1+json": {
       "config": {
        "plotlyServerURL": "https://plot.ly"
       },
       "data": [
        {
         "hovertemplate": "x=%{x}<br>y=%{y}<br>text=%{text}<extra></extra>",
         "legendgroup": "",
         "marker": {
          "color": "#636efa",
          "symbol": "circle"
         },
         "mode": "markers+text",
         "name": "",
         "orientation": "v",
         "showlegend": false,
         "text": [
          "037119.mp3",
          "037131.mp3",
          "072135.mp3",
          "010983.mp3",
          "010808.mp3",
          "072069.mp3",
          "072928.mp3",
          "017632.mp3",
          "010439.mp3",
          "010438.mp3",
          "010376.mp3",
          "037911.mp3",
          "017633.mp3",
          "072068.mp3",
          "010809.mp3",
          "072134.mp3",
          "037859.mp3",
          "092573.mp3",
          "092565.mp3",
          "072136.mp3",
          "037324.mp3",
          "092954.mp3",
          "072056.mp3",
          "017631.mp3",
          "010374.mp3",
          "041310.mp3",
          "037325.mp3",
          "092955.mp3",
          "041714.mp3",
          "092564.mp3",
          "092548.mp3",
          "092574.mp3",
          "092206.mp3",
          "092951.mp3",
          "072047.mp3",
          "017634.mp3",
          "017608.mp3",
          "037731.mp3",
          "037725.mp3",
          "017344.mp3",
          "092366.mp3",
          "072287.mp3",
          "017345.mp3",
          "037730.mp3",
          "017609.mp3",
          "017635.mp3",
          "072046.mp3",
          "017782.mp3",
          "092950.mp3",
          "092561.mp3",
          "092549.mp3",
          "072456.mp3",
          "037136.mp3",
          "072468.mp3",
          "092952.mp3",
          "072130.mp3",
          "010992.mp3",
          "072050.mp3",
          "017637.mp3",
          "072290.mp3",
          "037041.mp3",
          "037727.mp3",
          "017636.mp3",
          "010993.mp3",
          "072131.mp3",
          "092953.mp3",
          "092947.mp3",
          "092562.mp3",
          "037121.mp3",
          "092539.mp3",
          "092868.mp3",
          "072787.mp3",
          "010670.mp3",
          "092129.mp3",
          "072234.mp3",
          "017491.mp3",
          "017644.mp3",
          "010671.mp3",
          "072786.mp3",
          "037423.mp3",
          "092538.mp3",
          "037147.mp3",
          "010698.mp3",
          "010673.mp3",
          "072790.mp3",
          "072784.mp3",
          "041825.mp3",
          "041819.mp3",
          "092466.mp3",
          "037781.mp3",
          "010458.mp3",
          "092881.mp3",
          "072785.mp3",
          "010672.mp3",
          "010699.mp3",
          "092275.mp3",
          "102114.mp3",
          "041983.mp3",
          "092885.mp3",
          "010676.mp3",
          "072781.mp3",
          "017496.mp3",
          "072232.mp3",
          "041820.mp3",
          "037784.mp3",
          "072233.mp3",
          "010677.mp3",
          "037592.mp3",
          "041570.mp3",
          "037141.mp3",
          "037369.mp3",
          "017132.mp3",
          "092886.mp3",
          "072782.mp3",
          "010675.mp3",
          "037779.mp3",
          "041605.mp3",
          "010674.mp3",
          "072783.mp3",
          "092887.mp3",
          "092878.mp3",
          "041573.mp3",
          "017735.mp3",
          "072146.mp3",
          "037368.mp3",
          "017906.mp3",
          "102112.mp3",
          "010527.mp3",
          "072605.mp3",
          "037417.mp3",
          "010679.mp3",
          "017499.mp3",
          "072215.mp3",
          "041191.mp3",
          "041147.mp3",
          "010485.mp3",
          "041812.mp3",
          "072200.mp3",
          "010678.mp3",
          "092874.mp3",
          "010693.mp3",
          "037416.mp3",
          "072604.mp3",
          "092282.mp3",
          "041019.mp3",
          "072612.mp3",
          "092889.mp3",
          "072570.mp3",
          "041192.mp3",
          "072565.mp3",
          "092888.mp3",
          "010684.mp3",
          "041568.mp3",
          "072149.mp3",
          "072607.mp3",
          "041018.mp3",
          "041965.mp3",
          "092283.mp3",
          "041971.mp3",
          "041961.mp3",
          "041020.mp3",
          "017500.mp3",
          "092536.mp3",
          "010521.mp3",
          "010535.mp3",
          "041381.mp3",
          "092873.mp3",
          "010694.mp3",
          "072788.mp3",
          "102092.mp3",
          "010441.mp3",
          "010440.mp3",
          "072206.mp3",
          "072789.mp3",
          "010695.mp3",
          "092872.mp3",
          "092292.mp3",
          "041962.mp3",
          "092284.mp3",
          "092535.mp3",
          "010697.mp3",
          "092131.mp3",
          "092125.mp3",
          "010481.mp3",
          "072562.mp3",
          "072210.mp3",
          "010443.mp3",
          "017462.mp3",
          "010480.mp3",
          "017884.mp3",
          "092124.mp3",
          "092130.mp3",
          "010669.mp3",
          "010696.mp3",
          "010682.mp3",
          "092508.mp3",
          "072074.mp3",
          "017607.mp3",
          "010381.mp3",
          "072289.mp3",
          "072288.mp3",
          "017606.mp3",
          "072075.mp3",
          "072129.mp3",
          "092546.mp3",
          "037111.mp3",
          "037113.mp3",
          "092949.mp3",
          "017610.mp3",
          "072513.mp3",
          "010383.mp3",
          "017611.mp3",
          "017605.mp3",
          "072738.mp3",
          "072076.mp3",
          "092948.mp3",
          "017573.mp3",
          "041709.mp3",
          "092551.mp3",
          "102195.mp3",
          "017588.mp3",
          "072476.mp3",
          "010807.mp3",
          "072072.mp3",
          "072927.mp3",
          "010386.mp3",
          "072926.mp3",
          "072067.mp3",
          "072073.mp3",
          "010806.mp3",
          "092540.mp3",
          "092554.mp3",
          "072477.mp3",
          "041095.mp3",
          "041054.mp3",
          "092556.mp3",
          "072059.mp3",
          "010810.mp3",
          "010186.mp3",
          "072071.mp3",
          "072930.mp3",
          "037920.mp3",
          "010435.mp3",
          "072514.mp3",
          "010385.mp3",
          "072070.mp3",
          "037538.mp3",
          "072064.mp3",
          "072058.mp3",
          "010805.mp3"
         ],
         "type": "scatter",
         "x": {
          "bdata": "5PzsQKSeIsFKqF/BUFKMQcDA5MDWbdTA6H0zQQV3AEGnPIFBbJjTQCpZ/cAJSZBAwT/OwIDxB0BQGxk/QgcgwMWrbMHIOi5BYsINwZyCF8ChGGHABQKxQMnpUcBPtdm/2+CSwGURaEH6wCnA5AIQwc8+QkE5gGNBVSXQPjYvI8FXTIs/GzmKQDnnesAuiAVBG2a8QMgmAMD+IW1B1NgnwfaMcsENK5LAqPlvwY/xkT7yNpHArTODwPaSOMFcgk7AOZ4SQeaPzD1hIKPAxtciwYtoUMCXMk+/pbkGQYDsD8CpmwVBwMtrPqruiMAwLiJBVz5xQWvIKcEiHqTAFM1tQQ3qy7+cwbBA/hB9wWQd+D8wIzXBPbQlP//Y0MD53HLANT8XQVPUg0FV9KA/+23vOwnd4L9M8+rA3XQLQNMe1L/XB6/A7CiAv8Nx7b/RwjDA1CdBwXw2vL/RkkPBmf+FQJtWlkC+aQxBbnHAQI2bW0H/Z8s/ka7+Pk26EkEswFXB2xeCwENzJ8ELDn5Bc5/yQLiuLsFfGyzA8Vc5wTTGVcFOD4xB7KjlvwuR+ED9Xg5BEQOkwLamysCKWj/BF5MTwSA8uECQUAhA2WNXQan1+cDFE0VAqjfmv44s2j9HL7ZA46ITwCb7fUET5EZBij8hwd57aL9OfRHAj0ECwMz0BMGBTQJAqNTHwII8FUEhdKHAECsUwbdFZEGPpZG/v8BXQaf/68DHfXFAiJPbQE1sZEHCzH+/0N8EvzcyuUB5ux7BAovmv/Ama7+9l31BytHPvzMbV0EPxgu/fupzQTDj5UBbnirBmlocwSz55D1NXT0+iHDqvhHr98BwbQrA5b+kv+1qFsACx52/ogIkwQfERcGheiPBegkeQET2DUEn3w3B+qLbv2PrVz+cXJLAK5zfQJs6NL+XtCHA2k8vwRb9x0DgKOzAHXOwQDIKP8FcUNjA+SvOwKN9KMFlJS5BEjhWQTSVC0AsYh/BlQoGQevNRcBel0NBnbdQwefLM0BH7FVAtVgpwfxnhb/UsxVB0yUoQVITTb/EER7B8vCNQXdBEUGFELy/nsNEv5mf8cCOojTAh3jaQBx/M8FY+0BBTICPwOuRR0AQ9eDACwUpQcIcVcHRrY7AxW6YQJ5Az8ALUGzBmT6BQb2568BBdqFA9wU3QQl53EBWkM7Ah638v202u8AAlYdBJ507QY4/iUEH9u6+Vup3vkMyybulKp3AYs7CQO67b0DsGYNB+xfHQCYdsT/a3E9BSYInPx9Ve8A9al1AZxWIQQvGVUHSNiHA3/UIwWqz1kA2M8zA4RgGQTkb/z/CMDPBdpSYwA==",
          "dtype": "f4"
         },
         "xaxis": "x",
         "y": {
          "bdata": "RNKLQM0ZOz9Fe6E/IlC0QCyvEcA1sTzBzPsDQEtV00AmFMVAb1dFQYPmr7+lT0dAbW65QDkZIsHSGszA9XXOP3yaDkCOrgNBI+7+P5o8SsGmoYzAdnOaP9+SgEDVneM9er5QvzCHsT8RpLK+RuypQNL4fEDpQgQ/4+SWwHk38UCJKAHBhAIiQT4Vz8D9K+NA/gIlQU/O1UCuLX1Aocagv7m/8T+Dgto+oWQ4P2qR4UDaujDBFnJMQLIcrsC9s0jB9V4LQW3FO8Dm/Py/tiCuQPVyU8BGENPAXVppQJlBPsGFvdFAjNLhwIPbh8Cc6rVA3v5aQPXa9j+/aLDANHXuP60RR8F4UC9BInwdQG6+t7+ngIrAug0mQK4loEAKpBdA5V4fQEe2zECc6TLATes9wbwcC8GmAJhA5QquwGJCYcHOV9fA8A6sQHOTYD+3vB9AUtqIwMX/3cDnJ2FACa+dwPuRzsAY27dALln4QNYJyED4B63AzrYZwcAtLUHGaD5ArK3CQOlg90BGU+E/PpUmQR8BmMBT26u/pJ2YQEzqBUAlFfI/nWi6PwB+mkBHCxpAkeYGwRaaE8HAYHq/KNr1wLH8FUF4kBjBGiRMQHKGzUBnyCLBtZ5SwLi0RMGwLOo/a8X/v4tunUBUEilArpLKQGwWZL7mUyfB0K4Swew4SMAo4mDAcSw8wOqS8EDL5UrAxAVZQI1Wu78sS2/AfjejQHwQicC7fbtAhzsOQUC1CEDaCwLBoGFEwQLx90D/lodAVQsrwWv+gz6iCos/Y6Hvv/APxEAlF3i/ugIkQNhbGUH3esfAo20bP24yUr8x7TTBbubSQA/HXj4fDbxAYsVJQGI0MsGkzDXBDPXNwMPYnsAwipu/ri7iwEF4HkHNwIbAODG7wKZkcD91bLc/iGQ6QTLMtcALHsjAYyBRQI1JiECVSvLAjDi1QCCI6z90+xnBfHc3wfIUfj3f83NAX52UQOFqOsDO7YFA4P39QPUZVcCdhttARtkNQJKkjkADhK1AdcFpQPK90ECAZylBFwLXQIh4E8GjhAPBTbzEQLi2mUD4H8VASrMmwVBlGsExcgLBF5q2PmKcD7/eMJdAxISEPsvvL0Ay3llArCIbQbgZpMDhIg7BfR+FwIIXoz2OjY8/37AUQD7Dr0BOsgzBQniZQOuDAUFcuMHAVe5YQNm8MEDJXXFAeJ3dQES0jUA8lfq/FVEPwYeo/sCkg+3AglYMP+OV08A6QYpAUA9PQB1DtL9i4AVAtgMuwBILGsHPeKrASiCfPplH9EDDbBnBRdZ0QO5uwUCexuk/Q6ssQYXs5cCcoaXAJ+vNwA==",
          "dtype": "f4"
         },
         "yaxis": "y"
        }
       ],
       "layout": {
        "legend": {
         "tracegroupgap": 0
        },
        "template": {
         "data": {
          "bar": [
           {
            "error_x": {
             "color": "#2a3f5f"
            },
            "error_y": {
             "color": "#2a3f5f"
            },
            "marker": {
             "line": {
              "color": "#E5ECF6",
              "width": 0.5
             },
             "pattern": {
              "fillmode": "overlay",
              "size": 10,
              "solidity": 0.2
             }
            },
            "type": "bar"
           }
          ],
          "barpolar": [
           {
            "marker": {
             "line": {
              "color": "#E5ECF6",
              "width": 0.5
             },
             "pattern": {
              "fillmode": "overlay",
              "size": 10,
              "solidity": 0.2
             }
            },
            "type": "barpolar"
           }
          ],
          "carpet": [
           {
            "aaxis": {
             "endlinecolor": "#2a3f5f",
             "gridcolor": "white",
             "linecolor": "white",
             "minorgridcolor": "white",
             "startlinecolor": "#2a3f5f"
            },
            "baxis": {
             "endlinecolor": "#2a3f5f",
             "gridcolor": "white",
             "linecolor": "white",
             "minorgridcolor": "white",
             "startlinecolor": "#2a3f5f"
            },
            "type": "carpet"
           }
          ],
          "choropleth": [
           {
            "colorbar": {
             "outlinewidth": 0,
             "ticks": ""
            },
            "type": "choropleth"
           }
          ],
          "contour": [
           {
            "colorbar": {
             "outlinewidth": 0,
             "ticks": ""
            },
            "colorscale": [
             [
              0,
              "#0d0887"
             ],
             [
              0.1111111111111111,
              "#46039f"
             ],
             [
              0.2222222222222222,
              "#7201a8"
             ],
             [
              0.3333333333333333,
              "#9c179e"
             ],
             [
              0.4444444444444444,
              "#bd3786"
             ],
             [
              0.5555555555555556,
              "#d8576b"
             ],
             [
              0.6666666666666666,
              "#ed7953"
             ],
             [
              0.7777777777777778,
              "#fb9f3a"
             ],
             [
              0.8888888888888888,
              "#fdca26"
             ],
             [
              1,
              "#f0f921"
             ]
            ],
            "type": "contour"
           }
          ],
          "contourcarpet": [
           {
            "colorbar": {
             "outlinewidth": 0,
             "ticks": ""
            },
            "type": "contourcarpet"
           }
          ],
          "heatmap": [
           {
            "colorbar": {
             "outlinewidth": 0,
             "ticks": ""
            },
            "colorscale": [
             [
              0,
              "#0d0887"
             ],
             [
              0.1111111111111111,
              "#46039f"
             ],
             [
              0.2222222222222222,
              "#7201a8"
             ],
             [
              0.3333333333333333,
              "#9c179e"
             ],
             [
              0.4444444444444444,
              "#bd3786"
             ],
             [
              0.5555555555555556,
              "#d8576b"
             ],
             [
              0.6666666666666666,
              "#ed7953"
             ],
             [
              0.7777777777777778,
              "#fb9f3a"
             ],
             [
              0.8888888888888888,
              "#fdca26"
             ],
             [
              1,
              "#f0f921"
             ]
            ],
            "type": "heatmap"
           }
          ],
          "histogram": [
           {
            "marker": {
             "pattern": {
              "fillmode": "overlay",
              "size": 10,
              "solidity": 0.2
             }
            },
            "type": "histogram"
           }
          ],
          "histogram2d": [
           {
            "colorbar": {
             "outlinewidth": 0,
             "ticks": ""
            },
            "colorscale": [
             [
              0,
              "#0d0887"
             ],
             [
              0.1111111111111111,
              "#46039f"
             ],
             [
              0.2222222222222222,
              "#7201a8"
             ],
             [
              0.3333333333333333,
              "#9c179e"
             ],
             [
              0.4444444444444444,
              "#bd3786"
             ],
             [
              0.5555555555555556,
              "#d8576b"
             ],
             [
              0.6666666666666666,
              "#ed7953"
             ],
             [
              0.7777777777777778,
              "#fb9f3a"
             ],
             [
              0.8888888888888888,
              "#fdca26"
             ],
             [
              1,
              "#f0f921"
             ]
            ],
            "type": "histogram2d"
           }
          ],
          "histogram2dcontour": [
           {
            "colorbar": {
             "outlinewidth": 0,
             "ticks": ""
            },
            "colorscale": [
             [
              0,
              "#0d0887"
             ],
             [
              0.1111111111111111,
              "#46039f"
             ],
             [
              0.2222222222222222,
              "#7201a8"
             ],
             [
              0.3333333333333333,
              "#9c179e"
             ],
             [
              0.4444444444444444,
              "#bd3786"
             ],
             [
              0.5555555555555556,
              "#d8576b"
             ],
             [
              0.6666666666666666,
              "#ed7953"
             ],
             [
              0.7777777777777778,
              "#fb9f3a"
             ],
             [
              0.8888888888888888,
              "#fdca26"
             ],
             [
              1,
              "#f0f921"
             ]
            ],
            "type": "histogram2dcontour"
           }
          ],
          "mesh3d": [
           {
            "colorbar": {
             "outlinewidth": 0,
             "ticks": ""
            },
            "type": "mesh3d"
           }
          ],
          "parcoords": [
           {
            "line": {
             "colorbar": {
              "outlinewidth": 0,
              "ticks": ""
             }
            },
            "type": "parcoords"
           }
          ],
          "pie": [
           {
            "automargin": true,
            "type": "pie"
           }
          ],
          "scatter": [
           {
            "fillpattern": {
             "fillmode": "overlay",
             "size": 10,
             "solidity": 0.2
            },
            "type": "scatter"
           }
          ],
          "scatter3d": [
           {
            "line": {
             "colorbar": {
              "outlinewidth": 0,
              "ticks": ""
             }
            },
            "marker": {
             "colorbar": {
              "outlinewidth": 0,
              "ticks": ""
             }
            },
            "type": "scatter3d"
           }
          ],
          "scattercarpet": [
           {
            "marker": {
             "colorbar": {
              "outlinewidth": 0,
              "ticks": ""
             }
            },
            "type": "scattercarpet"
           }
          ],
          "scattergeo": [
           {
            "marker": {
             "colorbar": {
              "outlinewidth": 0,
              "ticks": ""
             }
            },
            "type": "scattergeo"
           }
          ],
          "scattergl": [
           {
            "marker": {
             "colorbar": {
              "outlinewidth": 0,
              "ticks": ""
             }
            },
            "type": "scattergl"
           }
          ],
          "scattermap": [
           {
            "marker": {
             "colorbar": {
              "outlinewidth": 0,
              "ticks": ""
             }
            },
            "type": "scattermap"
           }
          ],
          "scattermapbox": [
           {
            "marker": {
             "colorbar": {
              "outlinewidth": 0,
              "ticks": ""
             }
            },
            "type": "scattermapbox"
           }
          ],
          "scatterpolar": [
           {
            "marker": {
             "colorbar": {
              "outlinewidth": 0,
              "ticks": ""
             }
            },
            "type": "scatterpolar"
           }
          ],
          "scatterpolargl": [
           {
            "marker": {
             "colorbar": {
              "outlinewidth": 0,
              "ticks": ""
             }
            },
            "type": "scatterpolargl"
           }
          ],
          "scatterternary": [
           {
            "marker": {
             "colorbar": {
              "outlinewidth": 0,
              "ticks": ""
             }
            },
            "type": "scatterternary"
           }
          ],
          "surface": [
           {
            "colorbar": {
             "outlinewidth": 0,
             "ticks": ""
            },
            "colorscale": [
             [
              0,
              "#0d0887"
             ],
             [
              0.1111111111111111,
              "#46039f"
             ],
             [
              0.2222222222222222,
              "#7201a8"
             ],
             [
              0.3333333333333333,
              "#9c179e"
             ],
             [
              0.4444444444444444,
              "#bd3786"
             ],
             [
              0.5555555555555556,
              "#d8576b"
             ],
             [
              0.6666666666666666,
              "#ed7953"
             ],
             [
              0.7777777777777778,
              "#fb9f3a"
             ],
             [
              0.8888888888888888,
              "#fdca26"
             ],
             [
              1,
              "#f0f921"
             ]
            ],
            "type": "surface"
           }
          ],
          "table": [
           {
            "cells": {
             "fill": {
              "color": "#EBF0F8"
             },
             "line": {
              "color": "white"
             }
            },
            "header": {
             "fill": {
              "color": "#C8D4E3"
             },
             "line": {
              "color": "white"
             }
            },
            "type": "table"
           }
          ]
         },
         "layout": {
          "annotationdefaults": {
           "arrowcolor": "#2a3f5f",
           "arrowhead": 0,
           "arrowwidth": 1
          },
          "autotypenumbers": "strict",
          "coloraxis": {
           "colorbar": {
            "outlinewidth": 0,
            "ticks": ""
           }
          },
          "colorscale": {
           "diverging": [
            [
             0,
             "#8e0152"
            ],
            [
             0.1,
             "#c51b7d"
            ],
            [
             0.2,
             "#de77ae"
            ],
            [
             0.3,
             "#f1b6da"
            ],
            [
             0.4,
             "#fde0ef"
            ],
            [
             0.5,
             "#f7f7f7"
            ],
            [
             0.6,
             "#e6f5d0"
            ],
            [
             0.7,
             "#b8e186"
            ],
            [
             0.8,
             "#7fbc41"
            ],
            [
             0.9,
             "#4d9221"
            ],
            [
             1,
             "#276419"
            ]
           ],
           "sequential": [
            [
             0,
             "#0d0887"
            ],
            [
             0.1111111111111111,
             "#46039f"
            ],
            [
             0.2222222222222222,
             "#7201a8"
            ],
            [
             0.3333333333333333,
             "#9c179e"
            ],
            [
             0.4444444444444444,
             "#bd3786"
            ],
            [
             0.5555555555555556,
             "#d8576b"
            ],
            [
             0.6666666666666666,
             "#ed7953"
            ],
            [
             0.7777777777777778,
             "#fb9f3a"
            ],
            [
             0.8888888888888888,
             "#fdca26"
            ],
            [
             1,
             "#f0f921"
            ]
           ],
           "sequentialminus": [
            [
             0,
             "#0d0887"
            ],
            [
             0.1111111111111111,
             "#46039f"
            ],
            [
             0.2222222222222222,
             "#7201a8"
            ],
            [
             0.3333333333333333,
             "#9c179e"
            ],
            [
             0.4444444444444444,
             "#bd3786"
            ],
            [
             0.5555555555555556,
             "#d8576b"
            ],
            [
             0.6666666666666666,
             "#ed7953"
            ],
            [
             0.7777777777777778,
             "#fb9f3a"
            ],
            [
             0.8888888888888888,
             "#fdca26"
            ],
            [
             1,
             "#f0f921"
            ]
           ]
          },
          "colorway": [
           "#636efa",
           "#EF553B",
           "#00cc96",
           "#ab63fa",
           "#FFA15A",
           "#19d3f3",
           "#FF6692",
           "#B6E880",
           "#FF97FF",
           "#FECB52"
          ],
          "font": {
           "color": "#2a3f5f"
          },
          "geo": {
           "bgcolor": "white",
           "lakecolor": "white",
           "landcolor": "#E5ECF6",
           "showlakes": true,
           "showland": true,
           "subunitcolor": "white"
          },
          "hoverlabel": {
           "align": "left"
          },
          "hovermode": "closest",
          "mapbox": {
           "style": "light"
          },
          "paper_bgcolor": "white",
          "plot_bgcolor": "#E5ECF6",
          "polar": {
           "angularaxis": {
            "gridcolor": "white",
            "linecolor": "white",
            "ticks": ""
           },
           "bgcolor": "#E5ECF6",
           "radialaxis": {
            "gridcolor": "white",
            "linecolor": "white",
            "ticks": ""
           }
          },
          "scene": {
           "xaxis": {
            "backgroundcolor": "#E5ECF6",
            "gridcolor": "white",
            "gridwidth": 2,
            "linecolor": "white",
            "showbackground": true,
            "ticks": "",
            "zerolinecolor": "white"
           },
           "yaxis": {
            "backgroundcolor": "#E5ECF6",
            "gridcolor": "white",
            "gridwidth": 2,
            "linecolor": "white",
            "showbackground": true,
            "ticks": "",
            "zerolinecolor": "white"
           },
           "zaxis": {
            "backgroundcolor": "#E5ECF6",
            "gridcolor": "white",
            "gridwidth": 2,
            "linecolor": "white",
            "showbackground": true,
            "ticks": "",
            "zerolinecolor": "white"
           }
          },
          "shapedefaults": {
           "line": {
            "color": "#2a3f5f"
           }
          },
          "ternary": {
           "aaxis": {
            "gridcolor": "white",
            "linecolor": "white",
            "ticks": ""
           },
           "baxis": {
            "gridcolor": "white",
            "linecolor": "white",
            "ticks": ""
           },
           "bgcolor": "#E5ECF6",
           "caxis": {
            "gridcolor": "white",
            "linecolor": "white",
            "ticks": ""
           }
          },
          "title": {
           "x": 0.05
          },
          "xaxis": {
           "automargin": true,
           "gridcolor": "white",
           "linecolor": "white",
           "ticks": "",
           "title": {
            "standoff": 15
           },
           "zerolinecolor": "white",
           "zerolinewidth": 2
          },
          "yaxis": {
           "automargin": true,
           "gridcolor": "white",
           "linecolor": "white",
           "ticks": "",
           "title": {
            "standoff": 15
           },
           "zerolinecolor": "white",
           "zerolinewidth": 2
          }
         }
        },
        "title": {
         "text": "t-SNE (wav2vec2)"
        },
        "xaxis": {
         "anchor": "y",
         "domain": [
          0,
          1
         ],
         "title": {
          "text": "x"
         }
        },
        "yaxis": {
         "anchor": "x",
         "domain": [
          0,
          1
         ],
         "title": {
          "text": "y"
         }
        }
       }
      }
     },
     "metadata": {},
     "output_type": "display_data"
    }
   ],
   "source": [
    "# 🧠 Visualização t-SNE com validação\n",
    "modelo_tsne = 'wav2vec2'\n",
    "subset = df[df['modelo'] == modelo_tsne]\n",
    "if len(subset) >= 2:\n",
    "    try:\n",
    "        emb = np.stack(subset['embedding'].values)\n",
    "        tsne = TSNE(n_components=2, random_state=42, perplexity=min(30, len(emb)-1))\n",
    "        emb_2d = tsne.fit_transform(emb)\n",
    "        fig = px.scatter(x=emb_2d[:,0], y=emb_2d[:,1], text=subset['ficheiro'], title=f't-SNE ({modelo_tsne})')\n",
    "        fig.show()\n",
    "    except Exception as e:\n",
    "        print(f'Erro no t-SNE: {e}')\n",
    "else:\n",
    "    print('Dados insuficientes para gerar t-SNE.')"
   ]
  },
  {
   "cell_type": "markdown",
   "metadata": {},
   "source": [
    "### 9️⃣ Pesquisa Vetorial Ad-hoc com Milvus\n",
    "\n",
    "Neste Jupyter Notebook é possível realizar **pesquisas por similaridade** de áudio utilizando embeddings gerados pelos modelos analisados. Esta funcionalidade permite procurar ficheiros semelhantes ao áudio fornecido — seja um ficheiro novo carregado pelo utilizador ou um ficheiro já presente na base de dados.\n",
    "\n",
    "---\n",
    "\n",
    "#### ⚙️ Pré-requisitos\n",
    "\n",
    "Para que a pesquisa funcione corretamente, é necessário que o **servidor Milvus esteja ativo**. Caso contrário, o sistema não conseguirá aceder às coleções de vetores armazenadas.\n",
    "\n",
    "Para levantar o Milvus localmente, recomenda-se o seguinte comando Docker:\n",
    "\n",
    "```bash\n",
    "docker-compose up -d"
   ]
  },
  {
   "cell_type": "markdown",
   "metadata": {},
   "source": [
    "Como funciona a pesquisa\n",
    "Escolha do modelo: O utilizador seleciona qual modelo de embeddings deseja usar para gerar a representação vetorial do áudio.\n",
    "\n",
    "Entrada de áudio:\n",
    "\n",
    "Pode ser feito o upload de um ficheiro .wav, .mp3, .flac, etc.\n",
    "\n",
    "Ou selecionado um ficheiro já existente no dataset.\n",
    "\n",
    "Extração do embedding: Dependendo do modelo, o áudio é processado para gerar o vetor de características.\n",
    "\n",
    "Pesquisa por similaridade: Esse vetor é comparado com todos os vetores presentes na coleção correspondente no Milvus, retornando os ficheiros mais semelhantes com base na distância vetorial.\n",
    "\n",
    "Visualização dos resultados: Os resultados da pesquisa são apresentados numa tabela e num gráfico de barras com as distâncias de similaridade.\n",
    "\n",
    "📌 Observações importantes\n",
    "Por limitações do Jupyter Notebook, os modelos yamnet e vggish podem não funcionar corretamente aqui devido à forma como carregam os módulos do TensorFlow Hub.\n",
    "\n",
    "No entanto, estes modelos funcionam normalmente na aplicação desenvolvida com Streamlit, que oferece maior compatibilidade e desempenho na extração e inferência.\n",
    "\n",
    "✅ Funcionalidades da Interface\n",
    "Upload de ficheiro novo ou seleção de ficheiro existente;\n",
    "\n",
    "Escolha do modelo com lista suspensa interativa;\n",
    "\n",
    "Seleção da coleção do Milvus ou uso automático da coleção padrão por modelo;\n",
    "\n",
    "Visualização dos resultados com distâncias em gráfico interativo.\n",
    "\n",
    "📚 Benefícios desta abordagem\n",
    "Permite testar a eficácia real dos embeddings, na prática, para pesquisa vetorial;\n",
    "\n",
    "Ajuda a entender a capacidade de generalização de cada modelo;\n",
    "\n",
    "Facilita a construção de sistemas de recuperação de informação por áudio com base em embeddings semânticos.\n",
    "\n"
   ]
  },
  {
   "cell_type": "code",
   "execution_count": 11,
   "metadata": {},
   "outputs": [
    {
     "data": {
      "application/vnd.jupyter.widget-view+json": {
       "model_id": "7692558535884fd683cb7efad702661d",
       "version_major": 2,
       "version_minor": 0
      },
      "text/plain": [
       "VBox(children=(HBox(children=(Dropdown(description='Modelo', options=('wav2vec2', 'clap', 'ast', 'vggish', 'ya…"
      ]
     },
     "metadata": {},
     "output_type": "display_data"
    }
   ],
   "source": [
    "# 📤 Pesquisa Ad-hoc (Upload ou Ficheiro da Base de Dados) e funções auxiliares\n",
    "import tempfile\n",
    "import librosa\n",
    "import numpy as np\n",
    "import torch\n",
    "import pandas as pd\n",
    "import plotly.express as px\n",
    "import ast\n",
    "import openl3\n",
    "import io\n",
    "import os\n",
    "\n",
    "# Import transformers models\n",
    "from transformers import (\n",
    "    Wav2Vec2Processor, Wav2Vec2Model,\n",
    "    ClapProcessor, ClapModel,\n",
    "    ASTFeatureExtractor, ASTModel\n",
    ")\n",
    "\n",
    "import tensorflow as tf\n",
    "import tensorflow_hub as hub\n",
    "\n",
    "# Função para extrair embedding de um áudio\n",
    "def extract_embedding(model_name, temp_path):\n",
    "    audio, sr = librosa.load(temp_path, sr=None)\n",
    "    \n",
    "    if model_name == \"wav2vec2\":\n",
    "        processor = Wav2Vec2Processor.from_pretrained(\"facebook/wav2vec2-base-960h\")\n",
    "        model = Wav2Vec2Model.from_pretrained(\"facebook/wav2vec2-base-960h\")\n",
    "        # Resample if needed\n",
    "        if sr != 16000:\n",
    "            audio = librosa.resample(audio, orig_sr=sr, target_sr=16000)\n",
    "        inputs = processor(audio, sampling_rate=16000, return_tensors=\"pt\")\n",
    "        with torch.no_grad():\n",
    "            outputs = model(**inputs)\n",
    "        return outputs.last_hidden_state.mean(dim=1).numpy()[0]\n",
    "    \n",
    "    elif model_name == \"clap\":\n",
    "        processor = ClapProcessor.from_pretrained(\"laion/clap-htsat-unfused\")\n",
    "        model = ClapModel.from_pretrained(\"laion/clap-htsat-unfused\")\n",
    "        # Resample if needed\n",
    "        if sr != 48000:\n",
    "            audio = librosa.resample(audio, orig_sr=sr, target_sr=48000)\n",
    "        inputs = processor(audios=audio, sampling_rate=48000, return_tensors=\"pt\")\n",
    "        with torch.no_grad():\n",
    "            embeddings = model.get_audio_features(**inputs)\n",
    "        return embeddings[0].numpy()\n",
    "    \n",
    "    elif model_name == \"ast\":\n",
    "        fe = ASTFeatureExtractor.from_pretrained(\"MIT/ast-finetuned-audioset-10-10-0.4593\")\n",
    "        model = ASTModel.from_pretrained(\"MIT/ast-finetuned-audioset-10-10-0.4593\")\n",
    "        # Resample if needed\n",
    "        if sr != 16000:\n",
    "            audio = librosa.resample(audio, orig_sr=sr, target_sr=16000)\n",
    "        inputs = fe(audio, sampling_rate=16000, return_tensors=\"pt\")\n",
    "        with torch.no_grad():\n",
    "            outputs = model(**inputs)\n",
    "        return outputs.last_hidden_state.mean(dim=1).numpy()[0]\n",
    "    \n",
    "    elif model_name == \"vggish\":\n",
    "        # Mesmo código usado no Streamlit que funciona\n",
    "        import tensorflow_hub as hub\n",
    "        # Resample para 16kHz conforme exigido pelo VGGish\n",
    "        if sr != 16000:\n",
    "            audio = librosa.resample(audio, orig_sr=sr, target_sr=16000)\n",
    "        # Converter para mono se for estéreo\n",
    "        if len(audio.shape) > 1:\n",
    "            audio = np.mean(audio, axis=1)\n",
    "        # Carregar modelo e obter embedding\n",
    "        vggish_model = hub.load('https://tfhub.dev/google/vggish/1')\n",
    "        embedding = vggish_model(audio).numpy()\n",
    "        # Fazer média se tivermos múltiplos embeddings\n",
    "        if embedding.ndim > 1:\n",
    "            embedding = np.mean(embedding, axis=0)\n",
    "        return embedding\n",
    "    \n",
    "    elif model_name == \"yamnet\":\n",
    "        # Mesmo código usado no Streamlit que funciona\n",
    "        import tensorflow_hub as hub\n",
    "        import tensorflow as tf\n",
    "        # Resample para 16kHz conforme exigido pelo YAMNet\n",
    "        if sr != 16000:\n",
    "            audio = librosa.resample(audio, orig_sr=sr, target_sr=16000)\n",
    "        # Converter para tensor do TensorFlow\n",
    "        waveform = tf.convert_to_tensor(audio, dtype=tf.float32)\n",
    "        # Carregar modelo e obter embedding\n",
    "        yamnet_model = hub.load('https://tfhub.dev/google/yamnet/1')\n",
    "        scores, embeddings, spectrogram = yamnet_model(waveform)\n",
    "        # Fazer média dos embeddings se tivermos múltiplos\n",
    "        embedding = np.mean(embeddings.numpy(), axis=0)\n",
    "        return embedding\n",
    "    \n",
    "    elif model_name == \"openl3\":\n",
    "        audio = np.mean(audio, axis=1) if audio.ndim > 1 else audio\n",
    "        emb, _ = openl3.get_audio_embedding(audio, sr, content_type=\"music\", embedding_size=512)\n",
    "        return emb.mean(axis=0) if emb.ndim > 1 else emb.squeeze()\n",
    "    \n",
    "    else:\n",
    "        raise ValueError(\"Modelo não suportado\")\n",
    "\n",
    "# Função para pesquisa real a partir do banco de dados\n",
    "def real_search_from_db(df, client, modelo_milvus, collection_name, k):\n",
    "    dimensoes_modelos = {\n",
    "        \"ast\": 768, \"clap\": 512, \"yamnet\": 1024,\n",
    "        \"openl3\": 512, \"vggish\": 128, \"wav2vec\": 768, \"wav2vec2\": 768,\n",
    "    }\n",
    "    dim_esperada = dimensoes_modelos.get(modelo_milvus)\n",
    "    if not dim_esperada:\n",
    "        raise ValueError(f\"Dimensão desconhecida para modelo '{modelo_milvus}'\")\n",
    "\n",
    "    ficheiros = df[(df['modelo'] == modelo_milvus) & (df['embedding'].apply(lambda x: len(x) == dim_esperada))]['ficheiro'].tolist()\n",
    "    if not ficheiros:\n",
    "        raise ValueError(f\"Sem ficheiros com dimensão {dim_esperada} para modelo '{modelo_milvus}'\")\n",
    "\n",
    "    row_query = df[(df['modelo'] == modelo_milvus) & (df['ficheiro'] == ficheiros[0])].iloc[0]\n",
    "    embedding_query = row_query['embedding']\n",
    "\n",
    "    result = client.search(\n",
    "        collection_name=collection_name,\n",
    "        data=[embedding_query],\n",
    "        limit=k,\n",
    "        output_fields=[\"id\", \"vector\"]\n",
    "    )\n",
    "    hits = result[0] if result else []\n",
    "    res_df = pd.DataFrame([{\"id\": h.get(\"id\"), \"distance\": h.get(\"distance\")} for h in hits])\n",
    "    return res_df\n",
    "\n",
    "# Interface de usuário\n",
    "upload_widget = widgets.FileUpload(accept='.wav,.mp3,.flac,.ogg', multiple=False)\n",
    "modelo_options = [\"wav2vec2\", \"clap\", \"ast\", \"vggish\", \"yamnet\", \"openl3\"]\n",
    "modelo_widget = widgets.Dropdown(options=modelo_options, description=\"Modelo\")\n",
    "usar_ficheiro_existente = widgets.Checkbox(value=False, description=\"Usar ficheiro do dataset\")\n",
    "ficheiro_select = widgets.Dropdown(description=\"Ficheiro\", options=[])\n",
    "\n",
    "# Widget para seleção de coleção\n",
    "collection_widget = widgets.Dropdown(description=\"Coleção\", options=[])\n",
    "usar_colecao_padrao = widgets.Checkbox(value=True, description=\"Usar coleção padrão\")\n",
    "\n",
    "output = widgets.Output()\n",
    "\n",
    "# Função para atualizar opções de coleção\n",
    "def update_collection_options(*args):\n",
    "    try:\n",
    "        collections = client.list_collections() if client else []\n",
    "        if collections:\n",
    "            collection_widget.options = collections\n",
    "    except Exception as e:\n",
    "        with output:\n",
    "            print(f\"Erro ao atualizar coleções: {e}\")\n",
    "\n",
    "# Função para atualizar opções de arquivo\n",
    "def update_file_options(*args):\n",
    "    if usar_ficheiro_existente.value:\n",
    "        ficheiro_select.options = df[df['modelo'] == modelo_widget.value]['ficheiro'].tolist()\n",
    "        ficheiro_select.layout.display = 'block'\n",
    "    else:\n",
    "        ficheiro_select.layout.display = 'none'\n",
    "        # Exibe aviso para VGGish e YAMNet quando esses modelos são selecionados\n",
    "        modelo_atual = modelo_widget.value\n",
    "\n",
    "# Função para atualizar visibilidade do seletor de coleção\n",
    "def update_collection_visibility(*args):\n",
    "    if usar_colecao_padrao.value:\n",
    "        collection_widget.layout.display = 'none'\n",
    "    else:\n",
    "        collection_widget.layout.display = 'block'\n",
    "        # Atualize as opções quando o widget ficar visível\n",
    "        update_collection_options()\n",
    "\n",
    "def perform_search(b):\n",
    "    with output:\n",
    "        output.clear_output()\n",
    "        try:\n",
    "            query_id = None  # Initialize a variable to track query ID\n",
    "            \n",
    "            if usar_ficheiro_existente.value:\n",
    "                if not ficheiro_select.value:\n",
    "                    print(\"Por favor, selecione um ficheiro do dataset.\")\n",
    "                    return\n",
    "                    \n",
    "                # Usar ficheiro do dataset\n",
    "                row = df[(df['modelo'] == modelo_widget.value) & (df['ficheiro'] == ficheiro_select.value)].iloc[0]\n",
    "                embedding = np.array(row['embedding'])\n",
    "                query_id = row.get('id')  # Get ID if available\n",
    "                print(f\"Usando embedding do ficheiro: {ficheiro_select.value}\")\n",
    "            \n",
    "            else:\n",
    "                # Este bloco estava dentro do if anterior, corrigindo a indentação\n",
    "                if not upload_widget.value:\n",
    "                    print(\"Por favor, carregue um ficheiro de áudio.\")\n",
    "                    return\n",
    "                \n",
    "                # Usar ficheiro carregado\n",
    "                file_content = upload_widget.value[0]['content']\n",
    "                file_bytes = io.BytesIO(file_content)\n",
    "                file_name = upload_widget.value[0]['name']\n",
    "                \n",
    "                with tempfile.NamedTemporaryFile(delete=False, suffix=f\"_{file_name}\") as f:\n",
    "                    f.write(file_bytes.read())\n",
    "                    temp_path = f.name\n",
    "                \n",
    "                print(f\"Extraindo embedding com modelo {modelo_widget.value}...\")\n",
    "                embedding = extract_embedding(modelo_widget.value, temp_path)\n",
    "                os.unlink(temp_path)  # Remove o arquivo temporário\n",
    "            \n",
    "            # Determinar qual coleção usar\n",
    "            if usar_colecao_padrao.value:\n",
    "                collection_name = f\"audio_{modelo_widget.value}\"\n",
    "            else:\n",
    "                collection_name = collection_widget.value\n",
    "                if not collection_name:\n",
    "                    print(\"Por favor, selecione uma coleção.\")\n",
    "                    return\n",
    "            \n",
    "            # Verificar se a coleção existe\n",
    "            if collection_name not in client.list_collections():\n",
    "                print(f\"Coleção {collection_name} não existe no Milvus!\")\n",
    "                return\n",
    "                \n",
    "            print(f\"Pesquisando na coleção {collection_name}...\")\n",
    "            if query_id is not None:\n",
    "                expr = f\"id != {query_id}\"\n",
    "                result = client.search(\n",
    "                    collection_name=collection_name,\n",
    "                    data=[embedding.tolist()],\n",
    "                    limit=6,  # Request one more result than needed\n",
    "                    filter=expr,\n",
    "                    output_fields=['id', 'vector']\n",
    "                )\n",
    "            else:\n",
    "                result = client.search(\n",
    "                    collection_name=collection_name,\n",
    "                    data=[embedding.tolist()],\n",
    "                    limit=6,  # Request one more to account for possible self-match\n",
    "                    output_fields=['id', 'vector']\n",
    "                )\n",
    "            \n",
    "            hits = result[0] if result else []\n",
    "            if not hits:\n",
    "                print(\"Nenhum resultado encontrado.\")\n",
    "                return\n",
    "                \n",
    "            df_res = pd.DataFrame([{'id': h.get('id'), 'distance': h.get('distance')} for h in hits])\n",
    "            display(df_res)\n",
    "            \n",
    "            # Visualização dos resultados\n",
    "            fig = px.bar(df_res, x='id', y='distance', title=f'Resultados da Pesquisa - Coleção: {collection_name}')\n",
    "            fig.show()\n",
    "            \n",
    "        except NotImplementedError as e:\n",
    "            print(f\"⚠️ {str(e)}\")\n",
    "        except Exception as e:\n",
    "            import traceback\n",
    "            print(f\"Erro ao processar ou pesquisar: {str(e)}\")\n",
    "            traceback.print_exc()\n",
    "\n",
    "# Configuração da interface\n",
    "search_button = widgets.Button(description=\"Pesquisar\")\n",
    "search_button.on_click(perform_search)\n",
    "usar_ficheiro_existente.observe(update_file_options, names='value')\n",
    "modelo_widget.observe(update_file_options, names='value')\n",
    "usar_colecao_padrao.observe(update_collection_visibility, names='value')\n",
    "\n",
    "# Inicializar visibilidade\n",
    "ficheiro_select.layout.display = 'none'\n",
    "collection_widget.layout.display = 'none'  # Esconde o seletor de coleção inicialmente\n",
    "\n",
    "# Atualizar coleções disponíveis no início\n",
    "update_collection_options()\n",
    "\n",
    "# Exibir widgets\n",
    "display(widgets.VBox([\n",
    "    widgets.HBox([modelo_widget, usar_ficheiro_existente]),\n",
    "    widgets.HBox([usar_colecao_padrao, collection_widget]),\n",
    "    upload_widget,\n",
    "    ficheiro_select,\n",
    "    search_button,\n",
    "    output\n",
    "]))\n",
    "\n",
    "# Inicializar opções de ficheiros\n",
    "update_file_options()"
   ]
  }
 ],
 "metadata": {
  "kernelspec": {
   "display_name": "logica",
   "language": "python",
   "name": "python3"
  },
  "language_info": {
   "codemirror_mode": {
    "name": "ipython",
    "version": 3
   },
   "file_extension": ".py",
   "mimetype": "text/x-python",
   "name": "python",
   "nbconvert_exporter": "python",
   "pygments_lexer": "ipython3",
   "version": "3.10.15"
  }
 },
 "nbformat": 4,
 "nbformat_minor": 2
}
